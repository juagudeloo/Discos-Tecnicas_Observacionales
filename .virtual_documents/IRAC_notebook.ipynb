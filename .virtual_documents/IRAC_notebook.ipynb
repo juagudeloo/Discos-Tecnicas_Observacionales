








!pip install -r requirements.txt











import numpy as np

import glob

from photutils.aperture import CircularAperture
from photutils.aperture import CircularAnnulus
from photutils.aperture import aperture_photometry
from photutils.utils import calc_total_error
from photutils.centroids import centroid_sources, centroid_com

from scipy.stats import mode

from astropy.coordinates import SkyCoord
from astropy import units as u
from astropy.io import fits
from astropy.wcs import WCS
from astropy.table import Table
from astropy.stats import sigma_clipped_stats
from astropy.table.table import QTable

import pandas as pd

import matplotlib.pyplot as plt








#This directory must contain all the files that correspond to one of the instruments (SPITZER, WISE or MIPS).
fits_dir = './Data/IRAC/'
#This directory must contain all the file corresponding to the GAIA catalog (here is used the catalog GAIA DR2 generated using SAO image ds9).
catalog_dir = './Data/Catalogs/'
#This directory is where the output .csv is going to be saved.
output_dir = './Data/IRAC_outputs/'












files_list = glob.glob(fits_dir + '*.fits')
names = []
for file in files_list:
    if (fits_dir in file) and (file.endswith('.fits')):
        names.append(file.replace(fits_dir,''))
        
print("Names charged in the list!")





# Printing the name of the .fits files charged.
if names != []:
    N_files = len(names)
    print(f'\n Your directory has {N_files} .fits files \n')
    for l in range(N_files):
        print(f'No. {l+1}: {names[l]}')
else: 
  print('\n Su carpeta no tiene archivos .fits \n')








objects = pd.read_csv(catalog_dir+"ds9-ch2.tsv", sep='\t')
objects.head(5)





ra = objects["_RAJ2000"]
dec = objects["_DEJ2000"]
id_code = objects["Source"]
Plx = objects["Plx"]
e_Plx = objects["e_Plx"]





decimal_catalog = SkyCoord(ra, dec, unit=(u.degree))
gaia_catalog = {"_RAJ2000": decimal_catalog.ra.deg,
           "_DEJ2000": decimal_catalog.dec.deg,
           "Source": id_code,
           "Plx": Plx,
           "e_Plx": e_Plx}
gaia_catalog = pd.DataFrame(gaia_catalog)


gaia_catalog.head(5)








def is_in_pic(w, image, ra, dec):
    """
    Function that selects only the objects from the catalog that are inside the image. 
    """
    ra_max, dec_max = w.array_index_to_world_values(0,0)
    ra_min, dec_min = w.array_index_to_world_values(image.shape[0], image.shape[1])
    if ra_min > ra_max:
        ra_min = w.array_index_to_world_values(0,0)[0]
        ra_max = w.array_index_to_world_values(image.shape[0], image.shape[1])[0]
    if dec_min > dec_max:
        dec_min = w.array_index_to_world_values(0,0)[1]
        dec_max = w.array_index_to_world_values(image.shape[0], image.shape[1])[1]
    return (ra < ra_max) & (ra > ra_min) & (dec < dec_max) & (dec >   dec_min)





k = 0
fits_path = files_list[k]
fits_name = names[k]
print(f"""
path to the file: {fits_path},

file_name: {fits_name}
""")





with fits.open(fits_path) as FitsData:
    w = WCS(FitsData[0].header)
    image = FitsData[0].data
    fits_header = FitsData[0].header
fits_header





itime  = fits_header['EXPTIME'] 
ifilter = fits_header['CHNLNUM']  
DateObs = fits_header['DATE_OBS']
epadu = fits_header['GAIN']





with open(output_dir+f"Objectlist_{fits_name}.out", "w") as NewListO:
    object_counter = 0 # object counter for the objects that are inside the image.
    for index, row in gaia_catalog.iterrows():
        condition = is_in_pic(w, image, row["_RAJ2000"], row["_DEJ2000"])
        if condition:
            object_counter +=1
            X, Y = SkyCoord(row["_RAJ2000"], row["_DEJ2000"], frame="icrs", unit="deg").to_pixel(w)
            NewListO.write(f"{row['_RAJ2000']}    {row['_DEJ2000']}    {row['Source']}   {X}   {Y} {row['Plx']} {row['e_Plx']}  {condition}\n")
print(f'\n Se han encontrado {object_counter} objetos del catálogo en el archivo .fits \n')
if object_counter == 0:
    raise ValueError("Not objects found")





with open(output_dir+f"Objectlist_{fits_name}.out", "r") as Obj:
    ListObj = Obj.readlines()

Final_LO = []
for obj in ListObj:
    Final_LO.append(obj.split()[:-1])
    RA, DEC, ID, x, y, Plx, e_Plx = zip(*Final_LO) 
    Final_List = np.array(list(zip(RA,DEC,x,y,Plx,e_Plx)), dtype=float)
    ID = np.array(ID,dtype='U20')





mm = [ 0 < i[2] and i[2] < (image.shape[0] - 1) for i in Final_List] # List of [Booleans] (x) where the positions are inside the image.
ID = ID[mm]
Final_List = Final_List[mm]

nn = [ 0 < i[3] and i[3] < (image.shape[1] - 1) for i in Final_List] # List of [Booleans] (y) where the positions are inside the image.
ID = ID[nn]
Final_List = Final_List[nn]

# IDs repetidos se categorizan 
u, c = np.unique(ID, return_counts=True)
dup = u[c > 1]
for j in dup:
    m = 0
    for i in range(len(ID)):
        if ID[i] == j:
            m += 0.1
            ID[i] = ID[i] + str(m)





np.set_printoptions(suppress=True, formatter={'float_kind':'{:f}'    .format})
print(f"\nSu catalogo reducido es (filas {len(Final_List)}):\n ")
print("----RA---- ---DEC--- -----x-----  -----y----- -----Plx------- -----e_Plx------- -----ID-------\n")
print(Final_List[0],ID[0])
print("    ...       ...         ...          ...         ...        \n")
print(Final_List[len(Final_List)-1],ID[len(Final_List)-1])
print("---------- --------- ------------  ----------- -------------\n")





# Se extraen los valores X y Y
center_box_size = 7 #boz size for the calculation of the centroid

_, _, x_init, y_init, _, _ = zip(*Final_List)

x, y = centroid_sources(image, x_init, y_init, box_size = center_box_size, centroid_func=centroid_com)
X, Y = np.array(x), np.array(y)
NewIDS = np.array(ID)

#Centroids with NaN or inf values are eliminated
is_nan = ~np.isnan(X)
x, y = X[is_nan],Y[is_nan]      
Final_List2 = Final_List[is_nan] 
NewIDS = NewIDS[is_nan]

#Resultant centroids
starloc = list(zip(x,y))








r = 9 # Aperture (px)
r_in = 9 # Sky ring internal radius (px)
r_out = 20 #Sky ring external radius (px)

#Defined them as proper photometric objects using photutils.
circular_aperture = CircularAperture(starloc, r=r)
annulus_aperture = CircularAnnulus(starloc, r_in=r_in, r_out=r_out )
apers = [circular_aperture, annulus_aperture]


print(apers[0].shape, apers[1].shape)








phot_table = aperture_photometry(image, apers)


phot_table


for index in np.argwhere(np.isnan(phot_table['aperture_sum_0'])):
    print(phot_table['aperture_sum_0'][index[0]], phot_table['aperture_sum_1'][index[0]])





#Area and flux in from the background
bkg_mean = phot_table['aperture_sum_1'] / annulus_aperture.area
area_aper = np.array(circular_aperture.area_overlap(image))
bkg_sum = bkg_mean * area_aper

#Total flux from each object after substracting background
final_flux = phot_table['aperture_sum_0'] - bkg_sum
phot_table['flux'] = final_flux
phot_table['flux'].info.format = '%.8g' 





print("channel", ifilter, "selected")
if ifilter == 1:
    zmag =  18.8027
elif ifilter == 2:
    zmag = 18.3177
elif ifilter == 3:
    zmag = 17.8331
elif ifilter == 4:
    zmag = 17.2120
else:
    zmag = 17.2120
print(zmag)  





name_mag = str(ifilter)
name_mag





phot_table[name_mag + '_mag'] = zmag - 2.5 * np.log10(final_flux) + 2.5 * np.log10(itime)
phot_table[name_mag + '_mag'].info.format = '%.8g'  





fig, ax = plt.subplots()
ax.imshow(image)








_, _, stdev = sigma_clipped_stats(image, sigma=3.0)
phot_table[name_mag + '_mag_err'] = 1.0857 * np.sqrt(final_flux/epadu + area_aper*stdev**2 )/final_flux
phot_table[name_mag + '_mag_err'].info.format = '%.8g'


n_unc_nans = np.argwhere(np.isnan(phot_table[name_mag + '_mag_err'])).shape[0]
print(f"""
# of objects with nan values in the uncertainties: {n_unc_nans}
""")





Final_List2


phot_table['RA'] = [i[0] for i in Final_List2] 
phot_table['DEC'] = [i[1] for i in Final_List2] 
phot_table['ID'] = NewIDS
phot_table['Plx'] = [i[-2] for i in Final_List2]
phot_table['e_Plx'] = [i[-1] for i in Final_List2]
phot_table['DATE-OBS'] = DateObs
phot_table['OBJECT'] = fits_header['OBJECT']





index_nan = np.argwhere(np.isnan(phot_table[name_mag + '_mag'].data)) 
phot_table.remove_rows(index_nan)


phot_table








def Photometry_Data_Table(fits_name, fits_path, catalog, r, r_in, r_out, center_box_size, *args):
    """
    Function for
    """
    ################################################
    # Functions
    ################################################
    
    def is_in_pic(w, image, ra, dec):
        """
        Function that selects only the objects from the catalog that are inside the image. 
        """
        ra_max, dec_max = w.array_index_to_world_values(0,0)
        ra_min, dec_min = w.array_index_to_world_values(image.shape[0], image.shape[1])
        if ra_min > ra_max:
            ra_min = w.array_index_to_world_values(0,0)[0]
            ra_max = w.array_index_to_world_values(image.shape[0], image.shape[1])[0]
        if dec_min > dec_max:
            dec_min = w.array_index_to_world_values(0,0)[1]
            dec_max = w.array_index_to_world_values(image.shape[0], image.shape[1])[1]
        return (ra < ra_max) & (ra > ra_min) & (dec < dec_max) & (dec >   dec_min)

    ################################################
    # Main process
    ################################################
    
    with fits.open(fits_path) as FitsData:
        w = WCS(FitsData[0].header)
        image = FitsData[0].data
        fits_header = FitsData[0].header
        itime  = fits_header['EXPTIME'] 
        ifilter = fits_header['CHNLNUM']  
        DateObs = fits_header['DATE_OBS']
        epadu = fits_header['GAIN']
        if ifilter == 1:
            zmag =  18.8027
        elif ifilter == 2:
            zmag = 18.3177
        elif ifilter == 3:
            zmag = 17.8331
        elif ifilter == 4:
            zmag = 17.2120
        else:
            zmag = 17.2120
    # Writing a txt file that contains the information of the objects that are contained in the picture.
    with open(output_dir+f"Objectlist_{fits_name}.out", "w") as NewListO:
        object_counter = 0 # object counter for the objects that are inside the image.
        for index, row in catalog.iterrows():
            condition = is_in_pic(w, image, row["_RAJ2000"], row["_DEJ2000"])
            if condition:
                object_counter +=1
                X, Y = SkyCoord(row["_RAJ2000"], row["_DEJ2000"], frame="icrs", unit="deg").to_pixel(w)
                NewListO.write(f"{row['_RAJ2000']}    {row['_DEJ2000']}    {row['Source']}   {X}   {Y} {row['Plx']} {row['e_Plx']}  {condition}\n")
    print(f'\n Found {object_counter} items from the catalog in the file {fits_name} \n')
    if object_counter == 0:
        return None
        quit()

    # Save the coordinates from the objects of the catalog that are in the image.
    with open(output_dir+f"Objectlist_{fits_name}.out", "r") as Obj:
        ListObj = Obj.readlines()

    Final_LO = []
    for obj in ListObj:
        Final_LO.append(obj.split()[:-1])
        RA, DEC, ID, x, y, Plx, e_Plx = zip(*Final_LO) 
        Final_List = np.array(list(zip(RA,DEC,x,y,Plx,e_Plx)), dtype=float)
        ID = np.array(ID,dtype='U20')

    # Drop the objects that are not in the fits files (just in case the is_in_pic function failed numerically)
    mm = [ 0 < i[2] and i[2] < (image.shape[0] - 1) for i in Final_List] # List of [Booleans] (x) where the positions are inside the image.
    ID = ID[mm]
    Final_List = Final_List[mm]
    
    nn = [ 0 < i[3] and i[3] < (image.shape[1] - 1) for i in Final_List] # List of [Booleans] (y) where the positions are inside the image.
    ID = ID[nn]
    Final_List = Final_List[nn]

    # IDs repetidos se categorizan 
    u, c = np.unique(ID, return_counts=True)
    dup = u[c > 1]
    for j in dup:
        m = 0
        for i in range(len(ID)):
            if ID[i] == j:
                m += 0.1
                ID[i] = ID[i] + str(m)
    
    # print a preview of the reduced catalog.
    np.set_printoptions(suppress=True, formatter={'float_kind':'{:f}'    .format})
    
    # Extract the X, Y values
    _, _, x_init, y_init, _, _ = zip(*Final_List)

    x, y = centroid_sources(image, x_init, y_init, box_size = center_box_size, centroid_func=centroid_com)
    X, Y = np.array(x), np.array(y)
    NewIDS = np.array(ID) 
        
    # Eliminate the data that have NaN or inf centroids.
    is_nan = ~np.isnan(X)
    x, y = X[is_nan],Y[is_nan]      
    Final_List2 = Final_List[is_nan] 
    NewIDS = NewIDS[is_nan]

    # Star coordinates centroids. 
    starloc = list(zip(x,y))
        
    # Extract each star signal.
    aperture = CircularAperture(starloc, r=r)
    annulus_aperture = CircularAnnulus(starloc, r_in=r_in, r_out=r_out )
    apers = [aperture, annulus_aperture]
    # Se genera una tabla de datos.
    phot_table = aperture_photometry(image, apers)

    # Se le asigna nombre de la magnitud dependiendo del filtro en el encabezado
    name_mag = str(ifilter)

    # Area y fujo en los anillos. 
    bkg_mean = phot_table['aperture_sum_1'] / annulus_aperture.area
    area_aper = np.array(aperture.area_overlap(image))
    bkg_sum = bkg_mean * area_aper
        
    # Flujo final para cada objeto
    final_sum = phot_table['aperture_sum_0'] - bkg_sum
    phot_table['flux'] = final_sum
    phot_table['flux'].info.format = '%.8g'  
        
    # Magnitudes Instrumentales
    phot_table[name_mag + '_mag'] = zmag - 2.5 * np.log10(final_sum) + 2.5 * np.log10(itime)
    phot_table[name_mag + '_mag'].info.format = '%.8g'  
        
    # Error de las Magnitudes Instrumentales
    mean, median, std = sigma_clipped_stats(image, sigma=3.0)
    stdev = std
    phot_table[name_mag + '_mag_err'] = 1.0857 * np.sqrt(final_sum    /epadu + area_aper*stdev**2 )/final_sum
    phot_table[name_mag + '_mag_err'].info.format = '%.8g'

    # Se agrega a la tabla la RA, DEC, ID y Masa de aire. 
    phot_table['RA'] = [i[0] for i in Final_List2] 
    phot_table['DEC'] = [i[1] for i in Final_List2] 
    phot_table['ID'] = NewIDS
    phot_table['Plx'] = [i[-2] for i in Final_List2] 
    phot_table['e_Plx'] = [i[-1] for i in Final_List2] 
    
    phot_table['DATE-OBS'] = DateObs
    phot_table['OBJECT'] = fits_header['OBJECT']
    # Se buscan los indices en donde las magnitudes sean NaN y se eliminan
    index_nan = np.argwhere(np.isnan(phot_table[name_mag + '_mag'].data)) 
    phot_table.remove_rows(index_nan)
    total_rows = len(phot_table)
    print(f"\nAfter the analysis there are {total_rows} objects processed in the {fits_name} file\n\n ################################################################################################################################################\n\n")
    return phot_table





import warnings
warnings.filterwarnings("ignore") #for the nan values that are then drop in the final steps.





#########################################
# Definición de parámetros fotométricos #
#########################################
r = 9 # Aperture (px)
r_in = 9 # Sky ring internal radius (px)
r_out = 20 #Sky ring external radius (px)
#########################################
# Let's save the tables for all the fits files
all_tables = []
for k in range(len(files_list)):
  fits_path = files_list[k]
  fits_name = names[k]
#  catalogo = catalogo_final

  photom = Photometry_Data_Table(fits_name, fits_path, gaia_catalog, r=r, r_in=r_in, r_out=r_out, center_box_size=center_box_size)
  if photom is not None:
    all_tables.append(photom)

print(f'{len(all_tables)} tables from the .fits files were generated')





#----#  List with all the main objects that are centered by the telescope.
focus_object = []             
for m in all_tables:
    ob = m['OBJECT'][0]
    if ob not in focus_object:
        focus_object.append(ob) 
#----#  Dictionary with each observed object.
final_filter = {}
for s in focus_object:
    final_filter[s] = []        # Example: filtro_final = {'SA98':[], 'SA95':[], '[BSA98':[], 'SA101':[], '[ASA98':[], 'SA104':[], 'SA92':[]}

#----#  Fill the dictionary with the table of each object.
for n in all_tables:
    for p in focus_object:
        ob = n['OBJECT'][0]
        if ob == p:
            final_filter[ob].append(n.copy())  # Example: filtro_final = {'SA98':[tabla1,tabla2,tabla3,..], ... , 'SA92':[tabla1,tabla2,tabla3,..]}





#----#  Intersection of the objects in the different filters.
for foc in focus_object:
    current_id = []
    for j in final_filter[foc]:
        current_id.append(j['ID'].data)

    int_d = set(current_id[0]).intersection(*current_id) # Ejemplo para SA98: int_d = {'92_248', ... , '92_347'}

#----#  Delete the objects that are not in all the filters
for tab in final_filter[foc]:
    index_of = []
    for i in range(len(tab['ID'])):
        if tab['ID'][i] not in int_d:
            index_of.append(i)
    tab.remove_rows(index_of)

#----# Delete the void tables.
for p in focus_object:
    if len(final_filter[p][0]) == 0:
        del final_filter[p]

for foc in final_filter.keys():
    let = len(final_filter[foc])





#----# Create the tables for each main object.
for foc in final_filter.keys():
    final_obs_table = pd.DataFrame()
    final_obs_table['OBJECT_ID'] = final_filter[foc][0]['ID']
    final_obs_table['RA'] = final_filter[foc][0]['RA']
    final_obs_table['DEC'] = final_filter[foc][0]['DEC']
    final_obs_table['Plx'] = final_filter[foc][0]['Plx']
    final_obs_table['e_Plx'] = final_filter[foc][0]['e_Plx']
    #----# Save the tables as .csv files.
    for j in final_filter[foc]:
        final_obs_table[j.colnames[6]] = j[j.colnames[6]]
        final_obs_table[j.colnames[7]] = j[j.colnames[7]]
        final_obs_table[j.colnames[11] + '_' + j.colnames[6]] = j[j.colnames[11]]
    final_obs_table.to_csv(output_dir+f'/Table_{foc}.csv')    





final_obs_table






