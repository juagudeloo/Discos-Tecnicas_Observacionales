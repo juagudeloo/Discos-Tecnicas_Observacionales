{
 "cells": [
  {
   "cell_type": "markdown",
   "id": "b7f8e62d-bc62-4a89-9625-56064944ae6c",
   "metadata": {},
   "source": [
    "# Third project - Class: Tecnicas observacionales - 2024-I"
   ]
  },
  {
   "cell_type": "markdown",
   "id": "af223685-746e-440c-bb18-1314e427bedc",
   "metadata": {},
   "source": [
    "## 1. Requirements"
   ]
  },
  {
   "cell_type": "markdown",
   "id": "d201adaf-08b9-41f8-8d30-8b5acec54819",
   "metadata": {},
   "source": [
    "Run the terminal command `pip install` using the dependencies document `requirements.txt`, which contains the libraries to be installed for the notebook to work."
   ]
  },
  {
   "cell_type": "code",
   "execution_count": 1,
   "id": "2843a7f1-8a2c-495c-8155-6a2c9b9d2ee7",
   "metadata": {},
   "outputs": [
    {
     "name": "stdout",
     "output_type": "stream",
     "text": [
      "Requirement already satisfied: numpy in /home/juanessao2000/anaconda3/lib/python3.11/site-packages (from -r requirements.txt (line 1)) (1.26.4)\n",
      "Requirement already satisfied: photutils in /home/juanessao2000/anaconda3/lib/python3.11/site-packages (from -r requirements.txt (line 2)) (1.12.0)\n",
      "Requirement already satisfied: astropy in /home/juanessao2000/anaconda3/lib/python3.11/site-packages (from -r requirements.txt (line 3)) (5.3.4)\n",
      "Requirement already satisfied: pyerfa>=2.0 in /home/juanessao2000/anaconda3/lib/python3.11/site-packages (from astropy->-r requirements.txt (line 3)) (2.0.0)\n",
      "Requirement already satisfied: PyYAML>=3.13 in /home/juanessao2000/anaconda3/lib/python3.11/site-packages (from astropy->-r requirements.txt (line 3)) (6.0.1)\n",
      "Requirement already satisfied: packaging>=19.0 in /home/juanessao2000/anaconda3/lib/python3.11/site-packages (from astropy->-r requirements.txt (line 3)) (23.2)\n"
     ]
    }
   ],
   "source": [
    "!pip install -r requirements.txt"
   ]
  },
  {
   "cell_type": "markdown",
   "id": "8ab39481-1907-42a0-8e12-041b98416c16",
   "metadata": {},
   "source": [
    "Also, for downloading the necessary `.fits` files, follow the instructions described in [this pdf](work.pdf)"
   ]
  },
  {
   "cell_type": "markdown",
   "id": "25e37583-cdef-4495-a395-cdf126839b65",
   "metadata": {},
   "source": [
    "## 2. Libraries import"
   ]
  },
  {
   "cell_type": "markdown",
   "id": "ebda28ab-75f4-4868-a983-2ae694bdb812",
   "metadata": {},
   "source": [
    "Import the necessary libraries and functions for further steps"
   ]
  },
  {
   "cell_type": "code",
   "execution_count": 2,
   "id": "e25f6808-881a-43a4-9cf9-8b52a54adbee",
   "metadata": {},
   "outputs": [],
   "source": [
    "import numpy as np\n",
    "\n",
    "import glob\n",
    "\n",
    "from photutils.aperture import CircularAperture\n",
    "from photutils.aperture import CircularAnnulus\n",
    "from photutils.aperture import aperture_photometry\n",
    "from photutils.utils import calc_total_error\n",
    "from photutils.centroids import centroid_sources, centroid_com\n",
    "\n",
    "from scipy.stats import mode\n",
    "\n",
    "from astropy.coordinates import SkyCoord\n",
    "from astropy import units as u\n",
    "from astropy.io import fits\n",
    "from astropy.wcs import WCS\n",
    "from astropy.table import Table\n",
    "from astropy.stats import sigma_clipped_stats\n",
    "from astropy.table.table import QTable\n",
    "\n",
    "import pandas as pd\n",
    "\n",
    "import matplotlib.pyplot as plt"
   ]
  },
  {
   "cell_type": "markdown",
   "id": "22686c5c-60a3-4346-a6bd-e42bfb6fc107",
   "metadata": {},
   "source": [
    "## 3. Paths definition"
   ]
  },
  {
   "cell_type": "markdown",
   "id": "7ef6d0e8-990b-4bb8-aa15-3693891d8b00",
   "metadata": {},
   "source": [
    "Write down the variables with the path to find the `.fits` and `.tsv` files and the variable with the path to save the output `.csv`."
   ]
  },
  {
   "cell_type": "code",
   "execution_count": 3,
   "id": "f79d4e74-fe39-4c11-8d61-b805b25eb3fe",
   "metadata": {},
   "outputs": [],
   "source": [
    "#This directory must contain all the files that correspond to one of the instruments (SPITZER, WISE or MIPS).\n",
    "fits_dir = './Data/MIPS/'\n",
    "#This directory must contain all the file corresponding to the GAIA catalog (here is used the catalog GAIA DR2 generated using SAO image ds9).\n",
    "catalog_dir = './Data/Catalogs/'\n",
    "#This directory is where the output .csv is going to be saved.\n",
    "output_dir = './Data/MIPS_outputs/'"
   ]
  },
  {
   "cell_type": "markdown",
   "id": "9d1b77f9-a298-4557-b66d-fe25a0c3eb51",
   "metadata": {},
   "source": [
    "## 4. Main code"
   ]
  },
  {
   "cell_type": "markdown",
   "id": "5add0062-43ef-48c3-8a7c-3feee0147bf5",
   "metadata": {},
   "source": [
    "### 4.1 Charge .fits files"
   ]
  },
  {
   "cell_type": "markdown",
   "id": "29eb9d38-30af-4ad5-9e0a-d375c0ca0d7b",
   "metadata": {},
   "source": [
    "Charge the .fits files that you have in your data directory"
   ]
  },
  {
   "cell_type": "code",
   "execution_count": 4,
   "id": "28871440-1795-494a-b74f-e34d1d5f00ef",
   "metadata": {},
   "outputs": [
    {
     "name": "stdout",
     "output_type": "stream",
     "text": [
      "Names charged in the list!\n"
     ]
    }
   ],
   "source": [
    "\n",
    "files_list = glob.glob(fits_dir + '*.fits')\n",
    "names = []\n",
    "for file in files_list:\n",
    "    if (fits_dir in file) and (file.endswith('.fits')):\n",
    "        names.append(file.replace(fits_dir,''))\n",
    "        \n",
    "print(\"Names charged in the list!\")"
   ]
  },
  {
   "cell_type": "markdown",
   "id": "d69028bb-eec4-403c-b265-8df9a418163f",
   "metadata": {},
   "source": [
    "Let's check all our files has been charged."
   ]
  },
  {
   "cell_type": "code",
   "execution_count": 5,
   "id": "2fa7af49-7904-427e-b4eb-df3ab8299255",
   "metadata": {},
   "outputs": [
    {
     "name": "stdout",
     "output_type": "stream",
     "text": [
      "\n",
      " Your directory has 2 .fits files \n",
      "\n",
      "No. 1: SPITZER_M1_5787904_0000_10_E6047710_maic.fits\n",
      "No. 2: SPITZER_M2_22963200_0000_2_E6100062_maic.fits\n"
     ]
    }
   ],
   "source": [
    "# Printing the name of the .fits files charged.\n",
    "if names != []:\n",
    "    N_files = len(names)\n",
    "    print(f'\\n Your directory has {N_files} .fits files \\n')\n",
    "    for l in range(N_files):\n",
    "        print(f'No. {l+1}: {names[l]}')\n",
    "else: \n",
    "  print('\\n Su carpeta no tiene archivos .fits \\n')"
   ]
  },
  {
   "cell_type": "markdown",
   "id": "bd8bc69c-c734-43e9-81f6-f0f77c550978",
   "metadata": {},
   "source": [
    "### 4.2 Charge the catalog file "
   ]
  },
  {
   "cell_type": "markdown",
   "id": "d97680ca-9dfd-4309-9356-d72d1c3114b8",
   "metadata": {},
   "source": [
    "Charge the file with the catalog generated by SAOimage ds9"
   ]
  },
  {
   "cell_type": "code",
   "execution_count": 6,
   "id": "634b0e2d-020b-4377-8c43-768662b6e5a7",
   "metadata": {},
   "outputs": [
    {
     "data": {
      "text/html": [
       "<div>\n",
       "<style scoped>\n",
       "    .dataframe tbody tr th:only-of-type {\n",
       "        vertical-align: middle;\n",
       "    }\n",
       "\n",
       "    .dataframe tbody tr th {\n",
       "        vertical-align: top;\n",
       "    }\n",
       "\n",
       "    .dataframe thead th {\n",
       "        text-align: right;\n",
       "    }\n",
       "</style>\n",
       "<table border=\"1\" class=\"dataframe\">\n",
       "  <thead>\n",
       "    <tr style=\"text-align: right;\">\n",
       "      <th></th>\n",
       "      <th>_RAJ2000</th>\n",
       "      <th>_DEJ2000</th>\n",
       "      <th>RA_ICRS</th>\n",
       "      <th>e_RA_ICRS</th>\n",
       "      <th>DE_ICRS</th>\n",
       "      <th>e_DE_ICRS</th>\n",
       "      <th>Source</th>\n",
       "      <th>Plx</th>\n",
       "      <th>e_Plx</th>\n",
       "      <th>pmRA</th>\n",
       "      <th>...</th>\n",
       "      <th>RPmag</th>\n",
       "      <th>e_RPmag</th>\n",
       "      <th>BP-RP</th>\n",
       "      <th>RV</th>\n",
       "      <th>e_RV</th>\n",
       "      <th>Teff</th>\n",
       "      <th>AG</th>\n",
       "      <th>E(BP-RP)</th>\n",
       "      <th>Rad</th>\n",
       "      <th>Lum</th>\n",
       "    </tr>\n",
       "  </thead>\n",
       "  <tbody>\n",
       "    <tr>\n",
       "      <th>0</th>\n",
       "      <td>56.140769</td>\n",
       "      <td>31.975080</td>\n",
       "      <td>56.140796</td>\n",
       "      <td>0.3242</td>\n",
       "      <td>31.975046</td>\n",
       "      <td>0.1349</td>\n",
       "      <td>216627812425858432</td>\n",
       "      <td>2.8710</td>\n",
       "      <td>0.3193</td>\n",
       "      <td>5.223</td>\n",
       "      <td>...</td>\n",
       "      <td>16.3286</td>\n",
       "      <td>0.0644</td>\n",
       "      <td>3.6859</td>\n",
       "      <td>NaN</td>\n",
       "      <td>NaN</td>\n",
       "      <td>NaN</td>\n",
       "      <td>NaN</td>\n",
       "      <td>NaN</td>\n",
       "      <td>NaN</td>\n",
       "      <td>NaN</td>\n",
       "    </tr>\n",
       "    <tr>\n",
       "      <th>1</th>\n",
       "      <td>56.213663</td>\n",
       "      <td>31.986909</td>\n",
       "      <td>56.213677</td>\n",
       "      <td>0.9994</td>\n",
       "      <td>31.986910</td>\n",
       "      <td>0.4143</td>\n",
       "      <td>216629113800124544</td>\n",
       "      <td>-0.9963</td>\n",
       "      <td>0.9072</td>\n",
       "      <td>2.636</td>\n",
       "      <td>...</td>\n",
       "      <td>18.6819</td>\n",
       "      <td>0.0578</td>\n",
       "      <td>2.1048</td>\n",
       "      <td>NaN</td>\n",
       "      <td>NaN</td>\n",
       "      <td>NaN</td>\n",
       "      <td>NaN</td>\n",
       "      <td>NaN</td>\n",
       "      <td>NaN</td>\n",
       "      <td>NaN</td>\n",
       "    </tr>\n",
       "    <tr>\n",
       "      <th>2</th>\n",
       "      <td>56.219711</td>\n",
       "      <td>32.015701</td>\n",
       "      <td>56.219736</td>\n",
       "      <td>0.1829</td>\n",
       "      <td>32.015668</td>\n",
       "      <td>0.0787</td>\n",
       "      <td>216629530412699008</td>\n",
       "      <td>3.4062</td>\n",
       "      <td>0.1702</td>\n",
       "      <td>5.053</td>\n",
       "      <td>...</td>\n",
       "      <td>14.9032</td>\n",
       "      <td>0.0045</td>\n",
       "      <td>3.6261</td>\n",
       "      <td>NaN</td>\n",
       "      <td>NaN</td>\n",
       "      <td>3496.43</td>\n",
       "      <td>2.1027</td>\n",
       "      <td>1.2005</td>\n",
       "      <td>0.58</td>\n",
       "      <td>0.046</td>\n",
       "    </tr>\n",
       "    <tr>\n",
       "      <th>3</th>\n",
       "      <td>56.254507</td>\n",
       "      <td>32.040566</td>\n",
       "      <td>56.254532</td>\n",
       "      <td>0.3843</td>\n",
       "      <td>32.040534</td>\n",
       "      <td>0.1582</td>\n",
       "      <td>216629732274649856</td>\n",
       "      <td>2.7968</td>\n",
       "      <td>0.3897</td>\n",
       "      <td>4.751</td>\n",
       "      <td>...</td>\n",
       "      <td>16.8323</td>\n",
       "      <td>0.0080</td>\n",
       "      <td>3.7482</td>\n",
       "      <td>NaN</td>\n",
       "      <td>NaN</td>\n",
       "      <td>NaN</td>\n",
       "      <td>NaN</td>\n",
       "      <td>NaN</td>\n",
       "      <td>NaN</td>\n",
       "      <td>NaN</td>\n",
       "    </tr>\n",
       "    <tr>\n",
       "      <th>4</th>\n",
       "      <td>56.267739</td>\n",
       "      <td>32.051545</td>\n",
       "      <td>56.267756</td>\n",
       "      <td>0.2295</td>\n",
       "      <td>32.051515</td>\n",
       "      <td>0.1061</td>\n",
       "      <td>216629874010076544</td>\n",
       "      <td>2.8970</td>\n",
       "      <td>0.2724</td>\n",
       "      <td>3.448</td>\n",
       "      <td>...</td>\n",
       "      <td>16.3039</td>\n",
       "      <td>0.0051</td>\n",
       "      <td>3.5550</td>\n",
       "      <td>NaN</td>\n",
       "      <td>NaN</td>\n",
       "      <td>NaN</td>\n",
       "      <td>NaN</td>\n",
       "      <td>NaN</td>\n",
       "      <td>NaN</td>\n",
       "      <td>NaN</td>\n",
       "    </tr>\n",
       "  </tbody>\n",
       "</table>\n",
       "<p>5 rows × 34 columns</p>\n",
       "</div>"
      ],
      "text/plain": [
       "    _RAJ2000   _DEJ2000    RA_ICRS  e_RA_ICRS    DE_ICRS  e_DE_ICRS  \\\n",
       "0  56.140769  31.975080  56.140796     0.3242  31.975046     0.1349   \n",
       "1  56.213663  31.986909  56.213677     0.9994  31.986910     0.4143   \n",
       "2  56.219711  32.015701  56.219736     0.1829  32.015668     0.0787   \n",
       "3  56.254507  32.040566  56.254532     0.3843  32.040534     0.1582   \n",
       "4  56.267739  32.051545  56.267756     0.2295  32.051515     0.1061   \n",
       "\n",
       "               Source     Plx   e_Plx   pmRA  ...    RPmag  e_RPmag   BP-RP  \\\n",
       "0  216627812425858432  2.8710  0.3193  5.223  ...  16.3286   0.0644  3.6859   \n",
       "1  216629113800124544 -0.9963  0.9072  2.636  ...  18.6819   0.0578  2.1048   \n",
       "2  216629530412699008  3.4062  0.1702  5.053  ...  14.9032   0.0045  3.6261   \n",
       "3  216629732274649856  2.7968  0.3897  4.751  ...  16.8323   0.0080  3.7482   \n",
       "4  216629874010076544  2.8970  0.2724  3.448  ...  16.3039   0.0051  3.5550   \n",
       "\n",
       "   RV  e_RV     Teff      AG  E(BP-RP)   Rad    Lum  \n",
       "0 NaN   NaN      NaN     NaN       NaN   NaN    NaN  \n",
       "1 NaN   NaN      NaN     NaN       NaN   NaN    NaN  \n",
       "2 NaN   NaN  3496.43  2.1027    1.2005  0.58  0.046  \n",
       "3 NaN   NaN      NaN     NaN       NaN   NaN    NaN  \n",
       "4 NaN   NaN      NaN     NaN       NaN   NaN    NaN  \n",
       "\n",
       "[5 rows x 34 columns]"
      ]
     },
     "execution_count": 6,
     "metadata": {},
     "output_type": "execute_result"
    }
   ],
   "source": [
    "objects = pd.read_csv(catalog_dir+\"ds9-ch2.tsv\", sep='\\t')\n",
    "objects.head(5)"
   ]
  },
  {
   "cell_type": "markdown",
   "id": "e6acbb6d-9898-4fc5-b566-a90f655b8567",
   "metadata": {},
   "source": [
    "Here we are interested specifically in the Right ascension, the Declination, the Source ID, the parallax and its error, for each star. Let's extract them."
   ]
  },
  {
   "cell_type": "code",
   "execution_count": 7,
   "id": "98aaf9d7-13fb-4f03-a79e-7010f886d9f2",
   "metadata": {},
   "outputs": [],
   "source": [
    "ra = objects[\"_RAJ2000\"]\n",
    "dec = objects[\"_DEJ2000\"]\n",
    "id_code = objects[\"Source\"]\n",
    "Plx = objects[\"Plx\"]\n",
    "e_Plx = objects[\"e_Plx\"]"
   ]
  },
  {
   "cell_type": "markdown",
   "id": "9f5a3f4a-fa79-4d6d-82b6-97a1d76be1ff",
   "metadata": {},
   "source": [
    "This values are in hhmmss and ggmmss, then we will convert them to degrees."
   ]
  },
  {
   "cell_type": "code",
   "execution_count": 8,
   "id": "e86e781b-200a-4906-8714-322514549414",
   "metadata": {},
   "outputs": [],
   "source": [
    "decimal_catalog = SkyCoord(ra, dec, unit=(u.degree))\n",
    "gaia_catalog = {\"_RAJ2000\": decimal_catalog.ra.deg,\n",
    "           \"_DEJ2000\": decimal_catalog.dec.deg,\n",
    "           \"Source\": id_code,\n",
    "           \"Plx\": Plx,\n",
    "           \"e_Plx\": e_Plx}\n",
    "gaia_catalog = pd.DataFrame(gaia_catalog)"
   ]
  },
  {
   "cell_type": "code",
   "execution_count": 9,
   "id": "da56c460-efdc-495a-a8e2-f86220f5a240",
   "metadata": {},
   "outputs": [
    {
     "data": {
      "text/html": [
       "<div>\n",
       "<style scoped>\n",
       "    .dataframe tbody tr th:only-of-type {\n",
       "        vertical-align: middle;\n",
       "    }\n",
       "\n",
       "    .dataframe tbody tr th {\n",
       "        vertical-align: top;\n",
       "    }\n",
       "\n",
       "    .dataframe thead th {\n",
       "        text-align: right;\n",
       "    }\n",
       "</style>\n",
       "<table border=\"1\" class=\"dataframe\">\n",
       "  <thead>\n",
       "    <tr style=\"text-align: right;\">\n",
       "      <th></th>\n",
       "      <th>_RAJ2000</th>\n",
       "      <th>_DEJ2000</th>\n",
       "      <th>Source</th>\n",
       "      <th>Plx</th>\n",
       "      <th>e_Plx</th>\n",
       "    </tr>\n",
       "  </thead>\n",
       "  <tbody>\n",
       "    <tr>\n",
       "      <th>0</th>\n",
       "      <td>56.140769</td>\n",
       "      <td>31.975080</td>\n",
       "      <td>216627812425858432</td>\n",
       "      <td>2.8710</td>\n",
       "      <td>0.3193</td>\n",
       "    </tr>\n",
       "    <tr>\n",
       "      <th>1</th>\n",
       "      <td>56.213663</td>\n",
       "      <td>31.986909</td>\n",
       "      <td>216629113800124544</td>\n",
       "      <td>-0.9963</td>\n",
       "      <td>0.9072</td>\n",
       "    </tr>\n",
       "    <tr>\n",
       "      <th>2</th>\n",
       "      <td>56.219711</td>\n",
       "      <td>32.015701</td>\n",
       "      <td>216629530412699008</td>\n",
       "      <td>3.4062</td>\n",
       "      <td>0.1702</td>\n",
       "    </tr>\n",
       "    <tr>\n",
       "      <th>3</th>\n",
       "      <td>56.254507</td>\n",
       "      <td>32.040566</td>\n",
       "      <td>216629732274649856</td>\n",
       "      <td>2.7968</td>\n",
       "      <td>0.3897</td>\n",
       "    </tr>\n",
       "    <tr>\n",
       "      <th>4</th>\n",
       "      <td>56.267739</td>\n",
       "      <td>32.051545</td>\n",
       "      <td>216629874010076544</td>\n",
       "      <td>2.8970</td>\n",
       "      <td>0.2724</td>\n",
       "    </tr>\n",
       "  </tbody>\n",
       "</table>\n",
       "</div>"
      ],
      "text/plain": [
       "    _RAJ2000   _DEJ2000              Source     Plx   e_Plx\n",
       "0  56.140769  31.975080  216627812425858432  2.8710  0.3193\n",
       "1  56.213663  31.986909  216629113800124544 -0.9963  0.9072\n",
       "2  56.219711  32.015701  216629530412699008  3.4062  0.1702\n",
       "3  56.254507  32.040566  216629732274649856  2.7968  0.3897\n",
       "4  56.267739  32.051545  216629874010076544  2.8970  0.2724"
      ]
     },
     "execution_count": 9,
     "metadata": {},
     "output_type": "execute_result"
    }
   ],
   "source": [
    "gaia_catalog.head(5)"
   ]
  },
  {
   "cell_type": "markdown",
   "id": "2f39bb32-0bce-47af-a330-7dfc0748b450",
   "metadata": {},
   "source": [
    "### 4.3 .FITS processing"
   ]
  },
  {
   "cell_type": "markdown",
   "id": "b614f535-5597-44a8-a76e-6186a5429f2c",
   "metadata": {},
   "source": [
    "Let's do some tests with just one of the `.fits` files.\n",
    "\n",
    "---\n",
    "\n",
    "First of all let's define a function that detects whether or not an object of the catalog is inside the image."
   ]
  },
  {
   "cell_type": "code",
   "execution_count": 10,
   "id": "84d54647-5032-41ee-9125-57610b9839ef",
   "metadata": {},
   "outputs": [],
   "source": [
    "def is_in_pic(w, image, ra, dec):\n",
    "    \"\"\"\n",
    "    Function that selects only the objects from the catalog that are inside the image. \n",
    "    \"\"\"\n",
    "    ra_max, dec_max = w.array_index_to_world_values(0,0)\n",
    "    ra_min, dec_min = w.array_index_to_world_values(image.shape[0], image.shape[1])\n",
    "    if ra_min > ra_max:\n",
    "        ra_min = w.array_index_to_world_values(0,0)[0]\n",
    "        ra_max = w.array_index_to_world_values(image.shape[0], image.shape[1])[0]\n",
    "    if dec_min > dec_max:\n",
    "        dec_min = w.array_index_to_world_values(0,0)[1]\n",
    "        dec_max = w.array_index_to_world_values(image.shape[0], image.shape[1])[1]\n",
    "    return (ra < ra_max) & (ra > ra_min) & (dec < dec_max) & (dec >   dec_min)"
   ]
  },
  {
   "cell_type": "markdown",
   "id": "eea719f1-8e7f-40e6-afc8-c5d87e8ae6fc",
   "metadata": {},
   "source": [
    "Let's open the `.fits` file"
   ]
  },
  {
   "cell_type": "code",
   "execution_count": 11,
   "id": "fa84e9da-ff56-4a2c-8669-01a81180bc1f",
   "metadata": {},
   "outputs": [
    {
     "name": "stdout",
     "output_type": "stream",
     "text": [
      "\n",
      "path to the file: ./Data/MIPS/SPITZER_M1_5787904_0000_10_E6047710_maic.fits,\n",
      "\n",
      "file_name: SPITZER_M1_5787904_0000_10_E6047710_maic.fits\n",
      "\n"
     ]
    }
   ],
   "source": [
    "k = 0\n",
    "fits_path = files_list[k]\n",
    "fits_name = names[k]\n",
    "print(f\"\"\"\n",
    "path to the file: {fits_path},\n",
    "\n",
    "file_name: {fits_name}\n",
    "\"\"\")"
   ]
  },
  {
   "cell_type": "markdown",
   "id": "18e6faf9-4937-4e94-a0ec-0249bb1375f3",
   "metadata": {},
   "source": [
    "For extracting the data necessay for future manipulation, you may print the header to know what of each of the header attributes you need."
   ]
  },
  {
   "cell_type": "code",
   "execution_count": 12,
   "id": "104b4800-3e2b-407a-ad24-bae001181b72",
   "metadata": {},
   "outputs": [
    {
     "data": {
      "text/plain": [
       "SIMPLE  =                    T                                                  \n",
       "BITPIX  =                  -32 / -32 = 4-BYTE FLOAT, 16 = 2-BYTE INTEGER        \n",
       "NAXIS   =                    2 / Number of axes                                 \n",
       "NAXIS1  =                  824 / Axis 1 size                                    \n",
       "NAXIS2  =                 2899 / Axis 2 size                                    \n",
       "EXTEND  =                    T / TAPE MAY HAVE STANDARD FITS EXTENSIONS         \n",
       "ORIGIN  = 'Spitzer Science Center' / Organization generating this FITS file     \n",
       "CREATOR = 'S18.12.0'           / SW version used to create this FITS file       \n",
       "TELESCOP= 'Spitzer '           / Spitzer Space Telescope                        \n",
       "INSTRUME= 'MIPS    '           / Spitzer Space Telescope instrument ID          \n",
       "CHNLNUM =                    1 / This image: 1=24um,2=70um,3=160um              \n",
       "AOT_TYPE= 'MipsScan'           / Observation Template Type                      \n",
       "AORLABEL= 'MIPSC-per2-2'       / AOR Label                                      \n",
       "REQTYPE = 'AOR     '           / Request type (AOR, IER, or SER)                \n",
       "EXPTYPE = 'scn     '           / Exposure Type                                  \n",
       "PRODTYPE= 'IMAGE   '           / Product Type                                   \n",
       "FOVID   =                  113 / Field of View ID for Commanded Pointing        \n",
       "FOVNAME = 'MIPS_70um_scan'     / Field of View Name for Commanded Pointing      \n",
       "PRIMEARR=                    1 / (1=prime,2=not prime,3=not valid)              \n",
       "RDOUTMOD= 'SUR     '           / Readout mode                                   \n",
       "                                                                                \n",
       "          / PROPOSAL INFORMATION                                                \n",
       "                                                                                \n",
       "OBSRVR  = 'Neal Evans'         / Observer Name (Last, First)                    \n",
       "OBSRVRID=                   87 / Observer ID of Principal Investigator          \n",
       "PROCYCL =                    2 / Proposal Cycle                                 \n",
       "PROGID  =                  178 / Program ID                                     \n",
       "PROTITLE= 'From Molecular Cores to Planets, continued' / Program Title          \n",
       "PROGCAT =                   27 / Program Category                               \n",
       "                                                                                \n",
       "          / TIME AND EXPOSURE INFORMATION (from header of 1st BCD in mosaic)    \n",
       "                                                                                \n",
       "DATE_OBS= '2004-09-19T14:16:16.758' / Date & time at DCE start                  \n",
       "MJD_OBS =        53267.5946384 / [days] MJD at DCE start (JD-2400000.5)         \n",
       "UTCS_OBS=        148875376.758 / [sec] J2000 ephem. time at DCE start           \n",
       "UTCE_OBS=        148878217.339 / [sec] AOR end time from last BCD of AOR        \n",
       "UTCM_OBS=        148876802.292 / [sec] median BCD time in AOR                   \n",
       "SCLK_OBS=        780070696.761 / [sec] SCLK time (since 1/1/1980)               \n",
       "SAMPTIME=             0.524288 / [sec] Sample integration time                  \n",
       "EXPTIME =                 2.62 / [sec] Int. time per pixel                      \n",
       "IGN_FRM1=                    1 / Initial frames ignored for dcenum = 0          \n",
       "IGN_FRM2=                    1 / Initial frames ignored for dcenum > 0          \n",
       "SATTHDIF=                10000 / [DN/SAMPTIME] Saturation Thres. in difference  \n",
       "                                                                                \n",
       "          / TARGET AND POINTING INFORMATION                                     \n",
       "                                                                                \n",
       "OBJECT  = 'per_m2  '           / Object Name                                    \n",
       "OBJTYPE = 'TargetFixedSingle'  / Object Type                                    \n",
       "CRVAL1  =            56.159492 / [deg] RA at CRPIX1,CRPIX2                      \n",
       "CRVAL2  =            32.130623 / [deg] DEC at CRPIX1,CRPIX2                     \n",
       "RADESYS = 'ICRS    '           / International Celestial Reference System       \n",
       "EQUINOX =                2000. / Equinox for ICRS celestial coord. system       \n",
       "CTYPE1  = 'RA---TAN'           / RA---TAN                                       \n",
       "CTYPE2  = 'DEC--TAN'           / DEC--TAN                                       \n",
       "CRPIX1  =                412.5 / Reference pixel along axis 1                   \n",
       "CRPIX2  =                1450. / Reference pixel along axis 2                   \n",
       "CD1_1   =        -0.0006483871 / [deg/pix] CD matrix element 1_1                \n",
       "CD1_2   =        -0.0002067622 / [deg/pix] CD matrix element 1_2                \n",
       "CD2_1   =        -0.0002067622 / [deg/pix] CD matrix element 2_1                \n",
       "CD2_2   =         0.0006483871 / [deg/pix] CD matrix element 2_2                \n",
       "PXSCAL1 =            -2.450002 / [arcsec/pix] Plate scale for axis 1            \n",
       "PXSCAL2 =             2.450002 / [arcsec/pix] Plate scale for axis 2            \n",
       "PA      =             -17.6868 / [deg] Position angle of axis 2 (E of N,+=CCW)  \n",
       "RA_REF  =     56.1279166666667 / [deg] Commanded RA (J2000) of ref. position    \n",
       "DEC_REF =             32.10225 / [deg] Commanded Dec (J2000) of ref. position   \n",
       "PM_RA   =                   0. / [arcsec/yr] Proper Motion in RA (J2000)        \n",
       "PM_DEC  =                   0. / [arcsec/yr] Proper Motion in Dec (J2000)       \n",
       "CSM_RATE=               15790. / [milli-arcsec/sec] Mirror scan rate            \n",
       "                                                                                \n",
       "          / PHOTOMETRY                                                          \n",
       "                                                                                \n",
       "BUNIT   = 'MJy/sr  '           / Units of image data                            \n",
       "FLUXCONV=               0.0447 / Flux Conv. factor (DN/s to BUNIT)              \n",
       "GAIN    =                   5. / e/DN conversion                                \n",
       "NOMWAVE =                23.68 / [micron] Isophotal wavelength of filter        \n",
       "FILTWDTH=                  5.3 / [micron] Half-power width of filter            \n",
       "ZODIMIN =             31.31237 / [MJy/sr] minimum zodiacal background in AOR    \n",
       "ZODIMAX =              32.9273 / [MJy/sr] maximum zodiacal background in AOR    \n",
       "ZODIMED =             31.99153 / [MJy/sr] median zodaical background in AOR     \n",
       "                                                                                \n",
       "                                                                                \n",
       "          / MIPS SCAN MAP                                                       \n",
       "                                                                                \n",
       "SCANRATE= 'fast    '           / Scan map rate (slow, med, fast)                \n",
       "REQ160  =                    T / 160 micron data required (T/F)                 \n",
       "FASTRES =                    F / 160 micron fast reset (T/F)                    \n",
       "XSCNOFF =                  125 / [arcsec] Cross-scan offset                     \n",
       "INSCNOFF=                   80 / [arcsec] In-scan offset                        \n",
       "NSCANLEG=                    7 / Number of scan legs                            \n",
       "SCANLEN =                   1. / [deg] Scan leg length                          \n",
       "STEPFOR =                  240 / [arcsec] Cross-scan step size for fwd leg      \n",
       "STEPREV =                  240 / [arcsec] Cross-scan step size for rev leg      \n",
       "NMAPCYCL=                    1 / Number of Scan Map Cycles                      \n",
       "                                                                                \n",
       "          / DATA FLOW KEYWORDS                                                  \n",
       "                                                                                \n",
       "DATE    = '2009-10-02T02:59:22' / [YYYY-MM-DDThh:mm:ss UTC] file creation date  \n",
       "ORIGIN0 = 'JPL_FOS '           / Site where raw-FITS file was written           \n",
       "CREATOR0= 'JPL_FOS SIS'        / SW system that created raw-FITS file           \n",
       "SIS_SVER= 'J5.3    '           / SIS SW VERsion of CREATOR0                     \n",
       "AORKEY  =              5787904 / AOR or IER key. Astro. Obs Req/Instr Eng Req   \n",
       "DS_IDENT= 'ads/sa.spitzer#0005787904' / Data Set Identification for ADS/journals\n",
       "PAONUM  =                  789 / PAO Number                                     \n",
       "CAMPAIGN= 'MIPS004000'         / Campaign                                       \n",
       "SOS_VER =                    2 / Data-Product Version                           \n",
       "PLVID   =                    1 / Pipeline Version ID                            \n",
       "CALID   =                    1 / CalTrans Version ID                            \n",
       "CTD_VER = '3.0.94S '           / Commanded telemetry data version               \n",
       "                                                                                \n",
       "          / PROCESSING HISTORY                                                  \n",
       "                                                                                \n",
       "TOTALBCD=                  693 / Total number of BCD's used in this mosaic      \n",
       "MINCOV  =                    0 / minimum coverage in AOR                        \n",
       "MAXCOV  =                   13 / maximum coverage in AOR                        \n",
       "MEDCOV  =                    5 / median coverage in AOR                         \n",
       "MSKNLIST= 'w_bqd_mopex.nl'     / Filename of mosaicer namelist                  \n",
       "HISTORY hdrupd8           v.  1.6  A70821,  updated  10/02/09 at 22:10:32       \n",
       "HISTORY hdrupd8           v.  1.6  A70821,  updated  10/02/09 at 22:10:33       \n",
       "HISTORY FPGen                     v.         1.25, ran Fri Oct  2 22:10:40 2009 \n",
       "COMMENT   Controlled data files (CDFs) used:                                    \n",
       "COMMENT   bcd2mosaic_keywords2copy.txt, fileID = 90930                          \n",
       "COMMENT   caltrans.nl, fileID = 90930                                           \n",
       "COMMENT   fpg_mosaic.tbl, fileID = 90930                                        \n",
       "COMMENT   w_bqd_files_to_copy_to_sandbox.nl, fileID = 90930                     \n",
       "COMMENT   w_bqd_mopex.nl, fileID = 90930                                        \n",
       "COMMENT MOSAIC_INT Module Version 6.2 image created                             \n",
       "COMMENT Fri Oct  2 20:36:48 2009                                                \n",
       "COMMENT MOSAIC_REINT Module Version 3.2 image created                           \n",
       "COMMENT Fri Oct  2 21:44:51 2009                                                \n",
       "COMMENT MOSAIC_COADD Module Version 4.8 image created                           \n",
       "COMMENT Fri Oct  2 22:06:04 2009                                                \n",
       "COMMENT MOSAIC_COMBINE Module Version 2.4 image created                         \n",
       "COMMENT Fri Oct  2 22:09:35 2009                                                \n",
       "COMMENT CROTA2 = 17.686800 /[deg] Orientation of axis 2 (W of N, +=CW)          \n",
       "COMMENT CDELT1 = -0.000681 /[deg/pix] Scale for axis 1                          \n",
       "COMMENT CDELT2 = 0.000681 /[deg/pix] Scale for axis 1                           \n",
       "COMMENT      del file: add.txt                                                  \n",
       "COMMENT      add file: add.txt                                                  \n",
       "HISTORY hdrupd8           v.  1.6  A70821,  updated  10/02/09 at 22:10:41       \n",
       "COMMENT      add file: comment_file.txt                                         "
      ]
     },
     "execution_count": 12,
     "metadata": {},
     "output_type": "execute_result"
    }
   ],
   "source": [
    "with fits.open(fits_path) as FitsData:\n",
    "    w = WCS(FitsData[0].header)\n",
    "    image = FitsData[0].data\n",
    "    fits_header = FitsData[0].header\n",
    "fits_header"
   ]
  },
  {
   "cell_type": "code",
   "execution_count": null,
   "id": "93942a33-5864-46ca-ab1e-34056d237162",
   "metadata": {},
   "outputs": [],
   "source": []
  },
  {
   "cell_type": "markdown",
   "id": "20a73422-d377-4d08-8891-9a139da45acc",
   "metadata": {},
   "source": [
    "The following variables are astronomical quantities and instrument caracteristics that are going to be necessary for the future calculus."
   ]
  },
  {
   "cell_type": "code",
   "execution_count": 13,
   "id": "96124ba3-1f93-4827-8bbc-c9d2f976b20c",
   "metadata": {},
   "outputs": [],
   "source": [
    "itime  = fits_header['EXPTIME'] \n",
    "ifilter = fits_header['CHNLNUM']  \n",
    "DateObs = fits_header['DATE_OBS']\n",
    "if ifilter == 1:\n",
    "    epadu = fits_header['GAIN']\n",
    "if ifilter == 2:\n",
    "    epadu = 7"
   ]
  },
  {
   "cell_type": "markdown",
   "id": "ac3c6e5c-a504-4005-ba48-5d084a5ba620",
   "metadata": {},
   "source": [
    "Writing a txt file that contains the information of the objects that are contained in the picture."
   ]
  },
  {
   "cell_type": "code",
   "execution_count": 14,
   "id": "58aaba8f-e839-4f47-a1e9-5f905527f9fb",
   "metadata": {},
   "outputs": [
    {
     "name": "stdout",
     "output_type": "stream",
     "text": [
      "\n",
      " Se han encontrado 967 objetos del catálogo en el archivo .fits \n",
      "\n"
     ]
    }
   ],
   "source": [
    "with open(output_dir+f\"Objectlist_{fits_name}.out\", \"w\") as NewListO:\n",
    "    object_counter = 0 # object counter for the objects that are inside the image.\n",
    "    for index, row in gaia_catalog.iterrows():\n",
    "        condition = is_in_pic(w, image, row[\"_RAJ2000\"], row[\"_DEJ2000\"])\n",
    "        if condition:\n",
    "            object_counter +=1\n",
    "            X, Y = SkyCoord(row[\"_RAJ2000\"], row[\"_DEJ2000\"], frame=\"icrs\", unit=\"deg\").to_pixel(w)\n",
    "            NewListO.write(f\"{row['_RAJ2000']}    {row['_DEJ2000']}    {row['Source']}   {X}   {Y} {row['Plx']} {row['e_Plx']}  {condition}\\n\")\n",
    "print(f'\\n Se han encontrado {object_counter} objetos del catálogo en el archivo .fits \\n')\n",
    "if object_counter == 0:\n",
    "    raise ValueError(\"Not objects found\")"
   ]
  },
  {
   "cell_type": "markdown",
   "id": "543e22d8-c518-416a-869d-cb8439f11c8e",
   "metadata": {},
   "source": [
    "Save the coordinates from the objects of the catalog that are in the image."
   ]
  },
  {
   "cell_type": "code",
   "execution_count": 15,
   "id": "e0e01a8e-dea9-4ebe-8b98-7b530472a453",
   "metadata": {},
   "outputs": [],
   "source": [
    "with open(output_dir+f\"Objectlist_{fits_name}.out\", \"r\") as Obj:\n",
    "    ListObj = Obj.readlines()\n",
    "\n",
    "Final_LO = []\n",
    "for obj in ListObj:\n",
    "    Final_LO.append(obj.split()[:-1])\n",
    "    RA, DEC, ID, x, y, Plx, e_Plx = zip(*Final_LO) \n",
    "    Final_List = np.array(list(zip(RA,DEC,x,y,Plx,e_Plx)), dtype=float)\n",
    "    ID = np.array(ID,dtype='U20')\n"
   ]
  },
  {
   "cell_type": "markdown",
   "id": "b814e5b9-99a1-403a-a67b-cb35a3acd97c",
   "metadata": {},
   "source": [
    "Drop the objects that are not in the fits files (just in case the is_in_pic function failed numerically)"
   ]
  },
  {
   "cell_type": "code",
   "execution_count": 16,
   "id": "e2097561-c616-4916-ad3d-ddd70f2d14fb",
   "metadata": {},
   "outputs": [],
   "source": [
    "mm = [ 0 < i[2] and i[2] < (image.shape[1] - 1) for i in Final_List] # List of [Booleans] (x) where the positions are inside the image.\n",
    "new_ID = []\n",
    "for i in range(len(mm)):\n",
    "    if mm[i]:\n",
    "        new_ID.append(ID[i])\n",
    "ID = new_ID\n",
    "Final_List = Final_List[mm]\n",
    "\n",
    "nn = [ 0 < i[3] and i[3] < (image.shape[0] - 1) for i in Final_List] # List of [Booleans] (y) where the positions are inside the image.\n",
    "new_ID = []\n",
    "for i in range(len(nn)):\n",
    "    if nn[i]:\n",
    "        new_ID.append(ID[i])\n",
    "ID = new_ID\n",
    "Final_List = Final_List[nn]\n",
    "\n",
    "# IDs repetidos se categorizan \n",
    "u, c = np.unique(ID, return_counts=True)\n",
    "dup = u[c > 1]\n",
    "for j in dup:\n",
    "    m = 0\n",
    "    for i in range(len(ID)):\n",
    "        if ID[i] == j:\n",
    "            m += 0.1\n",
    "            ID[i] = ID[i] + str(m)\n"
   ]
  },
  {
   "cell_type": "markdown",
   "id": "a2683b00-250e-4998-9449-b5e16ab97f62",
   "metadata": {},
   "source": [
    "Let's print a preview of the new reduced catalog"
   ]
  },
  {
   "cell_type": "code",
   "execution_count": 17,
   "id": "1cfbfc86-ef12-4a98-bb28-000da9ccccd0",
   "metadata": {},
   "outputs": [
    {
     "name": "stdout",
     "output_type": "stream",
     "text": [
      "\n",
      "Su catalogo reducido es (filas 967):\n",
      " \n",
      "----RA---- ---DEC--- -----x-----  -----y----- -----Plx------- -----e_Plx------- -----ID-------\n",
      "\n",
      "[56.140769 31.975080 503.170925 1238.341656 2.871000 0.319300] 2.1662781242585843e+\n",
      "    ...       ...         ...          ...         ...        \n",
      "\n",
      "[55.995000 32.371425 498.446128 1848.279039 1.099100 0.756000] 2.16722576584166e+17\n",
      "---------- --------- ------------  ----------- -------------\n",
      "\n"
     ]
    }
   ],
   "source": [
    "np.set_printoptions(suppress=True, formatter={'float_kind':'{:f}'    .format})\n",
    "print(f\"\\nSu catalogo reducido es (filas {len(Final_List)}):\\n \")\n",
    "print(\"----RA---- ---DEC--- -----x-----  -----y----- -----Plx------- -----e_Plx------- -----ID-------\\n\")\n",
    "print(Final_List[0],ID[0])\n",
    "print(\"    ...       ...         ...          ...         ...        \\n\")\n",
    "print(Final_List[len(Final_List)-1],ID[len(Final_List)-1])\n",
    "print(\"---------- --------- ------------  ----------- -------------\\n\")"
   ]
  },
  {
   "cell_type": "markdown",
   "id": "98fb0afd-e21d-47bc-9fce-39b7603cbf6a",
   "metadata": {},
   "source": [
    "For the next step, we will calculate the pixel position of the centroid of the stars in the image. They are calculated using the [centroid_com function](https://photutils.readthedocs.io/en/stable/api/photutils.centroids.centroid_com.html), which is defined as the \"center of mass\"."
   ]
  },
  {
   "cell_type": "code",
   "execution_count": 18,
   "id": "fc121a5a-9a69-44d9-8ec9-fdd31409f56a",
   "metadata": {},
   "outputs": [
    {
     "name": "stderr",
     "output_type": "stream",
     "text": [
      "WARNING: Input data contains non-finite values (e.g., NaN or inf) that were automatically masked. [photutils.centroids.core]\n"
     ]
    }
   ],
   "source": [
    "# Se extraen los valores X y Y\n",
    "center_box_size = 7 #boz size for the calculation of the centroid\n",
    "\n",
    "_, _, x_init, y_init, _, _ = zip(*Final_List)\n",
    "\n",
    "x, y = centroid_sources(image, x_init, y_init, box_size = center_box_size, centroid_func=centroid_com)\n",
    "X, Y = np.array(x), np.array(y)\n",
    "NewIDS = np.array(ID)\n",
    "\n",
    "#Centroids with NaN or inf values are eliminated\n",
    "is_nan = ~np.isnan(X)\n",
    "x, y = X[is_nan],Y[is_nan]      \n",
    "Final_List2 = Final_List[is_nan] \n",
    "NewIDS = NewIDS[is_nan]\n",
    "\n",
    "#Resultant centroids\n",
    "starloc = list(zip(x,y))"
   ]
  },
  {
   "cell_type": "markdown",
   "id": "58108a36-c705-432a-81f1-e2f1757fd8c6",
   "metadata": {},
   "source": [
    "### 4.4 Photometry"
   ]
  },
  {
   "attachments": {
    "5996f457-6642-41ed-a994-a3714c9dbb8e.png": {
     "image/png": "[encoded data removed]"
    }
   },
   "cell_type": "markdown",
   "id": "3510a6c9-9de2-4a9d-b10e-2e1306570b2f",
   "metadata": {},
   "source": [
    "We are interested in applying for the photometry both Circular aperture (for a zone encapsulating the centroid of the star) and Annulus aperture (for the zone surrounding the star, i.e., the bakcground).\n",
    "\n",
    "![image.png](attachment:5996f457-6642-41ed-a994-a3714c9dbb8e.png)\n",
    "\n",
    "Let's define the photometric parameters (aperture, sky ring internal radius, sky ring external radius) for each star centroid."
   ]
  },
  {
   "cell_type": "code",
   "execution_count": 19,
   "id": "320ed817-600c-4de8-83d6-61b8dd2ba4e7",
   "metadata": {},
   "outputs": [],
   "source": [
    "r = 9 # Aperture (px)\n",
    "r_in = 9 # Sky ring internal radius (px)\n",
    "r_out = 20 #Sky ring external radius (px)\n",
    "\n",
    "#Defined them as proper photometric objects using photutils.\n",
    "circular_aperture = CircularAperture(starloc, r=r)\n",
    "annulus_aperture = CircularAnnulus(starloc, r_in=r_in, r_out=r_out )\n",
    "apers = [circular_aperture, annulus_aperture]"
   ]
  },
  {
   "cell_type": "code",
   "execution_count": 20,
   "id": "9dddce8a-1165-4d86-8432-26074639dac2",
   "metadata": {},
   "outputs": [
    {
     "name": "stdout",
     "output_type": "stream",
     "text": [
      "(958,) (958,)\n"
     ]
    }
   ],
   "source": [
    "print(apers[0].shape, apers[1].shape)"
   ]
  },
  {
   "cell_type": "markdown",
   "id": "e14783a9-a96e-4f2b-8caf-b1f92273a522",
   "metadata": {},
   "source": [
    "As you can see, there is a defined circular and annular aperture for each of the objects."
   ]
  },
  {
   "cell_type": "markdown",
   "id": "b220e6e5-4ae3-459b-a772-c8ffe217957b",
   "metadata": {},
   "source": [
    "Let's apply both type of apertures on the photometry of the image."
   ]
  },
  {
   "cell_type": "code",
   "execution_count": 21,
   "id": "97951ff0-6157-4315-b7b7-2855017f077c",
   "metadata": {},
   "outputs": [],
   "source": [
    "phot_table = aperture_photometry(image, apers)"
   ]
  },
  {
   "cell_type": "code",
   "execution_count": 22,
   "id": "f1f8eb9d-0e9d-4c75-8bf7-7c9ac13c9199",
   "metadata": {},
   "outputs": [
    {
     "name": "stdout",
     "output_type": "stream",
     "text": [
      "nan nan\n",
      "nan nan\n",
      "nan nan\n",
      "nan nan\n",
      "nan nan\n"
     ]
    }
   ],
   "source": [
    "for index in np.argwhere(np.isnan(phot_table['aperture_sum_0'])):\n",
    "    print(phot_table['aperture_sum_0'][index[0]], phot_table['aperture_sum_1'][index[0]])"
   ]
  },
  {
   "cell_type": "markdown",
   "id": "7561e841-aefa-4c99-81e6-593f3534cada",
   "metadata": {},
   "source": [
    "The `aperture_sum_0` corresponds to the photometry of the circular aperture, while the `aperture_sum_1` corresponds to the annular aperture photometry.\n",
    "\n",
    "Let's calculate now the area and flux in the total area (the sum of the flux in the cirular aperture, that ideally corresponds to the star, and the annular aperture, that ideally corresponds just to the background)."
   ]
  },
  {
   "cell_type": "code",
   "execution_count": 23,
   "id": "89eabfa9-bff4-425f-b85e-9f9460f2d84e",
   "metadata": {},
   "outputs": [],
   "source": [
    "#Area and flux in from the background\n",
    "bkg_mean = phot_table['aperture_sum_1'] / annulus_aperture.area\n",
    "area_aper = np.array(circular_aperture.area_overlap(image))\n",
    "bkg_sum = bkg_mean * area_aper\n",
    "\n",
    "#Total flux from each object after substracting background\n",
    "final_flux = phot_table['aperture_sum_0'] - bkg_sum\n",
    "\n",
    "conv_fact = #From instrumental units (DN/s) to MJy/sr\n",
    "\n",
    "phot_table['flux'] = final_flux\n",
    "phot_table['flux'].info.format = '%.8g' "
   ]
  },
  {
   "cell_type": "markdown",
   "id": "d35acf55-6e6a-4a13-b0cd-6095ee1c8b03",
   "metadata": {},
   "source": [
    "By knowing which of the channels we are using from SPITZER, we will have a minimum magnitude value that can be detected by each of them. Below we have the values of the minimum magnitude of each of the channels, which will be selected depending on the `ifilter` value that is especified in the header of the `.fits` file. For our example, which selects the channel 1, `ifilter == 1` (you are free to explore with the other channel `.fits`)"
   ]
  },
  {
   "cell_type": "code",
   "execution_count": 24,
   "id": "7ac01171-c889-49fd-84c4-356fab61f510",
   "metadata": {},
   "outputs": [
    {
     "name": "stdout",
     "output_type": "stream",
     "text": [
      "channel 1 selected\n",
      "7.17\n"
     ]
    }
   ],
   "source": [
    "print(\"channel\", ifilter, \"selected\")\n",
    "if ifilter == 1:\n",
    "    zmag = 7.17 \n",
    "elif ifilter == 2:\n",
    "    zmag =  0.778 \n",
    "print(zmag)  "
   ]
  },
  {
   "cell_type": "markdown",
   "id": "576c1429-6ba0-48c9-bedf-a5cc0aea016c",
   "metadata": {},
   "source": [
    "Let's save this filter value as the name of the minimum magnitude."
   ]
  },
  {
   "cell_type": "code",
   "execution_count": 25,
   "id": "b391aa70-be17-446d-bfb1-0c43e9e71cc5",
   "metadata": {},
   "outputs": [
    {
     "data": {
      "text/plain": [
       "'1'"
      ]
     },
     "execution_count": 25,
     "metadata": {},
     "output_type": "execute_result"
    }
   ],
   "source": [
    "name_mag = str(ifilter)\n",
    "name_mag"
   ]
  },
  {
   "cell_type": "markdown",
   "id": "e9e30d6a-9f26-405f-a81e-0fba224be3d2",
   "metadata": {},
   "source": [
    "Now, let's save the value of the magnitude measured by the instrument in our table. For this, we have the relation\n",
    "\\begin{equation}\n",
    "m - m_{\\text{ref}} = -2.5\\log\\left(\\frac{F_{m}}{F_{\\text{ref}} }\\right)\\\\\n",
    "\\end{equation}\n",
    "\n",
    "Where the $m$ is the magnitude of the star, $m_{\\text{ref}}$ is the reference magnitude of the instrument, $F_m$ is the flux associated to $m$ and $F_{\\text{ref}}$ to $m_{\\text{ref}}$. Then, having that $F_{m} = S\\cdot t_{\\text{exp}}$, where S is the flux obtained in the aperture analysis of the image and $t_{\\text{exp}}$ is the exposure time of the instrument, while $m_0 := 2.5 \\log(F_{\\text{ref}})$ is the zero point of the instrument\n",
    "\n",
    "\\begin{equation}\n",
    "\\begin{split}\n",
    "m = \\cancelto{0}{m_{\\text{ref}}} - 2.5 \\log(S*t) + 2.5 \\log(F_{\\text{ref}})\\\\\n",
    "m = m_0 - 2.5 \\,log_{10}\\left(t_{\\text{exp}} \\cdot F_{\\text{final}}\\right)\\\\\n",
    "\\end{split}\n",
    "\\end{equation}"
   ]
  },
  {
   "cell_type": "code",
   "execution_count": 26,
   "id": "ab082298-b239-4f53-9345-31b91b40c990",
   "metadata": {},
   "outputs": [
    {
     "name": "stderr",
     "output_type": "stream",
     "text": [
      "/tmp/ipykernel_28091/396444029.py:1: RuntimeWarning: invalid value encountered in log10\n",
      "  phot_table[name_mag + '_mag'] = zmag - 2.5 * np.log10(final_flux) - 2.5 * np.log10(itime)\n"
     ]
    }
   ],
   "source": [
    "phot_table[name_mag + '_mag'] = zmag - 2.5 * np.log10(final_flux) - 2.5 * np.log10(itime)\n",
    "phot_table[name_mag + '_mag'].info.format = '%.8g'  "
   ]
  },
  {
   "cell_type": "markdown",
   "id": "c300a0b6-b130-4787-81b5-79bba65f0ec3",
   "metadata": {},
   "source": [
    "---\n",
    "#### Note:\n",
    "if a message like the following is shown  \n",
    "\n",
    "<div class=\"alert alert-danger\">\n",
    "\n",
    "```python\n",
    "/tmp/ipykernel_31438/2448779896.py:1: RuntimeWarning: invalid value encountered in log10\n",
    "  phot_table[name_mag + '_mag'] = zmag - 2.5 * np.log10(final_flux) + 2.5 * np.log10(itime)\n",
    "\n",
    "```\n",
    "</div>\n",
    "\n",
    "We could deduce that the stars detected in the `.fits` may be close to the border (that is my guess). Let's plot the image to check this out\n"
   ]
  },
  {
   "cell_type": "code",
   "execution_count": 27,
   "id": "5dc766a3-c689-41b5-96ab-d55281894a97",
   "metadata": {},
   "outputs": [
    {
     "data": {
      "text/plain": [
       "<matplotlib.image.AxesImage at 0x74c26f40c610>"
      ]
     },
     "execution_count": 27,
     "metadata": {},
     "output_type": "execute_result"
    },
    {
     "data": {
      "image/png": "[encoded data removed]",
      "text/plain": [
       "<Figure size 640x480 with 1 Axes>"
      ]
     },
     "metadata": {},
     "output_type": "display_data"
    }
   ],
   "source": [
    "fig, ax = plt.subplots()\n",
    "ax.imshow(image)"
   ]
  },
  {
   "cell_type": "markdown",
   "id": "e5ad677e-8e6d-4de1-b1b3-e19a8a881f6c",
   "metadata": {},
   "source": [
    "As the border of the .fits shows, this hypothesis may be a possibility.\n",
    "\n",
    "#### End of the note\n",
    "---"
   ]
  },
  {
   "cell_type": "markdown",
   "id": "98bd1064-cb6e-4b6a-ac29-40ef8d0d4c3b",
   "metadata": {},
   "source": [
    "It's important to know also the uncertainties from the instrumental magnitudes. Let's save them too in our tables"
   ]
  },
  {
   "cell_type": "code",
   "execution_count": 28,
   "id": "3e3f1895-ca01-4b33-858f-dbceb7be098d",
   "metadata": {},
   "outputs": [
    {
     "name": "stderr",
     "output_type": "stream",
     "text": [
      "WARNING: Input data contains invalid values (NaNs or infs), which were automatically clipped. [astropy.stats.sigma_clipping]\n",
      "/tmp/ipykernel_28091/387041747.py:2: RuntimeWarning: invalid value encountered in sqrt\n",
      "  phot_table[name_mag + '_mag_err'] = 1.0857 * np.sqrt(final_flux/epadu + area_aper*stdev**2 )/final_flux\n"
     ]
    }
   ],
   "source": [
    "_, _, stdev = sigma_clipped_stats(image, sigma=3.0)\n",
    "phot_table[name_mag + '_mag_err'] = 1.0857 * np.sqrt(final_flux/epadu + area_aper*stdev**2 )/final_flux\n",
    "phot_table[name_mag + '_mag_err'].info.format = '%.8g'"
   ]
  },
  {
   "cell_type": "code",
   "execution_count": 29,
   "id": "ca59197e-79de-4656-9153-3561f8424d50",
   "metadata": {},
   "outputs": [
    {
     "name": "stdout",
     "output_type": "stream",
     "text": [
      "\n",
      "# of objects with nan values in the uncertainties: 31\n",
      "\n"
     ]
    }
   ],
   "source": [
    "n_unc_nans = np.argwhere(np.isnan(phot_table[name_mag + '_mag_err'])).shape[0]\n",
    "print(f\"\"\"\n",
    "# of objects with nan values in the uncertainties: {n_unc_nans}\n",
    "\"\"\")"
   ]
  },
  {
   "cell_type": "markdown",
   "id": "1f438355-e1d8-412b-9479-691707c0eb4d",
   "metadata": {},
   "source": [
    "Add to the table the location info, the ID, the date of observation, the object's name and the parallax with its error."
   ]
  },
  {
   "cell_type": "code",
   "execution_count": 30,
   "id": "dd78fdee-6c11-4665-b507-4ac33eab3961",
   "metadata": {},
   "outputs": [
    {
     "data": {
      "text/plain": [
       "array([[56.140769, 31.975080, 503.170925, 1238.341656, 2.871000,\n",
       "        0.319300],\n",
       "       [56.213663, 31.986909, 411.329561, 1227.314772, -0.996300,\n",
       "        0.907200],\n",
       "       [56.219711, 32.015701, 391.317126, 1265.342221, 3.406200,\n",
       "        0.170200],\n",
       "       ...,\n",
       "       [55.984382, 32.363408, 514.592141, 1841.084484, 0.763300,\n",
       "        0.348400],\n",
       "       [55.991048, 32.362431, 507.152214, 1837.191212, nan, nan],\n",
       "       [55.995000, 32.371425, 498.446128, 1848.279039, 1.099100,\n",
       "        0.756000]])"
      ]
     },
     "execution_count": 30,
     "metadata": {},
     "output_type": "execute_result"
    }
   ],
   "source": [
    "Final_List2"
   ]
  },
  {
   "cell_type": "code",
   "execution_count": 31,
   "id": "a82b1593-ca07-4728-bf63-3c6793351734",
   "metadata": {},
   "outputs": [],
   "source": [
    "phot_table['RA'] = [i[0] for i in Final_List2] \n",
    "phot_table['DEC'] = [i[1] for i in Final_List2] \n",
    "phot_table['ID'] = NewIDS\n",
    "phot_table['Plx'] = [i[-2] for i in Final_List2]\n",
    "phot_table['e_Plx'] = [i[-1] for i in Final_List2]\n",
    "phot_table['DATE-OBS'] = DateObs\n",
    "if fits_header['OBJECT'] == \"IC 348\":\n",
    "    phot_table['OBJECT'] = fits_header['OBJECT']\n",
    "if fits_header['OBJECT'] == \"per_m2\":\n",
    "    phot_table['OBJECT'] = \"IC 348\"\n",
    "else:\n",
    "    phot_table['OBJECT'] = fits_header['OBJECT']"
   ]
  },
  {
   "cell_type": "markdown",
   "id": "f03acc2f-f68e-4ef9-a072-549bbf64e1ae",
   "metadata": {},
   "source": [
    "Finally, let's drop the NaN values from the table"
   ]
  },
  {
   "cell_type": "code",
   "execution_count": 32,
   "id": "2dbc9aec-b84f-46d7-b2d9-23c231c756cc",
   "metadata": {},
   "outputs": [],
   "source": [
    "index_nan = np.argwhere(np.isnan(phot_table[name_mag + '_mag'].data)) \n",
    "phot_table.remove_rows(index_nan)"
   ]
  },
  {
   "cell_type": "code",
   "execution_count": 33,
   "id": "56e91e75-4908-4023-9c26-519f773f539e",
   "metadata": {},
   "outputs": [
    {
     "data": {
      "text/html": [
       "<div><i>QTable length=403</i>\n",
       "<table id=\"table128378587399440\" class=\"table-striped table-bordered table-condensed\">\n",
       "<thead><tr><th>id</th><th>xcenter</th><th>ycenter</th><th>aperture_sum_0</th><th>aperture_sum_1</th><th>flux</th><th>1_mag</th><th>1_mag_err</th><th>RA</th><th>DEC</th><th>ID</th><th>Plx</th><th>e_Plx</th><th>DATE-OBS</th><th>OBJECT</th></tr></thead>\n",
       "<thead><tr><th></th><th>pix</th><th>pix</th><th></th><th></th><th></th><th></th><th></th><th></th><th></th><th></th><th></th><th></th><th></th><th></th></tr></thead>\n",
       "<thead><tr><th>int64</th><th>float64</th><th>float64</th><th>float64</th><th>float64</th><th>float64</th><th>float64</th><th>float64</th><th>float64</th><th>float64</th><th>str20</th><th>float64</th><th>float64</th><th>str23</th><th>str6</th></tr></thead>\n",
       "<tr><td>1</td><td>503.0036233686078</td><td>1238.0019498843071</td><td>10009.695327303816</td><td>38861.763075131574</td><td>141.97492</td><td>0.74371767</td><td>0.14480503</td><td>56.1407693712124</td><td>31.9750797733506</td><td>2.1662781242585843e+</td><td>2.871</td><td>0.3193</td><td>2004-09-19T14:16:16.758</td><td>IC 348</td></tr>\n",
       "<tr><td>2</td><td>411.00108751687753</td><td>1226.999647691859</td><td>9879.201122060029</td><td>38900.175887164325</td><td>1.726994</td><td>5.5310197</td><td>11.429218</td><td>56.2136633685956</td><td>31.9869091934199</td><td>2.1662911380012454e+</td><td>-0.9963</td><td>0.9072</td><td>2004-09-19T14:16:16.758</td><td>IC 348</td></tr>\n",
       "<tr><td>3</td><td>391.0044959510237</td><td>1265.0015794946835</td><td>9878.240649814681</td><td>38810.72852219654</td><td>23.478862</td><td>2.6975542</td><td>0.84619374</td><td>56.2197107952861</td><td>32.0157006496332</td><td>2.16629530412699e+17</td><td>3.4062</td><td>0.1702</td><td>2004-09-19T14:16:16.758</td><td>IC 348</td></tr>\n",
       "<tr><td>4</td><td>338.99610677697984</td><td>1287.003652170313</td><td>9793.17993829483</td><td>38553.597074868725</td><td>3.7085807</td><td>4.7012274</td><td>5.3254931</td><td>56.2545074881102</td><td>32.0405655083321</td><td>2.1662973227464986e+</td><td>2.7968</td><td>0.3897</td><td>2004-09-19T14:16:16.758</td><td>IC 348</td></tr>\n",
       "<tr><td>5</td><td>318.0005491473453</td><td>1296.9998893505933</td><td>9877.267444305064</td><td>38892.124084591385</td><td>1.8378178</td><td>5.4634906</td><td>10.740375</td><td>56.267738579543</td><td>32.0515453298481</td><td>2.1662987401007654e+</td><td>2.897</td><td>0.2724</td><td>2004-09-19T14:16:16.758</td><td>IC 348</td></tr>\n",
       "<tr><td>6</td><td>311.99722270112903</td><td>1296.003634735087</td><td>9884.417243236387</td><td>38885.78633595169</td><td>10.596888</td><td>3.5613009</td><td>1.8676322</td><td>56.272601191017</td><td>32.0522027873454</td><td>2.1662986971452646e+</td><td>3.5633</td><td>0.4493</td><td>2004-09-19T14:16:16.758</td><td>IC 348</td></tr>\n",
       "<tr><td>...</td><td>...</td><td>...</td><td>...</td><td>...</td><td>...</td><td>...</td><td>...</td><td>...</td><td>...</td><td>...</td><td>...</td><td>...</td><td>...</td><td>...</td></tr>\n",
       "<tr><td>937</td><td>486.9990261725339</td><td>1834.9933967851427</td><td>9755.74409684812</td><td>38393.13867565991</td><td>7.0160946</td><td>4.0090082</td><td>2.8177715</td><td>56.0070922285938</td><td>32.3651800620591</td><td>2.167196173500722e+1</td><td>-1.4141</td><td>0.6922</td><td>2004-09-19T14:16:16.758</td><td>IC 348</td></tr>\n",
       "<tr><td>938</td><td>515.0005818442094</td><td>1825.997262331953</td><td>9777.752949410471</td><td>38483.10499486004</td><td>6.1808347</td><td>4.1466289</td><td>3.1977511</td><td>55.9879589830276</td><td>32.3537422679132</td><td>2.167195829903269e+1</td><td>0.0055</td><td>0.7322</td><td>2004-09-19T14:16:16.758</td><td>IC 348</td></tr>\n",
       "<tr><td>943</td><td>448.9950036902485</td><td>1832.0031206497233</td><td>9929.639261103854</td><td>39000.01523934731</td><td>26.814075</td><td>2.5533397</td><td>0.74167929</td><td>56.0367883253585</td><td>32.370989876329</td><td>2.1671969036614144e+</td><td>1.1947</td><td>0.5001</td><td>2004-09-19T14:16:16.758</td><td>IC 348</td></tr>\n",
       "<tr><td>944</td><td>399.9948500610385</td><td>1811.9931135693732</td><td>10322.652959084342</td><td>40594.511143320895</td><td>14.955772</td><td>3.1872247</td><td>1.3250425</td><td>56.0792420922098</td><td>32.3682363354592</td><td>2.1671979344373222e+</td><td>2.5643</td><td>0.4228</td><td>2004-09-19T14:16:16.758</td><td>IC 348</td></tr>\n",
       "<tr><td>947</td><td>386.999969262423</td><td>1825.9954558047534</td><td>10215.37788562665</td><td>40055.491439397076</td><td>44.547771</td><td>2.0021818</td><td>0.44878288</td><td>56.0862545523638</td><td>32.3802346475771</td><td>2.1671982780509133e+</td><td>0.0469</td><td>0.0866</td><td>2004-09-19T14:16:16.758</td><td>IC 348</td></tr>\n",
       "<tr><td>954</td><td>327.0021622325931</td><td>1812.9910059392566</td><td>10384.251632674666</td><td>40827.25834654215</td><td>17.455626</td><td>3.0194082</td><td>1.1361322</td><td>56.1354927321523</td><td>32.3839165499912</td><td>2.1672061807920576e+</td><td>0.8261</td><td>0.1567</td><td>2004-09-19T14:16:16.758</td><td>IC 348</td></tr>\n",
       "</table></div>"
      ],
      "text/plain": [
       "<QTable length=403>\n",
       "  id       xcenter            ycenter       ...         DATE-OBS        OBJECT\n",
       "             pix                pix         ...                               \n",
       "int64      float64            float64       ...          str23           str6 \n",
       "----- ------------------ ------------------ ... ----------------------- ------\n",
       "    1  503.0036233686078 1238.0019498843071 ... 2004-09-19T14:16:16.758 IC 348\n",
       "    2 411.00108751687753  1226.999647691859 ... 2004-09-19T14:16:16.758 IC 348\n",
       "    3  391.0044959510237 1265.0015794946835 ... 2004-09-19T14:16:16.758 IC 348\n",
       "    4 338.99610677697984  1287.003652170313 ... 2004-09-19T14:16:16.758 IC 348\n",
       "    5  318.0005491473453 1296.9998893505933 ... 2004-09-19T14:16:16.758 IC 348\n",
       "    6 311.99722270112903  1296.003634735087 ... 2004-09-19T14:16:16.758 IC 348\n",
       "  ...                ...                ... ...                     ...    ...\n",
       "  937  486.9990261725339 1834.9933967851427 ... 2004-09-19T14:16:16.758 IC 348\n",
       "  938  515.0005818442094  1825.997262331953 ... 2004-09-19T14:16:16.758 IC 348\n",
       "  943  448.9950036902485 1832.0031206497233 ... 2004-09-19T14:16:16.758 IC 348\n",
       "  944  399.9948500610385 1811.9931135693732 ... 2004-09-19T14:16:16.758 IC 348\n",
       "  947   386.999969262423 1825.9954558047534 ... 2004-09-19T14:16:16.758 IC 348\n",
       "  954  327.0021622325931 1812.9910059392566 ... 2004-09-19T14:16:16.758 IC 348"
      ]
     },
     "execution_count": 33,
     "metadata": {},
     "output_type": "execute_result"
    }
   ],
   "source": [
    "phot_table"
   ]
  },
  {
   "cell_type": "markdown",
   "id": "87d194e8-f69e-4cbb-9563-4d120cf2f5ce",
   "metadata": {},
   "source": [
    "## 5. Apply over all .FITS"
   ]
  },
  {
   "cell_type": "markdown",
   "id": "1461d74f-dc47-4e06-9962-5016091c9c32",
   "metadata": {},
   "source": [
    "Let's put all the previous lines of code in a function for processing all the `.fits` files."
   ]
  },
  {
   "cell_type": "code",
   "execution_count": 34,
   "id": "2c16355b-12c2-4b13-9bf8-bda3b455b092",
   "metadata": {},
   "outputs": [],
   "source": [
    "def Photometry_Data_Table(fits_name, fits_path, catalog, r, r_in, r_out, center_box_size, *args):\n",
    "    \"\"\"\n",
    "    Function for\n",
    "    \"\"\"\n",
    "    ################################################\n",
    "    # Functions\n",
    "    ################################################\n",
    "    \n",
    "    def is_in_pic(w, image, ra, dec):\n",
    "        \"\"\"\n",
    "        Function that selects only the objects from the catalog that are inside the image. \n",
    "        \"\"\"\n",
    "        ra_max, dec_max = w.array_index_to_world_values(0,0)\n",
    "        ra_min, dec_min = w.array_index_to_world_values(image.shape[0], image.shape[1])\n",
    "        if ra_min > ra_max:\n",
    "            ra_min = w.array_index_to_world_values(0,0)[0]\n",
    "            ra_max = w.array_index_to_world_values(image.shape[0], image.shape[1])[0]\n",
    "        if dec_min > dec_max:\n",
    "            dec_min = w.array_index_to_world_values(0,0)[1]\n",
    "            dec_max = w.array_index_to_world_values(image.shape[0], image.shape[1])[1]\n",
    "        return (ra < ra_max) & (ra > ra_min) & (dec < dec_max) & (dec >   dec_min)\n",
    "\n",
    "    ################################################\n",
    "    # Main process\n",
    "    ################################################\n",
    "    \n",
    "    with fits.open(fits_path) as FitsData:\n",
    "        w = WCS(FitsData[0].header)\n",
    "        image = FitsData[0].data\n",
    "        fits_header = FitsData[0].header\n",
    "        itime  = fits_header['EXPTIME'] \n",
    "        ifilter = fits_header['CHNLNUM']  \n",
    "        DateObs = fits_header['DATE_OBS']\n",
    "        if ifilter == 1:\n",
    "            epadu = fits_header['GAIN']\n",
    "            zmag = 0 #-2.5*np.log(3.73438e-11)\n",
    "        elif ifilter == 2:\n",
    "            epadu = 7\n",
    "            zmag =  0 #-2.5*np.log(4.76327e-13)\n",
    "    # Writing a txt file that contains the information of the objects that are contained in the picture.\n",
    "    with open(output_dir+f\"Objectlist_{fits_name}.out\", \"w\") as NewListO:\n",
    "        object_counter = 0 # object counter for the objects that are inside the image.\n",
    "        for index, row in catalog.iterrows():\n",
    "            condition = is_in_pic(w, image, row[\"_RAJ2000\"], row[\"_DEJ2000\"])\n",
    "            if condition:\n",
    "                object_counter +=1\n",
    "                X, Y = SkyCoord(row[\"_RAJ2000\"], row[\"_DEJ2000\"], frame=\"icrs\", unit=\"deg\").to_pixel(w)\n",
    "                NewListO.write(f\"{row['_RAJ2000']}    {row['_DEJ2000']}    {row['Source']}   {X}   {Y} {row['Plx']} {row['e_Plx']}  {condition}\\n\")\n",
    "    print(f'\\n Found {object_counter} items from the catalog in the file {fits_name} \\n')\n",
    "    if object_counter == 0:\n",
    "        return None\n",
    "        quit()\n",
    "\n",
    "    # Save the coordinates from the objects of the catalog that are in the image.\n",
    "    with open(output_dir+f\"Objectlist_{fits_name}.out\", \"r\") as Obj:\n",
    "        ListObj = Obj.readlines()\n",
    "\n",
    "    Final_LO = []\n",
    "    for obj in ListObj:\n",
    "        Final_LO.append(obj.split()[:-1])\n",
    "        RA, DEC, ID, x, y, Plx, e_Plx = zip(*Final_LO) \n",
    "        Final_List = np.array(list(zip(RA,DEC,x,y,Plx,e_Plx)), dtype=float)\n",
    "        ID = np.array(ID,dtype='U20')\n",
    "\n",
    "    # Drop the objects that are not in the fits files (just in case the is_in_pic function failed numerically)\n",
    "    mm = [ 0 < i[2] and i[2] < (image.shape[1] - 1) for i in Final_List] # List of [Booleans] (x) where the positions are inside the image.\n",
    "    ID = ID[mm]\n",
    "    Final_List = Final_List[mm]\n",
    "    \n",
    "    nn = [ 0 < i[3] and i[3] < (image.shape[0] - 1) for i in Final_List] # List of [Booleans] (y) where the positions are inside the image.\n",
    "    ID = ID[nn]\n",
    "    Final_List = Final_List[nn]\n",
    "\n",
    "    # IDs repetidos se categorizan \n",
    "    u, c = np.unique(ID, return_counts=True)\n",
    "    dup = u[c > 1]\n",
    "    for j in dup:\n",
    "        m = 0\n",
    "        for i in range(len(ID)):\n",
    "            if ID[i] == j:\n",
    "                m += 0.1\n",
    "                ID[i] = ID[i] + str(m)\n",
    "    \n",
    "    # print a preview of the reduced catalog.\n",
    "    np.set_printoptions(suppress=True, formatter={'float_kind':'{:f}'    .format})\n",
    "    \n",
    "    # Extract the X, Y values\n",
    "    _, _, x_init, y_init, _, _ = zip(*Final_List)\n",
    "\n",
    "    x, y = centroid_sources(image, x_init, y_init, box_size = center_box_size, centroid_func=centroid_com)\n",
    "    X, Y = np.array(x), np.array(y)\n",
    "    NewIDS = np.array(ID) \n",
    "        \n",
    "    # Eliminate the data that have NaN or inf centroids.\n",
    "    is_nan = ~np.isnan(X)\n",
    "    x, y = X[is_nan],Y[is_nan]      \n",
    "    Final_List2 = Final_List[is_nan] \n",
    "    NewIDS = NewIDS[is_nan]\n",
    "\n",
    "    # Star coordinates centroids. \n",
    "    starloc = list(zip(x,y))\n",
    "        \n",
    "    # Extract each star signal.\n",
    "    aperture = CircularAperture(starloc, r=r)\n",
    "    annulus_aperture = CircularAnnulus(starloc, r_in=r_in, r_out=r_out )\n",
    "    apers = [aperture, annulus_aperture]\n",
    "    # Se genera una tabla de datos.\n",
    "    phot_table = aperture_photometry(image, apers)\n",
    "\n",
    "    # Se le asigna nombre de la magnitud dependiendo del filtro en el encabezado\n",
    "    name_mag = str(ifilter)\n",
    "    print(\"channel:\", name_mag)\n",
    "\n",
    "    # Area y fujo en los anillos. \n",
    "    bkg_mean = phot_table['aperture_sum_1'] / annulus_aperture.area\n",
    "    area_aper = np.array(aperture.area_overlap(image))\n",
    "    bkg_sum = bkg_mean * area_aper\n",
    "        \n",
    "    # Flujo final para cada objeto\n",
    "    final_sum = phot_table['aperture_sum_0'] - bkg_sum\n",
    "    phot_table['flux'] = final_sum\n",
    "    phot_table['flux'].info.format = '%.8g'  \n",
    "        \n",
    "    # Magnitudes Instrumentales\n",
    "    phot_table[name_mag + '_mag'] = zmag - 2.5 * np.log10(final_sum) + 2.5 * np.log10(itime)\n",
    "    phot_table[name_mag + '_mag'].info.format = '%.8g'  \n",
    "        \n",
    "    # Error de las Magnitudes Instrumentales\n",
    "    mean, median, std = sigma_clipped_stats(image, sigma=3.0)\n",
    "    stdev = std\n",
    "    phot_table[name_mag + '_mag_err'] = 1.0857 * np.sqrt(final_sum    /epadu + area_aper*stdev**2 )/final_sum\n",
    "    phot_table[name_mag + '_mag_err'].info.format = '%.8g'\n",
    "\n",
    "    # Se agrega a la tabla la RA, DEC, ID y Masa de aire. \n",
    "    phot_table['RA'] = [i[0] for i in Final_List2] \n",
    "    phot_table['DEC'] = [i[1] for i in Final_List2] \n",
    "    phot_table['ID'] = NewIDS\n",
    "    phot_table['Plx'] = [i[-2] for i in Final_List2] \n",
    "    phot_table['e_Plx'] = [i[-1] for i in Final_List2] \n",
    "    \n",
    "    phot_table['DATE-OBS'] = DateObs\n",
    "    if fits_header['OBJECT'] == \"IC 348\":\n",
    "        phot_table['OBJECT'] = fits_header['OBJECT']\n",
    "    if fits_header['OBJECT'] == \"per_m2\":\n",
    "        phot_table['OBJECT'] = \"IC 348\"\n",
    "    else:\n",
    "        phot_table['OBJECT'] = fits_header['OBJECT']\n",
    "    # Se buscan los indices en donde las magnitudes sean NaN y se eliminan\n",
    "    index_nan = np.argwhere(np.isnan(phot_table[name_mag + '_mag'].data)) \n",
    "    phot_table.remove_rows(index_nan)\n",
    "    total_rows = len(phot_table)\n",
    "    print(f\"\\nAfter the analysis there are {total_rows} objects processed in the {fits_name} file\\n\\n ################################################################################################################################################\\n\\n\")\n",
    "    return phot_table"
   ]
  },
  {
   "cell_type": "markdown",
   "id": "33b5a709-639e-4d17-8804-6d280c252d4f",
   "metadata": {},
   "source": [
    "Here we add a line to ignore the warnings of the NaN values, because they are dropped in the final steps of the function."
   ]
  },
  {
   "cell_type": "code",
   "execution_count": 35,
   "id": "6dc2679a-de67-403a-b6c7-ba6ff786ee8c",
   "metadata": {},
   "outputs": [],
   "source": [
    "import warnings\n",
    "warnings.filterwarnings(\"ignore\") #for the nan values that are then drop in the final steps."
   ]
  },
  {
   "cell_type": "markdown",
   "id": "758e93a2-135b-4a27-b5fb-81c9a417d1ff",
   "metadata": {},
   "source": [
    "Let's put the previous photometric parameters here again (aperture, sky ring internal radius, sky ring external radius) for each star centroid."
   ]
  },
  {
   "cell_type": "code",
   "execution_count": 36,
   "id": "4ebe90b8-f5f6-49f8-b496-4ee32e962bb5",
   "metadata": {},
   "outputs": [
    {
     "name": "stdout",
     "output_type": "stream",
     "text": [
      "14 14 22\n",
      "\n",
      " Found 967 items from the catalog in the file SPITZER_M1_5787904_0000_10_E6047710_maic.fits \n",
      "\n",
      "channel: 1\n",
      "\n",
      "After the analysis there are 401 objects processed in the SPITZER_M1_5787904_0000_10_E6047710_maic.fits file\n",
      "\n",
      " ################################################################################################################################################\n",
      "\n",
      "\n",
      "\n",
      " Found 967 items from the catalog in the file SPITZER_M2_22963200_0000_2_E6100062_maic.fits \n",
      "\n",
      "channel: 2\n",
      "\n",
      "After the analysis there are 433 objects processed in the SPITZER_M2_22963200_0000_2_E6100062_maic.fits file\n",
      "\n",
      " ################################################################################################################################################\n",
      "\n",
      "\n",
      "2 tables from the .fits files were generated\n"
     ]
    }
   ],
   "source": [
    "#########################################\n",
    "# Definición de parámetros fotométricos #\n",
    "#########################################\n",
    "r = 14\n",
    "r_in = 14\n",
    "r_out = 22\n",
    "print(r, r_in, r_out)\n",
    "#########################################\n",
    "# Let's save the tables for all the fits files\n",
    "all_tables = []\n",
    "for k in range(len(files_list)):\n",
    "  fits_path = files_list[k]\n",
    "  fits_name = names[k]\n",
    "#  catalogo = catalogo_final\n",
    "\n",
    "  photom = Photometry_Data_Table(fits_name, fits_path, gaia_catalog, r=r, r_in=r_in, r_out=r_out, center_box_size=center_box_size)\n",
    "  if photom is not None:\n",
    "    all_tables.append(photom)\n",
    "\n",
    "print(f'{len(all_tables)} tables from the .fits files were generated')"
   ]
  },
  {
   "cell_type": "markdown",
   "id": "977bb442-2ee9-435d-b59f-3cb70ac53c92",
   "metadata": {},
   "source": [
    "Let's save the objects that are centered in each of the .fits files processed. \n",
    "\n",
    "**Note:** If you have only have .fits files corresponding to one object, like \"IC358\" for example, then that is the only name that is going to be saved in the focus_object list. "
   ]
  },
  {
   "cell_type": "code",
   "execution_count": 37,
   "id": "8a3518b5-cef4-42bb-80d4-f6d7ac8c6e80",
   "metadata": {},
   "outputs": [],
   "source": [
    "#----#  List with all the main objects that are centered by the telescope.\n",
    "focus_object = []             \n",
    "for m in all_tables:\n",
    "    ob = m['OBJECT'][0]\n",
    "    if ob not in focus_object:\n",
    "        focus_object.append(ob) \n",
    "#----#  Dictionary with each observed object.\n",
    "final_filter = {}\n",
    "for s in focus_object:\n",
    "    final_filter[s] = []        # Example: filtro_final = {'SA98':[], 'SA95':[], '[BSA98':[], 'SA101':[], '[ASA98':[], 'SA104':[], 'SA92':[]}\n",
    "\n",
    "#----#  Fill the dictionary with the table of each object.\n",
    "for n in all_tables:\n",
    "    for p in focus_object:\n",
    "        ob = n['OBJECT'][0]\n",
    "        if ob == p:\n",
    "            final_filter[ob].append(n.copy())  # Example: filtro_final = {'SA98':[tabla1,tabla2,tabla3,..], ... , 'SA92':[tabla1,tabla2,tabla3,..]}"
   ]
  },
  {
   "cell_type": "markdown",
   "id": "889ddf3d-d648-43db-807c-b40097fbb7d9",
   "metadata": {},
   "source": [
    "Now, let's check that we have the same objects observed in each .fits file and eliminate those which are not in all the filters."
   ]
  },
  {
   "cell_type": "code",
   "execution_count": 38,
   "id": "3e81ee53-11dc-4ce6-8dba-1b5661813851",
   "metadata": {},
   "outputs": [],
   "source": [
    "#----#  Intersection of the objects in the different filters.\n",
    "for foc in focus_object:\n",
    "    current_id = []\n",
    "    for j in final_filter[foc]:\n",
    "        current_id.append(j['ID'].data)\n",
    "\n",
    "    int_d = set(current_id[0]).intersection(*current_id) # Ejemplo para SA98: int_d = {'92_248', ... , '92_347'}\n",
    "\n",
    "#----#  Delete the objects that are not in all the filters\n",
    "for tab in final_filter[foc]:\n",
    "    index_of = []\n",
    "    for i in range(len(tab['ID'])):\n",
    "        if tab['ID'][i] not in int_d:\n",
    "            index_of.append(i)\n",
    "    tab.remove_rows(index_of)\n",
    "\n",
    "#----# Delete the void tables.\n",
    "for p in focus_object:\n",
    "    if len(final_filter[p][0]) == 0:\n",
    "        del final_filter[p]\n",
    "\n",
    "for foc in final_filter.keys():\n",
    "    let = len(final_filter[foc])"
   ]
  },
  {
   "cell_type": "markdown",
   "id": "13a08611-22c6-43b7-bc10-049292b8c219",
   "metadata": {},
   "source": [
    "Finally, let's create and save the tables for each object."
   ]
  },
  {
   "cell_type": "code",
   "execution_count": 39,
   "id": "0ce9a077-2b39-459c-b58b-db2330aff69f",
   "metadata": {},
   "outputs": [
    {
     "name": "stdout",
     "output_type": "stream",
     "text": [
      "IC 348\n"
     ]
    },
    {
     "data": {
      "text/html": [
       "<div>\n",
       "<style scoped>\n",
       "    .dataframe tbody tr th:only-of-type {\n",
       "        vertical-align: middle;\n",
       "    }\n",
       "\n",
       "    .dataframe tbody tr th {\n",
       "        vertical-align: top;\n",
       "    }\n",
       "\n",
       "    .dataframe thead th {\n",
       "        text-align: right;\n",
       "    }\n",
       "</style>\n",
       "<table border=\"1\" class=\"dataframe\">\n",
       "  <thead>\n",
       "    <tr style=\"text-align: right;\">\n",
       "      <th></th>\n",
       "      <th>OBJECT_ID</th>\n",
       "      <th>RA</th>\n",
       "      <th>DEC</th>\n",
       "      <th>Plx</th>\n",
       "      <th>e_Plx</th>\n",
       "      <th>1_mag</th>\n",
       "      <th>1_mag_err</th>\n",
       "      <th>DATE-OBS_1_mag</th>\n",
       "      <th>2_mag</th>\n",
       "      <th>2_mag_err</th>\n",
       "      <th>DATE-OBS_2_mag</th>\n",
       "    </tr>\n",
       "  </thead>\n",
       "  <tbody>\n",
       "    <tr>\n",
       "      <th>0</th>\n",
       "      <td>2.16629530412699e+17</td>\n",
       "      <td>56.219711</td>\n",
       "      <td>32.015701</td>\n",
       "      <td>3.4062</td>\n",
       "      <td>0.1702</td>\n",
       "      <td>-3.367618</td>\n",
       "      <td>0.530593</td>\n",
       "      <td>2004-09-19T14:16:16.758</td>\n",
       "      <td>-6.342950</td>\n",
       "      <td>0.271736</td>\n",
       "      <td>2008-03-12T14:30:58.575</td>\n",
       "    </tr>\n",
       "    <tr>\n",
       "      <th>1</th>\n",
       "      <td>2.1663014459149683e+</td>\n",
       "      <td>56.255887</td>\n",
       "      <td>32.083816</td>\n",
       "      <td>3.0209</td>\n",
       "      <td>0.0756</td>\n",
       "      <td>-3.701209</td>\n",
       "      <td>0.391241</td>\n",
       "      <td>2004-09-19T14:16:16.758</td>\n",
       "      <td>-5.716674</td>\n",
       "      <td>0.483623</td>\n",
       "      <td>2008-03-12T14:30:58.575</td>\n",
       "    </tr>\n",
       "    <tr>\n",
       "      <th>2</th>\n",
       "      <td>2.1665351351006003e+</td>\n",
       "      <td>56.318102</td>\n",
       "      <td>32.105531</td>\n",
       "      <td>3.2664</td>\n",
       "      <td>0.1341</td>\n",
       "      <td>-7.308067</td>\n",
       "      <td>0.017400</td>\n",
       "      <td>2004-09-19T14:16:16.758</td>\n",
       "      <td>-6.221121</td>\n",
       "      <td>0.303978</td>\n",
       "      <td>2008-03-12T14:30:58.575</td>\n",
       "    </tr>\n",
       "    <tr>\n",
       "      <th>3</th>\n",
       "      <td>2.1665361658833344e+</td>\n",
       "      <td>56.261586</td>\n",
       "      <td>32.095548</td>\n",
       "      <td>NaN</td>\n",
       "      <td>NaN</td>\n",
       "      <td>-4.279018</td>\n",
       "      <td>0.231349</td>\n",
       "      <td>2004-09-19T14:16:16.758</td>\n",
       "      <td>-7.116772</td>\n",
       "      <td>0.133344</td>\n",
       "      <td>2008-03-12T14:30:58.575</td>\n",
       "    </tr>\n",
       "    <tr>\n",
       "      <th>4</th>\n",
       "      <td>2.166536165879694e+1</td>\n",
       "      <td>56.262097</td>\n",
       "      <td>32.097506</td>\n",
       "      <td>-0.0080</td>\n",
       "      <td>2.1382</td>\n",
       "      <td>-4.567226</td>\n",
       "      <td>0.178291</td>\n",
       "      <td>2004-09-19T14:16:16.758</td>\n",
       "      <td>-7.041328</td>\n",
       "      <td>0.142924</td>\n",
       "      <td>2008-03-12T14:30:58.575</td>\n",
       "    </tr>\n",
       "    <tr>\n",
       "      <th>...</th>\n",
       "      <td>...</td>\n",
       "      <td>...</td>\n",
       "      <td>...</td>\n",
       "      <td>...</td>\n",
       "      <td>...</td>\n",
       "      <td>...</td>\n",
       "      <td>...</td>\n",
       "      <td>...</td>\n",
       "      <td>...</td>\n",
       "      <td>...</td>\n",
       "      <td>...</td>\n",
       "    </tr>\n",
       "    <tr>\n",
       "      <th>222</th>\n",
       "      <td>2.1671937683176742e+</td>\n",
       "      <td>56.044728</td>\n",
       "      <td>32.345229</td>\n",
       "      <td>NaN</td>\n",
       "      <td>NaN</td>\n",
       "      <td>-2.993665</td>\n",
       "      <td>0.747190</td>\n",
       "      <td>2004-09-19T14:16:16.758</td>\n",
       "      <td>-5.323465</td>\n",
       "      <td>0.694596</td>\n",
       "      <td>2008-03-12T14:30:58.575</td>\n",
       "    </tr>\n",
       "    <tr>\n",
       "      <th>223</th>\n",
       "      <td>2.1671937683189414e+</td>\n",
       "      <td>56.044687</td>\n",
       "      <td>32.346602</td>\n",
       "      <td>1.0520</td>\n",
       "      <td>0.5904</td>\n",
       "      <td>-2.508313</td>\n",
       "      <td>1.166191</td>\n",
       "      <td>2004-09-19T14:16:16.758</td>\n",
       "      <td>-5.311475</td>\n",
       "      <td>0.702306</td>\n",
       "      <td>2008-03-12T14:30:58.575</td>\n",
       "    </tr>\n",
       "    <tr>\n",
       "      <th>224</th>\n",
       "      <td>2.1671965600520064e+</td>\n",
       "      <td>56.035558</td>\n",
       "      <td>32.365692</td>\n",
       "      <td>1.7657</td>\n",
       "      <td>1.6530</td>\n",
       "      <td>0.999094</td>\n",
       "      <td>29.400792</td>\n",
       "      <td>2004-09-19T14:16:16.758</td>\n",
       "      <td>-7.002218</td>\n",
       "      <td>0.148159</td>\n",
       "      <td>2008-03-12T14:30:58.575</td>\n",
       "    </tr>\n",
       "    <tr>\n",
       "      <th>225</th>\n",
       "      <td>2.1671969036614144e+</td>\n",
       "      <td>56.036788</td>\n",
       "      <td>32.370990</td>\n",
       "      <td>1.1947</td>\n",
       "      <td>0.5001</td>\n",
       "      <td>-3.859398</td>\n",
       "      <td>0.338712</td>\n",
       "      <td>2004-09-19T14:16:16.758</td>\n",
       "      <td>-7.068356</td>\n",
       "      <td>0.139415</td>\n",
       "      <td>2008-03-12T14:30:58.575</td>\n",
       "    </tr>\n",
       "    <tr>\n",
       "      <th>226</th>\n",
       "      <td>2.1672061807920576e+</td>\n",
       "      <td>56.135493</td>\n",
       "      <td>32.383917</td>\n",
       "      <td>0.8261</td>\n",
       "      <td>0.1567</td>\n",
       "      <td>-3.120180</td>\n",
       "      <td>0.665426</td>\n",
       "      <td>2004-09-19T14:16:16.758</td>\n",
       "      <td>-6.682300</td>\n",
       "      <td>0.198853</td>\n",
       "      <td>2008-03-12T14:30:58.575</td>\n",
       "    </tr>\n",
       "  </tbody>\n",
       "</table>\n",
       "<p>227 rows × 11 columns</p>\n",
       "</div>"
      ],
      "text/plain": [
       "                OBJECT_ID         RA        DEC     Plx   e_Plx     1_mag  \\\n",
       "0    2.16629530412699e+17  56.219711  32.015701  3.4062  0.1702 -3.367618   \n",
       "1    2.1663014459149683e+  56.255887  32.083816  3.0209  0.0756 -3.701209   \n",
       "2    2.1665351351006003e+  56.318102  32.105531  3.2664  0.1341 -7.308067   \n",
       "3    2.1665361658833344e+  56.261586  32.095548     NaN     NaN -4.279018   \n",
       "4    2.166536165879694e+1  56.262097  32.097506 -0.0080  2.1382 -4.567226   \n",
       "..                    ...        ...        ...     ...     ...       ...   \n",
       "222  2.1671937683176742e+  56.044728  32.345229     NaN     NaN -2.993665   \n",
       "223  2.1671937683189414e+  56.044687  32.346602  1.0520  0.5904 -2.508313   \n",
       "224  2.1671965600520064e+  56.035558  32.365692  1.7657  1.6530  0.999094   \n",
       "225  2.1671969036614144e+  56.036788  32.370990  1.1947  0.5001 -3.859398   \n",
       "226  2.1672061807920576e+  56.135493  32.383917  0.8261  0.1567 -3.120180   \n",
       "\n",
       "     1_mag_err           DATE-OBS_1_mag     2_mag  2_mag_err  \\\n",
       "0     0.530593  2004-09-19T14:16:16.758 -6.342950   0.271736   \n",
       "1     0.391241  2004-09-19T14:16:16.758 -5.716674   0.483623   \n",
       "2     0.017400  2004-09-19T14:16:16.758 -6.221121   0.303978   \n",
       "3     0.231349  2004-09-19T14:16:16.758 -7.116772   0.133344   \n",
       "4     0.178291  2004-09-19T14:16:16.758 -7.041328   0.142924   \n",
       "..         ...                      ...       ...        ...   \n",
       "222   0.747190  2004-09-19T14:16:16.758 -5.323465   0.694596   \n",
       "223   1.166191  2004-09-19T14:16:16.758 -5.311475   0.702306   \n",
       "224  29.400792  2004-09-19T14:16:16.758 -7.002218   0.148159   \n",
       "225   0.338712  2004-09-19T14:16:16.758 -7.068356   0.139415   \n",
       "226   0.665426  2004-09-19T14:16:16.758 -6.682300   0.198853   \n",
       "\n",
       "              DATE-OBS_2_mag  \n",
       "0    2008-03-12T14:30:58.575  \n",
       "1    2008-03-12T14:30:58.575  \n",
       "2    2008-03-12T14:30:58.575  \n",
       "3    2008-03-12T14:30:58.575  \n",
       "4    2008-03-12T14:30:58.575  \n",
       "..                       ...  \n",
       "222  2008-03-12T14:30:58.575  \n",
       "223  2008-03-12T14:30:58.575  \n",
       "224  2008-03-12T14:30:58.575  \n",
       "225  2008-03-12T14:30:58.575  \n",
       "226  2008-03-12T14:30:58.575  \n",
       "\n",
       "[227 rows x 11 columns]"
      ]
     },
     "execution_count": 39,
     "metadata": {},
     "output_type": "execute_result"
    }
   ],
   "source": [
    "#----# Create the tables for each main object.\n",
    "for foc in final_filter.keys():\n",
    "    print(foc)\n",
    "    final_obs_table = pd.DataFrame()\n",
    "    final_obs_table['OBJECT_ID'] = final_filter[foc][0]['ID']\n",
    "    final_obs_table['RA'] = final_filter[foc][0]['RA']\n",
    "    final_obs_table['DEC'] = final_filter[foc][0]['DEC']\n",
    "    final_obs_table['Plx'] = final_filter[foc][0]['Plx']\n",
    "    final_obs_table['e_Plx'] = final_filter[foc][0]['e_Plx']\n",
    "    #----# Save the tables as .csv files.\n",
    "    for j in final_filter[foc]:\n",
    "        final_obs_table[j.colnames[6]] = j[j.colnames[6]]\n",
    "        final_obs_table[j.colnames[7]] = j[j.colnames[7]]\n",
    "        final_obs_table[j.colnames[-2] + '_' + j.colnames[6]] = j[j.colnames[-2]]\n",
    "    final_obs_table.to_csv(output_dir+f'/Table_{foc}_r_{r}_ranul_{r_in}_{r_out}.csv')   \n",
    "final_obs_table"
   ]
  },
  {
   "cell_type": "markdown",
   "id": "e553db02-eebc-481f-a696-1081f5e9e2a1",
   "metadata": {},
   "source": [
    "Printing one of the saved .csv (we are going to show the last one saved), you can see that it saves the magnitude, uncertainty of the magnitude and the date of observation of each of the objects for all the channels that you had in the fits. files."
   ]
  },
  {
   "cell_type": "code",
   "execution_count": 40,
   "id": "e9c9c74f-1f90-4a46-b243-cb824625af20",
   "metadata": {},
   "outputs": [
    {
     "data": {
      "text/html": [
       "<div>\n",
       "<style scoped>\n",
       "    .dataframe tbody tr th:only-of-type {\n",
       "        vertical-align: middle;\n",
       "    }\n",
       "\n",
       "    .dataframe tbody tr th {\n",
       "        vertical-align: top;\n",
       "    }\n",
       "\n",
       "    .dataframe thead th {\n",
       "        text-align: right;\n",
       "    }\n",
       "</style>\n",
       "<table border=\"1\" class=\"dataframe\">\n",
       "  <thead>\n",
       "    <tr style=\"text-align: right;\">\n",
       "      <th></th>\n",
       "      <th>OBJECT_ID</th>\n",
       "      <th>RA</th>\n",
       "      <th>DEC</th>\n",
       "      <th>Plx</th>\n",
       "      <th>e_Plx</th>\n",
       "      <th>1_mag</th>\n",
       "      <th>1_mag_err</th>\n",
       "      <th>DATE-OBS_1_mag</th>\n",
       "      <th>2_mag</th>\n",
       "      <th>2_mag_err</th>\n",
       "      <th>DATE-OBS_2_mag</th>\n",
       "    </tr>\n",
       "  </thead>\n",
       "  <tbody>\n",
       "    <tr>\n",
       "      <th>0</th>\n",
       "      <td>2.16629530412699e+17</td>\n",
       "      <td>56.219711</td>\n",
       "      <td>32.015701</td>\n",
       "      <td>3.4062</td>\n",
       "      <td>0.1702</td>\n",
       "      <td>-3.367618</td>\n",
       "      <td>0.530593</td>\n",
       "      <td>2004-09-19T14:16:16.758</td>\n",
       "      <td>-6.342950</td>\n",
       "      <td>0.271736</td>\n",
       "      <td>2008-03-12T14:30:58.575</td>\n",
       "    </tr>\n",
       "    <tr>\n",
       "      <th>1</th>\n",
       "      <td>2.1663014459149683e+</td>\n",
       "      <td>56.255887</td>\n",
       "      <td>32.083816</td>\n",
       "      <td>3.0209</td>\n",
       "      <td>0.0756</td>\n",
       "      <td>-3.701209</td>\n",
       "      <td>0.391241</td>\n",
       "      <td>2004-09-19T14:16:16.758</td>\n",
       "      <td>-5.716674</td>\n",
       "      <td>0.483623</td>\n",
       "      <td>2008-03-12T14:30:58.575</td>\n",
       "    </tr>\n",
       "    <tr>\n",
       "      <th>2</th>\n",
       "      <td>2.1665351351006003e+</td>\n",
       "      <td>56.318102</td>\n",
       "      <td>32.105531</td>\n",
       "      <td>3.2664</td>\n",
       "      <td>0.1341</td>\n",
       "      <td>-7.308067</td>\n",
       "      <td>0.017400</td>\n",
       "      <td>2004-09-19T14:16:16.758</td>\n",
       "      <td>-6.221121</td>\n",
       "      <td>0.303978</td>\n",
       "      <td>2008-03-12T14:30:58.575</td>\n",
       "    </tr>\n",
       "    <tr>\n",
       "      <th>3</th>\n",
       "      <td>2.1665361658833344e+</td>\n",
       "      <td>56.261586</td>\n",
       "      <td>32.095548</td>\n",
       "      <td>NaN</td>\n",
       "      <td>NaN</td>\n",
       "      <td>-4.279018</td>\n",
       "      <td>0.231349</td>\n",
       "      <td>2004-09-19T14:16:16.758</td>\n",
       "      <td>-7.116772</td>\n",
       "      <td>0.133344</td>\n",
       "      <td>2008-03-12T14:30:58.575</td>\n",
       "    </tr>\n",
       "    <tr>\n",
       "      <th>4</th>\n",
       "      <td>2.166536165879694e+1</td>\n",
       "      <td>56.262097</td>\n",
       "      <td>32.097506</td>\n",
       "      <td>-0.0080</td>\n",
       "      <td>2.1382</td>\n",
       "      <td>-4.567226</td>\n",
       "      <td>0.178291</td>\n",
       "      <td>2004-09-19T14:16:16.758</td>\n",
       "      <td>-7.041328</td>\n",
       "      <td>0.142924</td>\n",
       "      <td>2008-03-12T14:30:58.575</td>\n",
       "    </tr>\n",
       "    <tr>\n",
       "      <th>...</th>\n",
       "      <td>...</td>\n",
       "      <td>...</td>\n",
       "      <td>...</td>\n",
       "      <td>...</td>\n",
       "      <td>...</td>\n",
       "      <td>...</td>\n",
       "      <td>...</td>\n",
       "      <td>...</td>\n",
       "      <td>...</td>\n",
       "      <td>...</td>\n",
       "      <td>...</td>\n",
       "    </tr>\n",
       "    <tr>\n",
       "      <th>222</th>\n",
       "      <td>2.1671937683176742e+</td>\n",
       "      <td>56.044728</td>\n",
       "      <td>32.345229</td>\n",
       "      <td>NaN</td>\n",
       "      <td>NaN</td>\n",
       "      <td>-2.993665</td>\n",
       "      <td>0.747190</td>\n",
       "      <td>2004-09-19T14:16:16.758</td>\n",
       "      <td>-5.323465</td>\n",
       "      <td>0.694596</td>\n",
       "      <td>2008-03-12T14:30:58.575</td>\n",
       "    </tr>\n",
       "    <tr>\n",
       "      <th>223</th>\n",
       "      <td>2.1671937683189414e+</td>\n",
       "      <td>56.044687</td>\n",
       "      <td>32.346602</td>\n",
       "      <td>1.0520</td>\n",
       "      <td>0.5904</td>\n",
       "      <td>-2.508313</td>\n",
       "      <td>1.166191</td>\n",
       "      <td>2004-09-19T14:16:16.758</td>\n",
       "      <td>-5.311475</td>\n",
       "      <td>0.702306</td>\n",
       "      <td>2008-03-12T14:30:58.575</td>\n",
       "    </tr>\n",
       "    <tr>\n",
       "      <th>224</th>\n",
       "      <td>2.1671965600520064e+</td>\n",
       "      <td>56.035558</td>\n",
       "      <td>32.365692</td>\n",
       "      <td>1.7657</td>\n",
       "      <td>1.6530</td>\n",
       "      <td>0.999094</td>\n",
       "      <td>29.400792</td>\n",
       "      <td>2004-09-19T14:16:16.758</td>\n",
       "      <td>-7.002218</td>\n",
       "      <td>0.148159</td>\n",
       "      <td>2008-03-12T14:30:58.575</td>\n",
       "    </tr>\n",
       "    <tr>\n",
       "      <th>225</th>\n",
       "      <td>2.1671969036614144e+</td>\n",
       "      <td>56.036788</td>\n",
       "      <td>32.370990</td>\n",
       "      <td>1.1947</td>\n",
       "      <td>0.5001</td>\n",
       "      <td>-3.859398</td>\n",
       "      <td>0.338712</td>\n",
       "      <td>2004-09-19T14:16:16.758</td>\n",
       "      <td>-7.068356</td>\n",
       "      <td>0.139415</td>\n",
       "      <td>2008-03-12T14:30:58.575</td>\n",
       "    </tr>\n",
       "    <tr>\n",
       "      <th>226</th>\n",
       "      <td>2.1672061807920576e+</td>\n",
       "      <td>56.135493</td>\n",
       "      <td>32.383917</td>\n",
       "      <td>0.8261</td>\n",
       "      <td>0.1567</td>\n",
       "      <td>-3.120180</td>\n",
       "      <td>0.665426</td>\n",
       "      <td>2004-09-19T14:16:16.758</td>\n",
       "      <td>-6.682300</td>\n",
       "      <td>0.198853</td>\n",
       "      <td>2008-03-12T14:30:58.575</td>\n",
       "    </tr>\n",
       "  </tbody>\n",
       "</table>\n",
       "<p>227 rows × 11 columns</p>\n",
       "</div>"
      ],
      "text/plain": [
       "                OBJECT_ID         RA        DEC     Plx   e_Plx     1_mag  \\\n",
       "0    2.16629530412699e+17  56.219711  32.015701  3.4062  0.1702 -3.367618   \n",
       "1    2.1663014459149683e+  56.255887  32.083816  3.0209  0.0756 -3.701209   \n",
       "2    2.1665351351006003e+  56.318102  32.105531  3.2664  0.1341 -7.308067   \n",
       "3    2.1665361658833344e+  56.261586  32.095548     NaN     NaN -4.279018   \n",
       "4    2.166536165879694e+1  56.262097  32.097506 -0.0080  2.1382 -4.567226   \n",
       "..                    ...        ...        ...     ...     ...       ...   \n",
       "222  2.1671937683176742e+  56.044728  32.345229     NaN     NaN -2.993665   \n",
       "223  2.1671937683189414e+  56.044687  32.346602  1.0520  0.5904 -2.508313   \n",
       "224  2.1671965600520064e+  56.035558  32.365692  1.7657  1.6530  0.999094   \n",
       "225  2.1671969036614144e+  56.036788  32.370990  1.1947  0.5001 -3.859398   \n",
       "226  2.1672061807920576e+  56.135493  32.383917  0.8261  0.1567 -3.120180   \n",
       "\n",
       "     1_mag_err           DATE-OBS_1_mag     2_mag  2_mag_err  \\\n",
       "0     0.530593  2004-09-19T14:16:16.758 -6.342950   0.271736   \n",
       "1     0.391241  2004-09-19T14:16:16.758 -5.716674   0.483623   \n",
       "2     0.017400  2004-09-19T14:16:16.758 -6.221121   0.303978   \n",
       "3     0.231349  2004-09-19T14:16:16.758 -7.116772   0.133344   \n",
       "4     0.178291  2004-09-19T14:16:16.758 -7.041328   0.142924   \n",
       "..         ...                      ...       ...        ...   \n",
       "222   0.747190  2004-09-19T14:16:16.758 -5.323465   0.694596   \n",
       "223   1.166191  2004-09-19T14:16:16.758 -5.311475   0.702306   \n",
       "224  29.400792  2004-09-19T14:16:16.758 -7.002218   0.148159   \n",
       "225   0.338712  2004-09-19T14:16:16.758 -7.068356   0.139415   \n",
       "226   0.665426  2004-09-19T14:16:16.758 -6.682300   0.198853   \n",
       "\n",
       "              DATE-OBS_2_mag  \n",
       "0    2008-03-12T14:30:58.575  \n",
       "1    2008-03-12T14:30:58.575  \n",
       "2    2008-03-12T14:30:58.575  \n",
       "3    2008-03-12T14:30:58.575  \n",
       "4    2008-03-12T14:30:58.575  \n",
       "..                       ...  \n",
       "222  2008-03-12T14:30:58.575  \n",
       "223  2008-03-12T14:30:58.575  \n",
       "224  2008-03-12T14:30:58.575  \n",
       "225  2008-03-12T14:30:58.575  \n",
       "226  2008-03-12T14:30:58.575  \n",
       "\n",
       "[227 rows x 11 columns]"
      ]
     },
     "execution_count": 40,
     "metadata": {},
     "output_type": "execute_result"
    }
   ],
   "source": [
    "final_obs_table"
   ]
  }
 ],
 "metadata": {
  "kernelspec": {
   "display_name": "Python 3 (ipykernel)",
   "language": "python",
   "name": "python3"
  },
  "language_info": {
   "codemirror_mode": {
    "name": "ipython",
    "version": 3
   },
   "file_extension": ".py",
   "mimetype": "text/x-python",
   "name": "python",
   "nbconvert_exporter": "python",
   "pygments_lexer": "ipython3",
   "version": "3.11.8"
  }
 },
 "nbformat": 4,
 "nbformat_minor": 5
}
