{
 "cells": [
  {
   "cell_type": "markdown",
   "id": "b7f8e62d-bc62-4a89-9625-56064944ae6c",
   "metadata": {},
   "source": [
    "# Third project - Class: Tecnicas observacionales"
   ]
  },
  {
   "cell_type": "markdown",
   "id": "af223685-746e-440c-bb18-1314e427bedc",
   "metadata": {},
   "source": [
    "## 1. Requirements"
   ]
  },
  {
   "cell_type": "markdown",
   "id": "d201adaf-08b9-41f8-8d30-8b5acec54819",
   "metadata": {},
   "source": [
    "Run the terminal command `pip install` using the dependencies document `requirements.txt`, which contains the libraries to be installed for the notebook to work."
   ]
  },
  {
   "cell_type": "code",
   "execution_count": 1,
   "id": "2843a7f1-8a2c-495c-8155-6a2c9b9d2ee7",
   "metadata": {},
   "outputs": [
    {
     "name": "stdout",
     "output_type": "stream",
     "text": [
      "Requirement already satisfied: numpy in /home/juanessao2000/anaconda3/lib/python3.11/site-packages (from -r requirements.txt (line 1)) (1.26.4)\n",
      "Requirement already satisfied: photutils in /home/juanessao2000/anaconda3/lib/python3.11/site-packages (from -r requirements.txt (line 2)) (1.12.0)\n",
      "Requirement already satisfied: astropy in /home/juanessao2000/anaconda3/lib/python3.11/site-packages (from -r requirements.txt (line 3)) (5.3.4)\n",
      "Requirement already satisfied: pyerfa>=2.0 in /home/juanessao2000/anaconda3/lib/python3.11/site-packages (from astropy->-r requirements.txt (line 3)) (2.0.0)\n",
      "Requirement already satisfied: PyYAML>=3.13 in /home/juanessao2000/anaconda3/lib/python3.11/site-packages (from astropy->-r requirements.txt (line 3)) (6.0.1)\n",
      "Requirement already satisfied: packaging>=19.0 in /home/juanessao2000/anaconda3/lib/python3.11/site-packages (from astropy->-r requirements.txt (line 3)) (23.2)\n"
     ]
    }
   ],
   "source": [
    "!pip install -r requirements.txt"
   ]
  },
  {
   "cell_type": "markdown",
   "id": "8ab39481-1907-42a0-8e12-041b98416c16",
   "metadata": {},
   "source": [
    "Also, for downloading the necessary `.fits` files, follow the instructions described in [this pdf](work.pdf)"
   ]
  },
  {
   "cell_type": "markdown",
   "id": "25e37583-cdef-4495-a395-cdf126839b65",
   "metadata": {},
   "source": [
    "## 2. Libraries import"
   ]
  },
  {
   "cell_type": "markdown",
   "id": "ebda28ab-75f4-4868-a983-2ae694bdb812",
   "metadata": {},
   "source": [
    "Import the necessary libraries and functions for further steps"
   ]
  },
  {
   "cell_type": "code",
   "execution_count": 2,
   "id": "e25f6808-881a-43a4-9cf9-8b52a54adbee",
   "metadata": {},
   "outputs": [],
   "source": [
    "import numpy as np\n",
    "\n",
    "import glob\n",
    "\n",
    "from photutils.aperture import CircularAperture\n",
    "from photutils.aperture import CircularAnnulus\n",
    "from photutils.aperture import aperture_photometry\n",
    "from photutils.utils import calc_total_error\n",
    "from photutils.centroids import centroid_sources, centroid_com\n",
    "\n",
    "from scipy.stats import mode\n",
    "\n",
    "from astropy.coordinates import SkyCoord\n",
    "from astropy import units as u\n",
    "from astropy.io import fits\n",
    "from astropy.wcs import WCS\n",
    "from astropy.table import Table\n",
    "from astropy.stats import sigma_clipped_stats\n",
    "from astropy.table.table import QTable\n",
    "\n",
    "import pandas as pd\n",
    "\n",
    "import matplotlib.pyplot as plt"
   ]
  },
  {
   "cell_type": "markdown",
   "id": "22686c5c-60a3-4346-a6bd-e42bfb6fc107",
   "metadata": {},
   "source": [
    "## 3. Paths definition"
   ]
  },
  {
   "cell_type": "markdown",
   "id": "7ef6d0e8-990b-4bb8-aa15-3693891d8b00",
   "metadata": {},
   "source": [
    "Write down the variables with the path to find the `.fits` and `.tsv` files and the variable with the path to save the output `.csv`."
   ]
  },
  {
   "cell_type": "code",
   "execution_count": 3,
   "id": "f79d4e74-fe39-4c11-8d61-b805b25eb3fe",
   "metadata": {},
   "outputs": [],
   "source": [
    "#This directory must contain all the files that correspond to one of the instruments (SPITZER, WISE or MIPS).\n",
    "fits_dir = './Data/WISE/'\n",
    "#This directory must contain all the file corresponding to the GAIA catalog (here is used the catalog GAIA DR2 generated using SAO image ds9).\n",
    "catalog_dir = './Data/Catalogs/'\n",
    "#This directory is where the output .csv is going to be saved.\n",
    "output_dir = './Data/WISE_outputs/'"
   ]
  },
  {
   "cell_type": "markdown",
   "id": "9d1b77f9-a298-4557-b66d-fe25a0c3eb51",
   "metadata": {},
   "source": [
    "## 4. Main code"
   ]
  },
  {
   "cell_type": "markdown",
   "id": "5add0062-43ef-48c3-8a7c-3feee0147bf5",
   "metadata": {},
   "source": [
    "### 4.1 Charge .fits files"
   ]
  },
  {
   "cell_type": "markdown",
   "id": "29eb9d38-30af-4ad5-9e0a-d375c0ca0d7b",
   "metadata": {},
   "source": [
    "Charge the .fits files that you have in your data directory"
   ]
  },
  {
   "cell_type": "code",
   "execution_count": 4,
   "id": "28871440-1795-494a-b74f-e34d1d5f00ef",
   "metadata": {},
   "outputs": [
    {
     "name": "stdout",
     "output_type": "stream",
     "text": [
      "Names charged in the list!\n"
     ]
    }
   ],
   "source": [
    "\n",
    "files_list = glob.glob(fits_dir + '*.fits')\n",
    "names = []\n",
    "for file in files_list:\n",
    "    if (fits_dir in file) and (file.endswith('.fits')):\n",
    "        names.append(file.replace(fits_dir,''))\n",
    "        \n",
    "print(\"Names charged in the list!\")"
   ]
  },
  {
   "cell_type": "markdown",
   "id": "d69028bb-eec4-403c-b265-8df9a418163f",
   "metadata": {},
   "source": [
    "Let's check all our files has been charged."
   ]
  },
  {
   "cell_type": "code",
   "execution_count": 5,
   "id": "2fa7af49-7904-427e-b4eb-df3ab8299255",
   "metadata": {},
   "outputs": [
    {
     "name": "stdout",
     "output_type": "stream",
     "text": [
      "\n",
      " Your directory has 4 .fits files \n",
      "\n",
      "No. 1: 0564p318_ac51-w3-int-3_ra56.14245833_dec32.16283333_asec900.000.fits\n",
      "No. 2: 0564p318_ac51-w1-int-3_ra56.14245833_dec32.16283333_asec900.000.fits\n",
      "No. 3: 0564p318_ac51-w4-int-3_ra56.14245833_dec32.16283333_asec900.000.fits\n",
      "No. 4: 0564p318_ac51-w2-int-3_ra56.14245833_dec32.16283333_asec900.000.fits\n"
     ]
    }
   ],
   "source": [
    "# Printing the name of the .fits files charged.\n",
    "if names != []:\n",
    "    N_files = len(names)\n",
    "    print(f'\\n Your directory has {N_files} .fits files \\n')\n",
    "    for l in range(N_files):\n",
    "        print(f'No. {l+1}: {names[l]}')\n",
    "else: \n",
    "  print('\\n Su carpeta no tiene archivos .fits \\n')"
   ]
  },
  {
   "cell_type": "markdown",
   "id": "bd8bc69c-c734-43e9-81f6-f0f77c550978",
   "metadata": {},
   "source": [
    "### 4.2 Charge the catalog file "
   ]
  },
  {
   "cell_type": "markdown",
   "id": "d97680ca-9dfd-4309-9356-d72d1c3114b8",
   "metadata": {},
   "source": [
    "Charge the file with the catalog generated by SAOimage ds9"
   ]
  },
  {
   "cell_type": "code",
   "execution_count": 6,
   "id": "634b0e2d-020b-4377-8c43-768662b6e5a7",
   "metadata": {},
   "outputs": [
    {
     "data": {
      "text/html": [
       "<div>\n",
       "<style scoped>\n",
       "    .dataframe tbody tr th:only-of-type {\n",
       "        vertical-align: middle;\n",
       "    }\n",
       "\n",
       "    .dataframe tbody tr th {\n",
       "        vertical-align: top;\n",
       "    }\n",
       "\n",
       "    .dataframe thead th {\n",
       "        text-align: right;\n",
       "    }\n",
       "</style>\n",
       "<table border=\"1\" class=\"dataframe\">\n",
       "  <thead>\n",
       "    <tr style=\"text-align: right;\">\n",
       "      <th></th>\n",
       "      <th>_RAJ2000</th>\n",
       "      <th>_DEJ2000</th>\n",
       "      <th>RA_ICRS</th>\n",
       "      <th>e_RA_ICRS</th>\n",
       "      <th>DE_ICRS</th>\n",
       "      <th>e_DE_ICRS</th>\n",
       "      <th>Source</th>\n",
       "      <th>Plx</th>\n",
       "      <th>e_Plx</th>\n",
       "      <th>pmRA</th>\n",
       "      <th>...</th>\n",
       "      <th>RPmag</th>\n",
       "      <th>e_RPmag</th>\n",
       "      <th>BP-RP</th>\n",
       "      <th>RV</th>\n",
       "      <th>e_RV</th>\n",
       "      <th>Teff</th>\n",
       "      <th>AG</th>\n",
       "      <th>E(BP-RP)</th>\n",
       "      <th>Rad</th>\n",
       "      <th>Lum</th>\n",
       "    </tr>\n",
       "  </thead>\n",
       "  <tbody>\n",
       "    <tr>\n",
       "      <th>0</th>\n",
       "      <td>56.140769</td>\n",
       "      <td>31.975080</td>\n",
       "      <td>56.140796</td>\n",
       "      <td>0.3242</td>\n",
       "      <td>31.975046</td>\n",
       "      <td>0.1349</td>\n",
       "      <td>216627812425858432</td>\n",
       "      <td>2.8710</td>\n",
       "      <td>0.3193</td>\n",
       "      <td>5.223</td>\n",
       "      <td>...</td>\n",
       "      <td>16.3286</td>\n",
       "      <td>0.0644</td>\n",
       "      <td>3.6859</td>\n",
       "      <td>NaN</td>\n",
       "      <td>NaN</td>\n",
       "      <td>NaN</td>\n",
       "      <td>NaN</td>\n",
       "      <td>NaN</td>\n",
       "      <td>NaN</td>\n",
       "      <td>NaN</td>\n",
       "    </tr>\n",
       "    <tr>\n",
       "      <th>1</th>\n",
       "      <td>56.213663</td>\n",
       "      <td>31.986909</td>\n",
       "      <td>56.213677</td>\n",
       "      <td>0.9994</td>\n",
       "      <td>31.986910</td>\n",
       "      <td>0.4143</td>\n",
       "      <td>216629113800124544</td>\n",
       "      <td>-0.9963</td>\n",
       "      <td>0.9072</td>\n",
       "      <td>2.636</td>\n",
       "      <td>...</td>\n",
       "      <td>18.6819</td>\n",
       "      <td>0.0578</td>\n",
       "      <td>2.1048</td>\n",
       "      <td>NaN</td>\n",
       "      <td>NaN</td>\n",
       "      <td>NaN</td>\n",
       "      <td>NaN</td>\n",
       "      <td>NaN</td>\n",
       "      <td>NaN</td>\n",
       "      <td>NaN</td>\n",
       "    </tr>\n",
       "    <tr>\n",
       "      <th>2</th>\n",
       "      <td>56.219711</td>\n",
       "      <td>32.015701</td>\n",
       "      <td>56.219736</td>\n",
       "      <td>0.1829</td>\n",
       "      <td>32.015668</td>\n",
       "      <td>0.0787</td>\n",
       "      <td>216629530412699008</td>\n",
       "      <td>3.4062</td>\n",
       "      <td>0.1702</td>\n",
       "      <td>5.053</td>\n",
       "      <td>...</td>\n",
       "      <td>14.9032</td>\n",
       "      <td>0.0045</td>\n",
       "      <td>3.6261</td>\n",
       "      <td>NaN</td>\n",
       "      <td>NaN</td>\n",
       "      <td>3496.43</td>\n",
       "      <td>2.1027</td>\n",
       "      <td>1.2005</td>\n",
       "      <td>0.58</td>\n",
       "      <td>0.046</td>\n",
       "    </tr>\n",
       "    <tr>\n",
       "      <th>3</th>\n",
       "      <td>56.254507</td>\n",
       "      <td>32.040566</td>\n",
       "      <td>56.254532</td>\n",
       "      <td>0.3843</td>\n",
       "      <td>32.040534</td>\n",
       "      <td>0.1582</td>\n",
       "      <td>216629732274649856</td>\n",
       "      <td>2.7968</td>\n",
       "      <td>0.3897</td>\n",
       "      <td>4.751</td>\n",
       "      <td>...</td>\n",
       "      <td>16.8323</td>\n",
       "      <td>0.0080</td>\n",
       "      <td>3.7482</td>\n",
       "      <td>NaN</td>\n",
       "      <td>NaN</td>\n",
       "      <td>NaN</td>\n",
       "      <td>NaN</td>\n",
       "      <td>NaN</td>\n",
       "      <td>NaN</td>\n",
       "      <td>NaN</td>\n",
       "    </tr>\n",
       "    <tr>\n",
       "      <th>4</th>\n",
       "      <td>56.267739</td>\n",
       "      <td>32.051545</td>\n",
       "      <td>56.267756</td>\n",
       "      <td>0.2295</td>\n",
       "      <td>32.051515</td>\n",
       "      <td>0.1061</td>\n",
       "      <td>216629874010076544</td>\n",
       "      <td>2.8970</td>\n",
       "      <td>0.2724</td>\n",
       "      <td>3.448</td>\n",
       "      <td>...</td>\n",
       "      <td>16.3039</td>\n",
       "      <td>0.0051</td>\n",
       "      <td>3.5550</td>\n",
       "      <td>NaN</td>\n",
       "      <td>NaN</td>\n",
       "      <td>NaN</td>\n",
       "      <td>NaN</td>\n",
       "      <td>NaN</td>\n",
       "      <td>NaN</td>\n",
       "      <td>NaN</td>\n",
       "    </tr>\n",
       "  </tbody>\n",
       "</table>\n",
       "<p>5 rows × 34 columns</p>\n",
       "</div>"
      ],
      "text/plain": [
       "    _RAJ2000   _DEJ2000    RA_ICRS  e_RA_ICRS    DE_ICRS  e_DE_ICRS  \\\n",
       "0  56.140769  31.975080  56.140796     0.3242  31.975046     0.1349   \n",
       "1  56.213663  31.986909  56.213677     0.9994  31.986910     0.4143   \n",
       "2  56.219711  32.015701  56.219736     0.1829  32.015668     0.0787   \n",
       "3  56.254507  32.040566  56.254532     0.3843  32.040534     0.1582   \n",
       "4  56.267739  32.051545  56.267756     0.2295  32.051515     0.1061   \n",
       "\n",
       "               Source     Plx   e_Plx   pmRA  ...    RPmag  e_RPmag   BP-RP  \\\n",
       "0  216627812425858432  2.8710  0.3193  5.223  ...  16.3286   0.0644  3.6859   \n",
       "1  216629113800124544 -0.9963  0.9072  2.636  ...  18.6819   0.0578  2.1048   \n",
       "2  216629530412699008  3.4062  0.1702  5.053  ...  14.9032   0.0045  3.6261   \n",
       "3  216629732274649856  2.7968  0.3897  4.751  ...  16.8323   0.0080  3.7482   \n",
       "4  216629874010076544  2.8970  0.2724  3.448  ...  16.3039   0.0051  3.5550   \n",
       "\n",
       "   RV  e_RV     Teff      AG  E(BP-RP)   Rad    Lum  \n",
       "0 NaN   NaN      NaN     NaN       NaN   NaN    NaN  \n",
       "1 NaN   NaN      NaN     NaN       NaN   NaN    NaN  \n",
       "2 NaN   NaN  3496.43  2.1027    1.2005  0.58  0.046  \n",
       "3 NaN   NaN      NaN     NaN       NaN   NaN    NaN  \n",
       "4 NaN   NaN      NaN     NaN       NaN   NaN    NaN  \n",
       "\n",
       "[5 rows x 34 columns]"
      ]
     },
     "execution_count": 6,
     "metadata": {},
     "output_type": "execute_result"
    }
   ],
   "source": [
    "objects = pd.read_csv(catalog_dir+\"ds9-ch2.tsv\", sep='\\t')\n",
    "objects.head(5)"
   ]
  },
  {
   "cell_type": "markdown",
   "id": "e6acbb6d-9898-4fc5-b566-a90f655b8567",
   "metadata": {},
   "source": [
    "Here we are interested specifically in the Right ascension, the Declination and the Source ID for each star. Let's extract them."
   ]
  },
  {
   "cell_type": "code",
   "execution_count": 7,
   "id": "98aaf9d7-13fb-4f03-a79e-7010f886d9f2",
   "metadata": {},
   "outputs": [],
   "source": [
    "ra = objects[\"_RAJ2000\"]\n",
    "dec = objects[\"_DEJ2000\"]\n",
    "id_code = objects[\"Source\"]\n",
    "Plx = objects[\"Plx\"]\n",
    "e_Plx = objects[\"e_Plx\"]"
   ]
  },
  {
   "cell_type": "markdown",
   "id": "9f5a3f4a-fa79-4d6d-82b6-97a1d76be1ff",
   "metadata": {},
   "source": [
    "This values are in hhmmss and ggmmss, then we will convert them to degrees."
   ]
  },
  {
   "cell_type": "code",
   "execution_count": 8,
   "id": "e86e781b-200a-4906-8714-322514549414",
   "metadata": {},
   "outputs": [],
   "source": [
    "decimal_catalog = SkyCoord(ra, dec, unit=(u.degree))\n",
    "gaia_catalog = {\"_RAJ2000\": decimal_catalog.ra.deg,\n",
    "           \"_DEJ2000\": decimal_catalog.dec.deg,\n",
    "           \"Source\": id_code,\n",
    "           \"Plx\": Plx,\n",
    "           \"e_Plx\": e_Plx}\n",
    "gaia_catalog = pd.DataFrame(gaia_catalog)"
   ]
  },
  {
   "cell_type": "code",
   "execution_count": 9,
   "id": "da56c460-efdc-495a-a8e2-f86220f5a240",
   "metadata": {},
   "outputs": [
    {
     "data": {
      "text/html": [
       "<div>\n",
       "<style scoped>\n",
       "    .dataframe tbody tr th:only-of-type {\n",
       "        vertical-align: middle;\n",
       "    }\n",
       "\n",
       "    .dataframe tbody tr th {\n",
       "        vertical-align: top;\n",
       "    }\n",
       "\n",
       "    .dataframe thead th {\n",
       "        text-align: right;\n",
       "    }\n",
       "</style>\n",
       "<table border=\"1\" class=\"dataframe\">\n",
       "  <thead>\n",
       "    <tr style=\"text-align: right;\">\n",
       "      <th></th>\n",
       "      <th>_RAJ2000</th>\n",
       "      <th>_DEJ2000</th>\n",
       "      <th>Source</th>\n",
       "      <th>Plx</th>\n",
       "      <th>e_Plx</th>\n",
       "    </tr>\n",
       "  </thead>\n",
       "  <tbody>\n",
       "    <tr>\n",
       "      <th>0</th>\n",
       "      <td>56.140769</td>\n",
       "      <td>31.975080</td>\n",
       "      <td>216627812425858432</td>\n",
       "      <td>2.8710</td>\n",
       "      <td>0.3193</td>\n",
       "    </tr>\n",
       "    <tr>\n",
       "      <th>1</th>\n",
       "      <td>56.213663</td>\n",
       "      <td>31.986909</td>\n",
       "      <td>216629113800124544</td>\n",
       "      <td>-0.9963</td>\n",
       "      <td>0.9072</td>\n",
       "    </tr>\n",
       "    <tr>\n",
       "      <th>2</th>\n",
       "      <td>56.219711</td>\n",
       "      <td>32.015701</td>\n",
       "      <td>216629530412699008</td>\n",
       "      <td>3.4062</td>\n",
       "      <td>0.1702</td>\n",
       "    </tr>\n",
       "    <tr>\n",
       "      <th>3</th>\n",
       "      <td>56.254507</td>\n",
       "      <td>32.040566</td>\n",
       "      <td>216629732274649856</td>\n",
       "      <td>2.7968</td>\n",
       "      <td>0.3897</td>\n",
       "    </tr>\n",
       "    <tr>\n",
       "      <th>4</th>\n",
       "      <td>56.267739</td>\n",
       "      <td>32.051545</td>\n",
       "      <td>216629874010076544</td>\n",
       "      <td>2.8970</td>\n",
       "      <td>0.2724</td>\n",
       "    </tr>\n",
       "  </tbody>\n",
       "</table>\n",
       "</div>"
      ],
      "text/plain": [
       "    _RAJ2000   _DEJ2000              Source     Plx   e_Plx\n",
       "0  56.140769  31.975080  216627812425858432  2.8710  0.3193\n",
       "1  56.213663  31.986909  216629113800124544 -0.9963  0.9072\n",
       "2  56.219711  32.015701  216629530412699008  3.4062  0.1702\n",
       "3  56.254507  32.040566  216629732274649856  2.7968  0.3897\n",
       "4  56.267739  32.051545  216629874010076544  2.8970  0.2724"
      ]
     },
     "execution_count": 9,
     "metadata": {},
     "output_type": "execute_result"
    }
   ],
   "source": [
    "gaia_catalog.head(5)"
   ]
  },
  {
   "cell_type": "markdown",
   "id": "2f39bb32-0bce-47af-a330-7dfc0748b450",
   "metadata": {},
   "source": [
    "### 4.3 .FITS processing"
   ]
  },
  {
   "cell_type": "markdown",
   "id": "b614f535-5597-44a8-a76e-6186a5429f2c",
   "metadata": {},
   "source": [
    "Let's do some tests with just one of the `.fits` files.\n",
    "\n",
    "---\n",
    "\n",
    "First of all let's define a function that detects whether or not an object of the catalog is inside the image."
   ]
  },
  {
   "cell_type": "code",
   "execution_count": 10,
   "id": "84d54647-5032-41ee-9125-57610b9839ef",
   "metadata": {},
   "outputs": [],
   "source": [
    "def is_in_pic(w, image, ra, dec):\n",
    "        \"\"\"\n",
    "        Function that selects only the objects from the catalog that are inside the image. \n",
    "        \"\"\"\n",
    "        ra_max, dec_max = w.array_index_to_world_values(0,0)\n",
    "        ra_min, dec_min = w.array_index_to_world_values(image.shape[0], image.shape[1])\n",
    "        if ra_min > ra_max:\n",
    "            ra_min = w.array_index_to_world_values(0,0)[0]\n",
    "            ra_max = w.array_index_to_world_values(image.shape[0], image.shape[1])[0]\n",
    "        if dec_min > dec_max:\n",
    "            dec_min = w.array_index_to_world_values(0,0)[1]\n",
    "            dec_max = w.array_index_to_world_values(image.shape[0], image.shape[1])[1]\n",
    "        return (ra < ra_max) & (ra > ra_min) & (dec < dec_max) & (dec >   dec_min)"
   ]
  },
  {
   "cell_type": "markdown",
   "id": "eea719f1-8e7f-40e6-afc8-c5d87e8ae6fc",
   "metadata": {},
   "source": [
    "Let's open the `.fits` file"
   ]
  },
  {
   "cell_type": "code",
   "execution_count": 11,
   "id": "fa84e9da-ff56-4a2c-8669-01a81180bc1f",
   "metadata": {},
   "outputs": [
    {
     "name": "stdout",
     "output_type": "stream",
     "text": [
      "\n",
      "path to the file: ./Data/WISE/0564p318_ac51-w3-int-3_ra56.14245833_dec32.16283333_asec900.000.fits,\n",
      "\n",
      "file_name: 0564p318_ac51-w3-int-3_ra56.14245833_dec32.16283333_asec900.000.fits\n",
      "\n"
     ]
    }
   ],
   "source": [
    "k = 0\n",
    "fits_path = files_list[k]\n",
    "fits_name = names[k]\n",
    "print(f\"\"\"\n",
    "path to the file: {fits_path},\n",
    "\n",
    "file_name: {fits_name}\n",
    "\"\"\")"
   ]
  },
  {
   "cell_type": "markdown",
   "id": "eb9c7da8-d44a-4342-9a2f-bb250474af81",
   "metadata": {},
   "source": [
    "For extracting the data necessay for future manipulation, you may print the header to know what of each of the header attributes you need."
   ]
  },
  {
   "cell_type": "code",
   "execution_count": 12,
   "id": "16065d5b-3a89-49bc-a53d-28dcb96e20ea",
   "metadata": {},
   "outputs": [
    {
     "data": {
      "text/plain": [
       "SIMPLE  =                    T / Created with PDL (http://pdl.perl.org)         \n",
       "BITPIX  =                  -32 / number of bits per data pixel                  \n",
       "NAXIS   =                    2 / number of data axes                            \n",
       "NAXIS1  =                  655 / length of data axis 1                          \n",
       "NAXIS2  =                  656 / length of data axis 2                          \n",
       "BUNIT   = 'DN      '           / image pixel units                              \n",
       "EXTEND  =                    T / FITS dataset may contain extensions            \n",
       "COMMENT   FITS (Flexible Image Transport System) format is defined in 'Astronomy\n",
       "COMMENT   and Astrophysics', volume 376, page 359; bibcode: 2001A&A...376..359H \n",
       "CRVAL1  =            56.470865 / RA at CRPIX1,CRPIX2, J2000.0 (deg)             \n",
       "CRVAL2  =            31.803333 / Dec at CRPIX1,CRPIX2, J2000.0 (deg)            \n",
       "EQUINOX =               2000.0 / Equinox of WCS, (year)                         \n",
       "CTYPE1  = 'RA---SIN'           / Projection type for axis 1                     \n",
       "CTYPE2  = 'DEC--SIN'           / Projection type for axis 2                     \n",
       "CRPIX1  = -4.000000000000000E+02 / Axis 1 reference pixel at CRVAL1,CRVAL2      \n",
       "CRPIX2  = -6.140000000000000E+02 / Axis 2 reference pixel at CRVAL1,CRVAL2      \n",
       "CDELT1  =  -0.0003819444391411 / Axis 1 scale at CRPIX1,CRPIX2 (deg/pix)        \n",
       "CDELT2  =   0.0003819444391411 / Axis 2 scale at CRPIX1,CRPIX2 (deg/pix)        \n",
       "CROTA2  =             0.000000 / Image twist: +axis2 W of N, J2000.0 (deg)      \n",
       "HISTORY AWAIC: A WISE Astronomical Image Coadder; Vsn 5.1                       \n",
       "BITMASK =            413662255 / Fatal bitstring mask template                  \n",
       "WRELEASE= 'release-v6.0'       / WSDS s/w release tag                           \n",
       "FILETYPE= 'intensity image'    / product description                            \n",
       "ORIGIN  = 'WISE Science Data Center, IPAC, Caltech' / origin of image data      \n",
       "FCREATE = '2013-07-09T23:10:13.000Z' / WSDC file creation date/time (UTC)       \n",
       "DATEOBS1= '2010-02-13T05:50:44.682' / obs. date/time of earliest frame (UTC)    \n",
       "DATEOBS2= '2010-02-16T02:08:04.489' / obs. date/time of latest frame (UTC)      \n",
       "MIDOBS  = '2010-02-14T15:12:00.592' / obs. date/time of middle frame (UTC)      \n",
       "TELESCOP= 'WISE    '           / telescope used to acquire data                 \n",
       "BAND    =                    3 / wavelength band number                         \n",
       "WAVELEN =               12.082 / [microns] effective wavelength of band         \n",
       "COADDID = '0564p318_ac51'      / atlas-image identifier                         \n",
       "NUMFRMS =                  122 / final number of frames touching footprint      \n",
       "MOONREJ =                    0 / number of frames rejected due to moon-glow     \n",
       "MOONINP =                    0 / initial number of frames with suspect moon-glow\n",
       "MAGZP   =                  18. / [mag] relative photometric zero point          \n",
       "MAGZPUNC=                0.012 / [mag] 1-sigma uncertainty in zero point        \n",
       "SIZEX   =             1.564444 / [deg] linear dimension along axis 1            \n",
       "SIZEY   =             1.564444 / [deg] linear dimension along axis 2            \n",
       "PXSCAL1 =                1.375 / [asec/pix] scale at CRPIX1,CRPIX2 for axis1    \n",
       "PXSCAL2 =                1.375 / [asec/pix] scale at CRPIX1,CRPIX2 for axis2    \n",
       "MEDINT  =     756.108642578125 / [DN] median of intensity pixels                \n",
       "MEDCOV  =        12.0849609375 / [pixels] median depth-of-coverage              \n",
       "MINCOV  =   0.0291576385498047 / [pixels] minimum depth-of-coverage             \n",
       "MAXCOV  =        15.3505859375 / [pixels] maximum depth-of-coverage             \n",
       "LOWCOVPC=  0.00103762741125378 / [%] area of footprint with depth <= 4 pixels   \n",
       "LOWCOPC =  0.00140139334278528 / [%] area of footprint with depth <= 6 pixels   \n",
       "NOMCOVPC=  0.00178304940209702 / [%] area of footprint with depth <= 8 pixels   \n",
       "PCTMINC =                    0 / [%] area of internal outlier tile <= 4 pix deep\n",
       "ROBSIG  =     2.70134122176539 / [DN] robust spatial sigma at MEDCOV +/- 0.25   \n",
       "PIXCHIS1=     5.55700603646231 / ratio ROBSIG/(median unc) at MEDCOV +/- 0.25   \n",
       "PIXCHIS2=     5.55317121422887 / ratio ROBSIG/(modal unc) at MEDCOV +/- 0.25    \n",
       "MEDNMSK =               4809.5 / median number of pixels masked per frame       \n",
       "RANDSEED=                 -999 / random seed for outlier step [-999=>not used]  \n",
       "FRC8P8ET=                    1 / fraction of NUMFRMS with exptime=8.8 sec       \n",
       "FRC4P4ET=                    0 / fraction of NUMFRMS with exptime=4.4 sec       \n",
       "FRC2P2ET=                    0 / fraction of NUMFRMS with exptime=2.2 sec       \n",
       "FRC1P1ET=                    0 / fraction of NUMFRMS with exptime=1.1 sec       \n",
       "ELON    =     61.3614556925244 / [deg] Ecliptic longitude at image center       \n",
       "ELAT    =     11.6371432504437 / [deg] Ecliptic latitude at image center        \n",
       "GLON    =     160.957819859544 / [deg] Galactic longitude at image center       \n",
       "GLAT    =    -17.8983478802298 / [deg] Galactic latitude at image center        \n",
       "MOONMASK= '/wise/fops/ref/coadd/wise-w3-moonmask.fits' / Moon mask              \n",
       "-       = '0564p318_ac51-w3-int-3.fits' / atlas image (coadd) filename          \n",
       "FLXWTNUM=                  778 / number of sources used to compute centroids    \n",
       "FLXWTDX =            -0.453452 / [arcsec] mdex - flux-weighted centroid along X \n",
       "FLXWTUDX=            0.2572663 / [arcsec] 1-sigma uncertainty in flxwtdx        \n",
       "FLXWTSDX=             1.762578 / signal-to-noise ratio in flxwtdx               \n",
       "FLXWTDY =           -0.3438388 / [arcsec] mdex - flux-weighted centroid along Y \n",
       "FLXWTUDY=            0.2489857 / [arcsec] 1-sigma uncertainty in flxwtdy        \n",
       "FLXWTSDY=            1.3809577 / signal-to-noise ratio in flxwtdy               "
      ]
     },
     "execution_count": 12,
     "metadata": {},
     "output_type": "execute_result"
    }
   ],
   "source": [
    "with fits.open(fits_path) as FitsData:\n",
    "    w = WCS(FitsData[0].header)\n",
    "    image = FitsData[0].data\n",
    "    fits_header = FitsData[0].header\n",
    "fits_header"
   ]
  },
  {
   "cell_type": "markdown",
   "id": "2bba9b6b-2e7b-45fd-98a5-47d98150986a",
   "metadata": {},
   "source": [
    "Depending the band of WISE the code has charged, the exposure time will have specific values that are described in the [WISE All-Sky Data Release](https://wise2.ipac.caltech.edu/docs/release/allsky/). The 3rd band has a different behaviour that is described in [\n",
    "VII. 3-Band Cryo Data Release](https://wise2.ipac.caltech.edu/docs/release/allsky/expsup/sec7_3e.html).\n",
    "\n",
    "On the other hand, the electronic gain corresponding to each of the bands of WISE is mentioned in the [WISE Data Processing](https://wise2.ipac.caltech.edu/docs/release/allsky/expsup/sec4_4a.html#gainrn)."
   ]
  },
  {
   "cell_type": "code",
   "execution_count": 13,
   "id": "96124ba3-1f93-4827-8bbc-c9d2f976b20c",
   "metadata": {},
   "outputs": [],
   "source": [
    "ifilter = fits_header['BAND']\n",
    "if ifilter == 1:\n",
    "    epadu = 3.20\n",
    "    itime  = 7.7 #sec\n",
    "if ifilter == 2:\n",
    "    epadu = 3.83\n",
    "    itime  = 7.7 #sec\n",
    "if ifilter == 3:\n",
    "    epadu = 6.83\n",
    "    itime = 8.8*fits_header['FRC8P8ET'] \\\n",
    "    + 4.4*fits_header['FRC4P4ET'] \\\n",
    "    + 2.2*fits_header['FRC2P2ET'] \\\n",
    "    + 1.1**fits_header['FRC1P1ET'] #sec\n",
    "if ifilter == 4:\n",
    "    epadu = 24.50\n",
    "    itime  = 8.8 #sec\n",
    "DateObs = fits_header['MIDOBS'] # MID VALUE OF the interval of dates of observation\n",
    "zmag = fits_header['MAGZP']\n"
   ]
  },
  {
   "cell_type": "markdown",
   "id": "ac3c6e5c-a504-4005-ba48-5d084a5ba620",
   "metadata": {},
   "source": [
    "Writing a txt file that contains the information of the objects that are contained in the picture."
   ]
  },
  {
   "cell_type": "code",
   "execution_count": 14,
   "id": "58aaba8f-e839-4f47-a1e9-5f905527f9fb",
   "metadata": {},
   "outputs": [
    {
     "name": "stdout",
     "output_type": "stream",
     "text": [
      "\n",
      " Se han encontrado 471 objetos del catálogo en el archivo .fits \n",
      "\n"
     ]
    }
   ],
   "source": [
    "with open(output_dir+f\"Objectlist_{fits_name}.out\", \"w\") as NewListO:\n",
    "    object_counter = 0 # object counter for the objects that are inside the image.\n",
    "    for index, row in gaia_catalog.iterrows():\n",
    "        condition = is_in_pic(w, image, row[\"_RAJ2000\"], row[\"_DEJ2000\"])\n",
    "        if condition:\n",
    "            object_counter +=1\n",
    "            X, Y = SkyCoord(row[\"_RAJ2000\"], row[\"_DEJ2000\"], frame=\"icrs\", unit=\"deg\").to_pixel(w)\n",
    "            NewListO.write(f\"{row['_RAJ2000']}    {row['_DEJ2000']}    {row['Source']}   {X}   {Y} {row['Plx']} {row['e_Plx']}  {condition}\\n\")\n",
    "print(f'\\n Se han encontrado {object_counter} objetos del catálogo en el archivo .fits \\n')\n",
    "if object_counter == 0:\n",
    "    raise ValueError(\"Not objects found\")"
   ]
  },
  {
   "cell_type": "markdown",
   "id": "543e22d8-c518-416a-869d-cb8439f11c8e",
   "metadata": {},
   "source": [
    "Save the coordinates from the objects of the catalog that are in the image."
   ]
  },
  {
   "cell_type": "code",
   "execution_count": 15,
   "id": "e0e01a8e-dea9-4ebe-8b98-7b530472a453",
   "metadata": {},
   "outputs": [],
   "source": [
    "with open(output_dir+f\"Objectlist_{fits_name}.out\", \"r\") as Obj:\n",
    "    ListObj = Obj.readlines()\n",
    "\n",
    "Final_LO = []\n",
    "for obj in ListObj:\n",
    "    Final_LO.append(obj.split()[:-1])\n",
    "    RA, DEC, ID, x, y, Plx, e_Plx = zip(*Final_LO) \n",
    "    Final_List = np.array(list(zip(RA,DEC,x,y,Plx,e_Plx)), dtype=float)\n",
    "    ID = np.array(ID,dtype='U20')"
   ]
  },
  {
   "cell_type": "markdown",
   "id": "b814e5b9-99a1-403a-a67b-cb35a3acd97c",
   "metadata": {},
   "source": [
    "Drop the objects that are not in the fits files (just in case the is_in_pic function failed numerically)"
   ]
  },
  {
   "cell_type": "code",
   "execution_count": 16,
   "id": "e2097561-c616-4916-ad3d-ddd70f2d14fb",
   "metadata": {},
   "outputs": [],
   "source": [
    "mm = [ 0 < i[2] and i[2] < (image.shape[0] - 1) for i in Final_List] # List of [Booleans] (x) where the positions are inside the image.\n",
    "ID = ID[mm]\n",
    "Final_List = Final_List[mm]\n",
    "\n",
    "nn = [ 0 < i[3] and i[3] < (image.shape[1] - 1) for i in Final_List] # List of [Booleans] (y) where the positions are inside the image.\n",
    "ID = ID[nn]\n",
    "Final_List = Final_List[nn]\n",
    "\n",
    "# IDs repetidos se categorizan \n",
    "u, c = np.unique(ID, return_counts=True)\n",
    "dup = u[c > 1]\n",
    "for j in dup:\n",
    "    m = 0\n",
    "    for i in range(len(ID)):\n",
    "        if ID[i] == j:\n",
    "            m += 0.1\n",
    "            ID[i] = ID[i] + str(m)"
   ]
  },
  {
   "cell_type": "markdown",
   "id": "a2683b00-250e-4998-9449-b5e16ab97f62",
   "metadata": {},
   "source": [
    "Let's print a preview of the new reduced catalog"
   ]
  },
  {
   "cell_type": "code",
   "execution_count": 17,
   "id": "1cfbfc86-ef12-4a98-bb28-000da9ccccd0",
   "metadata": {},
   "outputs": [
    {
     "name": "stdout",
     "output_type": "stream",
     "text": [
      "\n",
      "Su catalogo reducido es (filas 468):\n",
      " \n",
      "----RA---- ---DEC--- -----x-----  -----y----- -----Plx------- -----e_Plx------- -----ID-------\n",
      "\n",
      "[56.254507 32.040566 79.153058 6.585460 2.796800 0.389700] 2.1662973227464986e+\n",
      "    ...       ...         ...          ...         ...        \n",
      "\n",
      "[56.073689 32.275824 478.176950 623.652134 nan nan] 2.167181398824124e+1\n",
      "---------- --------- ------------  ----------- -------------\n",
      "\n"
     ]
    }
   ],
   "source": [
    "np.set_printoptions(suppress=True, formatter={'float_kind':'{:f}'    .format})\n",
    "print(f\"\\nSu catalogo reducido es (filas {len(Final_List)}):\\n \")\n",
    "print(\"----RA---- ---DEC--- -----x-----  -----y----- -----Plx------- -----e_Plx------- -----ID-------\\n\")\n",
    "print(Final_List[0],ID[0])\n",
    "print(\"    ...       ...         ...          ...         ...        \\n\")\n",
    "print(Final_List[len(Final_List)-1],ID[len(Final_List)-1])\n",
    "print(\"---------- --------- ------------  ----------- -------------\\n\")"
   ]
  },
  {
   "cell_type": "markdown",
   "id": "98fb0afd-e21d-47bc-9fce-39b7603cbf6a",
   "metadata": {},
   "source": [
    "For the next step, we will calculate the pixel position of the centroid of the stars in the image. They are calculated using the [centroid_com function](https://photutils.readthedocs.io/en/stable/api/photutils.centroids.centroid_com.html), which is defined as the \"center of mass\"."
   ]
  },
  {
   "cell_type": "code",
   "execution_count": 18,
   "id": "fc121a5a-9a69-44d9-8ec9-fdd31409f56a",
   "metadata": {},
   "outputs": [],
   "source": [
    "# Se extraen los valores X y Y\n",
    "center_box_size = 7 #boz size for the calculation of the centroid\n",
    "\n",
    "_, _, x_init, y_init, _, _ = zip(*Final_List)\n",
    "\n",
    "x, y = centroid_sources(image, x_init, y_init, box_size = center_box_size, centroid_func=centroid_com)\n",
    "X, Y = np.array(x), np.array(y)\n",
    "NewIDS = np.array(ID)\n",
    "\n",
    "#Centroids with NaN or inf values are eliminated\n",
    "is_nan = ~np.isnan(X)\n",
    "x, y = X[is_nan],Y[is_nan]      \n",
    "Final_List2 = Final_List[is_nan] \n",
    "NewIDS = NewIDS[is_nan]\n",
    "\n",
    "#Resultant centroids\n",
    "starloc = list(zip(x,y))"
   ]
  },
  {
   "cell_type": "markdown",
   "id": "58108a36-c705-432a-81f1-e2f1757fd8c6",
   "metadata": {},
   "source": [
    "### 4.4 Photometry"
   ]
  },
  {
   "attachments": {
    "5996f457-6642-41ed-a994-a3714c9dbb8e.png": {
     "image/png": "[encoded data removed]"
    }
   },
   "cell_type": "markdown",
   "id": "3510a6c9-9de2-4a9d-b10e-2e1306570b2f",
   "metadata": {},
   "source": [
    "We are interested in applying for the photometry both Circular aperture (for a zone encapsulating the centroid of the star) and Annulus aperture (for the zone surrounding the star, i.e., the bakcground).\n",
    "\n",
    "![image.png](attachment:5996f457-6642-41ed-a994-a3714c9dbb8e.png)\n",
    "\n",
    "Let's define the photometric parameters (aperture, sky ring internal radius, sky ring external radius) for each star centroid."
   ]
  },
  {
   "cell_type": "code",
   "execution_count": 19,
   "id": "320ed817-600c-4de8-83d6-61b8dd2ba4e7",
   "metadata": {},
   "outputs": [],
   "source": [
    "r = 9 # Aperture (px)\n",
    "r_in = 9 # Sky ring internal radius (px)\n",
    "r_out = 20 #Sky ring external radius (px)\n",
    "\n",
    "#Defined them as proper photometric objects using photutils.\n",
    "circular_aperture = CircularAperture(starloc, r=r)\n",
    "annulus_aperture = CircularAnnulus(starloc, r_in=r_in, r_out=r_out )\n",
    "apers = [circular_aperture, annulus_aperture]"
   ]
  },
  {
   "cell_type": "code",
   "execution_count": 20,
   "id": "9dddce8a-1165-4d86-8432-26074639dac2",
   "metadata": {},
   "outputs": [
    {
     "name": "stdout",
     "output_type": "stream",
     "text": [
      "(468,) (468,)\n"
     ]
    }
   ],
   "source": [
    "print(apers[0].shape, apers[1].shape)"
   ]
  },
  {
   "cell_type": "markdown",
   "id": "e14783a9-a96e-4f2b-8caf-b1f92273a522",
   "metadata": {},
   "source": [
    "As you can see, there is a defined circular and annular aperture for each of the objects."
   ]
  },
  {
   "cell_type": "markdown",
   "id": "b220e6e5-4ae3-459b-a772-c8ffe217957b",
   "metadata": {},
   "source": [
    "Let's apply both type of apertures on the photometry of the image."
   ]
  },
  {
   "cell_type": "code",
   "execution_count": 21,
   "id": "97951ff0-6157-4315-b7b7-2855017f077c",
   "metadata": {},
   "outputs": [],
   "source": [
    "phot_table = aperture_photometry(image, apers)"
   ]
  },
  {
   "cell_type": "code",
   "execution_count": 22,
   "id": "ee24fa4c-ef4d-410b-b1e9-5351d6178e97",
   "metadata": {},
   "outputs": [
    {
     "data": {
      "text/html": [
       "<div><i>QTable length=468</i>\n",
       "<table id=\"table140241124838224\" class=\"table-striped table-bordered table-condensed\">\n",
       "<thead><tr><th>id</th><th>xcenter</th><th>ycenter</th><th>aperture_sum_0</th><th>aperture_sum_1</th></tr></thead>\n",
       "<thead><tr><th></th><th>pix</th><th>pix</th><th></th><th></th></tr></thead>\n",
       "<thead><tr><th>int64</th><th>float64</th><th>float64</th><th>float64</th><th>float64</th></tr></thead>\n",
       "<tr><td>1</td><td>78.99926477912948</td><td>7.001470359629266</td><td>189008.46312443886</td><td>524961.920101688</td></tr>\n",
       "<tr><td>2</td><td>49.999607211435524</td><td>35.000748999758244</td><td>198771.04181170213</td><td>782550.0776367125</td></tr>\n",
       "<tr><td>3</td><td>38.99603911916246</td><td>37.0018691494921</td><td>199449.01197965298</td><td>781416.8978203763</td></tr>\n",
       "<tr><td>4</td><td>36.002626464413524</td><td>37.00165872027689</td><td>199385.72302641018</td><td>780963.4400384206</td></tr>\n",
       "<tr><td>5</td><td>76.0007788070585</td><td>119.99965018652348</td><td>213405.79414915343</td><td>827598.6116466103</td></tr>\n",
       "<tr><td>6</td><td>59.9994912691347</td><td>79.00370721151822</td><td>204125.55077745797</td><td>800383.9391931668</td></tr>\n",
       "<tr><td>7</td><td>109.00160511713165</td><td>76.00389844723826</td><td>205147.75149913426</td><td>805407.9933283543</td></tr>\n",
       "<tr><td>8</td><td>79.00145319997785</td><td>46.00180025659975</td><td>199480.11056306437</td><td>785537.3079757381</td></tr>\n",
       "<tr><td>9</td><td>15.00679895292874</td><td>76.00284319078015</td><td>205362.778994446</td><td>731326.3659886778</td></tr>\n",
       "<tr><td>10</td><td>18.001516747632895</td><td>59.00227735621633</td><td>199565.00977958704</td><td>777398.6008307808</td></tr>\n",
       "<tr><td>11</td><td>26.002465136355934</td><td>144.00095485637843</td><td>206905.28976068518</td><td>815227.5771907252</td></tr>\n",
       "<tr><td>12</td><td>19.002673791015155</td><td>128.00191939163963</td><td>205050.9455720703</td><td>805044.285455698</td></tr>\n",
       "<tr><td>13</td><td>63.00624094471062</td><td>151.00341161894772</td><td>213120.82504828047</td><td>839412.3027064616</td></tr>\n",
       "<tr><td>14</td><td>62.005499361477774</td><td>156.00335393529198</td><td>213780.62837414234</td><td>842032.3118496148</td></tr>\n",
       "<tr><td>15</td><td>31.001367543546003</td><td>156.00236268737498</td><td>208439.50027141633</td><td>821898.642368023</td></tr>\n",
       "<tr><td>16</td><td>26.00210296558136</td><td>148.00113864508023</td><td>207170.95948684943</td><td>816582.8347215294</td></tr>\n",
       "<tr><td>17</td><td>50.00318533768494</td><td>162.0034957914512</td><td>212079.56290928024</td><td>837526.2798752894</td></tr>\n",
       "<tr><td>18</td><td>11.003911798889611</td><td>207.00156863253048</td><td>210038.7130581988</td><td>669699.736472727</td></tr>\n",
       "<tr><td>19</td><td>22.004903382656952</td><td>199.00273288921093</td><td>211985.8416659563</td><td>834366.4449917867</td></tr>\n",
       "<tr><td>20</td><td>376.0020814645098</td><td>11.01880997666384</td><td>240776.0612409144</td><td>780781.2891943725</td></tr>\n",
       "<tr><td>21</td><td>462.99591971829665</td><td>7.013416537873679</td><td>221566.72418424662</td><td>626816.5834055091</td></tr>\n",
       "<tr><td>...</td><td>...</td><td>...</td><td>...</td><td>...</td></tr>\n",
       "<tr><td>447</td><td>310.01432294963473</td><td>593.9970846318405</td><td>269665.7218421591</td><td>1080909.5129245666</td></tr>\n",
       "<tr><td>448</td><td>321.01640105488036</td><td>595.0455455969714</td><td>285399.76361376006</td><td>1076995.3329007085</td></tr>\n",
       "<tr><td>449</td><td>334.9866473043003</td><td>576.9972424687174</td><td>278776.91207330965</td><td>1092688.3441324073</td></tr>\n",
       "<tr><td>450</td><td>324.9729842170861</td><td>603.9530120814055</td><td>280867.6053487558</td><td>1066323.4954473595</td></tr>\n",
       "<tr><td>451</td><td>347.9899222785942</td><td>589.0016858393119</td><td>267547.13404425874</td><td>1057592.926351053</td></tr>\n",
       "<tr><td>452</td><td>321.0242706774049</td><td>598.9973110603569</td><td>284830.55739379115</td><td>1068357.4547213502</td></tr>\n",
       "<tr><td>453</td><td>336.9872090000933</td><td>555.0006586302175</td><td>276645.2256700952</td><td>1101106.0112895102</td></tr>\n",
       "<tr><td>454</td><td>327.0054603238712</td><td>624.9958651975213</td><td>264733.5597972409</td><td>1039826.4654787271</td></tr>\n",
       "<tr><td>455</td><td>319.0018312454164</td><td>577.992530563603</td><td>286471.78078688413</td><td>1106621.6981112112</td></tr>\n",
       "<tr><td>456</td><td>402.0083972895445</td><td>621.9948795603372</td><td>250159.2311770875</td><td>988927.5943288517</td></tr>\n",
       "<tr><td>457</td><td>443.0044588507286</td><td>562.994259381888</td><td>263874.3180968098</td><td>1044761.9156350347</td></tr>\n",
       "<tr><td>458</td><td>382.0008690616016</td><td>599.9875077455993</td><td>259093.56416014524</td><td>1021178.6302930436</td></tr>\n",
       "<tr><td>459</td><td>456.00361449163745</td><td>610.9959944087814</td><td>247214.0395732905</td><td>981302.7434160114</td></tr>\n",
       "<tr><td>460</td><td>452.0012404037334</td><td>587.9899631471691</td><td>254554.60570270545</td><td>1006963.8560194089</td></tr>\n",
       "<tr><td>461</td><td>404.00693798815115</td><td>591.9908714060788</td><td>268991.1738938783</td><td>1047202.2220801979</td></tr>\n",
       "<tr><td>462</td><td>392.9970852357763</td><td>650.9960877261221</td><td>196247.81500251757</td><td>579827.5337538858</td></tr>\n",
       "<tr><td>463</td><td>289.99861042855326</td><td>632.0001189068396</td><td>270396.75241925125</td><td>1059520.5542805633</td></tr>\n",
       "<tr><td>464</td><td>288.9990041987881</td><td>632.9997751726296</td><td>270476.2302590604</td><td>1060223.322986681</td></tr>\n",
       "<tr><td>465</td><td>118.0159501514913</td><td>644.9985135031947</td><td>288609.4617411352</td><td>866132.4239352222</td></tr>\n",
       "<tr><td>466</td><td>122.0146443533429</td><td>642.0052148266147</td><td>292106.6425687225</td><td>980618.376903957</td></tr>\n",
       "<tr><td>467</td><td>486.9962635296796</td><td>615.9939951055085</td><td>251830.40168598582</td><td>978067.4160370356</td></tr>\n",
       "<tr><td>468</td><td>478.00225098864894</td><td>623.9904459814327</td><td>247844.71504888247</td><td>975771.8384198394</td></tr>\n",
       "</table></div>"
      ],
      "text/plain": [
       "<QTable length=468>\n",
       "  id       xcenter            ycenter         aperture_sum_0     aperture_sum_1  \n",
       "             pix                pix                                              \n",
       "int64      float64            float64            float64            float64      \n",
       "----- ------------------ ------------------ ------------------ ------------------\n",
       "    1  78.99926477912948  7.001470359629266 189008.46312443886   524961.920101688\n",
       "    2 49.999607211435524 35.000748999758244 198771.04181170213  782550.0776367125\n",
       "    3  38.99603911916246   37.0018691494921 199449.01197965298  781416.8978203763\n",
       "    4 36.002626464413524  37.00165872027689 199385.72302641018  780963.4400384206\n",
       "    5   76.0007788070585 119.99965018652348 213405.79414915343  827598.6116466103\n",
       "    6   59.9994912691347  79.00370721151822 204125.55077745797  800383.9391931668\n",
       "    7 109.00160511713165  76.00389844723826 205147.75149913426  805407.9933283543\n",
       "    8  79.00145319997785  46.00180025659975 199480.11056306437  785537.3079757381\n",
       "    9  15.00679895292874  76.00284319078015   205362.778994446  731326.3659886778\n",
       "   10 18.001516747632895  59.00227735621633 199565.00977958704  777398.6008307808\n",
       "   11 26.002465136355934 144.00095485637843 206905.28976068518  815227.5771907252\n",
       "   12 19.002673791015155 128.00191939163963  205050.9455720703   805044.285455698\n",
       "   13  63.00624094471062 151.00341161894772 213120.82504828047  839412.3027064616\n",
       "   14 62.005499361477774 156.00335393529198 213780.62837414234  842032.3118496148\n",
       "   15 31.001367543546003 156.00236268737498 208439.50027141633   821898.642368023\n",
       "   16  26.00210296558136 148.00113864508023 207170.95948684943  816582.8347215294\n",
       "   17  50.00318533768494  162.0034957914512 212079.56290928024  837526.2798752894\n",
       "   18 11.003911798889611 207.00156863253048  210038.7130581988   669699.736472727\n",
       "   19 22.004903382656952 199.00273288921093  211985.8416659563  834366.4449917867\n",
       "   20  376.0020814645098  11.01880997666384  240776.0612409144  780781.2891943725\n",
       "   21 462.99591971829665  7.013416537873679 221566.72418424662  626816.5834055091\n",
       "  ...                ...                ...                ...                ...\n",
       "  447 310.01432294963473  593.9970846318405  269665.7218421591 1080909.5129245666\n",
       "  448 321.01640105488036  595.0455455969714 285399.76361376006 1076995.3329007085\n",
       "  449  334.9866473043003  576.9972424687174 278776.91207330965 1092688.3441324073\n",
       "  450  324.9729842170861  603.9530120814055  280867.6053487558 1066323.4954473595\n",
       "  451  347.9899222785942  589.0016858393119 267547.13404425874  1057592.926351053\n",
       "  452  321.0242706774049  598.9973110603569 284830.55739379115 1068357.4547213502\n",
       "  453  336.9872090000933  555.0006586302175  276645.2256700952 1101106.0112895102\n",
       "  454  327.0054603238712  624.9958651975213  264733.5597972409 1039826.4654787271\n",
       "  455  319.0018312454164   577.992530563603 286471.78078688413 1106621.6981112112\n",
       "  456  402.0083972895445  621.9948795603372  250159.2311770875  988927.5943288517\n",
       "  457  443.0044588507286   562.994259381888  263874.3180968098 1044761.9156350347\n",
       "  458  382.0008690616016  599.9875077455993 259093.56416014524 1021178.6302930436\n",
       "  459 456.00361449163745  610.9959944087814  247214.0395732905  981302.7434160114\n",
       "  460  452.0012404037334  587.9899631471691 254554.60570270545 1006963.8560194089\n",
       "  461 404.00693798815115  591.9908714060788  268991.1738938783 1047202.2220801979\n",
       "  462  392.9970852357763  650.9960877261221 196247.81500251757  579827.5337538858\n",
       "  463 289.99861042855326  632.0001189068396 270396.75241925125 1059520.5542805633\n",
       "  464  288.9990041987881  632.9997751726296  270476.2302590604  1060223.322986681\n",
       "  465  118.0159501514913  644.9985135031947  288609.4617411352  866132.4239352222\n",
       "  466  122.0146443533429  642.0052148266147  292106.6425687225   980618.376903957\n",
       "  467  486.9962635296796  615.9939951055085 251830.40168598582  978067.4160370356\n",
       "  468 478.00225098864894  623.9904459814327 247844.71504888247  975771.8384198394"
      ]
     },
     "execution_count": 22,
     "metadata": {},
     "output_type": "execute_result"
    }
   ],
   "source": [
    "phot_table"
   ]
  },
  {
   "cell_type": "code",
   "execution_count": 23,
   "id": "f1f8eb9d-0e9d-4c75-8bf7-7c9ac13c9199",
   "metadata": {},
   "outputs": [],
   "source": [
    "for index in np.argwhere(np.isnan(phot_table['aperture_sum_0'])):\n",
    "    print(phot_table['aperture_sum_0'][index[0]], phot_table['aperture_sum_1'][index[0]])"
   ]
  },
  {
   "cell_type": "markdown",
   "id": "7561e841-aefa-4c99-81e6-593f3534cada",
   "metadata": {},
   "source": [
    "The `aperture_sum_0` corresponds to the photometry of the circular aperture, while the `aperture_sum_1` corresponds to the annular aperture photometry.\n",
    "\n",
    "Let's calculate now the area and flux in the total area (the sum of the flux in the cirular aperture, that ideally corresponds to the star, and the annular aperture, that ideally corresponds just to the background)."
   ]
  },
  {
   "cell_type": "code",
   "execution_count": 24,
   "id": "89eabfa9-bff4-425f-b85e-9f9460f2d84e",
   "metadata": {},
   "outputs": [],
   "source": [
    "#Area and flux in from the background\n",
    "bkg_mean = phot_table['aperture_sum_1'] / annulus_aperture.area\n",
    "area_aper = np.array(circular_aperture.area_overlap(image))\n",
    "bkg_sum = bkg_mean * area_aper\n",
    "\n",
    "#Total flux from each object after substracting background\n",
    "final_flux = phot_table['aperture_sum_0'] - bkg_sum\n",
    "phot_table['flux'] = final_flux\n",
    "phot_table['flux'].info.format = '%.8g' "
   ]
  },
  {
   "cell_type": "markdown",
   "id": "576c1429-6ba0-48c9-bedf-a5cc0aea016c",
   "metadata": {},
   "source": [
    "Let's save this filter value as the name of the minimum magnitude."
   ]
  },
  {
   "cell_type": "code",
   "execution_count": 25,
   "id": "b391aa70-be17-446d-bfb1-0c43e9e71cc5",
   "metadata": {},
   "outputs": [
    {
     "data": {
      "text/plain": [
       "'3'"
      ]
     },
     "execution_count": 25,
     "metadata": {},
     "output_type": "execute_result"
    }
   ],
   "source": [
    "name_mag = str(ifilter)\n",
    "name_mag"
   ]
  },
  {
   "cell_type": "markdown",
   "id": "e9e30d6a-9f26-405f-a81e-0fba224be3d2",
   "metadata": {},
   "source": [
    "Now, let's save the value of the instrumental magnitude in our table"
   ]
  },
  {
   "cell_type": "code",
   "execution_count": 26,
   "id": "ab082298-b239-4f53-9345-31b91b40c990",
   "metadata": {},
   "outputs": [
    {
     "name": "stderr",
     "output_type": "stream",
     "text": [
      "/tmp/ipykernel_36036/2448779896.py:1: RuntimeWarning: invalid value encountered in log10\n",
      "  phot_table[name_mag + '_mag'] = zmag - 2.5 * np.log10(final_flux) + 2.5 * np.log10(itime)\n"
     ]
    }
   ],
   "source": [
    "phot_table[name_mag + '_mag'] = zmag - 2.5 * np.log10(final_flux) + 2.5 * np.log10(itime)\n",
    "phot_table[name_mag + '_mag'].info.format = '%.8g'  "
   ]
  },
  {
   "cell_type": "markdown",
   "id": "c300a0b6-b130-4787-81b5-79bba65f0ec3",
   "metadata": {},
   "source": [
    "---\n",
    "#### Note:\n",
    "if a message like the following is shown  \n",
    "\n",
    "<div class=\"alert alert-danger\">\n",
    "\n",
    "```python\n",
    "/tmp/ipykernel_31438/2448779896.py:1: RuntimeWarning: invalid value encountered in log10\n",
    "  phot_table[name_mag + '_mag'] = zmag - 2.5 * np.log10(final_flux) + 2.5 * np.log10(itime)\n",
    "\n",
    "```\n",
    "</div>\n",
    "\n",
    "We could deduce that the stars detected in the `.fits` may be close to the border (that is my guess). Let's plot the image to check this out\n"
   ]
  },
  {
   "cell_type": "code",
   "execution_count": 27,
   "id": "5dc766a3-c689-41b5-96ab-d55281894a97",
   "metadata": {},
   "outputs": [
    {
     "data": {
      "text/plain": [
       "<matplotlib.image.AxesImage at 0x7f8c6df9fd90>"
      ]
     },
     "execution_count": 27,
     "metadata": {},
     "output_type": "execute_result"
    },
    {
     "data": {
      "image/png": "[encoded data removed]",
      "text/plain": [
       "<Figure size 640x480 with 1 Axes>"
      ]
     },
     "metadata": {},
     "output_type": "display_data"
    }
   ],
   "source": [
    "fig, ax = plt.subplots()\n",
    "ax.imshow(image)"
   ]
  },
  {
   "cell_type": "markdown",
   "id": "e5ad677e-8e6d-4de1-b1b3-e19a8a881f6c",
   "metadata": {},
   "source": [
    "As the border of the .fits shows, this hypothesis may be a possibility.\n",
    "\n",
    "#### End of the note\n",
    "---"
   ]
  },
  {
   "cell_type": "markdown",
   "id": "98bd1064-cb6e-4b6a-ac29-40ef8d0d4c3b",
   "metadata": {},
   "source": [
    "It's important to know also the uncertainties from the instrumental magnitudes. Let's save them too in our tables"
   ]
  },
  {
   "cell_type": "code",
   "execution_count": 28,
   "id": "3e3f1895-ca01-4b33-858f-dbceb7be098d",
   "metadata": {},
   "outputs": [],
   "source": [
    "_, _, stdev = sigma_clipped_stats(image, sigma=3.0)\n",
    "phot_table[name_mag + '_mag_err'] = 1.0857 * np.sqrt(final_flux    /epadu + area_aper*stdev**2 )/final_flux\n",
    "phot_table[name_mag + '_mag_err'].info.format = '%.8g'"
   ]
  },
  {
   "cell_type": "code",
   "execution_count": 29,
   "id": "ca59197e-79de-4656-9153-3561f8424d50",
   "metadata": {},
   "outputs": [
    {
     "name": "stdout",
     "output_type": "stream",
     "text": [
      "\n",
      "# of objects with nan values in the uncertainties: 0\n",
      "\n"
     ]
    }
   ],
   "source": [
    "n_unc_nans = np.argwhere(np.isnan(phot_table[name_mag + '_mag_err'])).shape[0]\n",
    "print(f\"\"\"\n",
    "# of objects with nan values in the uncertainties: {n_unc_nans}\n",
    "\"\"\")"
   ]
  },
  {
   "cell_type": "markdown",
   "id": "1f438355-e1d8-412b-9479-691707c0eb4d",
   "metadata": {},
   "source": [
    "Add to the table the location info, the ID, the date of observation and the object's name"
   ]
  },
  {
   "cell_type": "code",
   "execution_count": 30,
   "id": "a82b1593-ca07-4728-bf63-3c6793351734",
   "metadata": {},
   "outputs": [],
   "source": [
    "phot_table['RA'] = [i[0] for i in Final_List2] \n",
    "phot_table['DEC'] = [i[1] for i in Final_List2] \n",
    "phot_table['ID'] = NewIDS\n",
    "phot_table['Plx'] = [i[-2] for i in Final_List2]\n",
    "phot_table['e_Plx'] = [i[-1] for i in Final_List2]\n",
    "phot_table['DATE-OBS'] = DateObs\n",
    "phot_table['COADDID'] = fits_header['COADDID']"
   ]
  },
  {
   "cell_type": "markdown",
   "id": "f03acc2f-f68e-4ef9-a072-549bbf64e1ae",
   "metadata": {},
   "source": [
    "Finally, let's drop the NaN values from the table"
   ]
  },
  {
   "cell_type": "code",
   "execution_count": 31,
   "id": "2dbc9aec-b84f-46d7-b2d9-23c231c756cc",
   "metadata": {},
   "outputs": [],
   "source": [
    "index_nan = np.argwhere(np.isnan(phot_table[name_mag + '_mag'].data)) \n",
    "phot_table.remove_rows(index_nan)"
   ]
  },
  {
   "cell_type": "code",
   "execution_count": 32,
   "id": "56e91e75-4908-4023-9c26-519f773f539e",
   "metadata": {},
   "outputs": [
    {
     "data": {
      "text/html": [
       "<div><i>QTable length=270</i>\n",
       "<table id=\"table140241124838224\" class=\"table-striped table-bordered table-condensed\">\n",
       "<thead><tr><th>id</th><th>xcenter</th><th>ycenter</th><th>aperture_sum_0</th><th>aperture_sum_1</th><th>flux</th><th>3_mag</th><th>3_mag_err</th><th>RA</th><th>DEC</th><th>ID</th><th>Plx</th><th>e_Plx</th><th>DATE-OBS</th><th>COADDID</th></tr></thead>\n",
       "<thead><tr><th></th><th>pix</th><th>pix</th><th></th><th></th><th></th><th></th><th></th><th></th><th></th><th></th><th></th><th></th><th></th><th></th></tr></thead>\n",
       "<thead><tr><th>int64</th><th>float64</th><th>float64</th><th>float64</th><th>float64</th><th>float64</th><th>float64</th><th>float64</th><th>float64</th><th>float64</th><th>str20</th><th>float64</th><th>float64</th><th>str23</th><th>str13</th></tr></thead>\n",
       "<tr><td>1</td><td>78.99926477912948</td><td>7.001470359629266</td><td>189008.46312443886</td><td>524961.920101688</td><td>61008.835</td><td>8.5145834</td><td>0.055003734</td><td>56.2545074881102</td><td>32.0405655083321</td><td>2.1662973227464986e+</td><td>2.7968</td><td>0.3897</td><td>2010-02-14T15:12:00.592</td><td>0564p318_ac51</td></tr>\n",
       "<tr><td>2</td><td>49.999607211435524</td><td>35.000748999758244</td><td>198771.04181170213</td><td>782550.0776367125</td><td>67.103603</td><td>15.911201</td><td>51.008536</td><td>56.267738579543</td><td>32.0515453298481</td><td>2.1662987401007654e+</td><td>2.897</td><td>0.2724</td><td>2010-02-14T15:12:00.592</td><td>0564p318_ac51</td></tr>\n",
       "<tr><td>3</td><td>38.99603911916246</td><td>37.0018691494921</td><td>199449.01197965298</td><td>781416.8978203763</td><td>1032.8091</td><td>12.943015</td><td>3.3141467</td><td>56.272601191017</td><td>32.0522027873454</td><td>2.1662986971452646e+</td><td>3.5633</td><td>0.4493</td><td>2010-02-14T15:12:00.592</td><td>0564p318_ac51</td></tr>\n",
       "<tr><td>4</td><td>36.002626464413524</td><td>37.00165872027689</td><td>199385.72302641018</td><td>780963.4400384206</td><td>1084.6614</td><td>12.88983</td><td>3.1557148</td><td>56.274024788912</td><td>32.0522264993674</td><td>2.1662987401007578e+</td><td>3.2539</td><td>0.0762</td><td>2010-02-14T15:12:00.592</td><td>0564p318_ac51</td></tr>\n",
       "<tr><td>5</td><td>76.0007788070585</td><td>119.99965018652348</td><td>213405.79414915343</td><td>827598.6116466103</td><td>3263.2</td><td>11.693956</td><td>1.0489511</td><td>56.2558871066875</td><td>32.0838161986008</td><td>2.1663014459149683e+</td><td>3.0209</td><td>0.0756</td><td>2010-02-14T15:12:00.592</td><td>0564p318_ac51</td></tr>\n",
       "<tr><td>6</td><td>59.9994912691347</td><td>79.00370721151822</td><td>204125.55077745797</td><td>800383.9391931668</td><td>893.26528</td><td>13.100614</td><td>3.831871</td><td>56.2632693007995</td><td>32.068191027966</td><td>2.166300801685042e+1</td><td>0.4825</td><td>0.1629</td><td>2010-02-14T15:12:00.592</td><td>0564p318_ac51</td></tr>\n",
       "<tr><td>7</td><td>109.00160511713165</td><td>76.00389844723826</td><td>205147.75149913426</td><td>805407.9933283543</td><td>639.76573</td><td>13.463013</td><td>5.3501943</td><td>56.2410190523612</td><td>32.067097701067</td><td>2.1663011452824448e+</td><td>3.0688</td><td>0.2405</td><td>2010-02-14T15:12:00.592</td><td>0564p318_ac51</td></tr>\n",
       "<tr><td>8</td><td>79.00145319997785</td><td>46.00180025659975</td><td>199480.11056306437</td><td>785537.3079757381</td><td>17.659322</td><td>17.36063</td><td>193.82711</td><td>56.2544863399243</td><td>32.0555511067041</td><td>2.1663004580876864e+</td><td>4.0857</td><td>0.1945</td><td>2010-02-14T15:12:00.592</td><td>0564p318_ac51</td></tr>\n",
       "<tr><td>9</td><td>15.00679895292874</td><td>76.00284319078015</td><td>205362.778994446</td><td>731326.3659886778</td><td>19665.489</td><td>9.7438033</td><td>0.1740791</td><td>56.2831775641819</td><td>32.0671991937528</td><td>2.1665334171137856e+</td><td>2.665</td><td>0.1171</td><td>2010-02-14T15:12:00.592</td><td>0564p318_ac51</td></tr>\n",
       "<tr><td>10</td><td>18.001516747632895</td><td>59.00227735621633</td><td>199565.00977958704</td><td>777398.6008307808</td><td>2169.1268</td><td>12.137353</td><td>1.5780126</td><td>56.2818177964598</td><td>32.0607788568448</td><td>2.166533374149179e+1</td><td>1.9229</td><td>0.2364</td><td>2010-02-14T15:12:00.592</td><td>0564p318_ac51</td></tr>\n",
       "<tr><td>12</td><td>19.002673791015155</td><td>128.00191939163963</td><td>205050.9455720703</td><td>805044.285455698</td><td>635.31196</td><td>13.470598</td><td>5.3877009</td><td>56.2815732984382</td><td>32.0871560326527</td><td>2.1665357793400064e+</td><td>nan</td><td>nan</td><td>2010-02-14T15:12:00.592</td><td>0564p318_ac51</td></tr>\n",
       "<tr><td>18</td><td>11.003911798889611</td><td>207.00156863253048</td><td>210038.7130581988</td><td>669699.736472727</td><td>39989.564</td><td>8.9731985</td><td>0.08561891</td><td>56.2850195666288</td><td>32.1171873272858</td><td>2.1665374973182157e+</td><td>0.4069</td><td>0.8462</td><td>2010-02-14T15:12:00.592</td><td>0564p318_ac51</td></tr>\n",
       "<tr><td>19</td><td>22.004903382656952</td><td>199.00273288921093</td><td>211985.8416659563</td><td>834366.4449917867</td><td>124.76943</td><td>15.237795</td><td>27.433467</td><td>56.2799197970145</td><td>32.1140942174714</td><td>2.1665374973270733e+</td><td>nan</td><td>nan</td><td>2010-02-14T15:12:00.592</td><td>0564p318_ac51</td></tr>\n",
       "<tr><td>20</td><td>376.0020814645098</td><td>11.01880997666384</td><td>240776.0612409144</td><td>780781.2891943725</td><td>42521.251</td><td>8.9065501</td><td>0.080522716</td><td>56.1205268721827</td><td>32.0420368083064</td><td>2.1667522456890778e+</td><td>2.2806</td><td>1.5442</td><td>2010-02-14T15:12:00.592</td><td>0564p318_ac51</td></tr>\n",
       "<tr><td>21</td><td>462.99591971829665</td><td>7.013416537873679</td><td>221566.72418424662</td><td>626816.5834055091</td><td>68658.053</td><td>8.3863365</td><td>0.04889046</td><td>56.0816311895594</td><td>32.0402336127905</td><td>2.1667601484248986e+</td><td>0.8836</td><td>0.5584</td><td>2010-02-14T15:12:00.592</td><td>0564p318_ac51</td></tr>\n",
       "<tr><td>22</td><td>397.00374895878525</td><td>15.016977914226901</td><td>247713.50720942658</td><td>910622.0393727075</td><td>16489.729</td><td>9.9350314</td><td>0.20760017</td><td>56.1110822168206</td><td>32.0434404417984</td><td>2.1667598048275277e+</td><td>3.5186</td><td>0.3657</td><td>2010-02-14T15:12:00.592</td><td>0564p318_ac51</td></tr>\n",
       "<tr><td>24</td><td>500.9977219463673</td><td>14.004782345338675</td><td>224723.8591512767</td><td>791978.989623123</td><td>23625.746</td><td>9.5446014</td><td>0.14490338</td><td>56.064480219245</td><td>32.0430881054979</td><td>2.16676117921706e+17</td><td>0.3559</td><td>0.3856</td><td>2010-02-14T15:12:00.592</td><td>0564p318_ac51</td></tr>\n",
       "<tr><td>25</td><td>536.0091129766687</td><td>42.01818354233313</td><td>245639.04530778102</td><td>932319.5983009723</td><td>8905.8558</td><td>10.603876</td><td>0.38436276</td><td>56.048408383297</td><td>32.0536576602496</td><td>2.1667619093740416e+</td><td>2.3985</td><td>0.3759</td><td>2010-02-14T15:12:00.592</td><td>0564p318_ac51</td></tr>\n",
       "<tr><td>26</td><td>558.9989765837553</td><td>16.991646121242333</td><td>243857.46654441455</td><td>835285.8001050928</td><td>31762.953</td><td>9.223263</td><td>0.1077877</td><td>56.0383374219108</td><td>32.0438198454406</td><td>2.1667615228144448e+</td><td>nan</td><td>nan</td><td>2010-02-14T15:12:00.592</td><td>0564p318_ac51</td></tr>\n",
       "<tr><td>27</td><td>478.95995968344704</td><td>111.05024097022657</td><td>351125.2467427173</td><td>1324107.8356059503</td><td>14909.778</td><td>10.044387</td><td>0.22959636</td><td>56.0740261312053</td><td>32.0799159584312</td><td>2.1667632837645235e+</td><td>3.0103</td><td>0.2831</td><td>2010-02-14T15:12:00.592</td><td>0564p318_ac51</td></tr>\n",
       "<tr><td>28</td><td>475.9687155668335</td><td>117.97908763345583</td><td>363098.6162280583</td><td>1322536.1855429257</td><td>27282.218</td><td>9.388366</td><td>0.12548623</td><td>56.0756682379548</td><td>32.0825093646783</td><td>2.1667632837645222e+</td><td>2.1049</td><td>0.2292</td><td>2010-02-14T15:12:00.592</td><td>0564p318_ac51</td></tr>\n",
       "<tr><td>...</td><td>...</td><td>...</td><td>...</td><td>...</td><td>...</td><td>...</td><td>...</td><td>...</td><td>...</td><td>...</td><td>...</td><td>...</td><td>...</td><td>...</td></tr>\n",
       "<tr><td>431</td><td>181.00306058028073</td><td>601.0096292516023</td><td>325026.33275539096</td><td>1279222.4957787294</td><td>208.08148</td><td>14.682482</td><td>16.449615</td><td>56.2080538122808</td><td>32.2673626441129</td><td>2.167057016571259e+1</td><td>nan</td><td>nan</td><td>2010-02-14T15:12:00.592</td><td>0564p318_ac51</td></tr>\n",
       "<tr><td>432</td><td>171.01219848950862</td><td>606.0070264311655</td><td>323461.93696052657</td><td>1259455.0719340465</td><td>3663.0002</td><td>11.568473</td><td>0.93446546</td><td>56.2123038148139</td><td>32.2692957778006</td><td>2.1670570595262746e+</td><td>1.3751</td><td>0.4053</td><td>2010-02-14T15:12:00.592</td><td>0564p318_ac51</td></tr>\n",
       "<tr><td>436</td><td>244.9857036721737</td><td>599.002656116988</td><td>304976.2092078433</td><td>1183205.2628141525</td><td>4538.5092</td><td>11.335782</td><td>0.75420564</td><td>56.1792487613329</td><td>32.2665661738964</td><td>2.167058390959323e+1</td><td>2.764</td><td>0.5563</td><td>2010-02-14T15:12:00.592</td><td>0564p318_ac51</td></tr>\n",
       "<tr><td>437</td><td>183.98968015472062</td><td>631.993074305411</td><td>323183.64019024215</td><td>1266681.7775771185</td><td>1549.7092</td><td>12.50244</td><td>2.208733</td><td>56.2065574531026</td><td>32.2792999248244</td><td>2.1670591211105702e+</td><td>4.9971</td><td>0.0759</td><td>2010-02-14T15:12:00.592</td><td>0564p318_ac51</td></tr>\n",
       "<tr><td>438</td><td>163.00684682101664</td><td>624.0022326038078</td><td>325092.0950894854</td><td>1264461.1639447855</td><td>4022.019</td><td>11.466955</td><td>0.85105422</td><td>56.2161768442688</td><td>32.276478777001</td><td>2.1670590781500006e+</td><td>0.5045</td><td>0.5742</td><td>2010-02-14T15:12:00.592</td><td>0564p318_ac51</td></tr>\n",
       "<tr><td>439</td><td>201.98889124951862</td><td>652.5058237841733</td><td>210573.55683932695</td><td>665170.4175716899</td><td>91023.389</td><td>8.0801827</td><td>0.031667071</td><td>56.1983108305818</td><td>32.2872877102836</td><td>2.167059808306898e+1</td><td>nan</td><td>nan</td><td>2010-02-14T15:12:00.592</td><td>0564p318_ac51</td></tr>\n",
       "<tr><td>440</td><td>172.00872208842725</td><td>619.9987178851529</td><td>330512.11038806225</td><td>1280130.9457482519</td><td>5463.1869</td><td>11.13445</td><td>0.62655601</td><td>56.2121229588489</td><td>32.2748030852911</td><td>2.1670591211014643e+</td><td>nan</td><td>nan</td><td>2010-02-14T15:12:00.592</td><td>0564p318_ac51</td></tr>\n",
       "<tr><td>443</td><td>389.98251940226845</td><td>527.0117318265347</td><td>283284.36825788056</td><td>1111305.604442725</td><td>1103.3214</td><td>12.87131</td><td>3.1023442</td><td>56.1135236922382</td><td>32.2391580275157</td><td>2.1670604955002022e+</td><td>2.6838</td><td>0.2401</td><td>2010-02-14T15:12:00.592</td><td>0564p318_ac51</td></tr>\n",
       "<tr><td>448</td><td>321.01640105488036</td><td>595.0455455969714</td><td>285399.76361376006</td><td>1076995.3329007085</td><td>11930.729</td><td>10.286398</td><td>0.28691923</td><td>56.1445884346859</td><td>32.2651087076571</td><td>2.167062213487067e+1</td><td>2.5002</td><td>0.3682</td><td>2010-02-14T15:12:00.592</td><td>0564p318_ac51</td></tr>\n",
       "<tr><td>449</td><td>334.9866473043003</td><td>576.9972424687174</td><td>278776.91207330965</td><td>1092688.3441324073</td><td>1323.1319</td><td>12.674057</td><td>2.5869592</td><td>56.1384362634222</td><td>32.2580391098664</td><td>2.1670618698896986e+</td><td>nan</td><td>nan</td><td>2010-02-14T15:12:00.592</td><td>0564p318_ac51</td></tr>\n",
       "<tr><td>450</td><td>324.9729842170861</td><td>603.9530120814055</td><td>280867.6053487558</td><td>1066323.4954473595</td><td>10108.348</td><td>10.466365</td><td>0.33864185</td><td>56.1428836873547</td><td>32.2685645184297</td><td>2.167062170530551e+1</td><td>1.2898</td><td>0.3257</td><td>2010-02-14T15:12:00.592</td><td>0564p318_ac51</td></tr>\n",
       "<tr><td>452</td><td>321.0242706774049</td><td>598.9973110603569</td><td>284830.55739379115</td><td>1068357.4547213502</td><td>13554.84</td><td>10.147829</td><td>0.25254422</td><td>56.1445412282489</td><td>32.2666599330167</td><td>2.167062213470949e+1</td><td>nan</td><td>nan</td><td>2010-02-14T15:12:00.592</td><td>0564p318_ac51</td></tr>\n",
       "<tr><td>454</td><td>327.0054603238712</td><td>624.9958651975213</td><td>264733.5597972409</td><td>1039826.4654787271</td><td>702.38831</td><td>13.361622</td><td>4.8731912</td><td>56.1421962035359</td><td>32.2766035223732</td><td>2.16706290068182e+17</td><td>3.2713</td><td>0.3532</td><td>2010-02-14T15:12:00.592</td><td>0564p318_ac51</td></tr>\n",
       "<tr><td>455</td><td>319.0018312454164</td><td>577.992530563603</td><td>286471.78078688413</td><td>1106621.6981112112</td><td>5480.0643</td><td>11.131101</td><td>0.62462642</td><td>56.1457541349405</td><td>32.2586457210927</td><td>2.1670618698896883e+</td><td>2.8406</td><td>0.2258</td><td>2010-02-14T15:12:00.592</td><td>0564p318_ac51</td></tr>\n",
       "<tr><td>461</td><td>404.00693798815115</td><td>591.9908714060788</td><td>268991.1738938783</td><td>1047202.2220801979</td><td>3087.1614</td><td>11.754167</td><td>1.1087638</td><td>56.1070870302461</td><td>32.2636832696958</td><td>2.1670635449205786e+</td><td>4.0344</td><td>0.9837</td><td>2010-02-14T15:12:00.592</td><td>0564p318_ac51</td></tr>\n",
       "<tr><td>462</td><td>392.9970852357763</td><td>650.9960877261221</td><td>196247.81500251757</td><td>579827.5337538858</td><td>77767.02</td><td>8.2510765</td><td>0.039512027</td><td>56.1121784567398</td><td>32.2865464722951</td><td>2.167065262908448e+1</td><td>1.4256</td><td>2.073</td><td>2010-02-14T15:12:00.592</td><td>0564p318_ac51</td></tr>\n",
       "<tr><td>463</td><td>289.99861042855326</td><td>632.0001189068396</td><td>270396.75241925125</td><td>1059520.5542805633</td><td>1364.8875</td><td>12.640323</td><td>2.5078178</td><td>56.158782674235</td><td>32.2791899298373</td><td>2.1670659500958413e+</td><td>-0.2153</td><td>0.4565</td><td>2010-02-14T15:12:00.592</td><td>0564p318_ac51</td></tr>\n",
       "<tr><td>464</td><td>288.9990041987881</td><td>632.9997751726296</td><td>270476.2302590604</td><td>1060223.322986681</td><td>1265.9194</td><td>12.72205</td><td>2.7038741</td><td>56.1592504315896</td><td>32.2794912035696</td><td>2.167065993042126e+1</td><td>1.981</td><td>1.4567</td><td>2010-02-14T15:12:00.592</td><td>0564p318_ac51</td></tr>\n",
       "<tr><td>465</td><td>118.0159501514913</td><td>644.9985135031947</td><td>288609.4617411352</td><td>866132.4239352222</td><td>68682.42</td><td>8.3859512</td><td>0.049861171</td><td>56.2364184098898</td><td>32.2843072705706</td><td>2.1670721778126746e+</td><td>nan</td><td>nan</td><td>2010-02-14T15:12:00.592</td><td>0564p318_ac51</td></tr>\n",
       "<tr><td>466</td><td>122.0146443533429</td><td>642.0052148266147</td><td>292106.6425687225</td><td>980618.376903957</td><td>43109.5</td><td>8.8916327</td><td>0.079424291</td><td>56.2347236903785</td><td>32.2833905281381</td><td>2.1670721348561446e+</td><td>nan</td><td>nan</td><td>2010-02-14T15:12:00.592</td><td>0564p318_ac51</td></tr>\n",
       "<tr><td>467</td><td>486.9962635296796</td><td>615.9939951055085</td><td>251830.40168598582</td><td>978067.4160370356</td><td>3480.9951</td><td>11.623807</td><td>0.98332301</td><td>56.0695584451766</td><td>32.2726979866326</td><td>2.1671814417685466e+</td><td>nan</td><td>nan</td><td>2010-02-14T15:12:00.592</td><td>0564p318_ac51</td></tr>\n",
       "<tr><td>468</td><td>478.00225098864894</td><td>623.9904459814327</td><td>247844.71504888247</td><td>975771.8384198394</td><td>78.198083</td><td>15.745075</td><td>43.77162</td><td>56.073688602054</td><td>32.2758244684576</td><td>2.167181398824124e+1</td><td>nan</td><td>nan</td><td>2010-02-14T15:12:00.592</td><td>0564p318_ac51</td></tr>\n",
       "</table></div>"
      ],
      "text/plain": [
       "<QTable length=270>\n",
       "  id       xcenter            ycenter         aperture_sum_0     aperture_sum_1      flux     3_mag    3_mag_err         RA              DEC                 ID            Plx    e_Plx          DATE-OBS           COADDID   \n",
       "             pix                pix                                                                                                                                                                                           \n",
       "int64      float64            float64            float64            float64        float64   float64    float64       float64          float64             str20         float64 float64          str23              str13    \n",
       "----- ------------------ ------------------ ------------------ ------------------ --------- --------- ----------- ---------------- ---------------- -------------------- ------- ------- ----------------------- -------------\n",
       "    1  78.99926477912948  7.001470359629266 189008.46312443886   524961.920101688 61008.835 8.5145834 0.055003734 56.2545074881102 32.0405655083321 2.1662973227464986e+  2.7968  0.3897 2010-02-14T15:12:00.592 0564p318_ac51\n",
       "    2 49.999607211435524 35.000748999758244 198771.04181170213  782550.0776367125 67.103603 15.911201   51.008536  56.267738579543 32.0515453298481 2.1662987401007654e+   2.897  0.2724 2010-02-14T15:12:00.592 0564p318_ac51\n",
       "    3  38.99603911916246   37.0018691494921 199449.01197965298  781416.8978203763 1032.8091 12.943015   3.3141467  56.272601191017 32.0522027873454 2.1662986971452646e+  3.5633  0.4493 2010-02-14T15:12:00.592 0564p318_ac51\n",
       "    4 36.002626464413524  37.00165872027689 199385.72302641018  780963.4400384206 1084.6614  12.88983   3.1557148  56.274024788912 32.0522264993674 2.1662987401007578e+  3.2539  0.0762 2010-02-14T15:12:00.592 0564p318_ac51\n",
       "    5   76.0007788070585 119.99965018652348 213405.79414915343  827598.6116466103    3263.2 11.693956   1.0489511 56.2558871066875 32.0838161986008 2.1663014459149683e+  3.0209  0.0756 2010-02-14T15:12:00.592 0564p318_ac51\n",
       "    6   59.9994912691347  79.00370721151822 204125.55077745797  800383.9391931668 893.26528 13.100614    3.831871 56.2632693007995  32.068191027966 2.166300801685042e+1  0.4825  0.1629 2010-02-14T15:12:00.592 0564p318_ac51\n",
       "    7 109.00160511713165  76.00389844723826 205147.75149913426  805407.9933283543 639.76573 13.463013   5.3501943 56.2410190523612  32.067097701067 2.1663011452824448e+  3.0688  0.2405 2010-02-14T15:12:00.592 0564p318_ac51\n",
       "    8  79.00145319997785  46.00180025659975 199480.11056306437  785537.3079757381 17.659322  17.36063   193.82711 56.2544863399243 32.0555511067041 2.1663004580876864e+  4.0857  0.1945 2010-02-14T15:12:00.592 0564p318_ac51\n",
       "    9  15.00679895292874  76.00284319078015   205362.778994446  731326.3659886778 19665.489 9.7438033   0.1740791 56.2831775641819 32.0671991937528 2.1665334171137856e+   2.665  0.1171 2010-02-14T15:12:00.592 0564p318_ac51\n",
       "   10 18.001516747632895  59.00227735621633 199565.00977958704  777398.6008307808 2169.1268 12.137353   1.5780126 56.2818177964598 32.0607788568448 2.166533374149179e+1  1.9229  0.2364 2010-02-14T15:12:00.592 0564p318_ac51\n",
       "   12 19.002673791015155 128.00191939163963  205050.9455720703   805044.285455698 635.31196 13.470598   5.3877009 56.2815732984382 32.0871560326527 2.1665357793400064e+     nan     nan 2010-02-14T15:12:00.592 0564p318_ac51\n",
       "   18 11.003911798889611 207.00156863253048  210038.7130581988   669699.736472727 39989.564 8.9731985  0.08561891 56.2850195666288 32.1171873272858 2.1665374973182157e+  0.4069  0.8462 2010-02-14T15:12:00.592 0564p318_ac51\n",
       "   19 22.004903382656952 199.00273288921093  211985.8416659563  834366.4449917867 124.76943 15.237795   27.433467 56.2799197970145 32.1140942174714 2.1665374973270733e+     nan     nan 2010-02-14T15:12:00.592 0564p318_ac51\n",
       "   20  376.0020814645098  11.01880997666384  240776.0612409144  780781.2891943725 42521.251 8.9065501 0.080522716 56.1205268721827 32.0420368083064 2.1667522456890778e+  2.2806  1.5442 2010-02-14T15:12:00.592 0564p318_ac51\n",
       "   21 462.99591971829665  7.013416537873679 221566.72418424662  626816.5834055091 68658.053 8.3863365  0.04889046 56.0816311895594 32.0402336127905 2.1667601484248986e+  0.8836  0.5584 2010-02-14T15:12:00.592 0564p318_ac51\n",
       "   22 397.00374895878525 15.016977914226901 247713.50720942658  910622.0393727075 16489.729 9.9350314  0.20760017 56.1110822168206 32.0434404417984 2.1667598048275277e+  3.5186  0.3657 2010-02-14T15:12:00.592 0564p318_ac51\n",
       "   24  500.9977219463673 14.004782345338675  224723.8591512767   791978.989623123 23625.746 9.5446014  0.14490338  56.064480219245 32.0430881054979 2.16676117921706e+17  0.3559  0.3856 2010-02-14T15:12:00.592 0564p318_ac51\n",
       "   25  536.0091129766687  42.01818354233313 245639.04530778102  932319.5983009723 8905.8558 10.603876  0.38436276  56.048408383297 32.0536576602496 2.1667619093740416e+  2.3985  0.3759 2010-02-14T15:12:00.592 0564p318_ac51\n",
       "   26  558.9989765837553 16.991646121242333 243857.46654441455  835285.8001050928 31762.953  9.223263   0.1077877 56.0383374219108 32.0438198454406 2.1667615228144448e+     nan     nan 2010-02-14T15:12:00.592 0564p318_ac51\n",
       "   27 478.95995968344704 111.05024097022657  351125.2467427173 1324107.8356059503 14909.778 10.044387  0.22959636 56.0740261312053 32.0799159584312 2.1667632837645235e+  3.0103  0.2831 2010-02-14T15:12:00.592 0564p318_ac51\n",
       "   28  475.9687155668335 117.97908763345583  363098.6162280583 1322536.1855429257 27282.218  9.388366  0.12548623 56.0756682379548 32.0825093646783 2.1667632837645222e+  2.1049  0.2292 2010-02-14T15:12:00.592 0564p318_ac51\n",
       "  ...                ...                ...                ...                ...       ...       ...         ...              ...              ...                  ...     ...     ...                     ...           ...\n",
       "  431 181.00306058028073  601.0096292516023 325026.33275539096 1279222.4957787294 208.08148 14.682482   16.449615 56.2080538122808 32.2673626441129 2.167057016571259e+1     nan     nan 2010-02-14T15:12:00.592 0564p318_ac51\n",
       "  432 171.01219848950862  606.0070264311655 323461.93696052657 1259455.0719340465 3663.0002 11.568473  0.93446546 56.2123038148139 32.2692957778006 2.1670570595262746e+  1.3751  0.4053 2010-02-14T15:12:00.592 0564p318_ac51\n",
       "  436  244.9857036721737   599.002656116988  304976.2092078433 1183205.2628141525 4538.5092 11.335782  0.75420564 56.1792487613329 32.2665661738964 2.167058390959323e+1   2.764  0.5563 2010-02-14T15:12:00.592 0564p318_ac51\n",
       "  437 183.98968015472062   631.993074305411 323183.64019024215 1266681.7775771185 1549.7092  12.50244    2.208733 56.2065574531026 32.2792999248244 2.1670591211105702e+  4.9971  0.0759 2010-02-14T15:12:00.592 0564p318_ac51\n",
       "  438 163.00684682101664  624.0022326038078  325092.0950894854 1264461.1639447855  4022.019 11.466955  0.85105422 56.2161768442688  32.276478777001 2.1670590781500006e+  0.5045  0.5742 2010-02-14T15:12:00.592 0564p318_ac51\n",
       "  439 201.98889124951862  652.5058237841733 210573.55683932695  665170.4175716899 91023.389 8.0801827 0.031667071 56.1983108305818 32.2872877102836 2.167059808306898e+1     nan     nan 2010-02-14T15:12:00.592 0564p318_ac51\n",
       "  440 172.00872208842725  619.9987178851529 330512.11038806225 1280130.9457482519 5463.1869  11.13445  0.62655601 56.2121229588489 32.2748030852911 2.1670591211014643e+     nan     nan 2010-02-14T15:12:00.592 0564p318_ac51\n",
       "  443 389.98251940226845  527.0117318265347 283284.36825788056  1111305.604442725 1103.3214  12.87131   3.1023442 56.1135236922382 32.2391580275157 2.1670604955002022e+  2.6838  0.2401 2010-02-14T15:12:00.592 0564p318_ac51\n",
       "  448 321.01640105488036  595.0455455969714 285399.76361376006 1076995.3329007085 11930.729 10.286398  0.28691923 56.1445884346859 32.2651087076571 2.167062213487067e+1  2.5002  0.3682 2010-02-14T15:12:00.592 0564p318_ac51\n",
       "  449  334.9866473043003  576.9972424687174 278776.91207330965 1092688.3441324073 1323.1319 12.674057   2.5869592 56.1384362634222 32.2580391098664 2.1670618698896986e+     nan     nan 2010-02-14T15:12:00.592 0564p318_ac51\n",
       "  450  324.9729842170861  603.9530120814055  280867.6053487558 1066323.4954473595 10108.348 10.466365  0.33864185 56.1428836873547 32.2685645184297 2.167062170530551e+1  1.2898  0.3257 2010-02-14T15:12:00.592 0564p318_ac51\n",
       "  452  321.0242706774049  598.9973110603569 284830.55739379115 1068357.4547213502  13554.84 10.147829  0.25254422 56.1445412282489 32.2666599330167 2.167062213470949e+1     nan     nan 2010-02-14T15:12:00.592 0564p318_ac51\n",
       "  454  327.0054603238712  624.9958651975213  264733.5597972409 1039826.4654787271 702.38831 13.361622   4.8731912 56.1421962035359 32.2766035223732 2.16706290068182e+17  3.2713  0.3532 2010-02-14T15:12:00.592 0564p318_ac51\n",
       "  455  319.0018312454164   577.992530563603 286471.78078688413 1106621.6981112112 5480.0643 11.131101  0.62462642 56.1457541349405 32.2586457210927 2.1670618698896883e+  2.8406  0.2258 2010-02-14T15:12:00.592 0564p318_ac51\n",
       "  461 404.00693798815115  591.9908714060788  268991.1738938783 1047202.2220801979 3087.1614 11.754167   1.1087638 56.1070870302461 32.2636832696958 2.1670635449205786e+  4.0344  0.9837 2010-02-14T15:12:00.592 0564p318_ac51\n",
       "  462  392.9970852357763  650.9960877261221 196247.81500251757  579827.5337538858  77767.02 8.2510765 0.039512027 56.1121784567398 32.2865464722951 2.167065262908448e+1  1.4256   2.073 2010-02-14T15:12:00.592 0564p318_ac51\n",
       "  463 289.99861042855326  632.0001189068396 270396.75241925125 1059520.5542805633 1364.8875 12.640323   2.5078178  56.158782674235 32.2791899298373 2.1670659500958413e+ -0.2153  0.4565 2010-02-14T15:12:00.592 0564p318_ac51\n",
       "  464  288.9990041987881  632.9997751726296  270476.2302590604  1060223.322986681 1265.9194  12.72205   2.7038741 56.1592504315896 32.2794912035696 2.167065993042126e+1   1.981  1.4567 2010-02-14T15:12:00.592 0564p318_ac51\n",
       "  465  118.0159501514913  644.9985135031947  288609.4617411352  866132.4239352222  68682.42 8.3859512 0.049861171 56.2364184098898 32.2843072705706 2.1670721778126746e+     nan     nan 2010-02-14T15:12:00.592 0564p318_ac51\n",
       "  466  122.0146443533429  642.0052148266147  292106.6425687225   980618.376903957   43109.5 8.8916327 0.079424291 56.2347236903785 32.2833905281381 2.1670721348561446e+     nan     nan 2010-02-14T15:12:00.592 0564p318_ac51\n",
       "  467  486.9962635296796  615.9939951055085 251830.40168598582  978067.4160370356 3480.9951 11.623807  0.98332301 56.0695584451766 32.2726979866326 2.1671814417685466e+     nan     nan 2010-02-14T15:12:00.592 0564p318_ac51\n",
       "  468 478.00225098864894  623.9904459814327 247844.71504888247  975771.8384198394 78.198083 15.745075    43.77162  56.073688602054 32.2758244684576 2.167181398824124e+1     nan     nan 2010-02-14T15:12:00.592 0564p318_ac51"
      ]
     },
     "execution_count": 32,
     "metadata": {},
     "output_type": "execute_result"
    }
   ],
   "source": [
    "phot_table"
   ]
  },
  {
   "cell_type": "markdown",
   "id": "87d194e8-f69e-4cbb-9563-4d120cf2f5ce",
   "metadata": {},
   "source": [
    "## 5. Apply over all .FITS"
   ]
  },
  {
   "cell_type": "markdown",
   "id": "1461d74f-dc47-4e06-9962-5016091c9c32",
   "metadata": {},
   "source": [
    "Let's put all the previous lines of code in a function for processing all the `.fits` files."
   ]
  },
  {
   "cell_type": "code",
   "execution_count": 33,
   "id": "2c16355b-12c2-4b13-9bf8-bda3b455b092",
   "metadata": {},
   "outputs": [],
   "source": [
    "def Photometry_Data_Table(fits_name, fits_path, catalog, r, r_in, r_out, center_box_size, *args):\n",
    "    \"\"\"\n",
    "    Function for\n",
    "    \"\"\"\n",
    "    ################################################\n",
    "    # Functions\n",
    "    ################################################\n",
    "    \n",
    "    def is_in_pic(w, image, ra, dec):\n",
    "        \"\"\"\n",
    "        Function that selects only the objects from the catalog that are inside the image. \n",
    "        \"\"\"\n",
    "        ra_max, dec_max = w.array_index_to_world_values(0,0)\n",
    "        ra_min, dec_min = w.array_index_to_world_values(image.shape[0], image.shape[1])\n",
    "        if ra_min > ra_max:\n",
    "            ra_min = w.array_index_to_world_values(0,0)[0]\n",
    "            ra_max = w.array_index_to_world_values(image.shape[0], image.shape[1])[0]\n",
    "        if dec_min > dec_max:\n",
    "            dec_min = w.array_index_to_world_values(0,0)[1]\n",
    "            dec_max = w.array_index_to_world_values(image.shape[0], image.shape[1])[1]\n",
    "        return (ra < ra_max) & (ra > ra_min) & (dec < dec_max) & (dec >   dec_min)\n",
    "\n",
    "    ################################################\n",
    "    # Main process\n",
    "    ################################################\n",
    "    \n",
    "    with fits.open(fits_path) as FitsData:\n",
    "        w = WCS(FitsData[0].header)\n",
    "        image = FitsData[0].data\n",
    "        fits_header = FitsData[0].header\n",
    "        ifilter = fits_header['BAND']\n",
    "        if ifilter == 1:\n",
    "            epadu = 3.20\n",
    "            itime  = 7.7 #sec\n",
    "        if ifilter == 2:\n",
    "            epadu = 3.83\n",
    "            itime  = 7.7 #sec\n",
    "        if ifilter == 3:\n",
    "            epadu = 6.83\n",
    "            itime = 8.8*fits_header['FRC8P8ET'] \\\n",
    "            + 4.4*fits_header['FRC4P4ET'] \\\n",
    "            + 2.2*fits_header['FRC2P2ET'] \\\n",
    "            + 1.1**fits_header['FRC1P1ET'] #sec\n",
    "        if ifilter == 4:\n",
    "            epadu = 24.50\n",
    "            itime  = 8.8 #sec\n",
    "        DateObs = fits_header['MIDOBS'] # MID VALUE OF the interval of dates of observation\n",
    "        zmag = fits_header['MAGZP']\n",
    "\n",
    "    # Writing a txt file that contains the information of the objects that are contained in the picture.\n",
    "    with open(output_dir+f\"Objectlist_{fits_name}.out\", \"w\") as NewListO:\n",
    "        object_counter = 0 # object counter for the objects that are inside the image.\n",
    "        for index, row in catalog.iterrows():\n",
    "            condition = is_in_pic(w, image, row[\"_RAJ2000\"], row[\"_DEJ2000\"])\n",
    "            if condition:\n",
    "                object_counter +=1\n",
    "                X, Y = SkyCoord(row[\"_RAJ2000\"], row[\"_DEJ2000\"], frame=\"icrs\", unit=\"deg\").to_pixel(w)\n",
    "                NewListO.write(f\"{row['_RAJ2000']}    {row['_DEJ2000']}    {row['Source']}   {X}   {Y} {row['Plx']} {row['e_Plx']}  {condition}\\n\")\n",
    "    print(f'\\n Found {object_counter} items from the catalog in the file {fits_name} \\n')\n",
    "    if object_counter == 0:\n",
    "        return None\n",
    "        quit()\n",
    "\n",
    "    # Save the coordinates from the objects of the catalog that are in the image.\n",
    "    with open(output_dir+f\"Objectlist_{fits_name}.out\", \"r\") as Obj:\n",
    "        ListObj = Obj.readlines()\n",
    "\n",
    "    Final_LO = []\n",
    "    for obj in ListObj:\n",
    "        Final_LO.append(obj.split()[:-1])\n",
    "        RA, DEC, ID, x, y, Plx, e_Plx = zip(*Final_LO) \n",
    "        Final_List = np.array(list(zip(RA,DEC,x,y,Plx,e_Plx)), dtype=float)\n",
    "        ID = np.array(ID,dtype='U20')\n",
    "\n",
    "    # Drop the objects that are not in the fits files (just in case the is_in_pic function failed numerically)\n",
    "    mm = [ 0 < i[2] and i[2] < (image.shape[0] - 1) for i in Final_List] # List of [Booleans] (x) where the positions are inside the image.\n",
    "    ID = ID[mm]\n",
    "    Final_List = Final_List[mm]\n",
    "    \n",
    "    nn = [ 0 < i[3] and i[3] < (image.shape[1] - 1) for i in Final_List] # List of [Booleans] (y) where the positions are inside the image.\n",
    "    ID = ID[nn]\n",
    "    Final_List = Final_List[nn]\n",
    "\n",
    "    # IDs repetidos se categorizan \n",
    "    u, c = np.unique(ID, return_counts=True)\n",
    "    dup = u[c > 1]\n",
    "    for j in dup:\n",
    "        m = 0\n",
    "        for i in range(len(ID)):\n",
    "            if ID[i] == j:\n",
    "                m += 0.1\n",
    "                ID[i] = ID[i] + str(m)\n",
    "    \n",
    "    # print a preview of the reduced catalog.\n",
    "    np.set_printoptions(suppress=True, formatter={'float_kind':'{:f}'    .format})\n",
    "    \n",
    "    # Extract the X, Y values\n",
    "    _, _, x_init, y_init, _, _ = zip(*Final_List)\n",
    "\n",
    "    x, y = centroid_sources(image, x_init, y_init, box_size = center_box_size, centroid_func=centroid_com)\n",
    "    X, Y = np.array(x), np.array(y)\n",
    "    NewIDS = np.array(ID) \n",
    "        \n",
    "    # Eliminate the data that have NaN or inf centroids.\n",
    "    is_nan = ~np.isnan(X)\n",
    "    x, y = X[is_nan],Y[is_nan]      \n",
    "    Final_List2 = Final_List[is_nan] \n",
    "    NewIDS = NewIDS[is_nan]\n",
    "\n",
    "    # Star coordinates centroids. \n",
    "    starloc = list(zip(x,y))\n",
    "        \n",
    "    # Extract each star signal.\n",
    "    aperture = CircularAperture(starloc, r=r)\n",
    "    annulus_aperture = CircularAnnulus(starloc, r_in=r_in, r_out=r_out )\n",
    "    apers = [aperture, annulus_aperture]\n",
    "    # Se genera una tabla de datos.\n",
    "    phot_table = aperture_photometry(image, apers)\n",
    "\n",
    "    # Se le asigna nombre de la magnitud dependiendo del filtro en el encabezado\n",
    "    name_mag = str(ifilter)\n",
    "\n",
    "    # Area y fujo en los anillos. \n",
    "    bkg_mean = phot_table['aperture_sum_1'] / annulus_aperture.area\n",
    "    area_aper = np.array(aperture.area_overlap(image))\n",
    "    bkg_sum = bkg_mean * area_aper\n",
    "        \n",
    "    # Flujo final para cada objeto\n",
    "    final_sum = phot_table['aperture_sum_0'] - bkg_sum\n",
    "    phot_table['flux'] = final_sum\n",
    "    phot_table['flux'].info.format = '%.8g'  \n",
    "        \n",
    "    # Magnitudes Instrumentales\n",
    "    phot_table[name_mag + '_mag'] = zmag - 2.5 * np.log10(final_sum) + 2.5 * np.log10(itime)\n",
    "    phot_table[name_mag + '_mag'].info.format = '%.8g'  \n",
    "        \n",
    "    # Error de las Magnitudes Instrumentales\n",
    "    mean, median, std = sigma_clipped_stats(image, sigma=3.0)\n",
    "    stdev = std\n",
    "    phot_table[name_mag + '_mag_err'] = 1.0857 * np.sqrt(final_sum    /epadu + area_aper*stdev**2 )/final_sum\n",
    "    phot_table[name_mag + '_mag_err'].info.format = '%.8g'\n",
    "\n",
    "    # Se agrega a la tabla la RA, DEC, ID y Masa de aire. \n",
    "    phot_table['RA'] = [i[0] for i in Final_List2] \n",
    "    phot_table['DEC'] = [i[1] for i in Final_List2] \n",
    "    phot_table['ID'] = NewIDS\n",
    "    phot_table['Plx'] = [i[-2] for i in Final_List2] \n",
    "    phot_table['e_Plx'] = [i[-1] for i in Final_List2] \n",
    "    \n",
    "    phot_table['DATE-OBS'] = DateObs\n",
    "    phot_table['COADDID'] = fits_header['COADDID']\n",
    "    # Se buscan los indices en donde las magnitudes sean NaN y se eliminan\n",
    "    index_nan = np.argwhere(np.isnan(phot_table[name_mag + '_mag'].data)) \n",
    "    phot_table.remove_rows(index_nan)\n",
    "    total_rows = len(phot_table)\n",
    "    print(f\"\\nAfter the analysis there are {total_rows} objects processed in the {fits_name} file\\n\\n ################################################################################################################################################\\n\\n\")\n",
    "    return phot_table"
   ]
  },
  {
   "cell_type": "markdown",
   "id": "33b5a709-639e-4d17-8804-6d280c252d4f",
   "metadata": {},
   "source": [
    "Here we add a line to ignore the warnings of the NaN values, because they are dropped in the final steps of the function."
   ]
  },
  {
   "cell_type": "code",
   "execution_count": 34,
   "id": "6dc2679a-de67-403a-b6c7-ba6ff786ee8c",
   "metadata": {},
   "outputs": [],
   "source": [
    "import warnings\n",
    "warnings.filterwarnings(\"ignore\") #for the nan values that are then drop in the final steps."
   ]
  },
  {
   "cell_type": "markdown",
   "id": "758e93a2-135b-4a27-b5fb-81c9a417d1ff",
   "metadata": {},
   "source": [
    "Let's put the previous photometric parameters here again (aperture, sky ring internal radius, sky ring external radius) for each star centroid."
   ]
  },
  {
   "cell_type": "code",
   "execution_count": 35,
   "id": "4ebe90b8-f5f6-49f8-b496-4ee32e962bb5",
   "metadata": {},
   "outputs": [
    {
     "name": "stdout",
     "output_type": "stream",
     "text": [
      "\n",
      " Found 471 items from the catalog in the file 0564p318_ac51-w3-int-3_ra56.14245833_dec32.16283333_asec900.000.fits \n",
      "\n",
      "\n",
      "After the analysis there are 270 objects processed in the 0564p318_ac51-w3-int-3_ra56.14245833_dec32.16283333_asec900.000.fits file\n",
      "\n",
      " ################################################################################################################################################\n",
      "\n",
      "\n",
      "\n",
      " Found 471 items from the catalog in the file 0564p318_ac51-w1-int-3_ra56.14245833_dec32.16283333_asec900.000.fits \n",
      "\n",
      "\n",
      "After the analysis there are 360 objects processed in the 0564p318_ac51-w1-int-3_ra56.14245833_dec32.16283333_asec900.000.fits file\n",
      "\n",
      " ################################################################################################################################################\n",
      "\n",
      "\n",
      "\n",
      " Found 471 items from the catalog in the file 0564p318_ac51-w4-int-3_ra56.14245833_dec32.16283333_asec900.000.fits \n",
      "\n",
      "\n",
      "After the analysis there are 239 objects processed in the 0564p318_ac51-w4-int-3_ra56.14245833_dec32.16283333_asec900.000.fits file\n",
      "\n",
      " ################################################################################################################################################\n",
      "\n",
      "\n",
      "\n",
      " Found 471 items from the catalog in the file 0564p318_ac51-w2-int-3_ra56.14245833_dec32.16283333_asec900.000.fits \n",
      "\n",
      "\n",
      "After the analysis there are 352 objects processed in the 0564p318_ac51-w2-int-3_ra56.14245833_dec32.16283333_asec900.000.fits file\n",
      "\n",
      " ################################################################################################################################################\n",
      "\n",
      "\n",
      "4 tables from the .fits files were generated\n"
     ]
    }
   ],
   "source": [
    "#########################################\n",
    "# Definición de parámetros fotométricos #\n",
    "#########################################\n",
    "r = 9 # Aperture (px)\n",
    "r_in = 9 # Sky ring internal radius (px)\n",
    "r_out = 20 #Sky ring external radius (px)\n",
    "#########################################\n",
    "# Let's save the tables for all the fits files\n",
    "all_tables = []\n",
    "for k in range(len(files_list)):\n",
    "  fits_path = files_list[k]\n",
    "  fits_name = names[k]\n",
    "#  catalogo = catalogo_final\n",
    "\n",
    "  photom = Photometry_Data_Table(fits_name, fits_path, gaia_catalog, r=r, r_in=r_in, r_out=r_out, center_box_size=center_box_size)\n",
    "  if photom is not None:\n",
    "    all_tables.append(photom)\n",
    "\n",
    "print(f'{len(all_tables)} tables from the .fits files were generated')"
   ]
  },
  {
   "cell_type": "markdown",
   "id": "977bb442-2ee9-435d-b59f-3cb70ac53c92",
   "metadata": {},
   "source": [
    "Let's save the objects that are centered in each of the .fits files processed. \n",
    "\n",
    "**Note:** If you have only have .fits files corresponding to one object, like \"IC358\" for example, then that is the only name that is going to be saved in the focus_object list. "
   ]
  },
  {
   "cell_type": "code",
   "execution_count": 36,
   "id": "8a3518b5-cef4-42bb-80d4-f6d7ac8c6e80",
   "metadata": {},
   "outputs": [],
   "source": [
    "#----#  List with all the main objects that are centered by the telescope.\n",
    "focus_object = []             \n",
    "for m in all_tables:\n",
    "    ob = m['COADDID'][0]\n",
    "    if ob not in focus_object:\n",
    "        focus_object.append(ob) \n",
    "#----#  Dictionary with each observed object.\n",
    "final_filter = {}\n",
    "for s in focus_object:\n",
    "    final_filter[s] = []        # Example: filtro_final = {'SA98':[], 'SA95':[], '[BSA98':[], 'SA101':[], '[ASA98':[], 'SA104':[], 'SA92':[]}\n",
    "\n",
    "#----#  Fill the dictionary with the table of each object.\n",
    "for n in all_tables:\n",
    "    for p in focus_object:\n",
    "        ob = n['COADDID'][0]\n",
    "        if ob == p:\n",
    "            final_filter[ob].append(n.copy())  # Example: filtro_final = {'SA98':[tabla1,tabla2,tabla3,..], ... , 'SA92':[tabla1,tabla2,tabla3,..]}"
   ]
  },
  {
   "cell_type": "markdown",
   "id": "889ddf3d-d648-43db-807c-b40097fbb7d9",
   "metadata": {},
   "source": [
    "Now, let's check that we have the same objects observed in each .fits file and eliminate those which are not in all the filters."
   ]
  },
  {
   "cell_type": "code",
   "execution_count": 37,
   "id": "3e81ee53-11dc-4ce6-8dba-1b5661813851",
   "metadata": {},
   "outputs": [],
   "source": [
    "#----#  Intersection of the objects in the different filters.\n",
    "for foc in focus_object:\n",
    "    current_id = []\n",
    "    for j in final_filter[foc]:\n",
    "        current_id.append(j['ID'].data)\n",
    "\n",
    "    int_d = set(current_id[0]).intersection(*current_id) # Ejemplo para SA98: int_d = {'92_248', ... , '92_347'}\n",
    "\n",
    "#----#  Delete the objects that are not in all the filters\n",
    "for tab in final_filter[foc]:\n",
    "    index_of = []\n",
    "    for i in range(len(tab['ID'])):\n",
    "        if tab['ID'][i] not in int_d:\n",
    "            index_of.append(i)\n",
    "    tab.remove_rows(index_of)\n",
    "\n",
    "#----# Delete the void tables.\n",
    "for p in focus_object:\n",
    "    if len(final_filter[p][0]) == 0:\n",
    "        del final_filter[p]\n",
    "\n",
    "for foc in final_filter.keys():\n",
    "    let = len(final_filter[foc])"
   ]
  },
  {
   "cell_type": "markdown",
   "id": "13a08611-22c6-43b7-bc10-049292b8c219",
   "metadata": {},
   "source": [
    "Finally, let's create and save the tables for each object."
   ]
  },
  {
   "cell_type": "code",
   "execution_count": 38,
   "id": "0ce9a077-2b39-459c-b58b-db2330aff69f",
   "metadata": {},
   "outputs": [],
   "source": [
    "#----# Create the tables for each main object.\n",
    "for foc in final_filter.keys():\n",
    "    final_obs_table = pd.DataFrame()\n",
    "    final_obs_table['OBJECT_ID'] = final_filter[foc][0]['ID']\n",
    "    final_obs_table['RA'] = final_filter[foc][0]['RA']\n",
    "    final_obs_table['DEC'] = final_filter[foc][0]['DEC']\n",
    "    final_obs_table['Plx'] = final_filter[foc][0]['Plx']\n",
    "    final_obs_table['e_Plx'] = final_filter[foc][0]['e_Plx']\n",
    "    #----# Save the tables as .csv files.\n",
    "    for j in final_filter[foc]:\n",
    "        final_obs_table[j.colnames[8]] = j[j.colnames[6]]\n",
    "        final_obs_table[j.colnames[9]] = j[j.colnames[7]]\n",
    "        final_obs_table[j.colnames[13] + '_' + j.colnames[6]] = j[j.colnames[11]]\n",
    "    final_obs_table.to_csv(output_dir+f'/Table_{foc}.csv')     "
   ]
  },
  {
   "cell_type": "markdown",
   "id": "e553db02-eebc-481f-a696-1081f5e9e2a1",
   "metadata": {},
   "source": [
    "Printing one of the saved .csv (we are going to show the last one saved), you can see that it saves the magnitude, uncertainty of the magnitude and the date of observation of each of the objects for all the channels that you had in the fits. files."
   ]
  },
  {
   "cell_type": "code",
   "execution_count": 39,
   "id": "e9c9c74f-1f90-4a46-b243-cb824625af20",
   "metadata": {},
   "outputs": [
    {
     "data": {
      "text/html": [
       "<div>\n",
       "<style scoped>\n",
       "    .dataframe tbody tr th:only-of-type {\n",
       "        vertical-align: middle;\n",
       "    }\n",
       "\n",
       "    .dataframe tbody tr th {\n",
       "        vertical-align: top;\n",
       "    }\n",
       "\n",
       "    .dataframe thead th {\n",
       "        text-align: right;\n",
       "    }\n",
       "</style>\n",
       "<table border=\"1\" class=\"dataframe\">\n",
       "  <thead>\n",
       "    <tr style=\"text-align: right;\">\n",
       "      <th></th>\n",
       "      <th>OBJECT_ID</th>\n",
       "      <th>RA</th>\n",
       "      <th>DEC</th>\n",
       "      <th>Plx</th>\n",
       "      <th>e_Plx</th>\n",
       "      <th>DATE-OBS_3_mag</th>\n",
       "      <th>DATE-OBS_1_mag</th>\n",
       "      <th>DATE-OBS_4_mag</th>\n",
       "      <th>DATE-OBS_2_mag</th>\n",
       "    </tr>\n",
       "  </thead>\n",
       "  <tbody>\n",
       "    <tr>\n",
       "      <th>0</th>\n",
       "      <td>2.1662973227464986e+</td>\n",
       "      <td>13.909825</td>\n",
       "      <td>0.100549</td>\n",
       "      <td>2.7968</td>\n",
       "      <td>0.3897</td>\n",
       "      <td>2.7968</td>\n",
       "      <td>2.7968</td>\n",
       "      <td>2.7968</td>\n",
       "      <td>2.7968</td>\n",
       "    </tr>\n",
       "    <tr>\n",
       "      <th>1</th>\n",
       "      <td>2.1662986971452646e+</td>\n",
       "      <td>12.702777</td>\n",
       "      <td>0.034529</td>\n",
       "      <td>3.5633</td>\n",
       "      <td>0.4493</td>\n",
       "      <td>3.5633</td>\n",
       "      <td>3.5633</td>\n",
       "      <td>3.5633</td>\n",
       "      <td>3.5633</td>\n",
       "    </tr>\n",
       "    <tr>\n",
       "      <th>2</th>\n",
       "      <td>2.1662987401007578e+</td>\n",
       "      <td>12.703241</td>\n",
       "      <td>0.034544</td>\n",
       "      <td>3.2539</td>\n",
       "      <td>0.0762</td>\n",
       "      <td>3.2539</td>\n",
       "      <td>3.2539</td>\n",
       "      <td>3.2539</td>\n",
       "      <td>3.2539</td>\n",
       "    </tr>\n",
       "    <tr>\n",
       "      <th>3</th>\n",
       "      <td>2.1663014459149683e+</td>\n",
       "      <td>11.828554</td>\n",
       "      <td>0.016034</td>\n",
       "      <td>3.0209</td>\n",
       "      <td>0.0756</td>\n",
       "      <td>3.0209</td>\n",
       "      <td>3.0209</td>\n",
       "      <td>3.0209</td>\n",
       "      <td>3.0209</td>\n",
       "    </tr>\n",
       "    <tr>\n",
       "      <th>4</th>\n",
       "      <td>2.1663011452824448e+</td>\n",
       "      <td>14.213526</td>\n",
       "      <td>0.135450</td>\n",
       "      <td>3.0688</td>\n",
       "      <td>0.2405</td>\n",
       "      <td>3.0688</td>\n",
       "      <td>3.0688</td>\n",
       "      <td>3.0688</td>\n",
       "      <td>3.0688</td>\n",
       "    </tr>\n",
       "    <tr>\n",
       "      <th>...</th>\n",
       "      <td>...</td>\n",
       "      <td>...</td>\n",
       "      <td>...</td>\n",
       "      <td>...</td>\n",
       "      <td>...</td>\n",
       "      <td>...</td>\n",
       "      <td>...</td>\n",
       "      <td>...</td>\n",
       "      <td>...</td>\n",
       "    </tr>\n",
       "    <tr>\n",
       "      <th>172</th>\n",
       "      <td>2.167065262908448e+1</td>\n",
       "      <td>13.797095</td>\n",
       "      <td>0.083373</td>\n",
       "      <td>1.4256</td>\n",
       "      <td>2.0730</td>\n",
       "      <td>1.4256</td>\n",
       "      <td>1.4256</td>\n",
       "      <td>1.4256</td>\n",
       "      <td>1.4256</td>\n",
       "    </tr>\n",
       "    <tr>\n",
       "      <th>173</th>\n",
       "      <td>2.1670659500958413e+</td>\n",
       "      <td>15.718141</td>\n",
       "      <td>0.538125</td>\n",
       "      <td>-0.2153</td>\n",
       "      <td>0.4565</td>\n",
       "      <td>-0.2153</td>\n",
       "      <td>-0.2153</td>\n",
       "      <td>-0.2153</td>\n",
       "      <td>-0.2153</td>\n",
       "    </tr>\n",
       "    <tr>\n",
       "      <th>174</th>\n",
       "      <td>2.1670721778126746e+</td>\n",
       "      <td>13.433126</td>\n",
       "      <td>0.066590</td>\n",
       "      <td>NaN</td>\n",
       "      <td>NaN</td>\n",
       "      <td>NaN</td>\n",
       "      <td>NaN</td>\n",
       "      <td>NaN</td>\n",
       "      <td>NaN</td>\n",
       "    </tr>\n",
       "    <tr>\n",
       "      <th>175</th>\n",
       "      <td>2.1670721348561446e+</td>\n",
       "      <td>13.761976</td>\n",
       "      <td>0.089748</td>\n",
       "      <td>NaN</td>\n",
       "      <td>NaN</td>\n",
       "      <td>NaN</td>\n",
       "      <td>NaN</td>\n",
       "      <td>NaN</td>\n",
       "      <td>NaN</td>\n",
       "    </tr>\n",
       "    <tr>\n",
       "      <th>176</th>\n",
       "      <td>2.1671814417685466e+</td>\n",
       "      <td>14.173355</td>\n",
       "      <td>0.130571</td>\n",
       "      <td>NaN</td>\n",
       "      <td>NaN</td>\n",
       "      <td>NaN</td>\n",
       "      <td>NaN</td>\n",
       "      <td>NaN</td>\n",
       "      <td>NaN</td>\n",
       "    </tr>\n",
       "  </tbody>\n",
       "</table>\n",
       "<p>177 rows × 9 columns</p>\n",
       "</div>"
      ],
      "text/plain": [
       "                OBJECT_ID         RA       DEC     Plx   e_Plx  \\\n",
       "0    2.1662973227464986e+  13.909825  0.100549  2.7968  0.3897   \n",
       "1    2.1662986971452646e+  12.702777  0.034529  3.5633  0.4493   \n",
       "2    2.1662987401007578e+  12.703241  0.034544  3.2539  0.0762   \n",
       "3    2.1663014459149683e+  11.828554  0.016034  3.0209  0.0756   \n",
       "4    2.1663011452824448e+  14.213526  0.135450  3.0688  0.2405   \n",
       "..                    ...        ...       ...     ...     ...   \n",
       "172  2.167065262908448e+1  13.797095  0.083373  1.4256  2.0730   \n",
       "173  2.1670659500958413e+  15.718141  0.538125 -0.2153  0.4565   \n",
       "174  2.1670721778126746e+  13.433126  0.066590     NaN     NaN   \n",
       "175  2.1670721348561446e+  13.761976  0.089748     NaN     NaN   \n",
       "176  2.1671814417685466e+  14.173355  0.130571     NaN     NaN   \n",
       "\n",
       "     DATE-OBS_3_mag  DATE-OBS_1_mag  DATE-OBS_4_mag  DATE-OBS_2_mag  \n",
       "0            2.7968          2.7968          2.7968          2.7968  \n",
       "1            3.5633          3.5633          3.5633          3.5633  \n",
       "2            3.2539          3.2539          3.2539          3.2539  \n",
       "3            3.0209          3.0209          3.0209          3.0209  \n",
       "4            3.0688          3.0688          3.0688          3.0688  \n",
       "..              ...             ...             ...             ...  \n",
       "172          1.4256          1.4256          1.4256          1.4256  \n",
       "173         -0.2153         -0.2153         -0.2153         -0.2153  \n",
       "174             NaN             NaN             NaN             NaN  \n",
       "175             NaN             NaN             NaN             NaN  \n",
       "176             NaN             NaN             NaN             NaN  \n",
       "\n",
       "[177 rows x 9 columns]"
      ]
     },
     "execution_count": 39,
     "metadata": {},
     "output_type": "execute_result"
    }
   ],
   "source": [
    "final_obs_table"
   ]
  }
 ],
 "metadata": {
  "kernelspec": {
   "display_name": "Python 3 (ipykernel)",
   "language": "python",
   "name": "python3"
  },
  "language_info": {
   "codemirror_mode": {
    "name": "ipython",
    "version": 3
   },
   "file_extension": ".py",
   "mimetype": "text/x-python",
   "name": "python",
   "nbconvert_exporter": "python",
   "pygments_lexer": "ipython3",
   "version": "3.11.8"
  }
 },
 "nbformat": 4,
 "nbformat_minor": 5
}
