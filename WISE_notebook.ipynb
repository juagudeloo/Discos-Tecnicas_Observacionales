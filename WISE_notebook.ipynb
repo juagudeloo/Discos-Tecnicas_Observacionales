{
 "cells": [
  {
   "cell_type": "markdown",
   "id": "b7f8e62d-bc62-4a89-9625-56064944ae6c",
   "metadata": {},
   "source": [
    "# Third project - Class: Tecnicas observacionales"
   ]
  },
  {
   "cell_type": "markdown",
   "id": "af223685-746e-440c-bb18-1314e427bedc",
   "metadata": {},
   "source": [
    "## 1. Requirements"
   ]
  },
  {
   "cell_type": "markdown",
   "id": "d201adaf-08b9-41f8-8d30-8b5acec54819",
   "metadata": {},
   "source": [
    "Run the terminal command `pip install` using the dependencies document `requirements.txt`, which contains the libraries to be installed for the notebook to work."
   ]
  },
  {
   "cell_type": "code",
   "execution_count": 1,
   "id": "2843a7f1-8a2c-495c-8155-6a2c9b9d2ee7",
   "metadata": {},
   "outputs": [
    {
     "name": "stdout",
     "output_type": "stream",
     "text": [
      "Requirement already satisfied: numpy in /home/juanessao2000/anaconda3/lib/python3.11/site-packages (from -r requirements.txt (line 1)) (1.26.4)\n",
      "Requirement already satisfied: photutils in /home/juanessao2000/anaconda3/lib/python3.11/site-packages (from -r requirements.txt (line 2)) (1.12.0)\n",
      "Requirement already satisfied: astropy in /home/juanessao2000/anaconda3/lib/python3.11/site-packages (from -r requirements.txt (line 3)) (5.3.4)\n",
      "Requirement already satisfied: pyerfa>=2.0 in /home/juanessao2000/anaconda3/lib/python3.11/site-packages (from astropy->-r requirements.txt (line 3)) (2.0.0)\n",
      "Requirement already satisfied: PyYAML>=3.13 in /home/juanessao2000/anaconda3/lib/python3.11/site-packages (from astropy->-r requirements.txt (line 3)) (6.0.1)\n",
      "Requirement already satisfied: packaging>=19.0 in /home/juanessao2000/anaconda3/lib/python3.11/site-packages (from astropy->-r requirements.txt (line 3)) (23.2)\n"
     ]
    }
   ],
   "source": [
    "!pip install -r requirements.txt"
   ]
  },
  {
   "cell_type": "markdown",
   "id": "8ab39481-1907-42a0-8e12-041b98416c16",
   "metadata": {},
   "source": [
    "Also, for downloading the necessary `.fits` files, follow the instructions described in [this pdf](work.pdf)"
   ]
  },
  {
   "cell_type": "markdown",
   "id": "25e37583-cdef-4495-a395-cdf126839b65",
   "metadata": {},
   "source": [
    "## 2. Libraries import"
   ]
  },
  {
   "cell_type": "markdown",
   "id": "ebda28ab-75f4-4868-a983-2ae694bdb812",
   "metadata": {},
   "source": [
    "Import the necessary libraries and functions for further steps"
   ]
  },
  {
   "cell_type": "code",
   "execution_count": 2,
   "id": "e25f6808-881a-43a4-9cf9-8b52a54adbee",
   "metadata": {},
   "outputs": [],
   "source": [
    "import numpy as np\n",
    "\n",
    "import glob\n",
    "\n",
    "from photutils.aperture import CircularAperture\n",
    "from photutils.aperture import CircularAnnulus\n",
    "from photutils.aperture import aperture_photometry\n",
    "from photutils.utils import calc_total_error\n",
    "from photutils.centroids import centroid_sources, centroid_com\n",
    "\n",
    "from scipy.stats import mode\n",
    "\n",
    "from astropy.coordinates import SkyCoord\n",
    "from astropy import units as u\n",
    "from astropy.io import fits\n",
    "from astropy.wcs import WCS\n",
    "from astropy.table import Table\n",
    "from astropy.stats import sigma_clipped_stats\n",
    "from astropy.table.table import QTable\n",
    "\n",
    "import pandas as pd\n",
    "\n",
    "import matplotlib.pyplot as plt"
   ]
  },
  {
   "cell_type": "markdown",
   "id": "22686c5c-60a3-4346-a6bd-e42bfb6fc107",
   "metadata": {},
   "source": [
    "## 3. Paths definition"
   ]
  },
  {
   "cell_type": "markdown",
   "id": "7ef6d0e8-990b-4bb8-aa15-3693891d8b00",
   "metadata": {},
   "source": [
    "Write down the variables with the path to find the `.fits` and `.tsv` files and the variable with the path to save the output `.csv`."
   ]
  },
  {
   "cell_type": "code",
   "execution_count": 3,
   "id": "f79d4e74-fe39-4c11-8d61-b805b25eb3fe",
   "metadata": {},
   "outputs": [],
   "source": [
    "#This directory must contain all the files that correspond to one of the instruments (SPITZER, WISE or MIPS).\n",
    "fits_dir = './Data/WISE/'\n",
    "#This directory must contain all the file corresponding to the GAIA catalog (here is used the catalog GAIA DR2 generated using SAO image ds9).\n",
    "catalog_dir = './Data/Catalogs/'\n",
    "#This directory is where the output .csv is going to be saved.\n",
    "output_dir = './Data/WISE_outputs/'"
   ]
  },
  {
   "cell_type": "markdown",
   "id": "9d1b77f9-a298-4557-b66d-fe25a0c3eb51",
   "metadata": {},
   "source": [
    "## 4. Main code"
   ]
  },
  {
   "cell_type": "markdown",
   "id": "5add0062-43ef-48c3-8a7c-3feee0147bf5",
   "metadata": {},
   "source": [
    "### 4.1 Charge .fits files"
   ]
  },
  {
   "cell_type": "markdown",
   "id": "29eb9d38-30af-4ad5-9e0a-d375c0ca0d7b",
   "metadata": {},
   "source": [
    "Charge the .fits files that you have in your data directory"
   ]
  },
  {
   "cell_type": "code",
   "execution_count": 4,
   "id": "28871440-1795-494a-b74f-e34d1d5f00ef",
   "metadata": {},
   "outputs": [
    {
     "name": "stdout",
     "output_type": "stream",
     "text": [
      "Names charged in the list!\n"
     ]
    }
   ],
   "source": [
    "\n",
    "files_list = glob.glob(fits_dir + '*.fits')\n",
    "names = []\n",
    "for file in files_list:\n",
    "    if (fits_dir in file) and (file.endswith('.fits')):\n",
    "        names.append(file.replace(fits_dir,''))\n",
    "        \n",
    "print(\"Names charged in the list!\")"
   ]
  },
  {
   "cell_type": "markdown",
   "id": "d69028bb-eec4-403c-b265-8df9a418163f",
   "metadata": {},
   "source": [
    "Let's check all our files has been charged."
   ]
  },
  {
   "cell_type": "code",
   "execution_count": 5,
   "id": "2fa7af49-7904-427e-b4eb-df3ab8299255",
   "metadata": {},
   "outputs": [
    {
     "name": "stdout",
     "output_type": "stream",
     "text": [
      "\n",
      " Your directory has 4 .fits files \n",
      "\n",
      "No. 1: 0564p318_ac51-w3-int-3_ra56.14245833_dec32.16283333_asec900.000.fits\n",
      "No. 2: 0564p318_ac51-w1-int-3_ra56.14245833_dec32.16283333_asec900.000.fits\n",
      "No. 3: 0564p318_ac51-w4-int-3_ra56.14245833_dec32.16283333_asec900.000.fits\n",
      "No. 4: 0564p318_ac51-w2-int-3_ra56.14245833_dec32.16283333_asec900.000.fits\n"
     ]
    }
   ],
   "source": [
    "# Printing the name of the .fits files charged.\n",
    "if names != []:\n",
    "    N_files = len(names)\n",
    "    print(f'\\n Your directory has {N_files} .fits files \\n')\n",
    "    for l in range(N_files):\n",
    "        print(f'No. {l+1}: {names[l]}')\n",
    "else: \n",
    "  print('\\n Su carpeta no tiene archivos .fits \\n')"
   ]
  },
  {
   "cell_type": "markdown",
   "id": "bd8bc69c-c734-43e9-81f6-f0f77c550978",
   "metadata": {},
   "source": [
    "### 4.2 Charge the catalog file "
   ]
  },
  {
   "cell_type": "markdown",
   "id": "d97680ca-9dfd-4309-9356-d72d1c3114b8",
   "metadata": {},
   "source": [
    "Charge the file with the catalog generated by SAOimage ds9"
   ]
  },
  {
   "cell_type": "code",
   "execution_count": 6,
   "id": "634b0e2d-020b-4377-8c43-768662b6e5a7",
   "metadata": {},
   "outputs": [
    {
     "data": {
      "text/html": [
       "<div>\n",
       "<style scoped>\n",
       "    .dataframe tbody tr th:only-of-type {\n",
       "        vertical-align: middle;\n",
       "    }\n",
       "\n",
       "    .dataframe tbody tr th {\n",
       "        vertical-align: top;\n",
       "    }\n",
       "\n",
       "    .dataframe thead th {\n",
       "        text-align: right;\n",
       "    }\n",
       "</style>\n",
       "<table border=\"1\" class=\"dataframe\">\n",
       "  <thead>\n",
       "    <tr style=\"text-align: right;\">\n",
       "      <th></th>\n",
       "      <th>_RAJ2000</th>\n",
       "      <th>_DEJ2000</th>\n",
       "      <th>RA_ICRS</th>\n",
       "      <th>e_RA_ICRS</th>\n",
       "      <th>DE_ICRS</th>\n",
       "      <th>e_DE_ICRS</th>\n",
       "      <th>Source</th>\n",
       "      <th>Plx</th>\n",
       "      <th>e_Plx</th>\n",
       "      <th>pmRA</th>\n",
       "      <th>...</th>\n",
       "      <th>RPmag</th>\n",
       "      <th>e_RPmag</th>\n",
       "      <th>BP-RP</th>\n",
       "      <th>RV</th>\n",
       "      <th>e_RV</th>\n",
       "      <th>Teff</th>\n",
       "      <th>AG</th>\n",
       "      <th>E(BP-RP)</th>\n",
       "      <th>Rad</th>\n",
       "      <th>Lum</th>\n",
       "    </tr>\n",
       "  </thead>\n",
       "  <tbody>\n",
       "    <tr>\n",
       "      <th>0</th>\n",
       "      <td>56.140769</td>\n",
       "      <td>31.975080</td>\n",
       "      <td>56.140796</td>\n",
       "      <td>0.3242</td>\n",
       "      <td>31.975046</td>\n",
       "      <td>0.1349</td>\n",
       "      <td>216627812425858432</td>\n",
       "      <td>2.8710</td>\n",
       "      <td>0.3193</td>\n",
       "      <td>5.223</td>\n",
       "      <td>...</td>\n",
       "      <td>16.3286</td>\n",
       "      <td>0.0644</td>\n",
       "      <td>3.6859</td>\n",
       "      <td>NaN</td>\n",
       "      <td>NaN</td>\n",
       "      <td>NaN</td>\n",
       "      <td>NaN</td>\n",
       "      <td>NaN</td>\n",
       "      <td>NaN</td>\n",
       "      <td>NaN</td>\n",
       "    </tr>\n",
       "    <tr>\n",
       "      <th>1</th>\n",
       "      <td>56.213663</td>\n",
       "      <td>31.986909</td>\n",
       "      <td>56.213677</td>\n",
       "      <td>0.9994</td>\n",
       "      <td>31.986910</td>\n",
       "      <td>0.4143</td>\n",
       "      <td>216629113800124544</td>\n",
       "      <td>-0.9963</td>\n",
       "      <td>0.9072</td>\n",
       "      <td>2.636</td>\n",
       "      <td>...</td>\n",
       "      <td>18.6819</td>\n",
       "      <td>0.0578</td>\n",
       "      <td>2.1048</td>\n",
       "      <td>NaN</td>\n",
       "      <td>NaN</td>\n",
       "      <td>NaN</td>\n",
       "      <td>NaN</td>\n",
       "      <td>NaN</td>\n",
       "      <td>NaN</td>\n",
       "      <td>NaN</td>\n",
       "    </tr>\n",
       "    <tr>\n",
       "      <th>2</th>\n",
       "      <td>56.219711</td>\n",
       "      <td>32.015701</td>\n",
       "      <td>56.219736</td>\n",
       "      <td>0.1829</td>\n",
       "      <td>32.015668</td>\n",
       "      <td>0.0787</td>\n",
       "      <td>216629530412699008</td>\n",
       "      <td>3.4062</td>\n",
       "      <td>0.1702</td>\n",
       "      <td>5.053</td>\n",
       "      <td>...</td>\n",
       "      <td>14.9032</td>\n",
       "      <td>0.0045</td>\n",
       "      <td>3.6261</td>\n",
       "      <td>NaN</td>\n",
       "      <td>NaN</td>\n",
       "      <td>3496.43</td>\n",
       "      <td>2.1027</td>\n",
       "      <td>1.2005</td>\n",
       "      <td>0.58</td>\n",
       "      <td>0.046</td>\n",
       "    </tr>\n",
       "    <tr>\n",
       "      <th>3</th>\n",
       "      <td>56.254507</td>\n",
       "      <td>32.040566</td>\n",
       "      <td>56.254532</td>\n",
       "      <td>0.3843</td>\n",
       "      <td>32.040534</td>\n",
       "      <td>0.1582</td>\n",
       "      <td>216629732274649856</td>\n",
       "      <td>2.7968</td>\n",
       "      <td>0.3897</td>\n",
       "      <td>4.751</td>\n",
       "      <td>...</td>\n",
       "      <td>16.8323</td>\n",
       "      <td>0.0080</td>\n",
       "      <td>3.7482</td>\n",
       "      <td>NaN</td>\n",
       "      <td>NaN</td>\n",
       "      <td>NaN</td>\n",
       "      <td>NaN</td>\n",
       "      <td>NaN</td>\n",
       "      <td>NaN</td>\n",
       "      <td>NaN</td>\n",
       "    </tr>\n",
       "    <tr>\n",
       "      <th>4</th>\n",
       "      <td>56.267739</td>\n",
       "      <td>32.051545</td>\n",
       "      <td>56.267756</td>\n",
       "      <td>0.2295</td>\n",
       "      <td>32.051515</td>\n",
       "      <td>0.1061</td>\n",
       "      <td>216629874010076544</td>\n",
       "      <td>2.8970</td>\n",
       "      <td>0.2724</td>\n",
       "      <td>3.448</td>\n",
       "      <td>...</td>\n",
       "      <td>16.3039</td>\n",
       "      <td>0.0051</td>\n",
       "      <td>3.5550</td>\n",
       "      <td>NaN</td>\n",
       "      <td>NaN</td>\n",
       "      <td>NaN</td>\n",
       "      <td>NaN</td>\n",
       "      <td>NaN</td>\n",
       "      <td>NaN</td>\n",
       "      <td>NaN</td>\n",
       "    </tr>\n",
       "  </tbody>\n",
       "</table>\n",
       "<p>5 rows × 34 columns</p>\n",
       "</div>"
      ],
      "text/plain": [
       "    _RAJ2000   _DEJ2000    RA_ICRS  e_RA_ICRS    DE_ICRS  e_DE_ICRS  \\\n",
       "0  56.140769  31.975080  56.140796     0.3242  31.975046     0.1349   \n",
       "1  56.213663  31.986909  56.213677     0.9994  31.986910     0.4143   \n",
       "2  56.219711  32.015701  56.219736     0.1829  32.015668     0.0787   \n",
       "3  56.254507  32.040566  56.254532     0.3843  32.040534     0.1582   \n",
       "4  56.267739  32.051545  56.267756     0.2295  32.051515     0.1061   \n",
       "\n",
       "               Source     Plx   e_Plx   pmRA  ...    RPmag  e_RPmag   BP-RP  \\\n",
       "0  216627812425858432  2.8710  0.3193  5.223  ...  16.3286   0.0644  3.6859   \n",
       "1  216629113800124544 -0.9963  0.9072  2.636  ...  18.6819   0.0578  2.1048   \n",
       "2  216629530412699008  3.4062  0.1702  5.053  ...  14.9032   0.0045  3.6261   \n",
       "3  216629732274649856  2.7968  0.3897  4.751  ...  16.8323   0.0080  3.7482   \n",
       "4  216629874010076544  2.8970  0.2724  3.448  ...  16.3039   0.0051  3.5550   \n",
       "\n",
       "   RV  e_RV     Teff      AG  E(BP-RP)   Rad    Lum  \n",
       "0 NaN   NaN      NaN     NaN       NaN   NaN    NaN  \n",
       "1 NaN   NaN      NaN     NaN       NaN   NaN    NaN  \n",
       "2 NaN   NaN  3496.43  2.1027    1.2005  0.58  0.046  \n",
       "3 NaN   NaN      NaN     NaN       NaN   NaN    NaN  \n",
       "4 NaN   NaN      NaN     NaN       NaN   NaN    NaN  \n",
       "\n",
       "[5 rows x 34 columns]"
      ]
     },
     "execution_count": 6,
     "metadata": {},
     "output_type": "execute_result"
    }
   ],
   "source": [
    "objects = pd.read_csv(catalog_dir+\"ds9-ch2.tsv\", sep='\\t')\n",
    "objects.head(5)"
   ]
  },
  {
   "cell_type": "markdown",
   "id": "e6acbb6d-9898-4fc5-b566-a90f655b8567",
   "metadata": {},
   "source": [
    "Here we are interested specifically in the Right ascension, the Declination and the Source ID for each star. Let's extract them."
   ]
  },
  {
   "cell_type": "code",
   "execution_count": 7,
   "id": "98aaf9d7-13fb-4f03-a79e-7010f886d9f2",
   "metadata": {},
   "outputs": [],
   "source": [
    "ra = objects[\"_RAJ2000\"]\n",
    "dec = objects[\"_DEJ2000\"]\n",
    "id_code = objects[\"Source\"]"
   ]
  },
  {
   "cell_type": "markdown",
   "id": "9f5a3f4a-fa79-4d6d-82b6-97a1d76be1ff",
   "metadata": {},
   "source": [
    "This values are in hhmmss and ggmmss, then we will convert them to degrees."
   ]
  },
  {
   "cell_type": "code",
   "execution_count": 8,
   "id": "e86e781b-200a-4906-8714-322514549414",
   "metadata": {},
   "outputs": [],
   "source": [
    "decimal_catalog = SkyCoord(ra, dec, unit=(u.degree))\n",
    "gaia_catalog = {\"_RAJ2000\": decimal_catalog.ra.deg,\n",
    "           \"_DEJ2000\": decimal_catalog.dec.deg,\n",
    "           \"Source\": id_code}\n",
    "gaia_catalog = pd.DataFrame(gaia_catalog)"
   ]
  },
  {
   "cell_type": "code",
   "execution_count": 9,
   "id": "da56c460-efdc-495a-a8e2-f86220f5a240",
   "metadata": {},
   "outputs": [
    {
     "data": {
      "text/html": [
       "<div>\n",
       "<style scoped>\n",
       "    .dataframe tbody tr th:only-of-type {\n",
       "        vertical-align: middle;\n",
       "    }\n",
       "\n",
       "    .dataframe tbody tr th {\n",
       "        vertical-align: top;\n",
       "    }\n",
       "\n",
       "    .dataframe thead th {\n",
       "        text-align: right;\n",
       "    }\n",
       "</style>\n",
       "<table border=\"1\" class=\"dataframe\">\n",
       "  <thead>\n",
       "    <tr style=\"text-align: right;\">\n",
       "      <th></th>\n",
       "      <th>_RAJ2000</th>\n",
       "      <th>_DEJ2000</th>\n",
       "      <th>Source</th>\n",
       "    </tr>\n",
       "  </thead>\n",
       "  <tbody>\n",
       "    <tr>\n",
       "      <th>0</th>\n",
       "      <td>56.140769</td>\n",
       "      <td>31.975080</td>\n",
       "      <td>216627812425858432</td>\n",
       "    </tr>\n",
       "    <tr>\n",
       "      <th>1</th>\n",
       "      <td>56.213663</td>\n",
       "      <td>31.986909</td>\n",
       "      <td>216629113800124544</td>\n",
       "    </tr>\n",
       "    <tr>\n",
       "      <th>2</th>\n",
       "      <td>56.219711</td>\n",
       "      <td>32.015701</td>\n",
       "      <td>216629530412699008</td>\n",
       "    </tr>\n",
       "    <tr>\n",
       "      <th>3</th>\n",
       "      <td>56.254507</td>\n",
       "      <td>32.040566</td>\n",
       "      <td>216629732274649856</td>\n",
       "    </tr>\n",
       "    <tr>\n",
       "      <th>4</th>\n",
       "      <td>56.267739</td>\n",
       "      <td>32.051545</td>\n",
       "      <td>216629874010076544</td>\n",
       "    </tr>\n",
       "  </tbody>\n",
       "</table>\n",
       "</div>"
      ],
      "text/plain": [
       "    _RAJ2000   _DEJ2000              Source\n",
       "0  56.140769  31.975080  216627812425858432\n",
       "1  56.213663  31.986909  216629113800124544\n",
       "2  56.219711  32.015701  216629530412699008\n",
       "3  56.254507  32.040566  216629732274649856\n",
       "4  56.267739  32.051545  216629874010076544"
      ]
     },
     "execution_count": 9,
     "metadata": {},
     "output_type": "execute_result"
    }
   ],
   "source": [
    "gaia_catalog.head(5)"
   ]
  },
  {
   "cell_type": "markdown",
   "id": "2f39bb32-0bce-47af-a330-7dfc0748b450",
   "metadata": {},
   "source": [
    "### 4.3 .FITS processing"
   ]
  },
  {
   "cell_type": "markdown",
   "id": "b614f535-5597-44a8-a76e-6186a5429f2c",
   "metadata": {},
   "source": [
    "Let's do some tests with just one of the `.fits` files.\n",
    "\n",
    "---\n",
    "\n",
    "First of all let's define a function that detects whether or not an object of the catalog is inside the image."
   ]
  },
  {
   "cell_type": "code",
   "execution_count": 10,
   "id": "84d54647-5032-41ee-9125-57610b9839ef",
   "metadata": {},
   "outputs": [],
   "source": [
    "def is_in_pic(w, image, ra, dec):\n",
    "        \"\"\"\n",
    "        Function that selects only the objects from the catalog that are inside the image. \n",
    "        \"\"\"\n",
    "        ra_max, dec_max = w.array_index_to_world_values(0,0)\n",
    "        ra_min, dec_min = w.array_index_to_world_values(image.shape[0], image.shape[1])\n",
    "        if ra_min > ra_max:\n",
    "            ra_min = w.array_index_to_world_values(0,0)[0]\n",
    "            ra_max = w.array_index_to_world_values(image.shape[0], image.shape[1])[0]\n",
    "        if dec_min > dec_max:\n",
    "            dec_min = w.array_index_to_world_values(0,0)[1]\n",
    "            dec_max = w.array_index_to_world_values(image.shape[0], image.shape[1])[1]\n",
    "        return (ra < ra_max) & (ra > ra_min) & (dec < dec_max) & (dec >   dec_min)"
   ]
  },
  {
   "cell_type": "markdown",
   "id": "eea719f1-8e7f-40e6-afc8-c5d87e8ae6fc",
   "metadata": {},
   "source": [
    "Let's open the `.fits` file"
   ]
  },
  {
   "cell_type": "code",
   "execution_count": 11,
   "id": "fa84e9da-ff56-4a2c-8669-01a81180bc1f",
   "metadata": {},
   "outputs": [
    {
     "name": "stdout",
     "output_type": "stream",
     "text": [
      "\n",
      "path to the file: ./Data/WISE/0564p318_ac51-w3-int-3_ra56.14245833_dec32.16283333_asec900.000.fits,\n",
      "\n",
      "file_name: 0564p318_ac51-w3-int-3_ra56.14245833_dec32.16283333_asec900.000.fits\n",
      "\n"
     ]
    }
   ],
   "source": [
    "k = 0\n",
    "fits_path = files_list[k]\n",
    "fits_name = names[k]\n",
    "print(f\"\"\"\n",
    "path to the file: {fits_path},\n",
    "\n",
    "file_name: {fits_name}\n",
    "\"\"\")"
   ]
  },
  {
   "cell_type": "markdown",
   "id": "eb9c7da8-d44a-4342-9a2f-bb250474af81",
   "metadata": {},
   "source": [
    "For extracting the data necessay for future manipulation, you may print the header to know what of each of the header attributes you need."
   ]
  },
  {
   "cell_type": "code",
   "execution_count": 12,
   "id": "16065d5b-3a89-49bc-a53d-28dcb96e20ea",
   "metadata": {},
   "outputs": [
    {
     "data": {
      "text/plain": [
       "SIMPLE  =                    T / Created with PDL (http://pdl.perl.org)         \n",
       "BITPIX  =                  -32 / number of bits per data pixel                  \n",
       "NAXIS   =                    2 / number of data axes                            \n",
       "NAXIS1  =                  655 / length of data axis 1                          \n",
       "NAXIS2  =                  656 / length of data axis 2                          \n",
       "BUNIT   = 'DN      '           / image pixel units                              \n",
       "EXTEND  =                    T / FITS dataset may contain extensions            \n",
       "COMMENT   FITS (Flexible Image Transport System) format is defined in 'Astronomy\n",
       "COMMENT   and Astrophysics', volume 376, page 359; bibcode: 2001A&A...376..359H \n",
       "CRVAL1  =            56.470865 / RA at CRPIX1,CRPIX2, J2000.0 (deg)             \n",
       "CRVAL2  =            31.803333 / Dec at CRPIX1,CRPIX2, J2000.0 (deg)            \n",
       "EQUINOX =               2000.0 / Equinox of WCS, (year)                         \n",
       "CTYPE1  = 'RA---SIN'           / Projection type for axis 1                     \n",
       "CTYPE2  = 'DEC--SIN'           / Projection type for axis 2                     \n",
       "CRPIX1  = -4.000000000000000E+02 / Axis 1 reference pixel at CRVAL1,CRVAL2      \n",
       "CRPIX2  = -6.140000000000000E+02 / Axis 2 reference pixel at CRVAL1,CRVAL2      \n",
       "CDELT1  =  -0.0003819444391411 / Axis 1 scale at CRPIX1,CRPIX2 (deg/pix)        \n",
       "CDELT2  =   0.0003819444391411 / Axis 2 scale at CRPIX1,CRPIX2 (deg/pix)        \n",
       "CROTA2  =             0.000000 / Image twist: +axis2 W of N, J2000.0 (deg)      \n",
       "HISTORY AWAIC: A WISE Astronomical Image Coadder; Vsn 5.1                       \n",
       "BITMASK =            413662255 / Fatal bitstring mask template                  \n",
       "WRELEASE= 'release-v6.0'       / WSDS s/w release tag                           \n",
       "FILETYPE= 'intensity image'    / product description                            \n",
       "ORIGIN  = 'WISE Science Data Center, IPAC, Caltech' / origin of image data      \n",
       "FCREATE = '2013-07-09T23:10:13.000Z' / WSDC file creation date/time (UTC)       \n",
       "DATEOBS1= '2010-02-13T05:50:44.682' / obs. date/time of earliest frame (UTC)    \n",
       "DATEOBS2= '2010-02-16T02:08:04.489' / obs. date/time of latest frame (UTC)      \n",
       "MIDOBS  = '2010-02-14T15:12:00.592' / obs. date/time of middle frame (UTC)      \n",
       "TELESCOP= 'WISE    '           / telescope used to acquire data                 \n",
       "BAND    =                    3 / wavelength band number                         \n",
       "WAVELEN =               12.082 / [microns] effective wavelength of band         \n",
       "COADDID = '0564p318_ac51'      / atlas-image identifier                         \n",
       "NUMFRMS =                  122 / final number of frames touching footprint      \n",
       "MOONREJ =                    0 / number of frames rejected due to moon-glow     \n",
       "MOONINP =                    0 / initial number of frames with suspect moon-glow\n",
       "MAGZP   =                  18. / [mag] relative photometric zero point          \n",
       "MAGZPUNC=                0.012 / [mag] 1-sigma uncertainty in zero point        \n",
       "SIZEX   =             1.564444 / [deg] linear dimension along axis 1            \n",
       "SIZEY   =             1.564444 / [deg] linear dimension along axis 2            \n",
       "PXSCAL1 =                1.375 / [asec/pix] scale at CRPIX1,CRPIX2 for axis1    \n",
       "PXSCAL2 =                1.375 / [asec/pix] scale at CRPIX1,CRPIX2 for axis2    \n",
       "MEDINT  =     756.108642578125 / [DN] median of intensity pixels                \n",
       "MEDCOV  =        12.0849609375 / [pixels] median depth-of-coverage              \n",
       "MINCOV  =   0.0291576385498047 / [pixels] minimum depth-of-coverage             \n",
       "MAXCOV  =        15.3505859375 / [pixels] maximum depth-of-coverage             \n",
       "LOWCOVPC=  0.00103762741125378 / [%] area of footprint with depth <= 4 pixels   \n",
       "LOWCOPC =  0.00140139334278528 / [%] area of footprint with depth <= 6 pixels   \n",
       "NOMCOVPC=  0.00178304940209702 / [%] area of footprint with depth <= 8 pixels   \n",
       "PCTMINC =                    0 / [%] area of internal outlier tile <= 4 pix deep\n",
       "ROBSIG  =     2.70134122176539 / [DN] robust spatial sigma at MEDCOV +/- 0.25   \n",
       "PIXCHIS1=     5.55700603646231 / ratio ROBSIG/(median unc) at MEDCOV +/- 0.25   \n",
       "PIXCHIS2=     5.55317121422887 / ratio ROBSIG/(modal unc) at MEDCOV +/- 0.25    \n",
       "MEDNMSK =               4809.5 / median number of pixels masked per frame       \n",
       "RANDSEED=                 -999 / random seed for outlier step [-999=>not used]  \n",
       "FRC8P8ET=                    1 / fraction of NUMFRMS with exptime=8.8 sec       \n",
       "FRC4P4ET=                    0 / fraction of NUMFRMS with exptime=4.4 sec       \n",
       "FRC2P2ET=                    0 / fraction of NUMFRMS with exptime=2.2 sec       \n",
       "FRC1P1ET=                    0 / fraction of NUMFRMS with exptime=1.1 sec       \n",
       "ELON    =     61.3614556925244 / [deg] Ecliptic longitude at image center       \n",
       "ELAT    =     11.6371432504437 / [deg] Ecliptic latitude at image center        \n",
       "GLON    =     160.957819859544 / [deg] Galactic longitude at image center       \n",
       "GLAT    =    -17.8983478802298 / [deg] Galactic latitude at image center        \n",
       "MOONMASK= '/wise/fops/ref/coadd/wise-w3-moonmask.fits' / Moon mask              \n",
       "-       = '0564p318_ac51-w3-int-3.fits' / atlas image (coadd) filename          \n",
       "FLXWTNUM=                  778 / number of sources used to compute centroids    \n",
       "FLXWTDX =            -0.453452 / [arcsec] mdex - flux-weighted centroid along X \n",
       "FLXWTUDX=            0.2572663 / [arcsec] 1-sigma uncertainty in flxwtdx        \n",
       "FLXWTSDX=             1.762578 / signal-to-noise ratio in flxwtdx               \n",
       "FLXWTDY =           -0.3438388 / [arcsec] mdex - flux-weighted centroid along Y \n",
       "FLXWTUDY=            0.2489857 / [arcsec] 1-sigma uncertainty in flxwtdy        \n",
       "FLXWTSDY=            1.3809577 / signal-to-noise ratio in flxwtdy               "
      ]
     },
     "execution_count": 12,
     "metadata": {},
     "output_type": "execute_result"
    }
   ],
   "source": [
    "with fits.open(fits_path) as FitsData:\n",
    "    w = WCS(FitsData[0].header)\n",
    "    image = FitsData[0].data\n",
    "    fits_header = FitsData[0].header\n",
    "fits_header"
   ]
  },
  {
   "cell_type": "markdown",
   "id": "2bba9b6b-2e7b-45fd-98a5-47d98150986a",
   "metadata": {},
   "source": [
    "Depending the band of WISE the code has charged, the exposure time will have specific values that are described in the [WISE All-Sky Data Release](https://wise2.ipac.caltech.edu/docs/release/allsky/). The 3rd band has a different behaviour that is described in [\n",
    "VII. 3-Band Cryo Data Release](https://wise2.ipac.caltech.edu/docs/release/allsky/expsup/sec7_3e.html).\n",
    "\n",
    "On the other hand, the electronic gain corresponding to each of the bands of WISE is mentioned in the [WISE Data Processing](https://wise2.ipac.caltech.edu/docs/release/allsky/expsup/sec4_4a.html#gainrn)."
   ]
  },
  {
   "cell_type": "code",
   "execution_count": 13,
   "id": "96124ba3-1f93-4827-8bbc-c9d2f976b20c",
   "metadata": {},
   "outputs": [],
   "source": [
    "ifilter = fits_header['BAND']\n",
    "if ifilter == 1:\n",
    "    epadu = 3.20\n",
    "    itime  = 7.7 #sec\n",
    "if ifilter == 2:\n",
    "    epadu = 3.83\n",
    "    itime  = 7.7 #sec\n",
    "if ifilter == 3:\n",
    "    epadu = 6.83\n",
    "    itime = 8.8*fits_header['FRC8P8ET'] \\\n",
    "    + 4.4*fits_header['FRC4P4ET'] \\\n",
    "    + 2.2*fits_header['FRC2P2ET'] \\\n",
    "    + 1.1**fits_header['FRC1P1ET'] #sec\n",
    "if ifilter == 4:\n",
    "    epadu = 24.50\n",
    "    itime  = 8.8 #sec\n",
    "DateObs = fits_header['MIDOBS'] # MID VALUE OF the interval of dates of observation\n",
    "zmag = fits_header['MAGZP']\n"
   ]
  },
  {
   "cell_type": "markdown",
   "id": "ac3c6e5c-a504-4005-ba48-5d084a5ba620",
   "metadata": {},
   "source": [
    "Writing a txt file that contains the information of the objects that are contained in the picture."
   ]
  },
  {
   "cell_type": "code",
   "execution_count": 14,
   "id": "58aaba8f-e839-4f47-a1e9-5f905527f9fb",
   "metadata": {},
   "outputs": [
    {
     "name": "stdout",
     "output_type": "stream",
     "text": [
      "\n",
      " Se han encontrado 471 objetos del catálogo en el archivo .fits \n",
      "\n"
     ]
    }
   ],
   "source": [
    "with open(f\"Objectlist_{fits_name}.out\", \"w\") as NewListO:\n",
    "    object_counter = 0 # object counter for the objects that are inside the image.\n",
    "    for index, row in gaia_catalog.iterrows():\n",
    "        condition = is_in_pic(w, image, row[\"_RAJ2000\"], row[\"_DEJ2000\"])\n",
    "        if condition:\n",
    "            object_counter +=1\n",
    "            X, Y = SkyCoord(row[\"_RAJ2000\"], row[\"_DEJ2000\"], frame=\"icrs\", unit=\"deg\").to_pixel(w)\n",
    "            NewListO.write(f\"{row['_RAJ2000']}    {row['_DEJ2000']}    {row['Source']}   {X}   {Y}   {condition}\\n\")\n",
    "print(f'\\n Se han encontrado {object_counter} objetos del catálogo en el archivo .fits \\n')\n",
    "if object_counter == 0:\n",
    "    raise ValueError(\"Not objects found\")"
   ]
  },
  {
   "cell_type": "markdown",
   "id": "543e22d8-c518-416a-869d-cb8439f11c8e",
   "metadata": {},
   "source": [
    "Save the coordinates from the objects of the catalog that are in the image."
   ]
  },
  {
   "cell_type": "code",
   "execution_count": 15,
   "id": "e0e01a8e-dea9-4ebe-8b98-7b530472a453",
   "metadata": {},
   "outputs": [],
   "source": [
    "with open(output_dir+f\"Objectlist_{fits_name}.out\", \"r\") as Obj:\n",
    "    ListObj = Obj.readlines()\n",
    "\n",
    "Final_LO = []\n",
    "for obj in ListObj:\n",
    "    Final_LO.append(obj.split()[:5])\n",
    "    RA, DEC, ID, x, y = zip(*Final_LO) \n",
    "    Final_List = np.array(list(zip(RA,DEC,x,y)), dtype=float)\n",
    "    ID = np.array(ID,dtype='U20')"
   ]
  },
  {
   "cell_type": "markdown",
   "id": "b814e5b9-99a1-403a-a67b-cb35a3acd97c",
   "metadata": {},
   "source": [
    "Drop the objects that are not in the fits files (just in case the is_in_pic function failed numerically)"
   ]
  },
  {
   "cell_type": "code",
   "execution_count": 16,
   "id": "e2097561-c616-4916-ad3d-ddd70f2d14fb",
   "metadata": {},
   "outputs": [],
   "source": [
    "mm = [ 0 < i[2] and i[2] < (image.shape[0] - 1) for i in Final_List] # List of [Booleans] (x) where the positions are inside the image.\n",
    "ID = ID[mm]\n",
    "Final_List = Final_List[mm]\n",
    "\n",
    "nn = [ 0 < i[3] and i[3] < (image.shape[1] - 1) for i in Final_List] # List of [Booleans] (y) where the positions are inside the image.\n",
    "ID = ID[nn]\n",
    "Final_List = Final_List[nn]\n",
    "\n",
    "# IDs repetidos se categorizan \n",
    "u, c = np.unique(ID, return_counts=True)\n",
    "dup = u[c > 1]\n",
    "for j in dup:\n",
    "    m = 0\n",
    "    for i in range(len(ID)):\n",
    "        if ID[i] == j:\n",
    "            m += 0.1\n",
    "            ID[i] = ID[i] + str(m)"
   ]
  },
  {
   "cell_type": "markdown",
   "id": "a2683b00-250e-4998-9449-b5e16ab97f62",
   "metadata": {},
   "source": [
    "Let's print a preview of the new reduced catalog"
   ]
  },
  {
   "cell_type": "code",
   "execution_count": 17,
   "id": "1cfbfc86-ef12-4a98-bb28-000da9ccccd0",
   "metadata": {},
   "outputs": [
    {
     "name": "stdout",
     "output_type": "stream",
     "text": [
      "\n",
      "Su catalogo reducido es (filas 468):\n",
      " \n",
      "----RA---- ---DEC--- -----x-----  -----y----- -----ID-------\n",
      "\n",
      "[56.254507 32.040566 79.153058 6.585460] 2.1662973227464986e+\n",
      "    ...       ...         ...          ...         ...        \n",
      "\n",
      "[56.073689 32.275824 478.176950 623.652134] 2.167181398824124e+1\n",
      "---------- --------- ------------  ----------- -------------\n",
      "\n"
     ]
    }
   ],
   "source": [
    "np.set_printoptions(suppress=True, formatter={'float_kind':'{:f}'    .format})\n",
    "print(f\"\\nSu catalogo reducido es (filas {len(Final_List)}):\\n \")\n",
    "print(\"----RA---- ---DEC--- -----x-----  -----y----- -----ID-------\\n\")\n",
    "print(Final_List[0],ID[0])\n",
    "print(\"    ...       ...         ...          ...         ...        \\n\")\n",
    "print(Final_List[len(Final_List)-1],ID[len(Final_List)-1])\n",
    "print(\"---------- --------- ------------  ----------- -------------\\n\")"
   ]
  },
  {
   "cell_type": "markdown",
   "id": "98fb0afd-e21d-47bc-9fce-39b7603cbf6a",
   "metadata": {},
   "source": [
    "For the next step, we will calculate the pixel position of the centroid of the stars in the image. They are calculated using the [centroid_com function](https://photutils.readthedocs.io/en/stable/api/photutils.centroids.centroid_com.html), which is defined as the \"center of mass\"."
   ]
  },
  {
   "cell_type": "code",
   "execution_count": 18,
   "id": "fc121a5a-9a69-44d9-8ec9-fdd31409f56a",
   "metadata": {},
   "outputs": [],
   "source": [
    "# Se extraen los valores X y Y\n",
    "center_box_size = 7 #boz size for the calculation of the centroid\n",
    "\n",
    "_, _, x_init, y_init = zip(*Final_List)\n",
    "\n",
    "x, y = centroid_sources(image, x_init, y_init, box_size = center_box_size, centroid_func=centroid_com)\n",
    "X, Y = np.array(x), np.array(y)\n",
    "NewIDS = np.array(ID)\n",
    "\n",
    "#Centroids with NaN or inf values are eliminated\n",
    "is_nan = ~np.isnan(X)\n",
    "x, y = X[is_nan],Y[is_nan]      \n",
    "Final_List2 = Final_List[is_nan] \n",
    "NewIDS = NewIDS[is_nan]\n",
    "\n",
    "#Resultant centroids\n",
    "starloc = list(zip(x,y))"
   ]
  },
  {
   "cell_type": "markdown",
   "id": "58108a36-c705-432a-81f1-e2f1757fd8c6",
   "metadata": {},
   "source": [
    "### 4.4 Photometry"
   ]
  },
  {
   "attachments": {
    "5996f457-6642-41ed-a994-a3714c9dbb8e.png": {
     "image/png": "[encoded data removed]"
    }
   },
   "cell_type": "markdown",
   "id": "3510a6c9-9de2-4a9d-b10e-2e1306570b2f",
   "metadata": {},
   "source": [
    "We are interested in applying for the photometry both Circular aperture (for a zone encapsulating the centroid of the star) and Annulus aperture (for the zone surrounding the star, i.e., the bakcground).\n",
    "\n",
    "![image.png](attachment:5996f457-6642-41ed-a994-a3714c9dbb8e.png)\n",
    "\n",
    "Let's define the photometric parameters (aperture, sky ring internal radius, sky ring external radius) for each star centroid."
   ]
  },
  {
   "cell_type": "code",
   "execution_count": 19,
   "id": "320ed817-600c-4de8-83d6-61b8dd2ba4e7",
   "metadata": {},
   "outputs": [],
   "source": [
    "r = 9 # Aperture (px)\n",
    "r_in = 9 # Sky ring internal radius (px)\n",
    "r_out = 20 #Sky ring external radius (px)\n",
    "\n",
    "#Defined them as proper photometric objects using photutils.\n",
    "circular_aperture = CircularAperture(starloc, r=r)\n",
    "annulus_aperture = CircularAnnulus(starloc, r_in=r_in, r_out=r_out )\n",
    "apers = [circular_aperture, annulus_aperture]"
   ]
  },
  {
   "cell_type": "code",
   "execution_count": 20,
   "id": "9dddce8a-1165-4d86-8432-26074639dac2",
   "metadata": {},
   "outputs": [
    {
     "name": "stdout",
     "output_type": "stream",
     "text": [
      "(468,) (468,)\n"
     ]
    }
   ],
   "source": [
    "print(apers[0].shape, apers[1].shape)"
   ]
  },
  {
   "cell_type": "markdown",
   "id": "e14783a9-a96e-4f2b-8caf-b1f92273a522",
   "metadata": {},
   "source": [
    "As you can see, there is a defined circular and annular aperture for each of the objects."
   ]
  },
  {
   "cell_type": "markdown",
   "id": "b220e6e5-4ae3-459b-a772-c8ffe217957b",
   "metadata": {},
   "source": [
    "Let's apply both type of apertures on the photometry of the image."
   ]
  },
  {
   "cell_type": "code",
   "execution_count": 21,
   "id": "97951ff0-6157-4315-b7b7-2855017f077c",
   "metadata": {},
   "outputs": [],
   "source": [
    "phot_table = aperture_photometry(image, apers)"
   ]
  },
  {
   "cell_type": "code",
   "execution_count": 22,
   "id": "ee24fa4c-ef4d-410b-b1e9-5351d6178e97",
   "metadata": {},
   "outputs": [
    {
     "data": {
      "text/html": [
       "<div><i>QTable length=468</i>\n",
       "<table id=\"table140664636534672\" class=\"table-striped table-bordered table-condensed\">\n",
       "<thead><tr><th>id</th><th>xcenter</th><th>ycenter</th><th>aperture_sum_0</th><th>aperture_sum_1</th></tr></thead>\n",
       "<thead><tr><th></th><th>pix</th><th>pix</th><th></th><th></th></tr></thead>\n",
       "<thead><tr><th>int64</th><th>float64</th><th>float64</th><th>float64</th><th>float64</th></tr></thead>\n",
       "<tr><td>1</td><td>78.99926477912948</td><td>7.001470359629266</td><td>189008.46312443886</td><td>524961.920101688</td></tr>\n",
       "<tr><td>2</td><td>49.999607211435524</td><td>35.000748999758244</td><td>198771.04181170213</td><td>782550.0776367125</td></tr>\n",
       "<tr><td>3</td><td>38.99603911916246</td><td>37.0018691494921</td><td>199449.01197965298</td><td>781416.8978203763</td></tr>\n",
       "<tr><td>4</td><td>36.002626464413524</td><td>37.00165872027689</td><td>199385.72302641018</td><td>780963.4400384206</td></tr>\n",
       "<tr><td>5</td><td>76.0007788070585</td><td>119.99965018652348</td><td>213405.79414915343</td><td>827598.6116466103</td></tr>\n",
       "<tr><td>6</td><td>59.9994912691347</td><td>79.00370721151822</td><td>204125.55077745797</td><td>800383.9391931668</td></tr>\n",
       "<tr><td>...</td><td>...</td><td>...</td><td>...</td><td>...</td></tr>\n",
       "<tr><td>463</td><td>289.99861042855326</td><td>632.0001189068396</td><td>270396.75241925125</td><td>1059520.5542805633</td></tr>\n",
       "<tr><td>464</td><td>288.9990041987881</td><td>632.9997751726296</td><td>270476.2302590604</td><td>1060223.322986681</td></tr>\n",
       "<tr><td>465</td><td>118.0159501514913</td><td>644.9985135031947</td><td>288609.4617411352</td><td>866132.4239352222</td></tr>\n",
       "<tr><td>466</td><td>122.0146443533429</td><td>642.0052148266147</td><td>292106.6425687225</td><td>980618.376903957</td></tr>\n",
       "<tr><td>467</td><td>486.9962635296796</td><td>615.9939951055085</td><td>251830.40168598582</td><td>978067.4160370356</td></tr>\n",
       "<tr><td>468</td><td>478.00225098864894</td><td>623.9904459814327</td><td>247844.71504888247</td><td>975771.8384198394</td></tr>\n",
       "</table></div>"
      ],
      "text/plain": [
       "<QTable length=468>\n",
       "  id       xcenter       ...   aperture_sum_0     aperture_sum_1  \n",
       "             pix         ...                                      \n",
       "int64      float64       ...      float64            float64      \n",
       "----- ------------------ ... ------------------ ------------------\n",
       "    1  78.99926477912948 ... 189008.46312443886   524961.920101688\n",
       "    2 49.999607211435524 ... 198771.04181170213  782550.0776367125\n",
       "    3  38.99603911916246 ... 199449.01197965298  781416.8978203763\n",
       "    4 36.002626464413524 ... 199385.72302641018  780963.4400384206\n",
       "    5   76.0007788070585 ... 213405.79414915343  827598.6116466103\n",
       "    6   59.9994912691347 ... 204125.55077745797  800383.9391931668\n",
       "  ...                ... ...                ...                ...\n",
       "  463 289.99861042855326 ... 270396.75241925125 1059520.5542805633\n",
       "  464  288.9990041987881 ...  270476.2302590604  1060223.322986681\n",
       "  465  118.0159501514913 ...  288609.4617411352  866132.4239352222\n",
       "  466  122.0146443533429 ...  292106.6425687225   980618.376903957\n",
       "  467  486.9962635296796 ... 251830.40168598582  978067.4160370356\n",
       "  468 478.00225098864894 ... 247844.71504888247  975771.8384198394"
      ]
     },
     "execution_count": 22,
     "metadata": {},
     "output_type": "execute_result"
    }
   ],
   "source": [
    "phot_table"
   ]
  },
  {
   "cell_type": "code",
   "execution_count": 23,
   "id": "f1f8eb9d-0e9d-4c75-8bf7-7c9ac13c9199",
   "metadata": {},
   "outputs": [],
   "source": [
    "for index in np.argwhere(np.isnan(phot_table['aperture_sum_0'])):\n",
    "    print(phot_table['aperture_sum_0'][index[0]], phot_table['aperture_sum_1'][index[0]])"
   ]
  },
  {
   "cell_type": "markdown",
   "id": "7561e841-aefa-4c99-81e6-593f3534cada",
   "metadata": {},
   "source": [
    "The `aperture_sum_0` corresponds to the photometry of the circular aperture, while the `aperture_sum_1` corresponds to the annular aperture photometry.\n",
    "\n",
    "Let's calculate now the area and flux in the total area (the sum of the flux in the cirular aperture, that ideally corresponds to the star, and the annular aperture, that ideally corresponds just to the background)."
   ]
  },
  {
   "cell_type": "code",
   "execution_count": 24,
   "id": "89eabfa9-bff4-425f-b85e-9f9460f2d84e",
   "metadata": {},
   "outputs": [],
   "source": [
    "#Area and flux in from the background\n",
    "bkg_mean = phot_table['aperture_sum_1'] / annulus_aperture.area\n",
    "area_aper = np.array(circular_aperture.area_overlap(image))\n",
    "bkg_sum = bkg_mean * area_aper\n",
    "\n",
    "#Total flux from each object after substracting background\n",
    "final_flux = phot_table['aperture_sum_0'] - bkg_sum\n",
    "phot_table['flux'] = final_flux\n",
    "phot_table['flux'].info.format = '%.8g' "
   ]
  },
  {
   "cell_type": "markdown",
   "id": "576c1429-6ba0-48c9-bedf-a5cc0aea016c",
   "metadata": {},
   "source": [
    "Let's save this filter value as the name of the minimum magnitude."
   ]
  },
  {
   "cell_type": "code",
   "execution_count": 25,
   "id": "b391aa70-be17-446d-bfb1-0c43e9e71cc5",
   "metadata": {},
   "outputs": [
    {
     "data": {
      "text/plain": [
       "'3'"
      ]
     },
     "execution_count": 25,
     "metadata": {},
     "output_type": "execute_result"
    }
   ],
   "source": [
    "name_mag = str(ifilter)\n",
    "name_mag"
   ]
  },
  {
   "cell_type": "markdown",
   "id": "e9e30d6a-9f26-405f-a81e-0fba224be3d2",
   "metadata": {},
   "source": [
    "Now, let's save the value of the instrumental magnitude in our table"
   ]
  },
  {
   "cell_type": "code",
   "execution_count": 26,
   "id": "ab082298-b239-4f53-9345-31b91b40c990",
   "metadata": {},
   "outputs": [
    {
     "name": "stderr",
     "output_type": "stream",
     "text": [
      "/tmp/ipykernel_17287/2448779896.py:1: RuntimeWarning: invalid value encountered in log10\n",
      "  phot_table[name_mag + '_mag'] = zmag - 2.5 * np.log10(final_flux) + 2.5 * np.log10(itime)\n"
     ]
    }
   ],
   "source": [
    "phot_table[name_mag + '_mag'] = zmag - 2.5 * np.log10(final_flux) + 2.5 * np.log10(itime)\n",
    "phot_table[name_mag + '_mag'].info.format = '%.8g'  "
   ]
  },
  {
   "cell_type": "markdown",
   "id": "c300a0b6-b130-4787-81b5-79bba65f0ec3",
   "metadata": {},
   "source": [
    "---\n",
    "#### Note:\n",
    "if a message like the following is shown  \n",
    "\n",
    "<div class=\"alert alert-danger\">\n",
    "\n",
    "```python\n",
    "/tmp/ipykernel_31438/2448779896.py:1: RuntimeWarning: invalid value encountered in log10\n",
    "  phot_table[name_mag + '_mag'] = zmag - 2.5 * np.log10(final_flux) + 2.5 * np.log10(itime)\n",
    "\n",
    "```\n",
    "</div>\n",
    "\n",
    "We could deduce that the stars detected in the `.fits` may be close to the border (that is my guess). Let's plot the image to check this out\n"
   ]
  },
  {
   "cell_type": "code",
   "execution_count": 27,
   "id": "5dc766a3-c689-41b5-96ab-d55281894a97",
   "metadata": {},
   "outputs": [
    {
     "data": {
      "text/plain": [
       "<matplotlib.image.AxesImage at 0x7fef09373590>"
      ]
     },
     "execution_count": 27,
     "metadata": {},
     "output_type": "execute_result"
    },
    {
     "data": {
      "image/png": "[encoded data removed]",
      "text/plain": [
       "<Figure size 640x480 with 1 Axes>"
      ]
     },
     "metadata": {},
     "output_type": "display_data"
    }
   ],
   "source": [
    "fig, ax = plt.subplots()\n",
    "ax.imshow(image)"
   ]
  },
  {
   "cell_type": "markdown",
   "id": "e5ad677e-8e6d-4de1-b1b3-e19a8a881f6c",
   "metadata": {},
   "source": [
    "As the border of the .fits shows, this hypothesis may be a possibility.\n",
    "\n",
    "#### End of the note\n",
    "---"
   ]
  },
  {
   "cell_type": "markdown",
   "id": "98bd1064-cb6e-4b6a-ac29-40ef8d0d4c3b",
   "metadata": {},
   "source": [
    "It's important to know also the uncertainties from the instrumental magnitudes. Let's save them too in our tables"
   ]
  },
  {
   "cell_type": "code",
   "execution_count": 28,
   "id": "3e3f1895-ca01-4b33-858f-dbceb7be098d",
   "metadata": {},
   "outputs": [],
   "source": [
    "_, _, stdev = sigma_clipped_stats(image, sigma=3.0)\n",
    "phot_table[name_mag + '_mag_err'] = 1.0857 * np.sqrt(final_flux    /epadu + area_aper*stdev**2 )/final_flux\n",
    "phot_table[name_mag + '_mag_err'].info.format = '%.8g'"
   ]
  },
  {
   "cell_type": "code",
   "execution_count": 29,
   "id": "ca59197e-79de-4656-9153-3561f8424d50",
   "metadata": {},
   "outputs": [
    {
     "name": "stdout",
     "output_type": "stream",
     "text": [
      "\n",
      "# of objects with nan values in the uncertainties: 0\n",
      "\n"
     ]
    }
   ],
   "source": [
    "n_unc_nans = np.argwhere(np.isnan(phot_table[name_mag + '_mag_err'])).shape[0]\n",
    "print(f\"\"\"\n",
    "# of objects with nan values in the uncertainties: {n_unc_nans}\n",
    "\"\"\")"
   ]
  },
  {
   "cell_type": "markdown",
   "id": "1f438355-e1d8-412b-9479-691707c0eb4d",
   "metadata": {},
   "source": [
    "Add to the table the location info, the ID, the date of observation and the object's name"
   ]
  },
  {
   "cell_type": "code",
   "execution_count": 30,
   "id": "a82b1593-ca07-4728-bf63-3c6793351734",
   "metadata": {},
   "outputs": [],
   "source": [
    "phot_table['RA'] = [i[0] for i in Final_List2] \n",
    "phot_table['DEC'] = [i[1] for i in Final_List2] \n",
    "phot_table['ID'] = NewIDS\n",
    "phot_table['DATE-OBS'] = DateObs"
   ]
  },
  {
   "cell_type": "markdown",
   "id": "f03acc2f-f68e-4ef9-a072-549bbf64e1ae",
   "metadata": {},
   "source": [
    "Finally, let's drop the NaN values from the table"
   ]
  },
  {
   "cell_type": "code",
   "execution_count": 31,
   "id": "2dbc9aec-b84f-46d7-b2d9-23c231c756cc",
   "metadata": {},
   "outputs": [],
   "source": [
    "index_nan = np.argwhere(np.isnan(phot_table[name_mag + '_mag'].data)) \n",
    "phot_table.remove_rows(index_nan)"
   ]
  },
  {
   "cell_type": "code",
   "execution_count": 32,
   "id": "56e91e75-4908-4023-9c26-519f773f539e",
   "metadata": {},
   "outputs": [
    {
     "data": {
      "text/html": [
       "<div><i>QTable length=270</i>\n",
       "<table id=\"table140664636534672\" class=\"table-striped table-bordered table-condensed\">\n",
       "<thead><tr><th>id</th><th>xcenter</th><th>ycenter</th><th>aperture_sum_0</th><th>aperture_sum_1</th><th>flux</th><th>3_mag</th><th>3_mag_err</th><th>RA</th><th>DEC</th><th>ID</th><th>DATE-OBS</th></tr></thead>\n",
       "<thead><tr><th></th><th>pix</th><th>pix</th><th></th><th></th><th></th><th></th><th></th><th></th><th></th><th></th><th></th></tr></thead>\n",
       "<thead><tr><th>int64</th><th>float64</th><th>float64</th><th>float64</th><th>float64</th><th>float64</th><th>float64</th><th>float64</th><th>float64</th><th>float64</th><th>str20</th><th>str23</th></tr></thead>\n",
       "<tr><td>1</td><td>78.99926477912948</td><td>7.001470359629266</td><td>189008.46312443886</td><td>524961.920101688</td><td>61008.835</td><td>8.5145834</td><td>0.055003734</td><td>56.2545074881102</td><td>32.0405655083321</td><td>2.1662973227464986e+</td><td>2010-02-14T15:12:00.592</td></tr>\n",
       "<tr><td>2</td><td>49.999607211435524</td><td>35.000748999758244</td><td>198771.04181170213</td><td>782550.0776367125</td><td>67.103603</td><td>15.911201</td><td>51.008536</td><td>56.267738579543</td><td>32.0515453298481</td><td>2.1662987401007654e+</td><td>2010-02-14T15:12:00.592</td></tr>\n",
       "<tr><td>3</td><td>38.99603911916246</td><td>37.0018691494921</td><td>199449.01197965298</td><td>781416.8978203763</td><td>1032.8091</td><td>12.943015</td><td>3.3141467</td><td>56.272601191017</td><td>32.0522027873454</td><td>2.1662986971452646e+</td><td>2010-02-14T15:12:00.592</td></tr>\n",
       "<tr><td>4</td><td>36.002626464413524</td><td>37.00165872027689</td><td>199385.72302641018</td><td>780963.4400384206</td><td>1084.6614</td><td>12.88983</td><td>3.1557148</td><td>56.274024788912</td><td>32.0522264993674</td><td>2.1662987401007578e+</td><td>2010-02-14T15:12:00.592</td></tr>\n",
       "<tr><td>5</td><td>76.0007788070585</td><td>119.99965018652348</td><td>213405.79414915343</td><td>827598.6116466103</td><td>3263.2</td><td>11.693956</td><td>1.0489511</td><td>56.2558871066875</td><td>32.0838161986008</td><td>2.1663014459149683e+</td><td>2010-02-14T15:12:00.592</td></tr>\n",
       "<tr><td>6</td><td>59.9994912691347</td><td>79.00370721151822</td><td>204125.55077745797</td><td>800383.9391931668</td><td>893.26528</td><td>13.100614</td><td>3.831871</td><td>56.2632693007995</td><td>32.068191027966</td><td>2.166300801685042e+1</td><td>2010-02-14T15:12:00.592</td></tr>\n",
       "<tr><td>...</td><td>...</td><td>...</td><td>...</td><td>...</td><td>...</td><td>...</td><td>...</td><td>...</td><td>...</td><td>...</td><td>...</td></tr>\n",
       "<tr><td>463</td><td>289.99861042855326</td><td>632.0001189068396</td><td>270396.75241925125</td><td>1059520.5542805633</td><td>1364.8875</td><td>12.640323</td><td>2.5078178</td><td>56.158782674235</td><td>32.2791899298373</td><td>2.1670659500958413e+</td><td>2010-02-14T15:12:00.592</td></tr>\n",
       "<tr><td>464</td><td>288.9990041987881</td><td>632.9997751726296</td><td>270476.2302590604</td><td>1060223.322986681</td><td>1265.9194</td><td>12.72205</td><td>2.7038741</td><td>56.1592504315896</td><td>32.2794912035696</td><td>2.167065993042126e+1</td><td>2010-02-14T15:12:00.592</td></tr>\n",
       "<tr><td>465</td><td>118.0159501514913</td><td>644.9985135031947</td><td>288609.4617411352</td><td>866132.4239352222</td><td>68682.42</td><td>8.3859512</td><td>0.049861171</td><td>56.2364184098898</td><td>32.2843072705706</td><td>2.1670721778126746e+</td><td>2010-02-14T15:12:00.592</td></tr>\n",
       "<tr><td>466</td><td>122.0146443533429</td><td>642.0052148266147</td><td>292106.6425687225</td><td>980618.376903957</td><td>43109.5</td><td>8.8916327</td><td>0.079424291</td><td>56.2347236903785</td><td>32.2833905281381</td><td>2.1670721348561446e+</td><td>2010-02-14T15:12:00.592</td></tr>\n",
       "<tr><td>467</td><td>486.9962635296796</td><td>615.9939951055085</td><td>251830.40168598582</td><td>978067.4160370356</td><td>3480.9951</td><td>11.623807</td><td>0.98332301</td><td>56.0695584451766</td><td>32.2726979866326</td><td>2.1671814417685466e+</td><td>2010-02-14T15:12:00.592</td></tr>\n",
       "<tr><td>468</td><td>478.00225098864894</td><td>623.9904459814327</td><td>247844.71504888247</td><td>975771.8384198394</td><td>78.198083</td><td>15.745075</td><td>43.77162</td><td>56.073688602054</td><td>32.2758244684576</td><td>2.167181398824124e+1</td><td>2010-02-14T15:12:00.592</td></tr>\n",
       "</table></div>"
      ],
      "text/plain": [
       "<QTable length=270>\n",
       "  id       xcenter       ...          ID                  DATE-OBS       \n",
       "             pix         ...                                             \n",
       "int64      float64       ...        str20                  str23         \n",
       "----- ------------------ ... -------------------- -----------------------\n",
       "    1  78.99926477912948 ... 2.1662973227464986e+ 2010-02-14T15:12:00.592\n",
       "    2 49.999607211435524 ... 2.1662987401007654e+ 2010-02-14T15:12:00.592\n",
       "    3  38.99603911916246 ... 2.1662986971452646e+ 2010-02-14T15:12:00.592\n",
       "    4 36.002626464413524 ... 2.1662987401007578e+ 2010-02-14T15:12:00.592\n",
       "    5   76.0007788070585 ... 2.1663014459149683e+ 2010-02-14T15:12:00.592\n",
       "    6   59.9994912691347 ... 2.166300801685042e+1 2010-02-14T15:12:00.592\n",
       "  ...                ... ...                  ...                     ...\n",
       "  463 289.99861042855326 ... 2.1670659500958413e+ 2010-02-14T15:12:00.592\n",
       "  464  288.9990041987881 ... 2.167065993042126e+1 2010-02-14T15:12:00.592\n",
       "  465  118.0159501514913 ... 2.1670721778126746e+ 2010-02-14T15:12:00.592\n",
       "  466  122.0146443533429 ... 2.1670721348561446e+ 2010-02-14T15:12:00.592\n",
       "  467  486.9962635296796 ... 2.1671814417685466e+ 2010-02-14T15:12:00.592\n",
       "  468 478.00225098864894 ... 2.167181398824124e+1 2010-02-14T15:12:00.592"
      ]
     },
     "execution_count": 32,
     "metadata": {},
     "output_type": "execute_result"
    }
   ],
   "source": [
    "phot_table"
   ]
  },
  {
   "cell_type": "markdown",
   "id": "87d194e8-f69e-4cbb-9563-4d120cf2f5ce",
   "metadata": {},
   "source": [
    "## 5. Apply over all .FITS"
   ]
  },
  {
   "cell_type": "markdown",
   "id": "1461d74f-dc47-4e06-9962-5016091c9c32",
   "metadata": {},
   "source": [
    "Let's put all the previous lines of code in a function for processing all the `.fits` files."
   ]
  },
  {
   "cell_type": "code",
   "execution_count": 33,
   "id": "2c16355b-12c2-4b13-9bf8-bda3b455b092",
   "metadata": {},
   "outputs": [],
   "source": [
    "def Photometry_Data_Table(fits_name, fits_path, catalog, r, r_in, r_out, center_box_size, *args):\n",
    "    \"\"\"\n",
    "    Function for\n",
    "    \"\"\"\n",
    "    ################################################\n",
    "    # Functions\n",
    "    ################################################\n",
    "    \n",
    "    def is_in_pic(w, image, ra, dec):\n",
    "        \"\"\"\n",
    "        Function that selects only the objects from the catalog that are inside the image. \n",
    "        \"\"\"\n",
    "        ra_max, dec_max = w.array_index_to_world_values(0,0)\n",
    "        ra_min, dec_min = w.array_index_to_world_values(image.shape[0], image.shape[1])\n",
    "        if ra_min > ra_max:\n",
    "            ra_min = w.array_index_to_world_values(0,0)[0]\n",
    "            ra_max = w.array_index_to_world_values(image.shape[0], image.shape[1])[0]\n",
    "        if dec_min > dec_max:\n",
    "            dec_min = w.array_index_to_world_values(0,0)[1]\n",
    "            dec_max = w.array_index_to_world_values(image.shape[0], image.shape[1])[1]\n",
    "        return (ra < ra_max) & (ra > ra_min) & (dec < dec_max) & (dec >   dec_min)\n",
    "\n",
    "    ################################################\n",
    "    # Main process\n",
    "    ################################################\n",
    "    \n",
    "    with fits.open(fits_path) as FitsData:\n",
    "        w = WCS(FitsData[0].header)\n",
    "        image = FitsData[0].data\n",
    "        fits_header = FitsData[0].header\n",
    "        ifilter = fits_header['BAND']\n",
    "        if ifilter == 1:\n",
    "            epadu = 3.20\n",
    "            itime  = 7.7 #sec\n",
    "        if ifilter == 2:\n",
    "            epadu = 3.83\n",
    "            itime  = 7.7 #sec\n",
    "        if ifilter == 3:\n",
    "            epadu = 6.83\n",
    "            itime = 8.8*fits_header['FRC8P8ET'] \\\n",
    "            + 4.4*fits_header['FRC4P4ET'] \\\n",
    "            + 2.2*fits_header['FRC2P2ET'] \\\n",
    "            + 1.1**fits_header['FRC1P1ET'] #sec\n",
    "        if ifilter == 4:\n",
    "            epadu = 24.50\n",
    "            itime  = 8.8 #sec\n",
    "        DateObs = fits_header['MIDOBS'] # MID VALUE OF the interval of dates of observation\n",
    "        zmag = fits_header['MAGZP']\n",
    "\n",
    "    # Writing a txt file that contains the information of the objects that are contained in the picture.\n",
    "    with open(f\"Objectlist_{fits_name}.out\", \"w\") as NewListO:\n",
    "        object_counter = 0 # object counter for the objects that are inside the image.\n",
    "        for index, row in catalog.iterrows():\n",
    "            condition = is_in_pic(w, image, row[\"_RAJ2000\"], row[\"_DEJ2000\"])\n",
    "            if condition:\n",
    "                object_counter +=1\n",
    "                X, Y = SkyCoord(row[\"_RAJ2000\"], row[\"_DEJ2000\"], frame=\"icrs\", unit=\"deg\").to_pixel(w)\n",
    "                NewListO.write(f\"{row['_RAJ2000']}    {row['_DEJ2000']}    {row['Source']}   {X}   {Y}   {condition}\\n\")\n",
    "    print(f'\\n Found {object_counter} items from the catalog in the file {fits_name} \\n')\n",
    "    if object_counter == 0:\n",
    "        return None\n",
    "        quit()\n",
    "\n",
    "    # Save the coordinates from the objects of the catalog that are in the image.\n",
    "    with open(f\"Objectlist_{fits_name}.out\", \"r\") as Obj:\n",
    "        ListObj = Obj.readlines()\n",
    "\n",
    "    Final_LO = []\n",
    "    for obj in ListObj:\n",
    "        Final_LO.append(obj.split()[:5])\n",
    "        RA, DEC, ID, x, y = zip(*Final_LO) \n",
    "        Final_List = np.array(list(zip(RA,DEC,x,y)), dtype=float)\n",
    "        ID = np.array(ID,dtype='U20')\n",
    "\n",
    "    # Drop the objects that are not in the fits files (just in case the is_in_pic function failed numerically)\n",
    "    mm = [ 0 < i[2] and i[2] < (image.shape[0] - 1) for i in Final_List] # List of [Booleans] (x) where the positions are inside the image.\n",
    "    ID = ID[mm]\n",
    "    Final_List = Final_List[mm]\n",
    "    \n",
    "    nn = [ 0 < i[3] and i[3] < (image.shape[1] - 1) for i in Final_List] # List of [Booleans] (y) where the positions are inside the image.\n",
    "    ID = ID[nn]\n",
    "    Final_List = Final_List[nn]\n",
    "\n",
    "    # IDs repetidos se categorizan \n",
    "    u, c = np.unique(ID, return_counts=True)\n",
    "    dup = u[c > 1]\n",
    "    for j in dup:\n",
    "        m = 0\n",
    "        for i in range(len(ID)):\n",
    "            if ID[i] == j:\n",
    "                m += 0.1\n",
    "                ID[i] = ID[i] + str(m)\n",
    "    \n",
    "    # print a preview of the reduced catalog.\n",
    "    np.set_printoptions(suppress=True, formatter={'float_kind':'{:f}'    .format})\n",
    "    \n",
    "    # Extract the X, Y values\n",
    "    _, _, x_init, y_init = zip(*Final_List)\n",
    "\n",
    "    x, y = centroid_sources(image, x_init, y_init, box_size = center_box_size, centroid_func=centroid_com)\n",
    "    X, Y = np.array(x), np.array(y)\n",
    "    NewIDS = np.array(ID) \n",
    "        \n",
    "    # Eliminate the data that have NaN or inf centroids.\n",
    "    is_nan = ~np.isnan(X)\n",
    "    x, y = X[is_nan],Y[is_nan]      \n",
    "    Final_List2 = Final_List[is_nan] \n",
    "    NewIDS = NewIDS[is_nan]\n",
    "\n",
    "    # Star coordinates centroids. \n",
    "    starloc = list(zip(x,y))\n",
    "        \n",
    "    # Extract each star signal.\n",
    "    aperture = CircularAperture(starloc, r=r)\n",
    "    annulus_aperture = CircularAnnulus(starloc, r_in=r_in, r_out=r_out )\n",
    "    apers = [aperture, annulus_aperture]\n",
    "    # Se genera una tabla de datos.\n",
    "    phot_table = aperture_photometry(image, apers)\n",
    "\n",
    "    # Se le asigna nombre de la magnitud dependiendo del filtro en el encabezado\n",
    "    name_mag = str(ifilter)\n",
    "\n",
    "    # Area y fujo en los anillos. \n",
    "    bkg_mean = phot_table['aperture_sum_1'] / annulus_aperture.area\n",
    "    area_aper = np.array(aperture.area_overlap(image))\n",
    "    bkg_sum = bkg_mean * area_aper\n",
    "        \n",
    "    # Flujo final para cada objeto\n",
    "    final_sum = phot_table['aperture_sum_0'] - bkg_sum\n",
    "    phot_table['flux'] = final_sum\n",
    "    phot_table['flux'].info.format = '%.8g'  \n",
    "        \n",
    "    # Magnitudes Instrumentales\n",
    "    phot_table[name_mag + '_mag'] = zmag - 2.5 * np.log10(final_sum) + 2.5 * np.log10(itime)\n",
    "    phot_table[name_mag + '_mag'].info.format = '%.8g'  \n",
    "        \n",
    "    # Error de las Magnitudes Instrumentales\n",
    "    mean, median, std = sigma_clipped_stats(image, sigma=3.0)\n",
    "    stdev = std\n",
    "    phot_table[name_mag + '_mag_err'] = 1.0857 * np.sqrt(final_sum    /epadu + area_aper*stdev**2 )/final_sum\n",
    "    phot_table[name_mag + '_mag_err'].info.format = '%.8g'\n",
    "\n",
    "    # Se agrega a la tabla la RA, DEC, ID y Masa de aire. \n",
    "    phot_table['RA'] = [i[0] for i in Final_List2] \n",
    "    phot_table['DEC'] = [i[1] for i in Final_List2] \n",
    "    phot_table['ID'] = NewIDS\n",
    "    # phot_table['AIRMASS'] = airmass\n",
    "    phot_table['MIDOBS'] = DateObs\n",
    "    # Se buscan los indices en donde las magnitudes sean NaN y se eliminan\n",
    "    index_nan = np.argwhere(np.isnan(phot_table[name_mag + '_mag'].data)) \n",
    "    phot_table.remove_rows(index_nan)\n",
    "    total_rows = len(phot_table)\n",
    "    print(f\"\\nAfter the analysis there are {total_rows} objects processed in the {fits_name} file\\n\\n ################################################################################################################################################\\n\\n\")\n",
    "    return phot_table"
   ]
  },
  {
   "cell_type": "markdown",
   "id": "33b5a709-639e-4d17-8804-6d280c252d4f",
   "metadata": {},
   "source": [
    "Here we add a line to ignore the warnings of the NaN values, because they are dropped in the final steps of the function."
   ]
  },
  {
   "cell_type": "code",
   "execution_count": 34,
   "id": "6dc2679a-de67-403a-b6c7-ba6ff786ee8c",
   "metadata": {},
   "outputs": [],
   "source": [
    "import warnings\n",
    "warnings.filterwarnings(\"ignore\") #for the nan values that are then drop in the final steps."
   ]
  },
  {
   "cell_type": "markdown",
   "id": "758e93a2-135b-4a27-b5fb-81c9a417d1ff",
   "metadata": {},
   "source": [
    "Let's put the previous photometric parameters here again (aperture, sky ring internal radius, sky ring external radius) for each star centroid."
   ]
  },
  {
   "cell_type": "code",
   "execution_count": 35,
   "id": "4ebe90b8-f5f6-49f8-b496-4ee32e962bb5",
   "metadata": {},
   "outputs": [
    {
     "name": "stdout",
     "output_type": "stream",
     "text": [
      "\n",
      " Found 471 items from the catalog in the file 0564p318_ac51-w3-int-3_ra56.14245833_dec32.16283333_asec900.000.fits \n",
      "\n",
      "\n",
      "After the analysis there are 270 objects processed in the 0564p318_ac51-w3-int-3_ra56.14245833_dec32.16283333_asec900.000.fits file\n",
      "\n",
      " ################################################################################################################################################\n",
      "\n",
      "\n",
      "\n",
      " Found 471 items from the catalog in the file 0564p318_ac51-w1-int-3_ra56.14245833_dec32.16283333_asec900.000.fits \n",
      "\n",
      "\n",
      "After the analysis there are 360 objects processed in the 0564p318_ac51-w1-int-3_ra56.14245833_dec32.16283333_asec900.000.fits file\n",
      "\n",
      " ################################################################################################################################################\n",
      "\n",
      "\n",
      "\n",
      " Found 471 items from the catalog in the file 0564p318_ac51-w4-int-3_ra56.14245833_dec32.16283333_asec900.000.fits \n",
      "\n",
      "\n",
      "After the analysis there are 239 objects processed in the 0564p318_ac51-w4-int-3_ra56.14245833_dec32.16283333_asec900.000.fits file\n",
      "\n",
      " ################################################################################################################################################\n",
      "\n",
      "\n",
      "\n",
      " Found 471 items from the catalog in the file 0564p318_ac51-w2-int-3_ra56.14245833_dec32.16283333_asec900.000.fits \n",
      "\n",
      "\n",
      "After the analysis there are 352 objects processed in the 0564p318_ac51-w2-int-3_ra56.14245833_dec32.16283333_asec900.000.fits file\n",
      "\n",
      " ################################################################################################################################################\n",
      "\n",
      "\n",
      "4 tables from the .fits files were generated\n"
     ]
    }
   ],
   "source": [
    "#########################################\n",
    "# Definición de parámetros fotométricos #\n",
    "#########################################\n",
    "r = 9 # Aperture (px)\n",
    "r_in = 9 # Sky ring internal radius (px)\n",
    "r_out = 20 #Sky ring external radius (px)\n",
    "#########################################\n",
    "# Let's save the tables for all the fits files\n",
    "all_tables = []\n",
    "for k in range(len(files_list)):\n",
    "  fits_path = files_list[k]\n",
    "  fits_name = names[k]\n",
    "#  catalogo = catalogo_final\n",
    "\n",
    "  photom = Photometry_Data_Table(fits_name, fits_path, gaia_catalog, r=r, r_in=r_in, r_out=r_out, center_box_size=center_box_size)\n",
    "  if photom is not None:\n",
    "    all_tables.append(photom)\n",
    "\n",
    "print(f'{len(all_tables)} tables from the .fits files were generated')"
   ]
  },
  {
   "cell_type": "markdown",
   "id": "977bb442-2ee9-435d-b59f-3cb70ac53c92",
   "metadata": {},
   "source": [
    "Let's save the objects that are centered in each of the .fits files processed. \n",
    "\n",
    "**Note:** If you have only have .fits files corresponding to one object, like \"IC358\" for example, then that is the only name that is going to be saved in the focus_object list. "
   ]
  },
  {
   "cell_type": "code",
   "execution_count": 36,
   "id": "8a3518b5-cef4-42bb-80d4-f6d7ac8c6e80",
   "metadata": {},
   "outputs": [
    {
     "ename": "KeyError",
     "evalue": "'OBJECT'",
     "output_type": "error",
     "traceback": [
      "\u001b[0;31m---------------------------------------------------------------------------\u001b[0m",
      "\u001b[0;31mKeyError\u001b[0m                                  Traceback (most recent call last)",
      "Cell \u001b[0;32mIn[36], line 4\u001b[0m\n\u001b[1;32m      2\u001b[0m focus_object \u001b[38;5;241m=\u001b[39m []             \n\u001b[1;32m      3\u001b[0m \u001b[38;5;28;01mfor\u001b[39;00m m \u001b[38;5;129;01min\u001b[39;00m all_tables:\n\u001b[0;32m----> 4\u001b[0m     ob \u001b[38;5;241m=\u001b[39m m[\u001b[38;5;124m'\u001b[39m\u001b[38;5;124mOBJECT\u001b[39m\u001b[38;5;124m'\u001b[39m][\u001b[38;5;241m0\u001b[39m]\n\u001b[1;32m      5\u001b[0m     \u001b[38;5;28;01mif\u001b[39;00m ob \u001b[38;5;129;01mnot\u001b[39;00m \u001b[38;5;129;01min\u001b[39;00m focus_object:\n\u001b[1;32m      6\u001b[0m         focus_object\u001b[38;5;241m.\u001b[39mappend(ob) \n",
      "File \u001b[0;32m~/anaconda3/lib/python3.11/site-packages/astropy/table/table.py:2055\u001b[0m, in \u001b[0;36mTable.__getitem__\u001b[0;34m(self, item)\u001b[0m\n\u001b[1;32m   2053\u001b[0m \u001b[38;5;28;01mdef\u001b[39;00m \u001b[38;5;21m__getitem__\u001b[39m(\u001b[38;5;28mself\u001b[39m, item):\n\u001b[1;32m   2054\u001b[0m     \u001b[38;5;28;01mif\u001b[39;00m \u001b[38;5;28misinstance\u001b[39m(item, \u001b[38;5;28mstr\u001b[39m):\n\u001b[0;32m-> 2055\u001b[0m         \u001b[38;5;28;01mreturn\u001b[39;00m \u001b[38;5;28mself\u001b[39m\u001b[38;5;241m.\u001b[39mcolumns[item]\n\u001b[1;32m   2056\u001b[0m     \u001b[38;5;28;01melif\u001b[39;00m \u001b[38;5;28misinstance\u001b[39m(item, (\u001b[38;5;28mint\u001b[39m, np\u001b[38;5;241m.\u001b[39minteger)):\n\u001b[1;32m   2057\u001b[0m         \u001b[38;5;28;01mreturn\u001b[39;00m \u001b[38;5;28mself\u001b[39m\u001b[38;5;241m.\u001b[39mRow(\u001b[38;5;28mself\u001b[39m, item)\n",
      "File \u001b[0;32m~/anaconda3/lib/python3.11/site-packages/astropy/table/table.py:264\u001b[0m, in \u001b[0;36mTableColumns.__getitem__\u001b[0;34m(self, item)\u001b[0m\n\u001b[1;32m    253\u001b[0m \u001b[38;5;250m\u001b[39m\u001b[38;5;124;03m\"\"\"Get items from a TableColumns object.\u001b[39;00m\n\u001b[1;32m    254\u001b[0m \n\u001b[1;32m    255\u001b[0m \u001b[38;5;124;03m::\u001b[39;00m\n\u001b[0;32m   (...)\u001b[0m\n\u001b[1;32m    261\u001b[0m \u001b[38;5;124;03m  tc[1:3] # <TableColumns names=('b', 'c')>\u001b[39;00m\n\u001b[1;32m    262\u001b[0m \u001b[38;5;124;03m\"\"\"\u001b[39;00m\n\u001b[1;32m    263\u001b[0m \u001b[38;5;28;01mif\u001b[39;00m \u001b[38;5;28misinstance\u001b[39m(item, \u001b[38;5;28mstr\u001b[39m):\n\u001b[0;32m--> 264\u001b[0m     \u001b[38;5;28;01mreturn\u001b[39;00m OrderedDict\u001b[38;5;241m.\u001b[39m\u001b[38;5;21m__getitem__\u001b[39m(\u001b[38;5;28mself\u001b[39m, item)\n\u001b[1;32m    265\u001b[0m \u001b[38;5;28;01melif\u001b[39;00m \u001b[38;5;28misinstance\u001b[39m(item, (\u001b[38;5;28mint\u001b[39m, np\u001b[38;5;241m.\u001b[39minteger)):\n\u001b[1;32m    266\u001b[0m     \u001b[38;5;28;01mreturn\u001b[39;00m \u001b[38;5;28mlist\u001b[39m(\u001b[38;5;28mself\u001b[39m\u001b[38;5;241m.\u001b[39mvalues())[item]\n",
      "\u001b[0;31mKeyError\u001b[0m: 'OBJECT'"
     ]
    }
   ],
   "source": [
    "#----#  List with all the main objects that are centered by the telescope.\n",
    "focus_object = []             \n",
    "for m in all_tables:\n",
    "    ob = m['OBJECT'][0]\n",
    "    if ob not in focus_object:\n",
    "        focus_object.append(ob) \n",
    "#----#  Dictionary with each observed object.\n",
    "final_filter = {}\n",
    "for s in focus_object:\n",
    "    final_filter[s] = []        # Example: filtro_final = {'SA98':[], 'SA95':[], '[BSA98':[], 'SA101':[], '[ASA98':[], 'SA104':[], 'SA92':[]}\n",
    "\n",
    "#----#  Fill the dictionary with the table of each object.\n",
    "for n in all_tables:\n",
    "    for p in focus_object:\n",
    "        ob = n['OBJECT'][0]\n",
    "        if ob == p:\n",
    "            final_filter[ob].append(n.copy())  # Example: filtro_final = {'SA98':[tabla1,tabla2,tabla3,..], ... , 'SA92':[tabla1,tabla2,tabla3,..]}"
   ]
  },
  {
   "cell_type": "markdown",
   "id": "889ddf3d-d648-43db-807c-b40097fbb7d9",
   "metadata": {},
   "source": [
    "Now, let's check that we have the same objects observed in each .fits file and eliminate those which are not in all the filters."
   ]
  },
  {
   "cell_type": "code",
   "execution_count": null,
   "id": "3e81ee53-11dc-4ce6-8dba-1b5661813851",
   "metadata": {},
   "outputs": [],
   "source": [
    "#----#  Intersection of the objects in the different filters.\n",
    "for foc in focus_object:\n",
    "    current_id = []\n",
    "    for j in final_filter[foc]:\n",
    "        current_id.append(j['ID'].data)\n",
    "\n",
    "    int_d = set(current_id[0]).intersection(*current_id) # Ejemplo para SA98: int_d = {'92_248', ... , '92_347'}\n",
    "\n",
    "#----#  Delete the objects that are not in all the filters\n",
    "for tab in final_filter[foc]:\n",
    "    index_of = []\n",
    "    for i in range(len(tab['ID'])):\n",
    "        if tab['ID'][i] not in int_d:\n",
    "            index_of.append(i)\n",
    "    tab.remove_rows(index_of)\n",
    "\n",
    "#----# Delete the void tables.\n",
    "for p in focus_object:\n",
    "    if len(final_filter[p][0]) == 0:\n",
    "        del final_filter[p]\n",
    "\n",
    "for foc in final_filter.keys():\n",
    "    let = len(final_filter[foc])"
   ]
  },
  {
   "cell_type": "markdown",
   "id": "13a08611-22c6-43b7-bc10-049292b8c219",
   "metadata": {},
   "source": [
    "Finally, let's create and save the tables for each object."
   ]
  },
  {
   "cell_type": "code",
   "execution_count": null,
   "id": "0ce9a077-2b39-459c-b58b-db2330aff69f",
   "metadata": {},
   "outputs": [],
   "source": [
    "#----# Create the tables for each main object.\n",
    "for foc in final_filter.keys():\n",
    "    final_obs_table = QTable()\n",
    "    final_obs_table['OBJECT_ID'] = final_filter[foc][0]['ID']\n",
    "    final_obs_table['RA'] = final_filter[foc][0]['RA']\n",
    "    final_obs_table['DEC'] = final_filter[foc][0]['DEC']\n",
    "    #----# Save the tables as .csv files.\n",
    "    counter = 0\n",
    "    for j in final_filter[foc]:\n",
    "        final_obs_table[j.colnames[6] + '_' + str(counter//3)] = j[j.colnames[6]]\n",
    "        final_obs_table[j.colnames[7] + '_' + str(counter//3)] = j[j.colnames[7]]\n",
    "        final_obs_table[j.colnames[11] + '_' + j.colnames[6] + '_' + str(counter//3)] = j[j.colnames[11]]\n",
    "        counter += 1\n",
    "    final_obs_table.write(output_dir+f'/Table_{foc}.csv', overwrite=True)    "
   ]
  },
  {
   "cell_type": "markdown",
   "id": "e553db02-eebc-481f-a696-1081f5e9e2a1",
   "metadata": {},
   "source": [
    "Printing one of the saved .csv (we are going to show the last one saved), you can see that it saves the magnitude, uncertainty of the magnitude and the date of observation of each of the objects for all the channels that you had in the fits. files."
   ]
  },
  {
   "cell_type": "code",
   "execution_count": null,
   "id": "e9c9c74f-1f90-4a46-b243-cb824625af20",
   "metadata": {},
   "outputs": [],
   "source": [
    "final_obs_table"
   ]
  }
 ],
 "metadata": {
  "kernelspec": {
   "display_name": "Python 3 (ipykernel)",
   "language": "python",
   "name": "python3"
  },
  "language_info": {
   "codemirror_mode": {
    "name": "ipython",
    "version": 3
   },
   "file_extension": ".py",
   "mimetype": "text/x-python",
   "name": "python",
   "nbconvert_exporter": "python",
   "pygments_lexer": "ipython3",
   "version": "3.11.8"
  }
 },
 "nbformat": 4,
 "nbformat_minor": 5
}
