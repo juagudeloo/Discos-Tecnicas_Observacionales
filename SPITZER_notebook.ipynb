{
 "cells": [
  {
   "cell_type": "markdown",
   "id": "b7f8e62d-bc62-4a89-9625-56064944ae6c",
   "metadata": {},
   "source": [
    "# Third project - Class: Tecnicas observacionales\n",
    "\n",
    "Author: Juan Estéban Agudelo Ortiz"
   ]
  },
  {
   "cell_type": "markdown",
   "id": "af223685-746e-440c-bb18-1314e427bedc",
   "metadata": {},
   "source": [
    "## 1. Installation"
   ]
  },
  {
   "cell_type": "markdown",
   "id": "d201adaf-08b9-41f8-8d30-8b5acec54819",
   "metadata": {},
   "source": [
    "Run the terminal command `pip install` using the dependencies document `requirements.txt`, which contains the libraries to be installed for the notebook to work."
   ]
  },
  {
   "cell_type": "code",
   "execution_count": null,
   "id": "2843a7f1-8a2c-495c-8155-6a2c9b9d2ee7",
   "metadata": {},
   "outputs": [
    {
     "name": "stdout",
     "output_type": "stream",
     "text": [
      "Requirement already satisfied: numpy in /home/juanessao2000/anaconda3/lib/python3.11/site-packages (from -r requirements.txt (line 1)) (1.26.4)\n",
      "Requirement already satisfied: photutils in /home/juanessao2000/anaconda3/lib/python3.11/site-packages (from -r requirements.txt (line 2)) (1.12.0)\n",
      "Requirement already satisfied: astropy in /home/juanessao2000/anaconda3/lib/python3.11/site-packages (from -r requirements.txt (line 3)) (5.3.4)\n",
      "Requirement already satisfied: pyerfa>=2.0 in /home/juanessao2000/anaconda3/lib/python3.11/site-packages (from astropy->-r requirements.txt (line 3)) (2.0.0)\n",
      "Requirement already satisfied: PyYAML>=3.13 in /home/juanessao2000/anaconda3/lib/python3.11/site-packages (from astropy->-r requirements.txt (line 3)) (6.0.1)\n",
      "Requirement already satisfied: packaging>=19.0 in /home/juanessao2000/anaconda3/lib/python3.11/site-packages (from astropy->-r requirements.txt (line 3)) (23.2)\n"
     ]
    }
   ],
   "source": [
    "!pip install -r requirements.txt"
   ]
  },
  {
   "cell_type": "markdown",
   "id": "25e37583-cdef-4495-a395-cdf126839b65",
   "metadata": {},
   "source": [
    "## 2. Libraries import"
   ]
  },
  {
   "cell_type": "markdown",
   "id": "ebda28ab-75f4-4868-a983-2ae694bdb812",
   "metadata": {},
   "source": [
    "Import the necessary libraries and functions for further steps"
   ]
  },
  {
   "cell_type": "code",
   "execution_count": null,
   "id": "e25f6808-881a-43a4-9cf9-8b52a54adbee",
   "metadata": {},
   "outputs": [],
   "source": [
    "import numpy as np\n",
    "\n",
    "import glob\n",
    "\n",
    "from photutils.aperture import CircularAperture\n",
    "from photutils.aperture import CircularAnnulus\n",
    "from photutils.aperture import aperture_photometry\n",
    "from photutils.utils import calc_total_error\n",
    "from photutils.centroids import centroid_sources, centroid_com\n",
    "\n",
    "from scipy.stats import mode\n",
    "\n",
    "from astropy.coordinates import SkyCoord\n",
    "from astropy import units as u\n",
    "from astropy.io import fits\n",
    "from astropy.wcs import WCS\n",
    "from astropy.table import Table\n",
    "from astropy.stats import sigma_clipped_stats\n",
    "from astropy.table.table import QTable\n",
    "\n",
    "import pandas as pd\n",
    "\n",
    "import matplotlib.pyplot as plt"
   ]
  },
  {
   "cell_type": "markdown",
   "id": "22686c5c-60a3-4346-a6bd-e42bfb6fc107",
   "metadata": {},
   "source": [
    "## 3. Paths definition"
   ]
  },
  {
   "cell_type": "markdown",
   "id": "7ef6d0e8-990b-4bb8-aa15-3693891d8b00",
   "metadata": {},
   "source": [
    "Write down the variables with the path to find the `.fits` and `.tsv` files and the variable with the path to save the output `.csv`."
   ]
  },
  {
   "cell_type": "code",
   "execution_count": null,
   "id": "f79d4e74-fe39-4c11-8d61-b805b25eb3fe",
   "metadata": {},
   "outputs": [],
   "source": [
    "#This directory must contain all the files that correspond to one of the instruments (SPITZER, WISE or MIPS).\n",
    "fits_dir = './Data/SPITZER/'\n",
    "#This directory must contain all the file corresponding to the GAIA catalog (here is used the catalog GAIA DR2 generated using SAO image ds9).\n",
    "catalog_dir = './Data/Catalogs/'\n",
    "#This directory is where the output .csv is going to be saved.\n",
    "output_dir = './Data/SPITZER_outputs/'"
   ]
  },
  {
   "cell_type": "markdown",
   "id": "9d1b77f9-a298-4557-b66d-fe25a0c3eb51",
   "metadata": {},
   "source": [
    "## 4. Main code"
   ]
  },
  {
   "cell_type": "markdown",
   "id": "5add0062-43ef-48c3-8a7c-3feee0147bf5",
   "metadata": {},
   "source": [
    "### 4.1. Charge .fits files"
   ]
  },
  {
   "cell_type": "markdown",
   "id": "29eb9d38-30af-4ad5-9e0a-d375c0ca0d7b",
   "metadata": {},
   "source": [
    "Load the _.fits_ files that you have in your data directory"
   ]
  },
  {
   "cell_type": "code",
   "execution_count": null,
   "id": "28871440-1795-494a-b74f-e34d1d5f00ef",
   "metadata": {},
   "outputs": [
    {
     "name": "stdout",
     "output_type": "stream",
     "text": [
      "Names charged in the list!\n"
     ]
    }
   ],
   "source": [
    "\n",
    "files_list = glob.glob(fits_dir + '*.fits')\n",
    "names = []\n",
    "for file in files_list:\n",
    "    if (fits_dir in file) and (file.endswith('.fits')):\n",
    "        names.append(file.replace(fits_dir,''))\n",
    "        \n",
    "print(\"Names charged in the list!\")"
   ]
  },
  {
   "cell_type": "markdown",
   "id": "d69028bb-eec4-403c-b265-8df9a418163f",
   "metadata": {},
   "source": [
    "Let's check that all our files have been loaded:"
   ]
  },
  {
   "cell_type": "code",
   "execution_count": null,
   "id": "2fa7af49-7904-427e-b4eb-df3ab8299255",
   "metadata": {},
   "outputs": [
    {
     "name": "stdout",
     "output_type": "stream",
     "text": [
      "\n",
      " Your directory has 4 .fits files \n",
      "\n",
      "No. 1: SPITZER_I1_3651584_0000_9_E8357864_maic.fits\n",
      "No. 2: SPITZER_I4_3651584_0000_9_E8357866_maic.fits\n",
      "No. 3: SPITZER_I3_3651584_0000_9_E8357889_maic.fits\n",
      "No. 4: SPITZER_I2_3651584_0000_9_E8357852_maic.fits\n"
     ]
    }
   ],
   "source": [
    "# Printing the name of the .fits files charged.\n",
    "if names != []:\n",
    "    N_files = len(names)\n",
    "    print(f'\\n Your directory has {N_files} .fits files \\n')\n",
    "    for l in range(N_files):\n",
    "        print(f'No. {l+1}: {names[l]}')\n",
    "else: \n",
    "  print('\\n Su carpeta no tiene archivos .fits \\n')"
   ]
  },
  {
   "cell_type": "markdown",
   "id": "bd8bc69c-c734-43e9-81f6-f0f77c550978",
   "metadata": {},
   "source": [
    "### 4.2. Load the catalog file "
   ]
  },
  {
   "cell_type": "markdown",
   "id": "d97680ca-9dfd-4309-9356-d72d1c3114b8",
   "metadata": {},
   "source": [
    "Load the file with the catalog generated by SAOimage ds9"
   ]
  },
  {
   "cell_type": "code",
   "execution_count": null,
   "id": "634b0e2d-020b-4377-8c43-768662b6e5a7",
   "metadata": {},
   "outputs": [
    {
     "data": {
      "text/html": [
       "<div>\n",
       "<style scoped>\n",
       "    .dataframe tbody tr th:only-of-type {\n",
       "        vertical-align: middle;\n",
       "    }\n",
       "\n",
       "    .dataframe tbody tr th {\n",
       "        vertical-align: top;\n",
       "    }\n",
       "\n",
       "    .dataframe thead th {\n",
       "        text-align: right;\n",
       "    }\n",
       "</style>\n",
       "<table border=\"1\" class=\"dataframe\">\n",
       "  <thead>\n",
       "    <tr style=\"text-align: right;\">\n",
       "      <th></th>\n",
       "      <th>_RAJ2000</th>\n",
       "      <th>_DEJ2000</th>\n",
       "      <th>RA_ICRS</th>\n",
       "      <th>e_RA_ICRS</th>\n",
       "      <th>DE_ICRS</th>\n",
       "      <th>e_DE_ICRS</th>\n",
       "      <th>Source</th>\n",
       "      <th>Plx</th>\n",
       "      <th>e_Plx</th>\n",
       "      <th>pmRA</th>\n",
       "      <th>...</th>\n",
       "      <th>RPmag</th>\n",
       "      <th>e_RPmag</th>\n",
       "      <th>BP-RP</th>\n",
       "      <th>RV</th>\n",
       "      <th>e_RV</th>\n",
       "      <th>Teff</th>\n",
       "      <th>AG</th>\n",
       "      <th>E(BP-RP)</th>\n",
       "      <th>Rad</th>\n",
       "      <th>Lum</th>\n",
       "    </tr>\n",
       "  </thead>\n",
       "  <tbody>\n",
       "    <tr>\n",
       "      <th>0</th>\n",
       "      <td>56.140769</td>\n",
       "      <td>31.975080</td>\n",
       "      <td>56.140796</td>\n",
       "      <td>0.3242</td>\n",
       "      <td>31.975046</td>\n",
       "      <td>0.1349</td>\n",
       "      <td>216627812425858432</td>\n",
       "      <td>2.8710</td>\n",
       "      <td>0.3193</td>\n",
       "      <td>5.223</td>\n",
       "      <td>...</td>\n",
       "      <td>16.3286</td>\n",
       "      <td>0.0644</td>\n",
       "      <td>3.6859</td>\n",
       "      <td>NaN</td>\n",
       "      <td>NaN</td>\n",
       "      <td>NaN</td>\n",
       "      <td>NaN</td>\n",
       "      <td>NaN</td>\n",
       "      <td>NaN</td>\n",
       "      <td>NaN</td>\n",
       "    </tr>\n",
       "    <tr>\n",
       "      <th>1</th>\n",
       "      <td>56.213663</td>\n",
       "      <td>31.986909</td>\n",
       "      <td>56.213677</td>\n",
       "      <td>0.9994</td>\n",
       "      <td>31.986910</td>\n",
       "      <td>0.4143</td>\n",
       "      <td>216629113800124544</td>\n",
       "      <td>-0.9963</td>\n",
       "      <td>0.9072</td>\n",
       "      <td>2.636</td>\n",
       "      <td>...</td>\n",
       "      <td>18.6819</td>\n",
       "      <td>0.0578</td>\n",
       "      <td>2.1048</td>\n",
       "      <td>NaN</td>\n",
       "      <td>NaN</td>\n",
       "      <td>NaN</td>\n",
       "      <td>NaN</td>\n",
       "      <td>NaN</td>\n",
       "      <td>NaN</td>\n",
       "      <td>NaN</td>\n",
       "    </tr>\n",
       "    <tr>\n",
       "      <th>2</th>\n",
       "      <td>56.219711</td>\n",
       "      <td>32.015701</td>\n",
       "      <td>56.219736</td>\n",
       "      <td>0.1829</td>\n",
       "      <td>32.015668</td>\n",
       "      <td>0.0787</td>\n",
       "      <td>216629530412699008</td>\n",
       "      <td>3.4062</td>\n",
       "      <td>0.1702</td>\n",
       "      <td>5.053</td>\n",
       "      <td>...</td>\n",
       "      <td>14.9032</td>\n",
       "      <td>0.0045</td>\n",
       "      <td>3.6261</td>\n",
       "      <td>NaN</td>\n",
       "      <td>NaN</td>\n",
       "      <td>3496.43</td>\n",
       "      <td>2.1027</td>\n",
       "      <td>1.2005</td>\n",
       "      <td>0.58</td>\n",
       "      <td>0.046</td>\n",
       "    </tr>\n",
       "    <tr>\n",
       "      <th>3</th>\n",
       "      <td>56.254507</td>\n",
       "      <td>32.040566</td>\n",
       "      <td>56.254532</td>\n",
       "      <td>0.3843</td>\n",
       "      <td>32.040534</td>\n",
       "      <td>0.1582</td>\n",
       "      <td>216629732274649856</td>\n",
       "      <td>2.7968</td>\n",
       "      <td>0.3897</td>\n",
       "      <td>4.751</td>\n",
       "      <td>...</td>\n",
       "      <td>16.8323</td>\n",
       "      <td>0.0080</td>\n",
       "      <td>3.7482</td>\n",
       "      <td>NaN</td>\n",
       "      <td>NaN</td>\n",
       "      <td>NaN</td>\n",
       "      <td>NaN</td>\n",
       "      <td>NaN</td>\n",
       "      <td>NaN</td>\n",
       "      <td>NaN</td>\n",
       "    </tr>\n",
       "    <tr>\n",
       "      <th>4</th>\n",
       "      <td>56.267739</td>\n",
       "      <td>32.051545</td>\n",
       "      <td>56.267756</td>\n",
       "      <td>0.2295</td>\n",
       "      <td>32.051515</td>\n",
       "      <td>0.1061</td>\n",
       "      <td>216629874010076544</td>\n",
       "      <td>2.8970</td>\n",
       "      <td>0.2724</td>\n",
       "      <td>3.448</td>\n",
       "      <td>...</td>\n",
       "      <td>16.3039</td>\n",
       "      <td>0.0051</td>\n",
       "      <td>3.5550</td>\n",
       "      <td>NaN</td>\n",
       "      <td>NaN</td>\n",
       "      <td>NaN</td>\n",
       "      <td>NaN</td>\n",
       "      <td>NaN</td>\n",
       "      <td>NaN</td>\n",
       "      <td>NaN</td>\n",
       "    </tr>\n",
       "  </tbody>\n",
       "</table>\n",
       "<p>5 rows × 34 columns</p>\n",
       "</div>"
      ],
      "text/plain": [
       "    _RAJ2000   _DEJ2000    RA_ICRS  e_RA_ICRS    DE_ICRS  e_DE_ICRS  \\\n",
       "0  56.140769  31.975080  56.140796     0.3242  31.975046     0.1349   \n",
       "1  56.213663  31.986909  56.213677     0.9994  31.986910     0.4143   \n",
       "2  56.219711  32.015701  56.219736     0.1829  32.015668     0.0787   \n",
       "3  56.254507  32.040566  56.254532     0.3843  32.040534     0.1582   \n",
       "4  56.267739  32.051545  56.267756     0.2295  32.051515     0.1061   \n",
       "\n",
       "               Source     Plx   e_Plx   pmRA  ...    RPmag  e_RPmag   BP-RP  \\\n",
       "0  216627812425858432  2.8710  0.3193  5.223  ...  16.3286   0.0644  3.6859   \n",
       "1  216629113800124544 -0.9963  0.9072  2.636  ...  18.6819   0.0578  2.1048   \n",
       "2  216629530412699008  3.4062  0.1702  5.053  ...  14.9032   0.0045  3.6261   \n",
       "3  216629732274649856  2.7968  0.3897  4.751  ...  16.8323   0.0080  3.7482   \n",
       "4  216629874010076544  2.8970  0.2724  3.448  ...  16.3039   0.0051  3.5550   \n",
       "\n",
       "   RV  e_RV     Teff      AG  E(BP-RP)   Rad    Lum  \n",
       "0 NaN   NaN      NaN     NaN       NaN   NaN    NaN  \n",
       "1 NaN   NaN      NaN     NaN       NaN   NaN    NaN  \n",
       "2 NaN   NaN  3496.43  2.1027    1.2005  0.58  0.046  \n",
       "3 NaN   NaN      NaN     NaN       NaN   NaN    NaN  \n",
       "4 NaN   NaN      NaN     NaN       NaN   NaN    NaN  \n",
       "\n",
       "[5 rows x 34 columns]"
      ]
     },
     "execution_count": null,
     "metadata": {},
     "output_type": "execute_result"
    }
   ],
   "source": [
    "objects = pd.read_csv(catalog_dir+\"ds9-ch2.tsv\", sep='\\t')\n",
    "objects.head(5)"
   ]
  },
  {
   "cell_type": "markdown",
   "id": "e6acbb6d-9898-4fc5-b566-a90f655b8567",
   "metadata": {},
   "source": [
    "Here we are interested specifically in the Right ascension, the Declination and the Source ID for each star. Let's extract them:"
   ]
  },
  {
   "cell_type": "code",
   "execution_count": null,
   "id": "98aaf9d7-13fb-4f03-a79e-7010f886d9f2",
   "metadata": {},
   "outputs": [],
   "source": [
    "ra = objects[\"_RAJ2000\"]\n",
    "dec = objects[\"_DEJ2000\"]\n",
    "id_code = objects[\"Source\"]"
   ]
  },
  {
   "cell_type": "markdown",
   "id": "9f5a3f4a-fa79-4d6d-82b6-97a1d76be1ff",
   "metadata": {},
   "source": [
    "These values are in hhmmss and ggmmss. We will convert them to degrees."
   ]
  },
  {
   "cell_type": "code",
   "execution_count": null,
   "id": "e86e781b-200a-4906-8714-322514549414",
   "metadata": {},
   "outputs": [],
   "source": [
    "decimal_catalog = SkyCoord(ra, dec, unit=(u.degree))\n",
    "gaia_catalog = {\"_RAJ2000\": decimal_catalog.ra.deg,\n",
    "           \"_DEJ2000\": decimal_catalog.dec.deg,\n",
    "           \"Source\": id_code}\n",
    "gaia_catalog = pd.DataFrame(gaia_catalog)"
   ]
  },
  {
   "cell_type": "code",
   "execution_count": null,
   "id": "da56c460-efdc-495a-a8e2-f86220f5a240",
   "metadata": {},
   "outputs": [
    {
     "data": {
      "text/html": [
       "<div>\n",
       "<style scoped>\n",
       "    .dataframe tbody tr th:only-of-type {\n",
       "        vertical-align: middle;\n",
       "    }\n",
       "\n",
       "    .dataframe tbody tr th {\n",
       "        vertical-align: top;\n",
       "    }\n",
       "\n",
       "    .dataframe thead th {\n",
       "        text-align: right;\n",
       "    }\n",
       "</style>\n",
       "<table border=\"1\" class=\"dataframe\">\n",
       "  <thead>\n",
       "    <tr style=\"text-align: right;\">\n",
       "      <th></th>\n",
       "      <th>_RAJ2000</th>\n",
       "      <th>_DEJ2000</th>\n",
       "      <th>Source</th>\n",
       "    </tr>\n",
       "  </thead>\n",
       "  <tbody>\n",
       "    <tr>\n",
       "      <th>0</th>\n",
       "      <td>56.140769</td>\n",
       "      <td>31.975080</td>\n",
       "      <td>216627812425858432</td>\n",
       "    </tr>\n",
       "    <tr>\n",
       "      <th>1</th>\n",
       "      <td>56.213663</td>\n",
       "      <td>31.986909</td>\n",
       "      <td>216629113800124544</td>\n",
       "    </tr>\n",
       "    <tr>\n",
       "      <th>2</th>\n",
       "      <td>56.219711</td>\n",
       "      <td>32.015701</td>\n",
       "      <td>216629530412699008</td>\n",
       "    </tr>\n",
       "    <tr>\n",
       "      <th>3</th>\n",
       "      <td>56.254507</td>\n",
       "      <td>32.040566</td>\n",
       "      <td>216629732274649856</td>\n",
       "    </tr>\n",
       "    <tr>\n",
       "      <th>4</th>\n",
       "      <td>56.267739</td>\n",
       "      <td>32.051545</td>\n",
       "      <td>216629874010076544</td>\n",
       "    </tr>\n",
       "  </tbody>\n",
       "</table>\n",
       "</div>"
      ],
      "text/plain": [
       "    _RAJ2000   _DEJ2000              Source\n",
       "0  56.140769  31.975080  216627812425858432\n",
       "1  56.213663  31.986909  216629113800124544\n",
       "2  56.219711  32.015701  216629530412699008\n",
       "3  56.254507  32.040566  216629732274649856\n",
       "4  56.267739  32.051545  216629874010076544"
      ]
     },
     "execution_count": null,
     "metadata": {},
     "output_type": "execute_result"
    }
   ],
   "source": [
    "gaia_catalog.head(5)"
   ]
  },
  {
   "cell_type": "markdown",
   "id": "2f39bb32-0bce-47af-a330-7dfc0748b450",
   "metadata": {},
   "source": [
    "### 4.3. FITS processing"
   ]
  },
  {
   "cell_type": "markdown",
   "id": "b614f535-5597-44a8-a76e-6186a5429f2c",
   "metadata": {},
   "source": [
    "Let's do some tests with just one of the `.fits` files.\n",
    "\n",
    "---\n",
    "\n",
    "First of all, let's define a function that detects whether or not an object of the catalog is inside the image."
   ]
  },
  {
   "cell_type": "code",
   "execution_count": null,
   "id": "84d54647-5032-41ee-9125-57610b9839ef",
   "metadata": {},
   "outputs": [],
   "source": [
    "def is_in_pic(w, image, ra, dec):\n",
    "        \"\"\"\n",
    "        Function that selects only the objects from the catalog that are inside the image. \n",
    "        \"\"\"\n",
    "        ra_max, dec_max = w.array_index_to_world_values(0,0)\n",
    "        ra_min, dec_min = w.array_index_to_world_values(image.shape[0], image.shape[1])\n",
    "        if ra_min > ra_max:\n",
    "            ra_min = w.array_index_to_world_values(0,0)[0]\n",
    "            ra_max = w.array_index_to_world_values(image.shape[0], image.shape[1])[0]\n",
    "        if dec_min > dec_max:\n",
    "            dec_min = w.array_index_to_world_values(0,0)[1]\n",
    "            dec_max = w.array_index_to_world_values(image.shape[0], image.shape[1])[1]\n",
    "        return (ra < ra_max) & (ra > ra_min) & (dec < dec_max) & (dec >   dec_min)"
   ]
  },
  {
   "cell_type": "markdown",
   "id": "eea719f1-8e7f-40e6-afc8-c5d87e8ae6fc",
   "metadata": {},
   "source": [
    "Let's open the `.fits` file"
   ]
  },
  {
   "cell_type": "code",
   "execution_count": null,
   "id": "fa84e9da-ff56-4a2c-8669-01a81180bc1f",
   "metadata": {},
   "outputs": [
    {
     "name": "stdout",
     "output_type": "stream",
     "text": [
      "\n",
      "path to the file: ./Data/SPITZER/SPITZER_I1_3651584_0000_9_E8357864_maic.fits,\n",
      "\n",
      "file_name: SPITZER_I1_3651584_0000_9_E8357864_maic.fits\n",
      "\n"
     ]
    }
   ],
   "source": [
    "k = 0\n",
    "fits_path = files_list[k]\n",
    "fits_name = names[k]\n",
    "print(f\"\"\"\n",
    "path to the file: {fits_path},\n",
    "\n",
    "file_name: {fits_name}\n",
    "\"\"\")"
   ]
  },
  {
   "cell_type": "code",
   "execution_count": null,
   "id": "96124ba3-1f93-4827-8bbc-c9d2f976b20c",
   "metadata": {},
   "outputs": [],
   "source": [
    "with fits.open(fits_path) as FitsData:\n",
    "    w = WCS(FitsData[0].header)\n",
    "    image = FitsData[0].data\n",
    "    fits_header = FitsData[0].header\n",
    "    itime  = fits_header['EXPTIME'] \n",
    "    ifilter = fits_header['CHNLNUM']  \n",
    "    DateObs = fits_header['DATE_OBS']\n",
    "    epadu = fits_header['GAIN']"
   ]
  },
  {
   "cell_type": "markdown",
   "id": "ac3c6e5c-a504-4005-ba48-5d084a5ba620",
   "metadata": {},
   "source": [
    "Now we write a .txt file that contains the information of the objects that are contained in the picture."
   ]
  },
  {
   "cell_type": "code",
   "execution_count": null,
   "id": "58aaba8f-e839-4f47-a1e9-5f905527f9fb",
   "metadata": {},
   "outputs": [
    {
     "name": "stdout",
     "output_type": "stream",
     "text": [
      "\n",
      " Se han encontrado 943 objetos del catálogo en el archivo .fits \n",
      "\n"
     ]
    }
   ],
   "source": [
    "with open(f\"Objectlist_{fits_name}.out\", \"w\") as NewListO:\n",
    "    object_counter = 0 # object counter for the objects that are inside the image.\n",
    "    for index, row in gaia_catalog.iterrows():\n",
    "        condition = is_in_pic(w, image, row[\"_RAJ2000\"], row[\"_DEJ2000\"])\n",
    "        if condition:\n",
    "            object_counter +=1\n",
    "            X, Y = SkyCoord(row[\"_RAJ2000\"], row[\"_DEJ2000\"], frame=\"icrs\", unit=\"deg\").to_pixel(w)\n",
    "            NewListO.write(f\"{row['_RAJ2000']}    {row['_DEJ2000']}    {row['Source']}   {X}   {Y}   {condition}\\n\")\n",
    "print(f'\\n Se han encontrado {object_counter} objetos del catálogo en el archivo .fits \\n')\n",
    "if object_counter == 0:\n",
    "    raise ValueError(\"Not objects found\")"
   ]
  },
  {
   "cell_type": "markdown",
   "id": "543e22d8-c518-416a-869d-cb8439f11c8e",
   "metadata": {},
   "source": [
    "Save the coordinates from the objects of the catalog that are present in the image."
   ]
  },
  {
   "cell_type": "code",
   "execution_count": null,
   "id": "e0e01a8e-dea9-4ebe-8b98-7b530472a453",
   "metadata": {},
   "outputs": [],
   "source": [
    "with open(f\"Objectlist_{fits_name}.out\", \"r\") as Obj:\n",
    "    ListObj = Obj.readlines()\n",
    "\n",
    "Final_LO = []\n",
    "for obj in ListObj:\n",
    "    Final_LO.append(obj.split()[:5])\n",
    "    RA, DEC, ID, x, y = zip(*Final_LO) \n",
    "    Final_List = np.array(list(zip(RA,DEC,x,y)), dtype=float)\n",
    "    ID = np.array(ID,dtype='U20')"
   ]
  },
  {
   "cell_type": "markdown",
   "id": "b814e5b9-99a1-403a-a67b-cb35a3acd97c",
   "metadata": {},
   "source": [
    "Drop the objects that are not in the fits files (just in case the is_in_pic function failed numerically)"
   ]
  },
  {
   "cell_type": "code",
   "execution_count": null,
   "id": "e2097561-c616-4916-ad3d-ddd70f2d14fb",
   "metadata": {},
   "outputs": [],
   "source": [
    "mm = [ 0 < i[2] and i[2] < (image.shape[0] - 1) for i in Final_List] # List of [Booleans] (x) where the positions are inside the image.\n",
    "ID = ID[mm]\n",
    "Final_List = Final_List[mm]\n",
    "\n",
    "nn = [ 0 < i[3] and i[3] < (image.shape[1] - 1) for i in Final_List] # List of [Booleans] (y) where the positions are inside the image.\n",
    "ID = ID[nn]\n",
    "Final_List = Final_List[nn]\n",
    "\n",
    "# IDs repetidos se categorizan \n",
    "u, c = np.unique(ID, return_counts=True)\n",
    "dup = u[c > 1]\n",
    "for j in dup:\n",
    "    m = 0\n",
    "    for i in range(len(ID)):\n",
    "        if ID[i] == j:\n",
    "            m += 0.1\n",
    "            ID[i] = ID[i] + str(m)"
   ]
  },
  {
   "cell_type": "markdown",
   "id": "a2683b00-250e-4998-9449-b5e16ab97f62",
   "metadata": {},
   "source": [
    "Let's print a preview of the new reduced catalog"
   ]
  },
  {
   "cell_type": "code",
   "execution_count": null,
   "id": "1cfbfc86-ef12-4a98-bb28-000da9ccccd0",
   "metadata": {},
   "outputs": [
    {
     "name": "stdout",
     "output_type": "stream",
     "text": [
      "\n",
      "Su catalogo reducido es (filas 874):\n",
      " \n",
      "----RA---- ---DEC--- -----x-----  -----y----- -----ID-------\n",
      "\n",
      "[56.140769 31.975080 948.653359 1677.073068] 2.1662781242585843e+\n",
      "    ...       ...         ...          ...         ...        \n",
      "\n",
      "[56.023281 32.325271 3120.792203 1447.181787] 2.1671924368954765e+\n",
      "---------- --------- ------------  ----------- -------------\n",
      "\n"
     ]
    }
   ],
   "source": [
    "np.set_printoptions(suppress=True, formatter={'float_kind':'{:f}'    .format})\n",
    "print(f\"\\nSu catalogo reducido es (filas {len(Final_List)}):\\n \")\n",
    "print(\"----RA---- ---DEC--- -----x-----  -----y----- -----ID-------\\n\")\n",
    "print(Final_List[0],ID[0])\n",
    "print(\"    ...       ...         ...          ...         ...        \\n\")\n",
    "print(Final_List[len(Final_List)-1],ID[len(Final_List)-1])\n",
    "print(\"---------- --------- ------------  ----------- -------------\\n\")"
   ]
  },
  {
   "cell_type": "markdown",
   "id": "98fb0afd-e21d-47bc-9fce-39b7603cbf6a",
   "metadata": {},
   "source": [
    "For the next step, we will calculate the pixel position of the centroid of the stars in the image. They are calculated using the [centroid_com function](https://photutils.readthedocs.io/en/stable/api/photutils.centroids.centroid_com.html), which is defined as the \"center of mass\"."
   ]
  },
  {
   "cell_type": "code",
   "execution_count": null,
   "id": "fc121a5a-9a69-44d9-8ec9-fdd31409f56a",
   "metadata": {},
   "outputs": [
    {
     "name": "stderr",
     "output_type": "stream",
     "text": [
      "WARNING: Input data contains non-finite values (e.g., NaN or inf) that were automatically masked. [photutils.centroids.core]\n"
     ]
    }
   ],
   "source": [
    "# Se extraen los valores X y Y\n",
    "center_box_size = 7 #boz size for the calculation of the centroid\n",
    "\n",
    "_, _, x_init, y_init = zip(*Final_List)\n",
    "\n",
    "x, y = centroid_sources(image, x_init, y_init, box_size = center_box_size, centroid_func=centroid_com)\n",
    "X, Y = np.array(x), np.array(y)\n",
    "NewIDS = np.array(ID)\n",
    "\n",
    "#Centroids with NaN or inf values are eliminated\n",
    "is_nan = ~np.isnan(X)\n",
    "x, y = X[is_nan],Y[is_nan]      \n",
    "Final_List2 = Final_List[is_nan] \n",
    "NewIDS = NewIDS[is_nan]\n",
    "\n",
    "#Resultant centroids\n",
    "starloc = list(zip(x,y))"
   ]
  },
  {
   "cell_type": "markdown",
   "id": "58108a36-c705-432a-81f1-e2f1757fd8c6",
   "metadata": {},
   "source": [
    "### 4.4 Photometry"
   ]
  },
  {
   "attachments": {
    "5996f457-6642-41ed-a994-a3714c9dbb8e.png": {
     "image/png": "[encoded data removed]"
    }
   },
   "cell_type": "markdown",
   "id": "3510a6c9-9de2-4a9d-b10e-2e1306570b2f",
   "metadata": {},
   "source": [
    "We are interested in applying for the photometry both Circular aperture (for a zone encapsulating the centroid of the star) and Annulus aperture (for the zone surrounding the star, i.e., the bakcground).\n",
    "\n",
    "![image.png](attachment:5996f457-6642-41ed-a994-a3714c9dbb8e.png)\n",
    "\n",
    "Let's define the photometric parameters (aperture, sky ring internal radius, sky ring external radius) for each star centroid."
   ]
  },
  {
   "cell_type": "code",
   "execution_count": null,
   "id": "320ed817-600c-4de8-83d6-61b8dd2ba4e7",
   "metadata": {},
   "outputs": [],
   "source": [
    "r = 9 # Aperture (px)\n",
    "r_in = 9 # Sky ring internal radius (px)\n",
    "r_out = 20 #Sky ring external radius (px)\n",
    "\n",
    "#Defined them as proper photometric objects using photutils.\n",
    "circular_aperture = CircularAperture(starloc, r=r)\n",
    "annulus_aperture = CircularAnnulus(starloc, r_in=r_in, r_out=r_out )\n",
    "apers = [circular_aperture, annulus_aperture]"
   ]
  },
  {
   "cell_type": "code",
   "execution_count": null,
   "id": "9dddce8a-1165-4d86-8432-26074639dac2",
   "metadata": {},
   "outputs": [
    {
     "name": "stdout",
     "output_type": "stream",
     "text": [
      "(874,) (874,)\n"
     ]
    }
   ],
   "source": [
    "print(apers[0].shape, apers[1].shape)"
   ]
  },
  {
   "cell_type": "markdown",
   "id": "e14783a9-a96e-4f2b-8caf-b1f92273a522",
   "metadata": {},
   "source": [
    "As you can see, there is a defined circular and annular aperture for each of the objects."
   ]
  },
  {
   "cell_type": "markdown",
   "id": "b220e6e5-4ae3-459b-a772-c8ffe217957b",
   "metadata": {},
   "source": [
    "Let's apply both type of apertures on the photometry of the image."
   ]
  },
  {
   "cell_type": "code",
   "execution_count": null,
   "id": "97951ff0-6157-4315-b7b7-2855017f077c",
   "metadata": {},
   "outputs": [],
   "source": [
    "phot_table = aperture_photometry(image, apers)"
   ]
  },
  {
   "cell_type": "code",
   "execution_count": null,
   "id": "ee24fa4c-ef4d-410b-b1e9-5351d6178e97",
   "metadata": {},
   "outputs": [
    {
     "data": {
      "text/html": [
       "<div><i>QTable length=874</i>\n",
       "<table id=\"table140096901485648\" class=\"table-striped table-bordered table-condensed\">\n",
       "<thead><tr><th>id</th><th>xcenter</th><th>ycenter</th><th>aperture_sum_0</th><th>aperture_sum_1</th></tr></thead>\n",
       "<thead><tr><th></th><th>pix</th><th>pix</th><th></th><th></th></tr></thead>\n",
       "<thead><tr><th>int64</th><th>float64</th><th>float64</th><th>float64</th><th>float64</th></tr></thead>\n",
       "<tr><td>1</td><td>948.4953245408227</td><td>1677.1922825313989</td><td>1411.5406855443841</td><td>395.6214861288231</td></tr>\n",
       "<tr><td>2</td><td>955.7814639889231</td><td>2054.9595398451047</td><td>107.86546294649847</td><td>299.6826144663014</td></tr>\n",
       "<tr><td>3</td><td>1120.6447171454276</td><td>2114.4281208653247</td><td>1137.1709307041276</td><td>363.8958303358962</td></tr>\n",
       "<tr><td>4</td><td>1237.8577474170545</td><td>2314.0963299984496</td><td>287.10469489918785</td><td>270.09505303692634</td></tr>\n",
       "<tr><td>5</td><td>1291.2339196388962</td><td>2391.529657292042</td><td>376.7450861562905</td><td>322.3220108677532</td></tr>\n",
       "<tr><td>6</td><td>1290.9843098087042</td><td>2416.535047829559</td><td>1952.2413497282423</td><td>746.9401609699107</td></tr>\n",
       "<tr><td>...</td><td>...</td><td>...</td><td>...</td><td>...</td></tr>\n",
       "<tr><td>869</td><td>3149.006253269489</td><td>1850.9957829941452</td><td>171.81470795391897</td><td>626.9826804732058</td></tr>\n",
       "<tr><td>870</td><td>3159.964692107405</td><td>1451.0098685922173</td><td>167.14070597191608</td><td>377.8546826567731</td></tr>\n",
       "<tr><td>871</td><td>3117.6777646485402</td><td>1564.3404271833997</td><td>935.6978725089027</td><td>716.9798925743869</td></tr>\n",
       "<tr><td>872</td><td>3128.2088841039013</td><td>1501.3977354878734</td><td>134.5218989746285</td><td>375.8481977399952</td></tr>\n",
       "<tr><td>873</td><td>3176.139779672317</td><td>1444.2906292433065</td><td>110.27912131100959</td><td>423.7099852451488</td></tr>\n",
       "<tr><td>874</td><td>3120.8778538197166</td><td>1447.179831510265</td><td>357.5565652112324</td><td>370.9843400699655</td></tr>\n",
       "</table></div>"
      ],
      "text/plain": [
       "<QTable length=874>\n",
       "  id       xcenter       ...   aperture_sum_0     aperture_sum_1  \n",
       "             pix         ...                                      \n",
       "int64      float64       ...      float64            float64      \n",
       "----- ------------------ ... ------------------ ------------------\n",
       "    1  948.4953245408227 ... 1411.5406855443841  395.6214861288231\n",
       "    2  955.7814639889231 ... 107.86546294649847  299.6826144663014\n",
       "    3 1120.6447171454276 ... 1137.1709307041276  363.8958303358962\n",
       "    4 1237.8577474170545 ... 287.10469489918785 270.09505303692634\n",
       "    5 1291.2339196388962 ...  376.7450861562905  322.3220108677532\n",
       "    6 1290.9843098087042 ... 1952.2413497282423  746.9401609699107\n",
       "  ...                ... ...                ...                ...\n",
       "  869  3149.006253269489 ... 171.81470795391897  626.9826804732058\n",
       "  870  3159.964692107405 ... 167.14070597191608  377.8546826567731\n",
       "  871 3117.6777646485402 ...  935.6978725089027  716.9798925743869\n",
       "  872 3128.2088841039013 ...  134.5218989746285  375.8481977399952\n",
       "  873  3176.139779672317 ... 110.27912131100959  423.7099852451488\n",
       "  874 3120.8778538197166 ...  357.5565652112324  370.9843400699655"
      ]
     },
     "execution_count": null,
     "metadata": {},
     "output_type": "execute_result"
    }
   ],
   "source": [
    "phot_table"
   ]
  },
  {
   "cell_type": "code",
   "execution_count": null,
   "id": "f1f8eb9d-0e9d-4c75-8bf7-7c9ac13c9199",
   "metadata": {},
   "outputs": [
    {
     "name": "stdout",
     "output_type": "stream",
     "text": [
      "nan 411.1678819140442\n",
      "nan 5800.456503127113\n",
      "nan 4499.599610470055\n"
     ]
    }
   ],
   "source": [
    "for index in np.argwhere(np.isnan(phot_table['aperture_sum_0'])):\n",
    "    print(phot_table['aperture_sum_0'][index[0]], phot_table['aperture_sum_1'][index[0]])"
   ]
  },
  {
   "cell_type": "markdown",
   "id": "7561e841-aefa-4c99-81e6-593f3534cada",
   "metadata": {},
   "source": [
    "The `aperture_sum_0` corresponds to the photometry of the circular aperture, while the `aperture_sum_1` corresponds to the annular aperture photometry.\n",
    "\n",
    "Let's calculate now the area and flux in the total area (the sum of the flux in the cirular aperture, that ideally corresponds to the star, and the annular aperture, that ideally corresponds just to the background)."
   ]
  },
  {
   "cell_type": "code",
   "execution_count": null,
   "id": "89eabfa9-bff4-425f-b85e-9f9460f2d84e",
   "metadata": {},
   "outputs": [],
   "source": [
    "#Area and flux in from the background\n",
    "bkg_mean = phot_table['aperture_sum_1'] / annulus_aperture.area\n",
    "area_aper = np.array(circular_aperture.area_overlap(image))\n",
    "bkg_sum = bkg_mean * area_aper\n",
    "\n",
    "#Total flux from each object after substracting background\n",
    "final_flux = phot_table['aperture_sum_0'] - bkg_sum\n",
    "phot_table['flux'] = final_flux\n",
    "phot_table['flux'].info.format = '%.8g' "
   ]
  },
  {
   "cell_type": "markdown",
   "id": "d35acf55-6e6a-4a13-b0cd-6095ee1c8b03",
   "metadata": {},
   "source": [
    "By knowing which of the channels we are using from SPITZER, we will have a minimum magnitude value that can be detected by each of them. Below we have the values of the minimum magnitude of each of the channels, which will be selected depending on the `ifilter` value that is especified in the header of the `.fits` file. For our example, which selects the channel 1, `ifilter == 1` (you are free to explore with the other channel `.fits`)"
   ]
  },
  {
   "cell_type": "code",
   "execution_count": null,
   "id": "7ac01171-c889-49fd-84c4-356fab61f510",
   "metadata": {},
   "outputs": [
    {
     "name": "stdout",
     "output_type": "stream",
     "text": [
      "channel 1 selected\n",
      "18.8027\n"
     ]
    }
   ],
   "source": [
    "print(\"channel\", ifilter, \"selected\")\n",
    "if ifilter == 1:\n",
    "    zmag =  18.8027\n",
    "elif ifilter == 2:\n",
    "    zmag = 18.3177\n",
    "elif ifilter == 3:\n",
    "    zmag = 17.8331\n",
    "elif ifilter == 4:\n",
    "    zmag = 17.2120\n",
    "else:\n",
    "    zmag = 17.2120\n",
    "print(zmag)  "
   ]
  },
  {
   "cell_type": "markdown",
   "id": "576c1429-6ba0-48c9-bedf-a5cc0aea016c",
   "metadata": {},
   "source": [
    "Let's save this filter value as the name of the minimum magnitude."
   ]
  },
  {
   "cell_type": "code",
   "execution_count": null,
   "id": "b391aa70-be17-446d-bfb1-0c43e9e71cc5",
   "metadata": {},
   "outputs": [
    {
     "data": {
      "text/plain": [
       "'1'"
      ]
     },
     "execution_count": null,
     "metadata": {},
     "output_type": "execute_result"
    }
   ],
   "source": [
    "name_mag = str(ifilter)\n",
    "name_mag"
   ]
  },
  {
   "cell_type": "markdown",
   "id": "e9e30d6a-9f26-405f-a81e-0fba224be3d2",
   "metadata": {},
   "source": [
    "Now, let's save the value of the instrumental magnitude in our table"
   ]
  },
  {
   "cell_type": "code",
   "execution_count": null,
   "id": "ab082298-b239-4f53-9345-31b91b40c990",
   "metadata": {},
   "outputs": [
    {
     "name": "stderr",
     "output_type": "stream",
     "text": [
      "/tmp/ipykernel_16565/2448779896.py:1: RuntimeWarning: invalid value encountered in log10\n",
      "  phot_table[name_mag + '_mag'] = zmag - 2.5 * np.log10(final_flux) + 2.5 * np.log10(itime)\n"
     ]
    }
   ],
   "source": [
    "phot_table[name_mag + '_mag'] = zmag - 2.5 * np.log10(final_flux) + 2.5 * np.log10(itime)\n",
    "phot_table[name_mag + '_mag'].info.format = '%.8g'  "
   ]
  },
  {
   "cell_type": "markdown",
   "id": "c300a0b6-b130-4787-81b5-79bba65f0ec3",
   "metadata": {},
   "source": [
    "---\n",
    "#### Note:\n",
    "If a message like the following is shown  \n",
    "\n",
    "<div class=\"alert alert-danger\">\n",
    "\n",
    "```python\n",
    "/tmp/ipykernel_31438/2448779896.py:1: RuntimeWarning: invalid value encountered in log10\n",
    "  phot_table[name_mag + '_mag'] = zmag - 2.5 * np.log10(final_flux) + 2.5 * np.log10(itime)\n",
    "\n",
    "```\n",
    "</div>\n",
    "\n",
    "We could deduce that the stars detected in the `.fits` may be close to the border (that is my guess). Let's plot the image to check this out\n"
   ]
  },
  {
   "cell_type": "code",
   "execution_count": null,
   "id": "5dc766a3-c689-41b5-96ab-d55281894a97",
   "metadata": {},
   "outputs": [
    {
     "data": {
      "text/plain": [
       "<matplotlib.image.AxesImage at 0x7f6ad6463bd0>"
      ]
     },
     "execution_count": null,
     "metadata": {},
     "output_type": "execute_result"
    },
    {
     "data": {
      "image/png": "[encoded data removed]",
      "text/plain": [
       "<Figure size 640x480 with 1 Axes>"
      ]
     },
     "metadata": {},
     "output_type": "display_data"
    }
   ],
   "source": [
    "fig, ax = plt.subplots()\n",
    "ax.imshow(image)"
   ]
  },
  {
   "cell_type": "markdown",
   "id": "e5ad677e-8e6d-4de1-b1b3-e19a8a881f6c",
   "metadata": {},
   "source": [
    "As the border of the .fits shows, this hypothesis may be a possibility.\n",
    "\n",
    "#### End of the note\n",
    "---"
   ]
  },
  {
   "cell_type": "markdown",
   "id": "98bd1064-cb6e-4b6a-ac29-40ef8d0d4c3b",
   "metadata": {},
   "source": [
    "It's important to know also the uncertainties from the instrumental magnitudes. Let's save them too in our tables"
   ]
  },
  {
   "cell_type": "code",
   "execution_count": null,
   "id": "3e3f1895-ca01-4b33-858f-dbceb7be098d",
   "metadata": {},
   "outputs": [
    {
     "name": "stderr",
     "output_type": "stream",
     "text": [
      "WARNING: Input data contains invalid values (NaNs or infs), which were automatically clipped. [astropy.stats.sigma_clipping]\n",
      "/tmp/ipykernel_16565/1901099362.py:2: RuntimeWarning: invalid value encountered in sqrt\n",
      "  phot_table[name_mag + '_mag_err'] = 1.0857 * np.sqrt(final_flux    /epadu + area_aper*stdev**2 )/final_flux\n"
     ]
    }
   ],
   "source": [
    "_, _, stdev = sigma_clipped_stats(image, sigma=3.0)\n",
    "phot_table[name_mag + '_mag_err'] = 1.0857 * np.sqrt(final_flux    /epadu + area_aper*stdev**2 )/final_flux\n",
    "phot_table[name_mag + '_mag_err'].info.format = '%.8g'"
   ]
  },
  {
   "cell_type": "code",
   "execution_count": null,
   "id": "ca59197e-79de-4656-9153-3561f8424d50",
   "metadata": {},
   "outputs": [
    {
     "name": "stdout",
     "output_type": "stream",
     "text": [
      "\n",
      "# of objects with nan values in the uncertainties: 35\n",
      "\n"
     ]
    }
   ],
   "source": [
    "n_unc_nans = np.argwhere(np.isnan(phot_table[name_mag + '_mag_err'])).shape[0]\n",
    "print(f\"\"\"\n",
    "# of objects with nan values in the uncertainties: {n_unc_nans}\n",
    "\"\"\")"
   ]
  },
  {
   "cell_type": "markdown",
   "id": "1f438355-e1d8-412b-9479-691707c0eb4d",
   "metadata": {},
   "source": [
    "Add to the table the location info, the ID, the date of observation and the object's name"
   ]
  },
  {
   "cell_type": "code",
   "execution_count": null,
   "id": "a82b1593-ca07-4728-bf63-3c6793351734",
   "metadata": {},
   "outputs": [],
   "source": [
    "phot_table['RA'] = [i[0] for i in Final_List2] \n",
    "phot_table['DEC'] = [i[1] for i in Final_List2] \n",
    "phot_table['ID'] = NewIDS\n",
    "phot_table['DATE-OBS'] = DateObs\n",
    "phot_table['OBJECT'] = fits_header['OBJECT']\n",
    "\n",
    "### Optional columns\n",
    "\n",
    "# phot_table['AIRMASS'] = airmass\n",
    "# phot_table['APERTURE'] = r\n",
    "# phot_table['Rint'] = r_in\n",
    "# phot_table['Rout'] = r_out\n",
    "# phot_table['AIRTEMP'] = ccdtemp"
   ]
  },
  {
   "cell_type": "markdown",
   "id": "f03acc2f-f68e-4ef9-a072-549bbf64e1ae",
   "metadata": {},
   "source": [
    "Finally, let's drop the NaN values from the table"
   ]
  },
  {
   "cell_type": "code",
   "execution_count": null,
   "id": "2dbc9aec-b84f-46d7-b2d9-23c231c756cc",
   "metadata": {},
   "outputs": [],
   "source": [
    "index_nan = np.argwhere(np.isnan(phot_table[name_mag + '_mag'].data)) \n",
    "phot_table.remove_rows(index_nan)"
   ]
  },
  {
   "cell_type": "code",
   "execution_count": null,
   "id": "56e91e75-4908-4023-9c26-519f773f539e",
   "metadata": {},
   "outputs": [
    {
     "data": {
      "text/html": [
       "<div><i>QTable length=815</i>\n",
       "<table id=\"table140096901485648\" class=\"table-striped table-bordered table-condensed\">\n",
       "<thead><tr><th>id</th><th>xcenter</th><th>ycenter</th><th>aperture_sum_0</th><th>aperture_sum_1</th><th>flux</th><th>1_mag</th><th>1_mag_err</th><th>RA</th><th>DEC</th><th>ID</th><th>DATE-OBS</th><th>OBJECT</th></tr></thead>\n",
       "<thead><tr><th></th><th>pix</th><th>pix</th><th></th><th></th><th></th><th></th><th></th><th></th><th></th><th></th><th></th><th></th></tr></thead>\n",
       "<thead><tr><th>int64</th><th>float64</th><th>float64</th><th>float64</th><th>float64</th><th>float64</th><th>float64</th><th>float64</th><th>float64</th><th>float64</th><th>str20</th><th>str23</th><th>str5</th></tr></thead>\n",
       "<tr><td>1</td><td>948.4953245408227</td><td>1677.1922825313989</td><td>1411.5406855443841</td><td>395.6214861288231</td><td>1311.0851</td><td>13.551206</td><td>0.016777779</td><td>56.1407693712124</td><td>31.9750797733506</td><td>2.1662781242585843e+</td><td>2004-02-11T00:28:54.703</td><td>IC348</td></tr>\n",
       "<tr><td>2</td><td>955.7814639889231</td><td>2054.9595398451047</td><td>107.86546294649847</td><td>299.6826144663014</td><td>31.770504</td><td>17.590223</td><td>0.16327095</td><td>56.2136633685956</td><td>31.9869091934199</td><td>2.1662911380012454e+</td><td>2004-02-11T00:28:54.703</td><td>IC348</td></tr>\n",
       "<tr><td>3</td><td>1120.6447171454276</td><td>2114.4281208653247</td><td>1137.1709307041276</td><td>363.8958303358962</td><td>1044.771</td><td>13.797731</td><td>0.018871737</td><td>56.2197107952861</td><td>32.0157006496332</td><td>2.16629530412699e+17</td><td>2004-02-11T00:28:54.703</td><td>IC348</td></tr>\n",
       "<tr><td>4</td><td>1237.8577474170545</td><td>2314.0963299984496</td><td>287.10469489918785</td><td>270.09505303692634</td><td>218.52257</td><td>15.496543</td><td>0.044276586</td><td>56.2545074881102</td><td>32.0405655083321</td><td>2.1662973227464986e+</td><td>2004-02-11T00:28:54.703</td><td>IC348</td></tr>\n",
       "<tr><td>5</td><td>1291.2339196388962</td><td>2391.529657292042</td><td>376.7450861562905</td><td>322.3220108677532</td><td>294.90157</td><td>15.171091</td><td>0.037284583</td><td>56.267738579543</td><td>32.0515453298481</td><td>2.1662987401007654e+</td><td>2004-02-11T00:28:54.703</td><td>IC348</td></tr>\n",
       "<tr><td>6</td><td>1290.9843098087042</td><td>2416.535047829559</td><td>1952.2413497282423</td><td>746.9401609699107</td><td>1762.5794</td><td>13.229912</td><td>0.014410518</td><td>56.272601191017</td><td>32.0522027873454</td><td>2.1662986971452646e+</td><td>2004-02-11T00:28:54.703</td><td>IC348</td></tr>\n",
       "<tr><td>...</td><td>...</td><td>...</td><td>...</td><td>...</td><td>...</td><td>...</td><td>...</td><td>...</td><td>...</td><td>...</td><td>...</td><td>...</td></tr>\n",
       "<tr><td>869</td><td>3149.006253269489</td><td>1850.9957829941452</td><td>171.81470795391897</td><td>626.9826804732058</td><td>12.612209</td><td>18.593305</td><td>0.3551529</td><td>56.1008190141684</td><td>32.341383413806</td><td>2.1671896881065408e+</td><td>2004-02-11T00:28:54.703</td><td>IC348</td></tr>\n",
       "<tr><td>870</td><td>3159.964692107405</td><td>1451.0098685922173</td><td>167.14070597191608</td><td>377.8546826567731</td><td>71.196414</td><td>16.714138</td><td>0.089924859</td><td>56.0226590247944</td><td>32.3317833435401</td><td>2.1671931240902336e+</td><td>2004-02-11T00:28:54.703</td><td>IC348</td></tr>\n",
       "<tr><td>871</td><td>3117.6777646485402</td><td>1564.3404271833997</td><td>935.6978725089027</td><td>716.9798925743869</td><td>753.64342</td><td>14.152369</td><td>0.022390873</td><td>56.046040828886</td><td>32.328155943988</td><td>2.1671927375378483e+</td><td>2004-02-11T00:28:54.703</td><td>IC348</td></tr>\n",
       "<tr><td>872</td><td>3128.2088841039013</td><td>1501.3977354878734</td><td>134.5218989746285</td><td>375.8481977399952</td><td>39.08709</td><td>17.3652</td><td>0.13900438</td><td>56.0335854526588</td><td>32.3280321490089</td><td>2.167192393935164e+1</td><td>2004-02-11T00:28:54.703</td><td>IC348</td></tr>\n",
       "<tr><td>873</td><td>3176.139779672317</td><td>1444.2906292433065</td><td>110.27912131100959</td><td>423.7099852451488</td><td>2.6913194</td><td>20.27037</td><td>1.510223</td><td>56.0208745878383</td><td>32.3343008798152</td><td>2.167193081128224e+1</td><td>2004-02-11T00:28:54.703</td><td>IC348</td></tr>\n",
       "<tr><td>874</td><td>3120.8778538197166</td><td>1447.179831510265</td><td>357.5565652112324</td><td>370.9843400699655</td><td>263.35678</td><td>15.293922</td><td>0.039757346</td><td>56.0232808344976</td><td>32.3252707447713</td><td>2.1671924368954765e+</td><td>2004-02-11T00:28:54.703</td><td>IC348</td></tr>\n",
       "</table></div>"
      ],
      "text/plain": [
       "<QTable length=815>\n",
       "  id       xcenter            ycenter       ...         DATE-OBS        OBJECT\n",
       "             pix                pix         ...                               \n",
       "int64      float64            float64       ...          str23           str5 \n",
       "----- ------------------ ------------------ ... ----------------------- ------\n",
       "    1  948.4953245408227 1677.1922825313989 ... 2004-02-11T00:28:54.703  IC348\n",
       "    2  955.7814639889231 2054.9595398451047 ... 2004-02-11T00:28:54.703  IC348\n",
       "    3 1120.6447171454276 2114.4281208653247 ... 2004-02-11T00:28:54.703  IC348\n",
       "    4 1237.8577474170545 2314.0963299984496 ... 2004-02-11T00:28:54.703  IC348\n",
       "    5 1291.2339196388962  2391.529657292042 ... 2004-02-11T00:28:54.703  IC348\n",
       "    6 1290.9843098087042  2416.535047829559 ... 2004-02-11T00:28:54.703  IC348\n",
       "  ...                ...                ... ...                     ...    ...\n",
       "  869  3149.006253269489 1850.9957829941452 ... 2004-02-11T00:28:54.703  IC348\n",
       "  870  3159.964692107405 1451.0098685922173 ... 2004-02-11T00:28:54.703  IC348\n",
       "  871 3117.6777646485402 1564.3404271833997 ... 2004-02-11T00:28:54.703  IC348\n",
       "  872 3128.2088841039013 1501.3977354878734 ... 2004-02-11T00:28:54.703  IC348\n",
       "  873  3176.139779672317 1444.2906292433065 ... 2004-02-11T00:28:54.703  IC348\n",
       "  874 3120.8778538197166  1447.179831510265 ... 2004-02-11T00:28:54.703  IC348"
      ]
     },
     "execution_count": null,
     "metadata": {},
     "output_type": "execute_result"
    }
   ],
   "source": [
    "phot_table"
   ]
  },
  {
   "cell_type": "markdown",
   "id": "87d194e8-f69e-4cbb-9563-4d120cf2f5ce",
   "metadata": {},
   "source": [
    "## 5. Apply over all .FITS"
   ]
  },
  {
   "cell_type": "markdown",
   "id": "1461d74f-dc47-4e06-9962-5016091c9c32",
   "metadata": {},
   "source": [
    "Let's put all the previous lines of code in a function for processing all the `.fits` files."
   ]
  },
  {
   "cell_type": "code",
   "execution_count": null,
   "id": "2c16355b-12c2-4b13-9bf8-bda3b455b092",
   "metadata": {},
   "outputs": [],
   "source": [
    "def Photometry_Data_Table(fits_name, fits_path, catalog, r, r_in, r_out, center_box_size, *args):\n",
    "    \"\"\"\n",
    "    Function for\n",
    "    \"\"\"\n",
    "    ################################################\n",
    "    # Functions\n",
    "    ################################################\n",
    "    \n",
    "    def is_in_pic(w, image, ra, dec):\n",
    "        \"\"\"\n",
    "        Function that selects only the objects from the catalog that are inside the image. \n",
    "        \"\"\"\n",
    "        ra_max, dec_max = w.array_index_to_world_values(0,0)\n",
    "        ra_min, dec_min = w.array_index_to_world_values(image.shape[0], image.shape[1])\n",
    "        if ra_min > ra_max:\n",
    "            ra_min = w.array_index_to_world_values(0,0)[0]\n",
    "            ra_max = w.array_index_to_world_values(image.shape[0], image.shape[1])[0]\n",
    "        if dec_min > dec_max:\n",
    "            dec_min = w.array_index_to_world_values(0,0)[1]\n",
    "            dec_max = w.array_index_to_world_values(image.shape[0], image.shape[1])[1]\n",
    "        return (ra < ra_max) & (ra > ra_min) & (dec < dec_max) & (dec >   dec_min)\n",
    "\n",
    "    ################################################\n",
    "    # Main process\n",
    "    ################################################\n",
    "    \n",
    "    with fits.open(fits_path) as FitsData:\n",
    "        w = WCS(FitsData[0].header)\n",
    "        image = FitsData[0].data\n",
    "        fits_header = FitsData[0].header\n",
    "        itime  = fits_header['EXPTIME'] \n",
    "        ifilter = fits_header['CHNLNUM']  \n",
    "        DateObs = fits_header['DATE_OBS']\n",
    "        epadu = fits_header['GAIN']\n",
    "\n",
    "    # Writing a txt file that contains the information of the objects that are contained in the picture.\n",
    "    with open(f\"Objectlist_{fits_name}.out\", \"w\") as NewListO:\n",
    "        object_counter = 0 # object counter for the objects that are inside the image.\n",
    "        for index, row in catalog.iterrows():\n",
    "            condition = is_in_pic(w, image, row[\"_RAJ2000\"], row[\"_DEJ2000\"])\n",
    "            if condition:\n",
    "                object_counter +=1\n",
    "                X, Y = SkyCoord(row[\"_RAJ2000\"], row[\"_DEJ2000\"], frame=\"icrs\", unit=\"deg\").to_pixel(w)\n",
    "                NewListO.write(f\"{row['_RAJ2000']}    {row['_DEJ2000']}    {row['Source']}   {X}   {Y}   {condition}\\n\")\n",
    "    print(f'\\n Found {object_counter} items from the catalog in the file {fits_name} \\n')\n",
    "    if object_counter == 0:\n",
    "        return None\n",
    "        quit()\n",
    "\n",
    "    # Save the coordinates from the objects of the catalog that are in the image.\n",
    "    with open(f\"Objectlist_{fits_name}.out\", \"r\") as Obj:\n",
    "        ListObj = Obj.readlines()\n",
    "\n",
    "    Final_LO = []\n",
    "    for obj in ListObj:\n",
    "        Final_LO.append(obj.split()[:5])\n",
    "        RA, DEC, ID, x, y = zip(*Final_LO) \n",
    "        Final_List = np.array(list(zip(RA,DEC,x,y)), dtype=float)\n",
    "        ID = np.array(ID,dtype='U20')\n",
    "\n",
    "    # Drop the objects that are not in the fits files (just in case the is_in_pic function failed numerically)\n",
    "    mm = [ 0 < i[2] and i[2] < (image.shape[0] - 1) for i in Final_List] # List of [Booleans] (x) where the positions are inside the image.\n",
    "    ID = ID[mm]\n",
    "    Final_List = Final_List[mm]\n",
    "    \n",
    "    nn = [ 0 < i[3] and i[3] < (image.shape[1] - 1) for i in Final_List] # List of [Booleans] (y) where the positions are inside the image.\n",
    "    ID = ID[nn]\n",
    "    Final_List = Final_List[nn]\n",
    "\n",
    "    # IDs repetidos se categorizan \n",
    "    u, c = np.unique(ID, return_counts=True)\n",
    "    dup = u[c > 1]\n",
    "    for j in dup:\n",
    "        m = 0\n",
    "        for i in range(len(ID)):\n",
    "            if ID[i] == j:\n",
    "                m += 0.1\n",
    "                ID[i] = ID[i] + str(m)\n",
    "    \n",
    "    # print a preview of the reduced catalog.\n",
    "    np.set_printoptions(suppress=True, formatter={'float_kind':'{:f}'    .format})\n",
    "    \n",
    "    # Extract the X, Y values\n",
    "    _, _, x_init, y_init = zip(*Final_List)\n",
    "\n",
    "    x, y = centroid_sources(image, x_init, y_init, box_size = center_box_size, centroid_func=centroid_com)\n",
    "    X, Y = np.array(x), np.array(y)\n",
    "    NewIDS = np.array(ID) \n",
    "        \n",
    "    # Eliminate the data that have NaN or inf centroids.\n",
    "    is_nan = ~np.isnan(X)\n",
    "    x, y = X[is_nan],Y[is_nan]      \n",
    "    Final_List2 = Final_List[is_nan] \n",
    "    NewIDS = NewIDS[is_nan]\n",
    "\n",
    "    # Star coordinates centroids. \n",
    "    starloc = list(zip(x,y))\n",
    "    #print(starloc)\n",
    "    if ifilter == 1:\n",
    "        zmag =  18.8027\n",
    "    elif ifilter == 2:\n",
    "        zmag = 18.3177\n",
    "    elif ifilter == 3:\n",
    "        zmag = 17.8331\n",
    "    elif ifilter == 4:\n",
    "        zmag = 17.2120\n",
    "    else:\n",
    "        zmag = 17.2120\n",
    "        \n",
    "    # Extract each star signal.\n",
    "    aperture = CircularAperture(starloc, r=r)\n",
    "    annulus_aperture = CircularAnnulus(starloc, r_in=r_in, r_out=r_out )\n",
    "    apers = [aperture, annulus_aperture]\n",
    "    # Se genera una tabla de datos.\n",
    "    phot_table = aperture_photometry(image, apers)\n",
    "\n",
    "    # Se le asigna nombre de la magnitud dependiendo del filtro en el encabezado\n",
    "    name_mag = str(ifilter)\n",
    "\n",
    "    # Area y fujo en los anillos. \n",
    "    bkg_mean = phot_table['aperture_sum_1'] / annulus_aperture.area\n",
    "    area_aper = np.array(aperture.area_overlap(image))\n",
    "    bkg_sum = bkg_mean * area_aper\n",
    "        \n",
    "    # Flujo final para cada objeto\n",
    "    final_sum = phot_table['aperture_sum_0'] - bkg_sum\n",
    "    phot_table['flux'] = final_sum\n",
    "    phot_table['flux'].info.format = '%.8g'  \n",
    "        \n",
    "    # Magnitudes Instrumentales\n",
    "    phot_table[name_mag + '_mag'] = zmag - 2.5 * np.log10(final_sum) + 2.5 * np.log10(itime)\n",
    "    phot_table[name_mag + '_mag'].info.format = '%.8g'  \n",
    "        \n",
    "    # Error de las Magnitudes Instrumentales\n",
    "    mean, median, std = sigma_clipped_stats(image, sigma=3.0)\n",
    "    stdev = std\n",
    "    phot_table[name_mag + '_mag_err'] = 1.0857 * np.sqrt(final_sum    /epadu + area_aper*stdev**2 )/final_sum\n",
    "    phot_table[name_mag + '_mag_err'].info.format = '%.8g'\n",
    "\n",
    "    # Se agrega a la tabla la RA, DEC, ID y Masa de aire. \n",
    "    phot_table['RA'] = [i[0] for i in Final_List2] \n",
    "    phot_table['DEC'] = [i[1] for i in Final_List2] \n",
    "    phot_table['ID'] = NewIDS\n",
    "    # phot_table['AIRMASS'] = airmass\n",
    "    phot_table['DATE-OBS'] = DateObs\n",
    "    # phot_table['APERTURE'] = r\n",
    "    # phot_table['Rint'] = r_in\n",
    "    # phot_table['Rout'] = r_out\n",
    "    # phot_table['AIRTEMP'] = ccdtemp\n",
    "    phot_table['OBJECT'] = fits_header['OBJECT']\n",
    "    # Se buscan los indices en donde las magnitudes sean NaN y se eliminan\n",
    "    index_nan = np.argwhere(np.isnan(phot_table[name_mag + '_mag'].data)) \n",
    "    phot_table.remove_rows(index_nan)\n",
    "    total_rows = len(phot_table)\n",
    "    print(f\"\\nAfter the analysis there are {total_rows} objects processed in the {fits_name} file\\n\\n ################################################################################################################################################\\n\\n\")\n",
    "    return phot_table"
   ]
  },
  {
   "cell_type": "markdown",
   "id": "33b5a709-639e-4d17-8804-6d280c252d4f",
   "metadata": {},
   "source": [
    "Here we add a line to ignore the warnings of the NaN values, because they are dropped in the final steps of the function."
   ]
  },
  {
   "cell_type": "code",
   "execution_count": null,
   "id": "6dc2679a-de67-403a-b6c7-ba6ff786ee8c",
   "metadata": {},
   "outputs": [],
   "source": [
    "import warnings\n",
    "warnings.filterwarnings(\"ignore\") #for the nan values that are then drop in the final steps."
   ]
  },
  {
   "cell_type": "markdown",
   "id": "758e93a2-135b-4a27-b5fb-81c9a417d1ff",
   "metadata": {},
   "source": [
    "Let's put the previous photometric parameters here again (aperture, sky ring internal radius, sky ring external radius) for each star centroid."
   ]
  },
  {
   "cell_type": "code",
   "execution_count": null,
   "id": "4ebe90b8-f5f6-49f8-b496-4ee32e962bb5",
   "metadata": {},
   "outputs": [
    {
     "name": "stdout",
     "output_type": "stream",
     "text": [
      "\n",
      " Found 943 items from the catalog in the file SPITZER_I1_3651584_0000_9_E8357864_maic.fits \n",
      "\n",
      "\n",
      "After the analysis there are 815 objects processed in the SPITZER_I1_3651584_0000_9_E8357864_maic.fits file\n",
      "\n",
      " ################################################################################################################################################\n",
      "\n",
      "\n",
      "\n",
      " Found 943 items from the catalog in the file SPITZER_I4_3651584_0000_9_E8357866_maic.fits \n",
      "\n",
      "\n",
      "After the analysis there are 619 objects processed in the SPITZER_I4_3651584_0000_9_E8357866_maic.fits file\n",
      "\n",
      " ################################################################################################################################################\n",
      "\n",
      "\n",
      "\n",
      " Found 943 items from the catalog in the file SPITZER_I3_3651584_0000_9_E8357889_maic.fits \n",
      "\n",
      "\n",
      "After the analysis there are 715 objects processed in the SPITZER_I3_3651584_0000_9_E8357889_maic.fits file\n",
      "\n",
      " ################################################################################################################################################\n",
      "\n",
      "\n",
      "\n",
      " Found 943 items from the catalog in the file SPITZER_I2_3651584_0000_9_E8357852_maic.fits \n",
      "\n",
      "\n",
      "After the analysis there are 815 objects processed in the SPITZER_I2_3651584_0000_9_E8357852_maic.fits file\n",
      "\n",
      " ################################################################################################################################################\n",
      "\n",
      "\n",
      "4 tables from the .fits files were generated\n"
     ]
    }
   ],
   "source": [
    "#########################################\n",
    "# Definición de parámetros fotométricos #\n",
    "#########################################\n",
    "r = 9 # Aperture (px)\n",
    "r_in = 9 # Sky ring internal radius (px)\n",
    "r_out = 20 #Sky ring external radius (px)\n",
    "#########################################\n",
    "# Let's save the tables for all the fits files\n",
    "all_tables = []\n",
    "for k in range(len(files_list)):\n",
    "  fits_path = files_list[k]\n",
    "  fits_name = names[k]\n",
    "#  catalogo = catalogo_final\n",
    "\n",
    "  photom = Photometry_Data_Table(fits_name, fits_path, gaia_catalog, r=r, r_in=r_in, r_out=r_out, center_box_size=center_box_size)\n",
    "  if photom is not None:\n",
    "    all_tables.append(photom)\n",
    "\n",
    "print(f'{len(all_tables)} tables from the .fits files were generated')"
   ]
  },
  {
   "cell_type": "markdown",
   "id": "977bb442-2ee9-435d-b59f-3cb70ac53c92",
   "metadata": {},
   "source": [
    "Let's save the objects that are centered in each of the .fits files processed. \n",
    "\n",
    "**Note:** If you have only have .fits files corresponding to one object, like \"IC358\" for example, then that is the only name that is going to be saved in the focus_object list. "
   ]
  },
  {
   "cell_type": "code",
   "execution_count": null,
   "id": "8a3518b5-cef4-42bb-80d4-f6d7ac8c6e80",
   "metadata": {},
   "outputs": [],
   "source": [
    "#----#  List with all the main objects that are centered by the telescope.\n",
    "focus_object = []             \n",
    "for m in all_tables:\n",
    "    ob = m['OBJECT'][0]\n",
    "    if ob not in focus_object:\n",
    "        focus_object.append(ob) \n",
    "#----#  Dictionary with each observed object.\n",
    "final_filter = {}\n",
    "for s in focus_object:\n",
    "    final_filter[s] = []        # Example: filtro_final = {'SA98':[], 'SA95':[], '[BSA98':[], 'SA101':[], '[ASA98':[], 'SA104':[], 'SA92':[]}\n",
    "\n",
    "#----#  Fill the dictionary with the table of each object.\n",
    "for n in all_tables:\n",
    "    for p in focus_object:\n",
    "        ob = n['OBJECT'][0]\n",
    "        if ob == p:\n",
    "            final_filter[ob].append(n.copy())  # Example: filtro_final = {'SA98':[tabla1,tabla2,tabla3,..], ... , 'SA92':[tabla1,tabla2,tabla3,..]}"
   ]
  },
  {
   "cell_type": "markdown",
   "id": "889ddf3d-d648-43db-807c-b40097fbb7d9",
   "metadata": {},
   "source": [
    "Now, let's check that we have the same objects observed in each .fits file and eliminate those which are not in all the filters."
   ]
  },
  {
   "cell_type": "code",
   "execution_count": null,
   "id": "3e81ee53-11dc-4ce6-8dba-1b5661813851",
   "metadata": {},
   "outputs": [],
   "source": [
    "#----#  Intersection of the objects in the different filters.\n",
    "for foc in focus_object:\n",
    "    current_id = []\n",
    "    for j in final_filter[foc]:\n",
    "        current_id.append(j['ID'].data)\n",
    "\n",
    "    int_d = set(current_id[0]).intersection(*current_id) # Ejemplo para SA98: int_d = {'92_248', ... , '92_347'}\n",
    "\n",
    "#----#  Delete the objects that are not in all the filters\n",
    "for tab in final_filter[foc]:\n",
    "    index_of = []\n",
    "    for i in range(len(tab['ID'])):\n",
    "        if tab['ID'][i] not in int_d:\n",
    "            index_of.append(i)\n",
    "    tab.remove_rows(index_of)\n",
    "\n",
    "#----# Delete the void tables.\n",
    "for p in focus_object:\n",
    "    if len(final_filter[p][0]) == 0:\n",
    "        del final_filter[p]\n",
    "\n",
    "for foc in final_filter.keys():\n",
    "    let = len(final_filter[foc])"
   ]
  },
  {
   "cell_type": "markdown",
   "id": "13a08611-22c6-43b7-bc10-049292b8c219",
   "metadata": {},
   "source": [
    "Finally, let's create and save the tables for each object."
   ]
  },
  {
   "cell_type": "code",
   "execution_count": null,
   "id": "0ce9a077-2b39-459c-b58b-db2330aff69f",
   "metadata": {},
   "outputs": [
    {
     "name": "stdout",
     "output_type": "stream",
     "text": [
      "['OBJECT_ID', 'RA', 'DEC']\n"
     ]
    }
   ],
   "source": [
    "#----# Create the tables for each main object.\n",
    "for foc in final_filter.keys():\n",
    "    final_obs_table = QTable()\n",
    "    final_obs_table['OBJECT_ID'] = final_filter[foc][0]['ID']\n",
    "    final_obs_table['RA'] = final_filter[foc][0]['RA']\n",
    "    final_obs_table['DEC'] = final_filter[foc][0]['DEC']\n",
    "    #----# Save the tables as .csv files.\n",
    "    counter = 0\n",
    "    for j in final_filter[foc]:\n",
    "        final_obs_table[j.colnames[6] + '_' + str(counter//3)] = j[j.colnames[6]]\n",
    "        final_obs_table[j.colnames[7] + '_' + str(counter//3)] = j[j.colnames[7]]\n",
    "        final_obs_table[j.colnames[11] + '_' + j.colnames[6] + '_' + str(counter//3)] = j[j.colnames[11]]\n",
    "        counter += 1\n",
    "    final_obs_table.write(output_dir+f'/Table_{foc}.csv', overwrite=True)    "
   ]
  },
  {
   "cell_type": "markdown",
   "id": "e553db02-eebc-481f-a696-1081f5e9e2a1",
   "metadata": {},
   "source": [
    "Printing one of the saved .csv (we are going to show the last one saved), you can see that it saves the magnitude, uncertainty of the magnitude and the date of observation of each of the objects for all the channels that you had in the fits. files."
   ]
  },
  {
   "cell_type": "code",
   "execution_count": null,
   "id": "e9c9c74f-1f90-4a46-b243-cb824625af20",
   "metadata": {},
   "outputs": [
    {
     "data": {
      "text/html": [
       "<div><i>QTable length=569</i>\n",
       "<table id=\"table140096838702096\" class=\"table-striped table-bordered table-condensed\">\n",
       "<thead><tr><th>OBJECT_ID</th><th>RA</th><th>DEC</th><th>1_mag_0</th><th>1_mag_err_0</th><th>DATE-OBS_1_mag_0</th><th>4_mag_0</th><th>4_mag_err_0</th><th>DATE-OBS_4_mag_0</th><th>3_mag_0</th><th>3_mag_err_0</th><th>DATE-OBS_3_mag_0</th><th>2_mag_1</th><th>2_mag_err_1</th><th>DATE-OBS_2_mag_1</th></tr></thead>\n",
       "<thead><tr><th>str20</th><th>float64</th><th>float64</th><th>float64</th><th>float64</th><th>str23</th><th>float64</th><th>float64</th><th>str23</th><th>float64</th><th>float64</th><th>str23</th><th>float64</th><th>float64</th><th>str23</th></tr></thead>\n",
       "<tr><td>2.1662781242585843e+</td><td>56.1407693712124</td><td>31.9750797733506</td><td>13.551206</td><td>0.016777779</td><td>2004-02-11T00:28:54.703</td><td>12.553866</td><td>0.087100814</td><td>2004-02-11T00:28:54.703</td><td>13.057037</td><td>0.033857187</td><td>2004-02-11T00:28:54.703</td><td>13.282787</td><td>0.017354188</td><td>2004-02-11T00:28:54.703</td></tr>\n",
       "<tr><td>2.1662911380012454e+</td><td>56.2136633685956</td><td>31.9869091934199</td><td>17.590223</td><td>0.16327095</td><td>2004-02-11T00:28:54.703</td><td>17.488334</td><td>7.9784315</td><td>2004-02-11T00:28:54.703</td><td>17.746114</td><td>2.1035656</td><td>2004-02-11T00:28:54.703</td><td>17.631748</td><td>0.17977955</td><td>2004-02-11T00:28:54.703</td></tr>\n",
       "<tr><td>2.16629530412699e+17</td><td>56.2197107952861</td><td>32.0157006496332</td><td>13.797731</td><td>0.018871737</td><td>2004-02-11T00:28:54.703</td><td>13.633916</td><td>0.23149582</td><td>2004-02-11T00:28:54.703</td><td>13.653674</td><td>0.054546008</td><td>2004-02-11T00:28:54.703</td><td>13.71889</td><td>0.02130678</td><td>2004-02-11T00:28:54.703</td></tr>\n",
       "<tr><td>2.1662973227464986e+</td><td>56.2545074881102</td><td>32.0405655083321</td><td>15.496543</td><td>0.044276586</td><td>2004-02-11T00:28:54.703</td><td>15.296061</td><td>1.0613629</td><td>2004-02-11T00:28:54.703</td><td>15.418542</td><td>0.25227319</td><td>2004-02-11T00:28:54.703</td><td>15.365313</td><td>0.047552364</td><td>2004-02-11T00:28:54.703</td></tr>\n",
       "<tr><td>2.1662987401007654e+</td><td>56.267738579543</td><td>32.0515453298481</td><td>15.171091</td><td>0.037284583</td><td>2004-02-11T00:28:54.703</td><td>14.98727</td><td>0.79922876</td><td>2004-02-11T00:28:54.703</td><td>14.859006</td><td>0.15323428</td><td>2004-02-11T00:28:54.703</td><td>15.061621</td><td>0.040790777</td><td>2004-02-11T00:28:54.703</td></tr>\n",
       "<tr><td>2.1662986971452646e+</td><td>56.272601191017</td><td>32.0522027873454</td><td>13.229912</td><td>0.014410518</td><td>2004-02-11T00:28:54.703</td><td>13.041608</td><td>0.13515893</td><td>2004-02-11T00:28:54.703</td><td>13.172505</td><td>0.037043866</td><td>2004-02-11T00:28:54.703</td><td>13.112122</td><td>0.016021796</td><td>2004-02-11T00:28:54.703</td></tr>\n",
       "<tr><td>...</td><td>...</td><td>...</td><td>...</td><td>...</td><td>...</td><td>...</td><td>...</td><td>...</td><td>...</td><td>...</td><td>...</td><td>...</td><td>...</td><td>...</td></tr>\n",
       "<tr><td>2.16718693932112e+17</td><td>56.1249260294093</td><td>32.3229897559543</td><td>13.391326</td><td>0.015552503</td><td>2004-02-11T00:28:54.703</td><td>12.87395</td><td>0.11615796</td><td>2004-02-11T00:28:54.703</td><td>13.083808</td><td>0.034566967</td><td>2004-02-11T00:28:54.703</td><td>13.262367</td><td>0.01718892</td><td>2004-02-11T00:28:54.703</td></tr>\n",
       "<tr><td>2.1671886143570227e+</td><td>56.1436876805881</td><td>32.357603983714</td><td>18.290761</td><td>0.27830839</td><td>2004-02-11T00:28:54.703</td><td>19.768786</td><td>65.160322</td><td>2004-02-11T00:28:54.703</td><td>17.664652</td><td>1.9519842</td><td>2004-02-11T00:28:54.703</td><td>18.168435</td><td>0.26426959</td><td>2004-02-11T00:28:54.703</td></tr>\n",
       "<tr><td>2.1671903753111283e+</td><td>56.0869571075965</td><td>32.345534951419</td><td>13.860935</td><td>0.0194524</td><td>2004-02-11T00:28:54.703</td><td>13.953402</td><td>0.30987993</td><td>2004-02-11T00:28:54.703</td><td>13.893898</td><td>0.066596583</td><td>2004-02-11T00:28:54.703</td><td>13.87216</td><td>0.022910473</td><td>2004-02-11T00:28:54.703</td></tr>\n",
       "<tr><td>2.1671931240902336e+</td><td>56.0226590247944</td><td>32.3317833435401</td><td>16.714138</td><td>0.089924859</td><td>2004-02-11T00:28:54.703</td><td>16.5117</td><td>3.2467976</td><td>2004-02-11T00:28:54.703</td><td>17.091543</td><td>1.1540969</td><td>2004-02-11T00:28:54.703</td><td>16.693045</td><td>0.098460379</td><td>2004-02-11T00:28:54.703</td></tr>\n",
       "<tr><td>2.1671927375378483e+</td><td>56.046040828886</td><td>32.328155943988</td><td>14.152369</td><td>0.022390873</td><td>2004-02-11T00:28:54.703</td><td>14.277243</td><td>0.41673801</td><td>2004-02-11T00:28:54.703</td><td>14.222342</td><td>0.087995121</td><td>2004-02-11T00:28:54.703</td><td>14.050628</td><td>0.02493975</td><td>2004-02-11T00:28:54.703</td></tr>\n",
       "<tr><td>2.167193081128224e+1</td><td>56.0208745878383</td><td>32.3343008798152</td><td>20.27037</td><td>1.510223</td><td>2004-02-11T00:28:54.703</td><td>17.917746</td><td>11.847848</td><td>2004-02-11T00:28:54.703</td><td>17.99613</td><td>2.6465756</td><td>2004-02-11T00:28:54.703</td><td>19.934312</td><td>1.1194074</td><td>2004-02-11T00:28:54.703</td></tr>\n",
       "<tr><td>2.1671924368954765e+</td><td>56.0232808344976</td><td>32.3252707447713</td><td>15.293922</td><td>0.039757346</td><td>2004-02-11T00:28:54.703</td><td>15.271747</td><td>1.0379117</td><td>2004-02-11T00:28:54.703</td><td>14.169737</td><td>0.084121007</td><td>2004-02-11T00:28:54.703</td><td>15.181055</td><td>0.043309441</td><td>2004-02-11T00:28:54.703</td></tr>\n",
       "</table></div>"
      ],
      "text/plain": [
       "<QTable length=569>\n",
       "     OBJECT_ID              RA        ... 2_mag_err_1     DATE-OBS_2_mag_1   \n",
       "       str20             float64      ...   float64            str23         \n",
       "-------------------- ---------------- ... ----------- -----------------------\n",
       "2.1662781242585843e+ 56.1407693712124 ... 0.017354188 2004-02-11T00:28:54.703\n",
       "2.1662911380012454e+ 56.2136633685956 ...  0.17977955 2004-02-11T00:28:54.703\n",
       "2.16629530412699e+17 56.2197107952861 ...  0.02130678 2004-02-11T00:28:54.703\n",
       "2.1662973227464986e+ 56.2545074881102 ... 0.047552364 2004-02-11T00:28:54.703\n",
       "2.1662987401007654e+  56.267738579543 ... 0.040790777 2004-02-11T00:28:54.703\n",
       "2.1662986971452646e+  56.272601191017 ... 0.016021796 2004-02-11T00:28:54.703\n",
       "                 ...              ... ...         ...                     ...\n",
       "2.16718693932112e+17 56.1249260294093 ...  0.01718892 2004-02-11T00:28:54.703\n",
       "2.1671886143570227e+ 56.1436876805881 ...  0.26426959 2004-02-11T00:28:54.703\n",
       "2.1671903753111283e+ 56.0869571075965 ... 0.022910473 2004-02-11T00:28:54.703\n",
       "2.1671931240902336e+ 56.0226590247944 ... 0.098460379 2004-02-11T00:28:54.703\n",
       "2.1671927375378483e+  56.046040828886 ...  0.02493975 2004-02-11T00:28:54.703\n",
       "2.167193081128224e+1 56.0208745878383 ...   1.1194074 2004-02-11T00:28:54.703\n",
       "2.1671924368954765e+ 56.0232808344976 ... 0.043309441 2004-02-11T00:28:54.703"
      ]
     },
     "execution_count": null,
     "metadata": {},
     "output_type": "execute_result"
    }
   ],
   "source": [
    "final_obs_table"
   ]
  }
 ],
 "metadata": {
  "kernelspec": {
   "display_name": "Python 3 (ipykernel)",
   "language": "python",
   "name": "python3"
  },
  "language_info": {
   "codemirror_mode": {
    "name": "ipython",
    "version": 3
   },
   "file_extension": ".py",
   "mimetype": "text/x-python",
   "name": "python",
   "nbconvert_exporter": "python",
   "pygments_lexer": "ipython3"
  }
 },
 "nbformat": 4,
 "nbformat_minor": 5
}
